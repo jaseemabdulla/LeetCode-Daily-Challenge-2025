{
 "cells": [
  {
   "cell_type": "code",
   "execution_count": 1,
   "metadata": {},
   "outputs": [],
   "source": [
    "def largestIsland(grid):\n",
    "        DIR = {(0,1),(1,0),(-1,0),(0,-1)}\n",
    "        r,c=len(grid),len(grid[0])\n",
    "        ans,cid=0,2\n",
    "        components = {}\n",
    "        zeros=set()\n",
    "        grid_comp={}\n",
    "        def bfs(pos,cid):\n",
    "            queue=[pos]\n",
    "            k=0\n",
    "            while queue:\n",
    "                cx,cy=queue.pop(0)\n",
    "                if (cx,cy) not in grid_comp:\n",
    "                    k+=1\n",
    "                    grid_comp[(cx, cy)] = cid\n",
    "                    for dx,dy in DIR:\n",
    "                        nx,ny=cx+dx,cy+dy\n",
    "                        if 0 <= nx < r and 0 <= ny < c and grid[nx][ny] and (nx, ny) not in grid_comp:\n",
    "                            queue.append((nx,ny))\n",
    "            components[cid]=k\n",
    "         \n",
    "        for i in range(r):\n",
    "            for j in range(c):\n",
    "                if grid[i][j]==1:\n",
    "                    if (i,j) not in grid_comp:\n",
    "                        bfs((i,j),cid)\n",
    "                        cid+=1\n",
    "                else:\n",
    "                    zeros.add((i,j))\n",
    "        if not zeros:\n",
    "            return r*c\n",
    "        \n",
    "        for i,j in zeros:\n",
    "            s=1\n",
    "            ids=set()\n",
    "            for dx,dy in DIR:\n",
    "                nx,ny=dx+i,dy+j\n",
    "                if (nx,ny) in grid_comp:\n",
    "                    id=grid_comp[(nx,ny)]\n",
    "                    if id not in ids:\n",
    "                        s+=components[id]\n",
    "                        ids.add(id)     \n",
    "            ans=max(ans,s)\n",
    "\n",
    "        return ans"
   ]
  }
 ],
 "metadata": {
  "kernelspec": {
   "display_name": "myenv",
   "language": "python",
   "name": "python3"
  },
  "language_info": {
   "codemirror_mode": {
    "name": "ipython",
    "version": 3
   },
   "file_extension": ".py",
   "mimetype": "text/x-python",
   "name": "python",
   "nbconvert_exporter": "python",
   "pygments_lexer": "ipython3",
   "version": "3.11.3"
  }
 },
 "nbformat": 4,
 "nbformat_minor": 2
}
