{
 "cells": [
  {
   "cell_type": "markdown",
   "id": "ecc61580",
   "metadata": {},
   "source": [
    "## 🔤 Longest Palindrome by Concatenating Two Letter Words\n",
    "\n",
    "---\n",
    "\n",
    "### ✅ Problem Statement\n",
    "\n",
    "You are given an array of strings `words`, where each string is exactly two lowercase English letters. You can concatenate some of these words in any order to form a palindrome. Return the **length of the longest palindrome** that can be built using these words.\n",
    "\n",
    "---\n",
    "\n",
    "### 💡 Optimized Approach\n",
    "\n",
    "- Use a `Counter` to count the occurrences of each word.\n",
    "- Track used word pairs in a `visited` set to avoid double counting.\n",
    "- Special treatment for palindromic pairs (like `\"gg\"`):\n",
    "  - Use all pairs (even count).\n",
    "  - Leave one center if there's an odd count and no center is used yet.\n",
    "- For non-palindromic words (like `\"ab\"` and `\"ba\"`), use the minimum of the two counts to form valid palindromic pairs."
   ]
  },
  {
   "cell_type": "code",
   "execution_count": null,
   "id": "4c485e1e",
   "metadata": {},
   "outputs": [],
   "source": [
    "### 💻 Python Code (with Comments)\n",
    "\n",
    "from collections import Counter\n",
    "\n",
    "def longest_palindrome(words):\n",
    "    count = Counter(words)     # Count occurrences of each word\n",
    "    visited = set()            # To avoid double-counting reverse pairs\n",
    "    total_length = 0           # Length of the longest palindrome\n",
    "    center_used = False        # Track if a center palindromic pair has been used\n",
    "\n",
    "    for word, cnt in count.items():\n",
    "        if word in visited:\n",
    "            continue\n",
    "\n",
    "        # If word is a palindrome itself like \"gg\", \"cc\"\n",
    "        if word[0] == word[1]:\n",
    "            if cnt % 2 == 1 and not center_used:\n",
    "                # Use one word as center if possible\n",
    "                total_length += 2\n",
    "                cnt -= 1\n",
    "                center_used = True\n",
    "            # Add all even count pairs\n",
    "            total_length += cnt * 2\n",
    "        else:\n",
    "            reverse = word[::-1]\n",
    "            # Use min count of (word, reverse) pairs\n",
    "            pair_count = min(cnt, count.get(reverse, 0))\n",
    "            total_length += pair_count * 4\n",
    "            visited.add(reverse)\n",
    "\n",
    "        visited.add(word)\n",
    "\n",
    "    return total_length"
   ]
  },
  {
   "cell_type": "markdown",
   "id": "fe8c4194",
   "metadata": {},
   "source": [
    "### 🧠 Code Explanation\n",
    "\n",
    "- Words like `\"gg\"` can be mirrored to form parts of the palindrome.\n",
    "- For words like `\"ab\"` and `\"ba\"`, we match them symmetrically from both ends.\n",
    "- At most **one** self-palindrome (like `\"gg\"`) can be in the center.\n",
    "- The result is the total length of all used characters in the final palindrome."
   ]
  },
  {
   "cell_type": "markdown",
   "id": "bae15815",
   "metadata": {},
   "source": [
    "### 📊 Complexity Analysis\n",
    "\n",
    "| Metric             | Value         |\n",
    "|--------------------|---------------|\n",
    "| Time Complexity    | O(n)          |\n",
    "| Space Complexity   | O(n)          |\n",
    "\n",
    "Where `n` is the number of words."
   ]
  },
  {
   "cell_type": "markdown",
   "id": "e95841e7",
   "metadata": {},
   "source": [
    "### ✅ Function Calls\n",
    "\n",
    "print(longest_palindrome([\"lc\", \"cl\", \"gg\"]))                  # Output: 6\n",
    "print(longest_palindrome([\"ab\", \"ty\", \"yt\", \"lc\", \"cl\", \"ab\"]))# Output: 8\n",
    "print(longest_palindrome([\"cc\", \"ll\", \"xx\"]))                  # Output: 2"
   ]
  }
 ],
 "metadata": {
  "kernelspec": {
   "display_name": "myenv",
   "language": "python",
   "name": "python3"
  },
  "language_info": {
   "name": "python",
   "version": "3.11.3"
  }
 },
 "nbformat": 4,
 "nbformat_minor": 5
}
