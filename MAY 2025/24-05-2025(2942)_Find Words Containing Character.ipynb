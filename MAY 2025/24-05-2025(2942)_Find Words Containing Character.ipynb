{
 "cells": [
  {
   "cell_type": "code",
   "execution_count": null,
   "id": "fcac89b5",
   "metadata": {},
   "outputs": [],
   "source": [
    "def findWordsContaining(self, words: List[str], x: str) -> List[int]:\n",
    "        return [i for i, w in enumerate(words) if w.find(x)!=-1]     "
   ]
  }
 ],
 "metadata": {
  "language_info": {
   "name": "python"
  }
 },
 "nbformat": 4,
 "nbformat_minor": 5
}
