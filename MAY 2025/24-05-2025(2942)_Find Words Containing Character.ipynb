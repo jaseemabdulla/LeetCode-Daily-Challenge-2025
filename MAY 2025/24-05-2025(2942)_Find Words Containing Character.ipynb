{
 "cells": [
  {
   "cell_type": "markdown",
   "id": "87e67a3f",
   "metadata": {},
   "source": [
    "## 🔎 Find Words Containing Character\n",
    "\n",
    "---\n",
    "\n",
    "### ✅ Problem Statement\n",
    "\n",
    "Given a list of strings `words` and a character `x`, return a list of **indices** of the words that contain the character `x`.\n",
    "\n",
    "---\n",
    "\n",
    "### 💡 Approach\n",
    "\n",
    "- Use `enumerate()` to loop through the `words` list with both index and word.\n",
    "- For each word, check if character `x` is present using `.find(x) != -1` (or use `x in w` for more readability).\n",
    "- Return the list of all such indices."
   ]
  },
  {
   "cell_type": "code",
   "execution_count": 2,
   "id": "dce8d868",
   "metadata": {},
   "outputs": [],
   "source": [
    "### 💻 Python Code (with Comments)\n",
    "\n",
    "def find_words_containing(words, x):\n",
    "    # Collect indices where the character `x` is found in the word\n",
    "    return [i for i, w in enumerate(words) if x in w]"
   ]
  },
  {
   "cell_type": "markdown",
   "id": "2947a18a",
   "metadata": {},
   "source": [
    "### 🧠 Code Explanation\n",
    "\n",
    "- `enumerate(words)` gives both the index `i` and the word `w`.\n",
    "- For each word, we check `x in w` to see if the character exists.\n",
    "- If yes, include the index `i` in the resulting list."
   ]
  },
  {
   "cell_type": "markdown",
   "id": "d157c317",
   "metadata": {},
   "source": [
    "### 📊 Complexity Analysis\n",
    "\n",
    "| Metric             | Value         |\n",
    "|--------------------|---------------|\n",
    "| Time Complexity    | O(n * m)      |\n",
    "| Space Complexity   | O(k)          |\n",
    "\n",
    "Where:\n",
    "- `n` is the number of words.\n",
    "- `m` is the average length of each word.\n",
    "- `k` is the number of matching indices."
   ]
  },
  {
   "cell_type": "code",
   "execution_count": 3,
   "id": "098dc659",
   "metadata": {},
   "outputs": [
    {
     "name": "stdout",
     "output_type": "stream",
     "text": [
      "[0, 1]\n",
      "[0, 2]\n",
      "[]\n"
     ]
    }
   ],
   "source": [
    "### ✅ Function Calls\n",
    "\n",
    "print(find_words_containing([\"leet\", \"code\"], \"e\"))            # Output: [0, 1]\n",
    "print(find_words_containing([\"abc\", \"bcd\", \"aaaa\", \"cbc\"], \"a\"))  # Output: [0, 2]\n",
    "print(find_words_containing([\"abc\", \"bcd\", \"aaaa\", \"cbc\"], \"z\"))  # Output: []"
   ]
  }
 ],
 "metadata": {
  "kernelspec": {
   "display_name": "myenv",
   "language": "python",
   "name": "python3"
  },
  "language_info": {
   "codemirror_mode": {
    "name": "ipython",
    "version": 3
   },
   "file_extension": ".py",
   "mimetype": "text/x-python",
   "name": "python",
   "nbconvert_exporter": "python",
   "pygments_lexer": "ipython3",
   "version": "3.11.3"
  }
 },
 "nbformat": 4,
 "nbformat_minor": 5
}
