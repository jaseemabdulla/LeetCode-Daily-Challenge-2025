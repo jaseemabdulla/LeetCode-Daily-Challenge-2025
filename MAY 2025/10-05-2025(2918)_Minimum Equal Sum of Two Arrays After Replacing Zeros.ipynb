{
 "cells": [
  {
   "cell_type": "markdown",
   "id": "192d4680",
   "metadata": {},
   "source": [
    "## ➕ Minimum Equal Sum of Two Arrays After Replacing Zeros\n",
    "\n",
    "---\n",
    "\n",
    "### ✅ 1. Problem Statement\n",
    "\n",
    "Given two integer arrays `nums1` and `nums2`, each may contain zero values. You are allowed to **replace each 0 with any positive integer (≥1)** to make the **sums of both arrays equal**.\n",
    "\n",
    "Return the **minimum possible equal sum**, or `-1` if it's impossible.\n",
    "\n",
    "---\n",
    "\n",
    "### 💡 2. Approach\n",
    "\n",
    "1. Calculate the sum of all non-zero elements in both arrays.\n",
    "2. Count the number of zeroes in each array.\n",
    "3. Replace each 0 with at least `1` to calculate the **minimum achievable sum** for each array.\n",
    "4. If either array cannot be increased (i.e., contains no zeroes) but still has a smaller sum, return `-1` as it's impossible to match.\n",
    "5. Otherwise, return the **maximum** of the two minimum achievable sums."
   ]
  },
  {
   "cell_type": "code",
   "execution_count": 1,
   "id": "ea0be380",
   "metadata": {},
   "outputs": [],
   "source": [
    "### 💻 3. Python Code (with Detailed Inline Comments)\n",
    "\n",
    "from typing import List\n",
    "\n",
    "def minSum(nums1: List[int], nums2: List[int]) -> int:\n",
    "    # Calculate the original sum of both arrays\n",
    "    sum1, sum2 = sum(nums1), sum(nums2)\n",
    "\n",
    "    # Count how many zero values are in each array\n",
    "    zeros_1, zeros_2 = nums1.count(0), nums2.count(0)\n",
    "\n",
    "    # Calculate the minimum possible total sum for each array by replacing each 0 with at least 1\n",
    "    min_sum1 = sum1 + zeros_1  # Replace each 0 in nums1 with 1\n",
    "    min_sum2 = sum2 + zeros_2  # Replace each 0 in nums2 with 1\n",
    "\n",
    "    # Check if it's impossible to make the sums equal:\n",
    "    # Case 1: nums2 can't increase and even the minimum of nums1 is too large\n",
    "    if min_sum1 > min_sum2 and zeros_2 == 0:\n",
    "        return -1\n",
    "\n",
    "    # Case 2: nums1 can’t increase and even the minimum of nums2 is too large\n",
    "    if min_sum2 > min_sum1 and zeros_1 == 0:\n",
    "        return -1\n",
    "\n",
    "    # If it is possible, the minimum equal sum will be the greater of the two minimal sums\n",
    "    return max(min_sum1, min_sum2)"
   ]
  },
  {
   "cell_type": "markdown",
   "id": "e1ef42d4",
   "metadata": {},
   "source": [
    "### 🔍 4. Code Explanation\n",
    "\n",
    "- `sum1` and `sum2` compute the current total values of each array.\n",
    "- `zeros_1` and `zeros_2` are used to determine how many values can be replaced (each zero can be replaced with any number ≥1).\n",
    "- We compute the **minimum possible sum** for each array by assuming all 0s are replaced with 1.\n",
    "- If one array **can’t be increased** (i.e., has no zeroes), but is **still less** than the other array’s minimum, it's **impossible to equalize** → return `-1`.\n",
    "- Otherwise, return the **maximum of both minimum sums** — the earliest time the sums can be equalized using minimal replacements."
   ]
  },
  {
   "cell_type": "code",
   "execution_count": null,
   "id": "6ae5606e",
   "metadata": {},
   "outputs": [
    {
     "name": "stdout",
     "output_type": "stream",
     "text": [
      "12\n",
      "-1\n"
     ]
    },
    {
     "ename": "",
     "evalue": "",
     "output_type": "error",
     "traceback": [
      "\u001b[1;31mThe Kernel crashed while executing code in the current cell or a previous cell. \n",
      "\u001b[1;31mPlease review the code in the cell(s) to identify a possible cause of the failure. \n",
      "\u001b[1;31mClick <a href='https://aka.ms/vscodeJupyterKernelCrash'>here</a> for more info. \n",
      "\u001b[1;31mView Jupyter <a href='command:jupyter.viewOutput'>log</a> for further details."
     ]
    }
   ],
   "source": [
    "### 🧪 5. Example Calls\n",
    "\n",
    "print(minSum([3,2,0,1,0], [6,5,0]))  # Output: 12\n",
    "print(minSum([2,0,2,0], [1,4]))      # Output: -1"
   ]
  },
  {
   "cell_type": "markdown",
   "id": "06244407",
   "metadata": {},
   "source": [
    "### 📊 6. Time & Space Complexity\n",
    "\n",
    "- **Time Complexity**:  \n",
    "  `O(n + m)` for computing sums and counting zeros in both arrays (`n = len(nums1)`, `m = len(nums2)`)\n",
    "\n",
    "- **Space Complexity**:  \n",
    "  `O(1)` — only a constant amount of additional memory is used."
   ]
  },
  {
   "cell_type": "markdown",
   "id": "55db0e4f",
   "metadata": {},
   "source": [
    "### 🧠 7. Insight\n",
    "\n",
    "This problem is more about **logic and constraints**:\n",
    "- You **cannot decrease** the array sum.\n",
    "- So, you need to see whether the **smaller array has enough zeros** to potentially match the larger one.\n",
    "- If it doesn't, equalization is impossible."
   ]
  }
 ],
 "metadata": {
  "kernelspec": {
   "display_name": "myenv",
   "language": "python",
   "name": "python3"
  },
  "language_info": {
   "codemirror_mode": {
    "name": "ipython",
    "version": 3
   },
   "file_extension": ".py",
   "mimetype": "text/x-python",
   "name": "python",
   "nbconvert_exporter": "python",
   "pygments_lexer": "ipython3",
   "version": "3.11.3"
  }
 },
 "nbformat": 4,
 "nbformat_minor": 5
}
