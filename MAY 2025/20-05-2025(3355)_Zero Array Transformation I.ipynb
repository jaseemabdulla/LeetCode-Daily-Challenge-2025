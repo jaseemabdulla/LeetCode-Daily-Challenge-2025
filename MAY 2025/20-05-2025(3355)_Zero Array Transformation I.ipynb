{
 "cells": [
  {
   "cell_type": "markdown",
   "id": "1c77b883",
   "metadata": {},
   "source": [
    "## 🔄 Zero Array Transformation I\n",
    "\n",
    "---\n",
    "\n",
    "### ✅ 1. Problem Statement\n",
    "\n",
    "You're given an array `nums` and a list of `queries`, where each query is a range `[l, r]`.\n",
    "\n",
    "- In **each query**, you can **decrease every number in the range [l, r] by 1**.\n",
    "- After applying all queries **once**, check if **every number in `nums` becomes zero or less**."
   ]
  },
  {
   "cell_type": "markdown",
   "id": "9dc96793",
   "metadata": {},
   "source": [
    "### 💡 2. Core Idea\n",
    "\n",
    "We use a **difference array** to efficiently apply all range operations:\n",
    "\n",
    "1. Initialize a `diffArray` of size `n+1`.\n",
    "2. For each query `[l, r]`, increment `diffArray[l] += 1` and decrement `diffArray[r+1] -= 1`.\n",
    "3. Take prefix sums of `diffArray` to get how many times each index was decremented.\n",
    "4. Finally, check if `nums[i] <= decrements[i]` for all indices."
   ]
  },
  {
   "cell_type": "code",
   "execution_count": 9,
   "id": "f2ea4d15",
   "metadata": {},
   "outputs": [],
   "source": [
    "### 💻 3. Clean Python Code\n",
    "from typing import List\n",
    "\n",
    "def isZeroArray(nums: List[int], queries: List[List[int]]) -> bool:\n",
    "    n = len(nums)\n",
    "    diffArray = [0] * (n + 1)\n",
    "\n",
    "    # Apply difference array technique for range increments\n",
    "    for l, r in queries:\n",
    "        diffArray[l] += 1\n",
    "        if r + 1 < len(diffArray):\n",
    "            diffArray[r + 1] -= 1\n",
    "\n",
    "    # Convert to prefix sum array\n",
    "    for i in range(1, n):\n",
    "        diffArray[i] += diffArray[i - 1]\n",
    "\n",
    "    # Check if we have enough decrements at each position\n",
    "    for i in range(n):\n",
    "        if nums[i] > diffArray[i]:\n",
    "            return False\n",
    "\n",
    "    return True"
   ]
  },
  {
   "cell_type": "code",
   "execution_count": 10,
   "id": "d9aa89d4",
   "metadata": {},
   "outputs": [
    {
     "name": "stdout",
     "output_type": "stream",
     "text": [
      "True\n",
      "False\n"
     ]
    }
   ],
   "source": [
    "### 🧪 4. Example Calls\n",
    "\n",
    "print(isZeroArray([1, 0, 1], [[0, 2]]))         # ➜ True\n",
    "print(isZeroArray([4, 3, 2, 1], [[1, 3], [0, 2]]))  # ➜ False"
   ]
  },
  {
   "cell_type": "markdown",
   "id": "13fb0820",
   "metadata": {},
   "source": [
    "### 📊 5. Time and Space Complexity\n",
    "\n",
    "| Metric      | Value   |\n",
    "|-------------|---------|\n",
    "| Time        | O(n + q) where q = len(queries) |\n",
    "| Space       | O(n)    |"
   ]
  },
  {
   "cell_type": "markdown",
   "id": "bdb71100",
   "metadata": {},
   "source": [
    "### ⚠️ 6. Notes\n",
    "\n",
    "- We're applying **each query only once**.\n",
    "- Difference arrays make **range updates efficient** — avoid nested loops.\n",
    "- This is **not** simulating the entire process, only checking **if possible**."
   ]
  }
 ],
 "metadata": {
  "kernelspec": {
   "display_name": "myenv",
   "language": "python",
   "name": "python3"
  },
  "language_info": {
   "codemirror_mode": {
    "name": "ipython",
    "version": 3
   },
   "file_extension": ".py",
   "mimetype": "text/x-python",
   "name": "python",
   "nbconvert_exporter": "python",
   "pygments_lexer": "ipython3",
   "version": "3.11.3"
  }
 },
 "nbformat": 4,
 "nbformat_minor": 5
}
