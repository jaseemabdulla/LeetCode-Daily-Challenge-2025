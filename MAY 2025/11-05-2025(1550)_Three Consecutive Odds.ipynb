{
 "cells": [
  {
   "cell_type": "markdown",
   "id": "292b9f1f",
   "metadata": {},
   "source": [
    "## 🔢 Three Consecutive Odds\n",
    "\n",
    "---\n",
    "\n",
    "### ✅ 1. Problem Statement\n",
    "\n",
    "Given an integer array `arr`, return `True` if there are **three consecutive odd numbers**, otherwise return `False`.\n",
    "\n",
    "---\n",
    "\n",
    "### 💡 2. Approach\n",
    "\n",
    "- Iterate through the array.\n",
    "- Maintain a counter `c` to keep track of the **current streak of consecutive odd numbers**.\n",
    "- If a number is odd, increment the counter.\n",
    "- If a number is even, reset the counter to 0.\n",
    "- As soon as the counter reaches 3, return `True`.\n",
    "- If the loop completes and the counter never reaches 3, return `False`."
   ]
  },
  {
   "cell_type": "code",
   "execution_count": 1,
   "id": "de6c955f",
   "metadata": {},
   "outputs": [],
   "source": [
    "### 💻 3. Python Code (with Detailed Inline Comments)\n",
    "\n",
    "from typing import List\n",
    "\n",
    "def threeConsecutiveOdds(self, arr: List[int]) -> bool:\n",
    "    c = 0  # Counter for consecutive odd numbers\n",
    "    for i in arr:\n",
    "        if i % 2 != 0:  # If the number is odd\n",
    "            c += 1       # Increment the odd counter\n",
    "        else:           # If the number is even\n",
    "            c = 0        # Reset the counter\n",
    "        if c == 3:       # Check if we have seen 3 consecutive odds\n",
    "            return True\n",
    "    return False         # Return False if the loop finishes without finding 3 consecutive odds"
   ]
  },
  {
   "cell_type": "markdown",
   "id": "feb42212",
   "metadata": {},
   "source": [
    "### 🔍 4. Code Explanation\n",
    "\n",
    "- We initialize `c = 0` to count the **number of consecutive odd integers**.\n",
    "- For each number in the array:\n",
    "  - If it’s odd (`i % 2 != 0`), we increment `c`.\n",
    "  - If it’s even, we reset `c` to 0 since the streak is broken.\n",
    "- If at any point `c == 3`, that means we’ve found **three consecutive odd numbers**, so we return `True`.\n",
    "- If we exit the loop without `c` reaching 3, we return `False`."
   ]
  },
  {
   "cell_type": "code",
   "execution_count": 2,
   "id": "93aa71d8",
   "metadata": {},
   "outputs": [
    {
     "name": "stdout",
     "output_type": "stream",
     "text": [
      "False\n",
      "True\n"
     ]
    }
   ],
   "source": [
    "### 🧪 5. Example Calls\n",
    "\n",
    "print(threeConsecutiveOdds(None, [2, 6, 4, 1]))  # Output: False\n",
    "print(threeConsecutiveOdds(None, [1, 2, 34, 3, 4, 5, 7, 23, 12]))  # Output: True"
   ]
  },
  {
   "cell_type": "markdown",
   "id": "29698143",
   "metadata": {},
   "source": [
    "### 📊 6. Time & Space Complexity\n",
    "\n",
    "- **Time Complexity**: `O(n)` — where `n` is the length of the array.\n",
    "- **Space Complexity**: `O(1)` — we use only a constant amount of extra memory."
   ]
  },
  {
   "cell_type": "markdown",
   "id": "bcf7d3e1",
   "metadata": {},
   "source": [
    "### ✅ 7. Insight\n",
    "\n",
    "This problem is a simple case of **sliding window pattern**, optimized by tracking only the current streak with a counter instead of storing elements.\n"
   ]
  }
 ],
 "metadata": {
  "kernelspec": {
   "display_name": "myenv",
   "language": "python",
   "name": "python3"
  },
  "language_info": {
   "codemirror_mode": {
    "name": "ipython",
    "version": 3
   },
   "file_extension": ".py",
   "mimetype": "text/x-python",
   "name": "python",
   "nbconvert_exporter": "python",
   "pygments_lexer": "ipython3",
   "version": "3.11.3"
  }
 },
 "nbformat": 4,
 "nbformat_minor": 5
}
