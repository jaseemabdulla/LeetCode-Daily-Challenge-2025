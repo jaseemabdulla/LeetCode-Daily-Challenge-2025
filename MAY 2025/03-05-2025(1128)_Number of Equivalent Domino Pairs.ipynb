{
 "cells": [
  {
   "cell_type": "code",
   "execution_count": null,
   "id": "c30ecd98",
   "metadata": {},
   "outputs": [],
   "source": [
    "def numEquivDominoPairs(self, dominoes: List[List[int]]) -> int:\n",
    "        output: int = 0\n",
    "        hashmap: dict[tuple[int, int], int] = dict()\n",
    "        for domino in dominoes:\n",
    "            x: int = hashmap.get((domino[0], domino[1]), 0)\n",
    "            y: int = hashmap.get((domino[1], domino[0]), 0)\n",
    "            if domino[0] == domino[1]: y = 0\n",
    "            output += x + y\n",
    "            hashmap[(domino[0], domino[1])] = hashmap.get((domino[0], domino[1]), 0) + 1\n",
    "        return output"
   ]
  }
 ],
 "metadata": {
  "language_info": {
   "name": "python"
  }
 },
 "nbformat": 4,
 "nbformat_minor": 5
}
