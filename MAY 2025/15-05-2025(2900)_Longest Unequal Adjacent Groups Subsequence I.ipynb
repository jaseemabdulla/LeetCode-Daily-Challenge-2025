{
 "cells": [
  {
   "cell_type": "markdown",
   "id": "4e131955",
   "metadata": {},
   "source": [
    "## 🔢 Longest Unequal Adjacent Groups Subsequence I\n",
    "\n",
    "---\n",
    "\n",
    "### ✅ 1. Problem Statement\n",
    "\n",
    "You are given two lists:\n",
    "\n",
    "- `words`: a list of strings.\n",
    "- `groups`: a list of integers of the same length as `words`.\n",
    "\n",
    "Your task is to select the **longest subsequence of `words`** such that no two **adjacent elements in the subsequence** belong to the **same group**. Return one such longest subsequence."
   ]
  },
  {
   "cell_type": "markdown",
   "id": "c8f26bde",
   "metadata": {},
   "source": [
    "### 💡 2. Approach\n",
    "\n",
    "- Initialize the result list with the first word.\n",
    "- Loop through the remaining words and their groups.\n",
    "- If the group of the current word is **not equal** to the group of the last selected word, add it to the result.\n",
    "- This greedy approach ensures we get the **longest valid subsequence** in a single pass."
   ]
  },
  {
   "cell_type": "code",
   "execution_count": 1,
   "id": "15549b2c",
   "metadata": {},
   "outputs": [],
   "source": [
    "### 💻 3. Python Code (with comments)\n",
    "\n",
    "from typing import List\n",
    "\n",
    "def getLongestSubsequence(words: List[str], groups: List[int]) -> List[str]:\n",
    "    if not words:\n",
    "        return []\n",
    "    \n",
    "    result = [words[0]]  # Start with the first word\n",
    "    last = groups[0]     # Track the last used group\n",
    "    \n",
    "    # Iterate from the second element onward\n",
    "    for word, group in zip(words[1:], groups[1:]):\n",
    "        if group != last:           # If group differs from the last one\n",
    "            result.append(word)     # Include the word\n",
    "            last = group            # Update last used group\n",
    "            \n",
    "    return result"
   ]
  },
  {
   "cell_type": "markdown",
   "id": "f197ddb4",
   "metadata": {},
   "source": [
    "### 🔍 4. Code Explanation\n",
    "\n",
    "- **Step 1:** Begin with the first word and its group.\n",
    "- **Step 2:** Traverse the remaining list.\n",
    "- **Step 3:** For each word, include it in the result only if its group differs from the last included one.\n",
    "- **Step 4:** Return the collected subsequence."
   ]
  },
  {
   "cell_type": "code",
   "execution_count": 2,
   "id": "885ceca3",
   "metadata": {},
   "outputs": [
    {
     "name": "stdout",
     "output_type": "stream",
     "text": [
      "['e', 'b']\n",
      "['a', 'b', 'c']\n",
      "['x']\n",
      "['one']\n",
      "[]\n"
     ]
    }
   ],
   "source": [
    "### 🧪 5. Example Function Calls\n",
    "\n",
    "print(getLongestSubsequence([\"e\", \"a\", \"b\"], [0, 0, 1]))       # Output: ['e', 'b']\n",
    "print(getLongestSubsequence([\"a\", \"b\", \"c\", \"d\"], [1, 0, 1, 1]))  # Output: ['a', 'b', 'c']\n",
    "print(getLongestSubsequence([\"x\", \"y\", \"z\"], [1, 1, 1]))       # Output: ['x']\n",
    "print(getLongestSubsequence([\"one\"], [0]))                    # Output: ['one']\n",
    "print(getLongestSubsequence([], []))                          # Output: []"
   ]
  },
  {
   "cell_type": "markdown",
   "id": "0a72e863",
   "metadata": {},
   "source": [
    "### 📊 6. Time and Space Complexity\n",
    "\n",
    "- **Time Complexity:** `O(n)` — where `n` is the number of words.\n",
    "- **Space Complexity:** `O(n)` — for storing the result subsequence."
   ]
  },
  {
   "cell_type": "markdown",
   "id": "97de1be6",
   "metadata": {},
   "source": [
    "### 🧠 7. Key Insight\n",
    "\n",
    "This is a greedy selection problem where choosing the first available valid option ensures optimality because every inclusion decision is based solely on the adjacent group constraint.\n"
   ]
  }
 ],
 "metadata": {
  "kernelspec": {
   "display_name": "myenv",
   "language": "python",
   "name": "python3"
  },
  "language_info": {
   "codemirror_mode": {
    "name": "ipython",
    "version": 3
   },
   "file_extension": ".py",
   "mimetype": "text/x-python",
   "name": "python",
   "nbconvert_exporter": "python",
   "pygments_lexer": "ipython3",
   "version": "3.11.3"
  }
 },
 "nbformat": 4,
 "nbformat_minor": 5
}
