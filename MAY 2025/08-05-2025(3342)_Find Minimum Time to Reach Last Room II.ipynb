{
 "cells": [
  {
   "cell_type": "markdown",
   "id": "dc7c8f6c",
   "metadata": {},
   "source": [
    "## 🕒 Find Minimum Time to Reach Last Room II\n",
    "\n",
    "---\n",
    "\n",
    "### ✅ 1. Approach:\n",
    "\n",
    "This is a variant of **Dijkstra’s algorithm** with a twist:\n",
    "- Movement alternates between **1 second** and **2 seconds** per step.\n",
    "- We start at `(0, 0)` with cost `1`.\n",
    "- We can move to adjacent cells (up, down, left, right), but we may need to **wait** for a cell if we arrive before its `moveTime`.\n",
    "\n",
    "We track the **minimum arrival time** for each cell and update it only if we find a shorter path using a min-heap."
   ]
  },
  {
   "cell_type": "code",
   "execution_count": 1,
   "id": "471f16c9",
   "metadata": {},
   "outputs": [],
   "source": [
    "### 💻 2. Code (with imports and comments):\n",
    "\n",
    "from typing import List\n",
    "import heapq\n",
    "\n",
    "def minTimeToReach(moveTime: List[List[int]]) -> int:\n",
    "    roomMoveTime = moveTime\n",
    "    totalRows = len(roomMoveTime)\n",
    "    totalCols = len(roomMoveTime[0])\n",
    "    \n",
    "    # (time, x, y, stepCost)\n",
    "    priorityQueue = [(0, 0, 0, 1)]\n",
    "    \n",
    "    # Track minimum arrival time at each room\n",
    "    minimumArrivalTime = [[float('inf')] * totalCols for _ in range(totalRows)]\n",
    "    minimumArrivalTime[0][0] = 0\n",
    "\n",
    "    # Directions: down, up, right, left\n",
    "    adjacentDirections = [(1, 0), (-1, 0), (0, 1), (0, -1)]\n",
    "\n",
    "    while priorityQueue:\n",
    "        currentTime, currentRow, currentCol, currentStepCost = heapq.heappop(priorityQueue)\n",
    "\n",
    "        if (currentRow, currentCol) == (totalRows - 1, totalCols - 1):\n",
    "            return currentTime\n",
    "\n",
    "        for dx, dy in adjacentDirections:\n",
    "            nextRow, nextCol = currentRow + dx, currentCol + dy\n",
    "\n",
    "            if 0 <= nextRow < totalRows and 0 <= nextCol < totalCols:\n",
    "                # Wait if needed\n",
    "                waitTime = max(roomMoveTime[nextRow][nextCol] - currentTime, 0)\n",
    "                newArrivalTime = currentTime + currentStepCost + waitTime\n",
    "\n",
    "                # Update only if it's a faster way to reach this room\n",
    "                if newArrivalTime < minimumArrivalTime[nextRow][nextCol]:\n",
    "                    minimumArrivalTime[nextRow][nextCol] = newArrivalTime\n",
    "                    # Alternate step cost: 1 → 2 → 1 → 2 ...\n",
    "                    nextStepCost = 2 if currentStepCost == 1 else 1\n",
    "                    heapq.heappush(priorityQueue, (newArrivalTime, nextRow, nextCol, nextStepCost))\n",
    "\n",
    "    return -1"
   ]
  },
  {
   "cell_type": "markdown",
   "id": "66e94629",
   "metadata": {},
   "source": [
    "### 🔍 3. Explanation:\n",
    "\n",
    "- Movement alternates between 1 second and 2 seconds.\n",
    "- We use a priority queue (min-heap) to always explore the path with the smallest time.\n",
    "- At each step:\n",
    "  - We consider all 4 directions.\n",
    "  - Wait if the room isn't yet \"open\" (`moveTime[x][y]`).\n",
    "  - Update the arrival time only if we reach it faster."
   ]
  },
  {
   "cell_type": "markdown",
   "id": "88e20246",
   "metadata": {},
   "source": [
    "### 📊 4. Complexity:\n",
    "\n",
    "- **Time Complexity**: `O(m * n * log(mn))` where `m` and `n` are the dimensions of `moveTime`.\n",
    "- **Space Complexity**: `O(m * n)` for the arrival time matrix and heap."
   ]
  },
  {
   "cell_type": "code",
   "execution_count": 2,
   "id": "257d0cfc",
   "metadata": {},
   "outputs": [
    {
     "name": "stdout",
     "output_type": "stream",
     "text": [
      "7\n",
      "6\n",
      "4\n"
     ]
    }
   ],
   "source": [
    "### 🧪 5. Example Calls:\n",
    "\n",
    "print(minTimeToReach([[0, 4], [4, 4]]))           # Output: 7\n",
    "print(minTimeToReach([[0, 0, 0, 0], [0, 0, 0, 0]]))  # Output: 6\n",
    "print(minTimeToReach([[0, 1], [1, 2]]))           # Output: 4"
   ]
  }
 ],
 "metadata": {
  "kernelspec": {
   "display_name": "myenv",
   "language": "python",
   "name": "python3"
  },
  "language_info": {
   "codemirror_mode": {
    "name": "ipython",
    "version": 3
   },
   "file_extension": ".py",
   "mimetype": "text/x-python",
   "name": "python",
   "nbconvert_exporter": "python",
   "pygments_lexer": "ipython3",
   "version": "3.11.3"
  }
 },
 "nbformat": 4,
 "nbformat_minor": 5
}
