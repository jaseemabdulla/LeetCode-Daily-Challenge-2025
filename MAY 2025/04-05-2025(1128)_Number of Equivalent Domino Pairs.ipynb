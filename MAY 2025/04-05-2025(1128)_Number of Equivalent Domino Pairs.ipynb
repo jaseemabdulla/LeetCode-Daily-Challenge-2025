{
 "cells": [
  {
   "cell_type": "markdown",
   "id": "a276fbc7",
   "metadata": {},
   "source": [
    "## 🁫 Number of Equivalent Domino Pairs\n",
    "\n",
    "---\n",
    "\n",
    "### ✅ 1. Approach:\n",
    "\n",
    "This is a **hashing** problem.\n",
    "\n",
    "- Two dominoes `[a, b]` and `[c, d]` are equivalent if `{a, b} == {c, d}`, i.e., either `[a, b] == [c, d]` or `[a, b] == [d, c]`.\n",
    "- To handle this, always store each domino in sorted form `(min, max)` as a key in a dictionary.\n",
    "- Count how many times each unique (sorted) domino appears and use combination logic to count the pairs.\n"
   ]
  },
  {
   "cell_type": "code",
   "execution_count": 1,
   "id": "6fe991c2",
   "metadata": {},
   "outputs": [],
   "source": [
    "### 💻 2. Code (with comments):\n",
    "\n",
    "from typing import List\n",
    "\n",
    "def numEquivDominoPairs(dominoes: List[List[int]]) -> int:\n",
    "    output = 0\n",
    "    hashmap = dict()\n",
    "\n",
    "    for domino in dominoes:\n",
    "        # Sort the domino to treat [a,b] and [b,a] as the same\n",
    "        key = tuple(sorted(domino))\n",
    "        \n",
    "        # Count how many previous dominoes were same as current\n",
    "        output += hashmap.get(key, 0)\n",
    "        \n",
    "        # Increment the count for this key\n",
    "        hashmap[key] = hashmap.get(key, 0) + 1\n",
    "\n",
    "    return output"
   ]
  },
  {
   "cell_type": "markdown",
   "id": "4a844c55",
   "metadata": {},
   "source": [
    "### 🔍 3. Explanation:\n",
    "\n",
    "- For each domino, we sort it and use it as a key in a hash map.\n",
    "- If that key was seen before `x` times, then the number of new pairs formed by this domino is `x`.\n",
    "- Total pairs: we sum all such `x` values."
   ]
  },
  {
   "cell_type": "markdown",
   "id": "9fb1339c",
   "metadata": {},
   "source": [
    "### 📊 4. Complexity:\n",
    "\n",
    "- **Time Complexity**: `O(n)` — each domino is processed once.\n",
    "- **Space Complexity**: `O(n)` — to store counts in the hashmap."
   ]
  },
  {
   "cell_type": "code",
   "execution_count": 2,
   "id": "2b9146b8",
   "metadata": {},
   "outputs": [
    {
     "name": "stdout",
     "output_type": "stream",
     "text": [
      "1\n",
      "3\n"
     ]
    }
   ],
   "source": [
    "### 🧪 5. Example Calls:\n",
    "\n",
    "print(numEquivDominoPairs([[1,2],[2,1],[3,4],[5,6]]))  # Output: 1\n",
    "print(numEquivDominoPairs([[1,2],[1,2],[1,1],[1,2],[2,2]]))  # Output: 3"
   ]
  }
 ],
 "metadata": {
  "kernelspec": {
   "display_name": "myenv",
   "language": "python",
   "name": "python3"
  },
  "language_info": {
   "codemirror_mode": {
    "name": "ipython",
    "version": 3
   },
   "file_extension": ".py",
   "mimetype": "text/x-python",
   "name": "python",
   "nbconvert_exporter": "python",
   "pygments_lexer": "ipython3",
   "version": "3.11.3"
  }
 },
 "nbformat": 4,
 "nbformat_minor": 5
}
