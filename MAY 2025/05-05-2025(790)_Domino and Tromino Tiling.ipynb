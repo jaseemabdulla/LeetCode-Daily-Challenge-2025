{
 "cells": [
  {
   "cell_type": "markdown",
   "id": "dcf254ff",
   "metadata": {},
   "source": [
    "## 🧩 Domino and Tromino Tiling\n",
    "\n",
    "---\n",
    "\n",
    "### ✅ 1. Approach:\n",
    "\n",
    "This is a **Dynamic Programming** problem involving:\n",
    "- Dominoes (1x2) — vertical and horizontal\n",
    "- Trominoes (L-shaped tiles covering 3 squares)\n",
    "\n",
    "Let:\n",
    "- `curr`: Number of ways to fully tile a 2×i board.\n",
    "- `prev`: Previous `curr` (i.e., for i-1).\n",
    "- `t`: Ways to end with a tromino added at top-right.\n",
    "- `b`: Ways to end with a tromino added at bottom-right.\n",
    "\n",
    "At each step, we can:\n",
    "- Place a vertical domino.\n",
    "- Place 2 horizontal dominoes.\n",
    "- Place tromino in an L-shape (two forms, hence two states)."
   ]
  },
  {
   "cell_type": "code",
   "execution_count": 1,
   "id": "52b310c2",
   "metadata": {},
   "outputs": [],
   "source": [
    "### 💻 2. Code (with comments):\n",
    "from typing import List\n",
    "\n",
    "def numTilings(n: int) -> int:\n",
    "    MOD = 10**9 + 7\n",
    "\n",
    "    # Initial states\n",
    "    prev, t, b = 0, 0, 0\n",
    "    curr = 1  # One way to tile an empty board\n",
    "\n",
    "    for i in range(1, n + 1):\n",
    "        tmp = curr           # Store current for updating prev\n",
    "        prev_t = t           # Store previous t value\n",
    "\n",
    "        # Recurrence relation\n",
    "        curr = (curr + prev + t + b) % MOD\n",
    "        t = (prev + b) % MOD\n",
    "        b = (prev + prev_t) % MOD\n",
    "        prev = tmp           # Update prev for next iteration\n",
    "\n",
    "    return curr"
   ]
  },
  {
   "cell_type": "markdown",
   "id": "3f1004e5",
   "metadata": {},
   "source": [
    "### 🔍 3. Explanation:\n",
    "- We use **rolling variables** to save space instead of a full DP array.\n",
    "- `curr` is updated using previous states (`prev`, `t`, `b`) to capture different tiling options.\n",
    "- `t` and `b` help handle tromino placements that end partially at the top or bottom."
   ]
  },
  {
   "cell_type": "markdown",
   "id": "84f6ffc6",
   "metadata": {},
   "source": [
    "### 📊 4. Complexity:\n",
    "- **Time Complexity**: `O(n)` — Single loop through `1...n`\n",
    "- **Space Complexity**: `O(1)` — Constant space, no array used"
   ]
  },
  {
   "cell_type": "code",
   "execution_count": 2,
   "id": "af44c953",
   "metadata": {},
   "outputs": [
    {
     "name": "stdout",
     "output_type": "stream",
     "text": [
      "5\n",
      "1\n"
     ]
    }
   ],
   "source": [
    "### 🧪 5. Example Calls:\n",
    "print(numTilings(3))  # Output: 5\n",
    "print(numTilings(1))  # Output: 1"
   ]
  }
 ],
 "metadata": {
  "kernelspec": {
   "display_name": "myenv",
   "language": "python",
   "name": "python3"
  },
  "language_info": {
   "codemirror_mode": {
    "name": "ipython",
    "version": 3
   },
   "file_extension": ".py",
   "mimetype": "text/x-python",
   "name": "python",
   "nbconvert_exporter": "python",
   "pygments_lexer": "ipython3",
   "version": "3.11.3"
  }
 },
 "nbformat": 4,
 "nbformat_minor": 5
}
