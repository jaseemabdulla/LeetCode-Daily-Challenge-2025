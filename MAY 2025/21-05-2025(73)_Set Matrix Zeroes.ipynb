{
 "cells": [
  {
   "cell_type": "code",
   "execution_count": 1,
   "id": "3f71ef3d",
   "metadata": {},
   "outputs": [],
   "source": [
    "### 💻 3. Python Code\n",
    "\n",
    "def set_zeroes(matrix):\n",
    "    zero_positions = []  # Store positions of zero elements\n",
    "    rows = len(matrix)\n",
    "    cols = len(matrix[0])\n",
    "\n",
    "    # Step 1: Identify all positions where matrix[i][j] == 0\n",
    "    for i in range(rows):\n",
    "        for j in range(cols):\n",
    "            if matrix[i][j] == 0:\n",
    "                zero_positions.append((i, j))  # Save the zero's position\n",
    "\n",
    "    # Step 2: Set rows and columns to 0 based on saved zero positions\n",
    "    for row, col in zero_positions:\n",
    "        # Zero out the entire row\n",
    "        for j in range(cols):\n",
    "            matrix[row][j] = 0\n",
    "        # Zero out the entire column\n",
    "        for i in range(rows):\n",
    "            matrix[i][col] = 0"
   ]
  },
  {
   "cell_type": "markdown",
   "id": "12f98f9b",
   "metadata": {},
   "source": [
    "## 🧮 Set Matrix Zeroes\n",
    "\n",
    "---\n",
    "\n",
    "### ✅ 1. Problem Statement\n",
    "\n",
    "Given an `m x n` matrix, if an element is `0`, set its entire row and column to `0`. This must be done **in-place**."
   ]
  },
  {
   "cell_type": "markdown",
   "id": "5964ef79",
   "metadata": {},
   "source": [
    "### 💡 2. Core Idea\n",
    "\n",
    "1. Traverse the matrix to find all positions where an element is `0`.\n",
    "2. Record those `(row, column)` indices.\n",
    "3. After identifying all such positions, zero out the corresponding rows and columns.\n",
    "\n",
    "This avoids corrupting the matrix during scanning."
   ]
  },
  {
   "cell_type": "code",
   "execution_count": null,
   "id": "d419faad",
   "metadata": {},
   "outputs": [
    {
     "name": "stdout",
     "output_type": "stream",
     "text": [
      "[[0, 0, 0, 0], [0, 4, 5, 0], [0, 3, 1, 0]]\n"
     ]
    },
    {
     "ename": "",
     "evalue": "",
     "output_type": "error",
     "traceback": [
      "\u001b[1;31mThe Kernel crashed while executing code in the current cell or a previous cell. \n",
      "\u001b[1;31mPlease review the code in the cell(s) to identify a possible cause of the failure. \n",
      "\u001b[1;31mClick <a href='https://aka.ms/vscodeJupyterKernelCrash'>here</a> for more info. \n",
      "\u001b[1;31mView Jupyter <a href='command:jupyter.viewOutput'>log</a> for further details."
     ]
    }
   ],
   "source": [
    "# ✅ Example Function Call:\n",
    "matrix = [[0,1,2,0],[3,4,5,2],[1,3,1,5]]\n",
    "set_zeroes(matrix)\n",
    "print(matrix)  # Output: [[0,0,0,0],[0,4,5,0],[0,3,1,0]]"
   ]
  },
  {
   "cell_type": "markdown",
   "id": "03b9d85e",
   "metadata": {},
   "source": [
    "### 🧠 4. Code Explanation\n",
    "\n",
    "- **Line 2:** We initialize a list `zero_positions` to store coordinates of zeros in the matrix.\n",
    "- **Lines 6–10:** Double `for` loop scans the matrix. If an element is `0`, we store its `(row, col)` in `zero_positions`.\n",
    "- **Lines 13–19:** For each stored zero:\n",
    "  - Set all elements in its row to `0`.\n",
    "  - Set all elements in its column to `0`.\n",
    "- This separation avoids modifying the matrix during initial scanning, ensuring accuracy."
   ]
  },
  {
   "cell_type": "markdown",
   "id": "de0a52f8",
   "metadata": {},
   "source": [
    "### 📊 5. Time and Space Complexity\n",
    "\n",
    "| Metric          | Value                       |\n",
    "|------------------|-----------------------------|\n",
    "| Time Complexity  | O(m × n)                    |\n",
    "| Space Complexity | O(k), where `k` is the number of zeros |\n",
    "\n",
    "> ✅ Note: This can be optimized to **O(1) space** by using the first row and column as flags."
   ]
  }
 ],
 "metadata": {
  "kernelspec": {
   "display_name": "myenv",
   "language": "python",
   "name": "python3"
  },
  "language_info": {
   "codemirror_mode": {
    "name": "ipython",
    "version": 3
   },
   "file_extension": ".py",
   "mimetype": "text/x-python",
   "name": "python",
   "nbconvert_exporter": "python",
   "pygments_lexer": "ipython3",
   "version": "3.11.3"
  }
 },
 "nbformat": 4,
 "nbformat_minor": 5
}
