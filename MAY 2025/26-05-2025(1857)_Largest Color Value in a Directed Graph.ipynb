{
 "cells": [
  {
   "cell_type": "markdown",
   "id": "369ca28c",
   "metadata": {},
   "source": [
    "## 🎨 Largest Color Value in a Directed Graph\n",
    "\n",
    "---\n",
    "\n",
    "### ✅ Problem Statement\n",
    "\n",
    "You are given a directed graph of `n` nodes labeled from `0` to `n - 1` where each node has a character label (color). You must return the **largest number of nodes with the same color** that you can find on a valid path in the graph. If the graph contains a cycle, return `-1`.\n",
    "\n",
    "---\n",
    "\n",
    "### 💡 Approach\n",
    "\n",
    "1. Build an adjacency list to represent the graph.\n",
    "2. Use Depth-First Search (DFS) with memoization to compute the max count of the same color on all paths starting at each node.\n",
    "3. Use a `visited` set to detect cycles — if a node is visited twice in the same DFS call stack, a cycle exists.\n",
    "4. Return the maximum such value across all starting nodes.\n",
    "5. If a cycle is detected (`float('inf')`), return `-1`."
   ]
  },
  {
   "cell_type": "code",
   "execution_count": 1,
   "id": "a421d8ee",
   "metadata": {},
   "outputs": [],
   "source": [
    "### 💻 Python Code (with Detailed Comments)\n",
    "\n",
    "import collections\n",
    "from functools import cache\n",
    "\n",
    "def largest_path_value(colors, edges):\n",
    "    # Step 1: Build adjacency list\n",
    "    graph = collections.defaultdict(list)\n",
    "    for u, v in edges:\n",
    "        graph[u].append(v)\n",
    "\n",
    "    visited = set()  # Track visited nodes in the current DFS path\n",
    "\n",
    "    @cache\n",
    "    def dfs(node, target_color):\n",
    "        max_color_count = 0\n",
    "        for neighbor in graph[node]:\n",
    "            if neighbor in visited:\n",
    "                return float('inf')  # Cycle detected\n",
    "            visited.add(neighbor)\n",
    "            max_color_count = max(max_color_count, dfs(neighbor, target_color))\n",
    "            visited.remove(neighbor)\n",
    "        \n",
    "        # Add 1 if current node matches the target color\n",
    "        return max_color_count + 1 if colors[node] == target_color else max_color_count\n",
    "\n",
    "    max_value = 0\n",
    "    for i in range(len(colors)):\n",
    "        max_value = max(max_value, dfs(i, colors[i]))\n",
    "\n",
    "    return -1 if max_value == float('inf') else max_value"
   ]
  },
  {
   "cell_type": "markdown",
   "id": "5baf5aca",
   "metadata": {},
   "source": [
    "### 🧠 Code Explanation\n",
    "\n",
    "- The `dfs(node, target_color)` computes the length of the longest path starting at `node` that includes only nodes colored with `target_color`.\n",
    "- We cache results with `@cache` to avoid recomputation.\n",
    "- A cycle is detected if we revisit a node currently in the recursion stack (`visited` set).\n",
    "- For each node, we compute the path value using its color and track the global max."
   ]
  },
  {
   "cell_type": "markdown",
   "id": "f74fbfa2",
   "metadata": {},
   "source": [
    "### 📊 Complexity Analysis\n",
    "\n",
    "| Metric             | Value              |\n",
    "|--------------------|--------------------|\n",
    "| Time Complexity    | O(n × 26 + e)      |\n",
    "| Space Complexity   | O(n × 26 + e)      |\n",
    "\n",
    "Where:\n",
    "- `n` = number of nodes  \n",
    "- `e` = number of edges  \n",
    "- 26 = number of lowercase letters (color types)"
   ]
  },
  {
   "cell_type": "code",
   "execution_count": null,
   "id": "e6f7154e",
   "metadata": {},
   "outputs": [
    {
     "name": "stdout",
     "output_type": "stream",
     "text": [
      "3\n",
      "-1\n"
     ]
    },
    {
     "ename": "",
     "evalue": "",
     "output_type": "error",
     "traceback": [
      "\u001b[1;31mThe Kernel crashed while executing code in the current cell or a previous cell. \n",
      "\u001b[1;31mPlease review the code in the cell(s) to identify a possible cause of the failure. \n",
      "\u001b[1;31mClick <a href='https://aka.ms/vscodeJupyterKernelCrash'>here</a> for more info. \n",
      "\u001b[1;31mView Jupyter <a href='command:jupyter.viewOutput'>log</a> for further details."
     ]
    }
   ],
   "source": [
    "### ✅ Function Calls\n",
    "\n",
    "print(largest_path_value(\"abaca\", [[0,1],[0,2],[2,3],[3,4]]))  # Output: 3\n",
    "print(largest_path_value(\"a\", [[0,0]]))                        # Output: -1"
   ]
  }
 ],
 "metadata": {
  "kernelspec": {
   "display_name": "myenv",
   "language": "python",
   "name": "python3"
  },
  "language_info": {
   "codemirror_mode": {
    "name": "ipython",
    "version": 3
   },
   "file_extension": ".py",
   "mimetype": "text/x-python",
   "name": "python",
   "nbconvert_exporter": "python",
   "pygments_lexer": "ipython3",
   "version": "3.11.3"
  }
 },
 "nbformat": 4,
 "nbformat_minor": 5
}
