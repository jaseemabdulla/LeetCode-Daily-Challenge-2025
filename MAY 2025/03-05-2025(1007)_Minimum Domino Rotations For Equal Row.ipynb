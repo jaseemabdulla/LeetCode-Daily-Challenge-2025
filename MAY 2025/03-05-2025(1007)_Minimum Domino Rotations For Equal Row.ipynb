{
 "cells": [
  {
   "cell_type": "markdown",
   "id": "e126329e",
   "metadata": {},
   "source": [
    "## 🎯 Minimum Domino Rotations For Equal Row\n",
    "\n",
    "---\n",
    "\n",
    "### ✅ 1. Approach:\n",
    "\n",
    "Try to make **either the top or bottom row** entirely filled with the **same value** (`1` to `6`).\n",
    "For each value:\n",
    "- Try to make all elements in the top row that value\n",
    "- Try to make all elements in the bottom row that value\n",
    "\n",
    "Use a helper function to count how many rotations are needed.\n",
    "If it’s not possible (i.e., neither top nor bottom has the desired number at some index), return infinity."
   ]
  },
  {
   "cell_type": "code",
   "execution_count": 1,
   "id": "4cbb9725",
   "metadata": {},
   "outputs": [],
   "source": [
    "\n",
    "### 🔍 2. Code (with comments):\n",
    "from typing import List\n",
    "import math\n",
    "def minDominoRotations(tops: List[int], bottoms: List[int]) -> int:\n",
    "    # Helper function to compute minimum swaps needed to make 'ar' all equal to 'n'\n",
    "    def helper(ar, swap, n):\n",
    "        ans = 0\n",
    "        for i, j in enumerate(ar):\n",
    "            if j != n:\n",
    "                if swap[i] != n:  # Can't fix it using swap either\n",
    "                    return math.inf\n",
    "                ans += 1          # Swap required\n",
    "        return ans\n",
    "\n",
    "    ans = math.inf\n",
    "    # Try all values from 1 to 6 as the candidate\n",
    "    for i in range(1, 7):\n",
    "        ans = min(helper(tops, bottoms, i), ans)     # Try making tops all i\n",
    "        ans = min(helper(bottoms, tops, i), ans)     # Try making bottoms all i\n",
    "\n",
    "    return -1 if ans == math.inf else ans"
   ]
  },
  {
   "cell_type": "markdown",
   "id": "ae319cb5",
   "metadata": {},
   "source": [
    "### 🧠 3. Explanation:\n",
    "- Loop through possible domino values from 1 to 6.\n",
    "- For each, check:\n",
    "  - How many rotations are needed to make all `tops` that value.\n",
    "  - How many to make all `bottoms` that value.\n",
    "- Pick the minimum of all valid cases."
   ]
  },
  {
   "cell_type": "markdown",
   "id": "93c6c4ff",
   "metadata": {},
   "source": [
    "\n",
    "### 📊 4. Complexity:\n",
    "- **Time Complexity**: `O(n)` — For each of 6 values, we scan the arrays once.\n",
    "- **Space Complexity**: `O(1)` — Constant space usage."
   ]
  },
  {
   "cell_type": "code",
   "execution_count": 2,
   "id": "57bf166d",
   "metadata": {},
   "outputs": [
    {
     "name": "stdout",
     "output_type": "stream",
     "text": [
      "2\n",
      "-1\n"
     ]
    }
   ],
   "source": [
    "\n",
    "### 🔁 5. Example Calls:\n",
    "print(minDominoRotations([2,1,2,4,2,2], [5,2,6,2,3,2]))  # Output: 2\n",
    "print(minDominoRotations([3,5,1,2,3], [3,6,3,3,4]))      # Output: -1"
   ]
  }
 ],
 "metadata": {
  "kernelspec": {
   "display_name": "myenv",
   "language": "python",
   "name": "python3"
  },
  "language_info": {
   "codemirror_mode": {
    "name": "ipython",
    "version": 3
   },
   "file_extension": ".py",
   "mimetype": "text/x-python",
   "name": "python",
   "nbconvert_exporter": "python",
   "pygments_lexer": "ipython3",
   "version": "3.11.3"
  }
 },
 "nbformat": 4,
 "nbformat_minor": 5
}
