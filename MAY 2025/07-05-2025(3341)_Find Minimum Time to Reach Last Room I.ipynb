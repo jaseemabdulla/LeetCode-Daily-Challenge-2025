{
 "cells": [
  {
   "cell_type": "markdown",
   "id": "3d11535d",
   "metadata": {},
   "source": [
    "## 🕒 Find Minimum Time to Reach Last Room I\n",
    "\n",
    "---\n",
    "\n",
    "### ✅ 1. Approach:\n",
    "\n",
    "We use **Dijkstra's algorithm** (with a min-heap) to find the **minimum time** to move from the top-left corner `(0, 0)` to the bottom-right corner `(m-1, n-1)`.\n",
    "\n",
    "At each step, you can:\n",
    "- Move to adjacent rooms (up, down, left, right).\n",
    "- Only enter a room at time `t` if `t >= moveTime[x][y]` (otherwise wait).\n",
    "- Every move takes **1 second**, but we might need to wait if `moveTime[x][y]` is in the future.\n"
   ]
  },
  {
   "cell_type": "code",
   "execution_count": 1,
   "id": "4b6d3985",
   "metadata": {},
   "outputs": [],
   "source": [
    "### 💻 2. Code (with comments and imports):\n",
    "\n",
    "from typing import List\n",
    "import heapq\n",
    "\n",
    "def minTimeToReach(moveTime: List[List[int]]) -> int:\n",
    "    dirs = ((0, -1), (0, 1), (-1, 0), (1, 0))  # 4 directions\n",
    "    m, n = len(moveTime), len(moveTime[0])\n",
    "    \n",
    "    heap = [(0, (0, 0))]  # Min-heap: (current_time, (x, y))\n",
    "\n",
    "    while heap:\n",
    "        time, (x, y) = heapq.heappop(heap)\n",
    "\n",
    "        # If reached the destination\n",
    "        if x == m - 1 and y == n - 1:\n",
    "            return time\n",
    "\n",
    "        for dx, dy in dirs:\n",
    "            nx, ny = x + dx, y + dy\n",
    "\n",
    "            # Check if next position is within bounds and unvisited\n",
    "            if 0 <= nx < m and 0 <= ny < n and moveTime[nx][ny] >= 0:\n",
    "                # Wait if needed, then move\n",
    "                next_time = max(time, moveTime[nx][ny]) + 1\n",
    "                heapq.heappush(heap, (next_time, (nx, ny)))\n",
    "                moveTime[nx][ny] = -1  # Mark as visited\n",
    "\n",
    "    return -1  # If unreachable"
   ]
  },
  {
   "cell_type": "markdown",
   "id": "18aa3155",
   "metadata": {},
   "source": [
    "### 🔍 3. Explanation:\n",
    "\n",
    "- We maintain a min-heap to explore the next best room in terms of **minimum arrival time**.\n",
    "- If `moveTime[x][y] > current_time`, we wait until that time before moving.\n",
    "- We mark rooms as visited by setting their value to `-1`."
   ]
  },
  {
   "cell_type": "markdown",
   "id": "116a6576",
   "metadata": {},
   "source": [
    "### 📊 4. Complexity:\n",
    "\n",
    "- **Time Complexity**: `O(m * n * log(mn))` due to the priority queue operations.\n",
    "- **Space Complexity**: `O(m * n)` for the heap and matrix."
   ]
  },
  {
   "cell_type": "code",
   "execution_count": 2,
   "id": "c8ea7edc",
   "metadata": {},
   "outputs": [
    {
     "name": "stdout",
     "output_type": "stream",
     "text": [
      "6\n",
      "3\n",
      "3\n"
     ]
    }
   ],
   "source": [
    "### 🧪 5. Example Calls:\n",
    "\n",
    "print(minTimeToReach([[0, 4], [4, 4]]))        # Output: 6\n",
    "print(minTimeToReach([[0, 0, 0], [0, 0, 0]]))  # Output: 3\n",
    "print(minTimeToReach([[0, 1], [1, 2]]))        # Output: 3"
   ]
  }
 ],
 "metadata": {
  "kernelspec": {
   "display_name": "myenv",
   "language": "python",
   "name": "python3"
  },
  "language_info": {
   "codemirror_mode": {
    "name": "ipython",
    "version": 3
   },
   "file_extension": ".py",
   "mimetype": "text/x-python",
   "name": "python",
   "nbconvert_exporter": "python",
   "pygments_lexer": "ipython3",
   "version": "3.11.3"
  }
 },
 "nbformat": 4,
 "nbformat_minor": 5
}
