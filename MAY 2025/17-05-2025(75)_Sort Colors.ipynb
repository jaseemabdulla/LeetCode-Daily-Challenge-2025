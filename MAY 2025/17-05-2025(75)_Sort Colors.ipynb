{
 "cells": [
  {
   "cell_type": "markdown",
   "id": "d1f20883",
   "metadata": {},
   "source": [
    "## 🎨 Sort Colors (Dutch National Flag Problem)\n",
    "\n",
    "---\n",
    "\n",
    "### ✅ 1. Problem Statement\n",
    "Given an array `nums` containing only **0s, 1s, and 2s**, sort the array **in‑place** so that all 0s come first, followed by 1s, then 2s.\n"
   ]
  },
  {
   "cell_type": "markdown",
   "id": "0fe622be",
   "metadata": {},
   "source": [
    "### 💡 2. Optimal Approach (Dutch National Flag)\n",
    "Use three pointers:\n",
    "\n",
    "| Pointer | Meaning                          |\n",
    "|---------|----------------------------------|\n",
    "| `low`   | boundary after the last placed 0 |\n",
    "| `mid`   | current element being inspected  |\n",
    "| `high`  | boundary before the first placed 2 |\n",
    "\n",
    "Algorithm  \n",
    "1. Initialize `low = 0`, `mid = 0`, `high = n‑1`.  \n",
    "2. While `mid ≤ high`:\n",
    "   - If `nums[mid] == 0` → swap `nums[low]` & `nums[mid]`, increment both `low` and `mid`.\n",
    "   - Else if `nums[mid] == 1` → just increment `mid`.\n",
    "   - Else (`nums[mid] == 2`) → swap `nums[mid]` & `nums[high]`, decrement `high` (do **not** increment `mid` yet).\n",
    "\n",
    "This is **one pass**, `O(n)` time, `O(1)` extra space.\n"
   ]
  },
  {
   "cell_type": "code",
   "execution_count": 1,
   "id": "b523af0c",
   "metadata": {},
   "outputs": [],
   "source": [
    "### 💻 3. Python Code (in‑place, no return)\n",
    "\n",
    "from typing import List\n",
    "\n",
    "def sortColors(nums: List[int]) -> None:\n",
    "    \"\"\"\n",
    "    Sorts nums in‑place so that all 0s, then 1s, then 2s appear.\n",
    "    \"\"\"\n",
    "    low, mid, high = 0, 0, len(nums) - 1\n",
    "\n",
    "    while mid <= high:\n",
    "        if nums[mid] == 0:                     # place 0 to the front\n",
    "            nums[low], nums[mid] = nums[mid], nums[low]\n",
    "            low += 1\n",
    "            mid += 1\n",
    "        elif nums[mid] == 1:                   # 1 is already in correct zone\n",
    "            mid += 1\n",
    "        else:                                  # nums[mid] == 2; place 2 to the end\n",
    "            nums[mid], nums[high] = nums[high], nums[mid]\n",
    "            high -= 1"
   ]
  },
  {
   "cell_type": "markdown",
   "id": "5c2cf189",
   "metadata": {},
   "source": [
    "### 🔍 4. Code Explanation\n",
    "- **0 case**: swap with `low` to push 0s left, then move both `low` & `mid`.  \n",
    "- **1 case**: 1 is in middle zone, just move `mid`.  \n",
    "- **2 case**: swap with `high` to push 2s right, then shrink `high`; keep `mid` to examine the element just swapped in.\n"
   ]
  },
  {
   "cell_type": "code",
   "execution_count": 2,
   "id": "7be029e8",
   "metadata": {},
   "outputs": [
    {
     "name": "stdout",
     "output_type": "stream",
     "text": [
      "[0, 0, 1, 1, 2, 2]\n",
      "[0, 1, 2]\n"
     ]
    }
   ],
   "source": [
    "### 🧪 5. Example Function Calls\n",
    "\n",
    "nums1 = [2, 0, 2, 1, 1, 0]\n",
    "sortColors(nums1)\n",
    "print(nums1)   # ➜ [0, 0, 1, 1, 2, 2]\n",
    "\n",
    "nums2 = [2, 0, 1]\n",
    "sortColors(nums2)\n",
    "print(nums2)   # ➜ [0, 1, 2]"
   ]
  },
  {
   "cell_type": "markdown",
   "id": "88d54a06",
   "metadata": {},
   "source": [
    "### 📊 6. Complexity\n",
    "| Metric | Value |\n",
    "|--------|-------|\n",
    "| Time   | **O(n)** – single linear pass |\n",
    "| Space  | **O(1)** – only constant‑size pointers |"
   ]
  },
  {
   "cell_type": "markdown",
   "id": "61cc70cd",
   "metadata": {},
   "source": [
    "### 🧠 7. Insight\n",
    "The Dutch National Flag algorithm partitions the array into three regions in one sweep, making it the canonical optimal solution for sorting three distinct values in‑place.\n",
    "\n",
    "\n",
    "\n",
    "\n",
    "\n",
    "\n",
    "\n"
   ]
  }
 ],
 "metadata": {
  "kernelspec": {
   "display_name": "myenv",
   "language": "python",
   "name": "python3"
  },
  "language_info": {
   "codemirror_mode": {
    "name": "ipython",
    "version": 3
   },
   "file_extension": ".py",
   "mimetype": "text/x-python",
   "name": "python",
   "nbconvert_exporter": "python",
   "pygments_lexer": "ipython3",
   "version": "3.11.3"
  }
 },
 "nbformat": 4,
 "nbformat_minor": 5
}
