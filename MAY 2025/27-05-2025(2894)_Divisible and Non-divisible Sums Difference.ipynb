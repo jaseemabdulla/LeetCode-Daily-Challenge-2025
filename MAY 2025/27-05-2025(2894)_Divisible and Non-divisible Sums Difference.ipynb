{
 "cells": [
  {
   "cell_type": "markdown",
   "id": "c057fe43",
   "metadata": {},
   "source": [
    "## ➗ Divisible and Non-divisible Sums Difference\n",
    "\n",
    "---\n",
    "\n",
    "### ✅ Problem Statement\n",
    "\n",
    "You are given two integers `n` and `m`. Consider all integers from `1` to `n` inclusive.  \n",
    "Let `num1` be the sum of integers not divisible by `m`, and `num2` be the sum of integers divisible by `m`.\n",
    "\n",
    "Return the **difference** `num1 - num2`."
   ]
  },
  {
   "cell_type": "markdown",
   "id": "ffd953a8",
   "metadata": {},
   "source": [
    "### 💡 Optimized Approach\n",
    "\n",
    "1. Iterate through numbers `1` to `n`.\n",
    "2. Sum numbers divisible by `m` into `div_sum`.\n",
    "3. Sum numbers not divisible by `m` into `non_div_sum`.\n",
    "4. Return the difference `non_div_sum - div_sum`."
   ]
  },
  {
   "cell_type": "code",
   "execution_count": 1,
   "id": "4bf7aff7",
   "metadata": {},
   "outputs": [],
   "source": [
    "### 💻 Python Code (with comments)\n",
    "\n",
    "def difference_of_sums(n, m):\n",
    "    div_sum = 0      # Sum of numbers divisible by m\n",
    "    non_div_sum = 0  # Sum of numbers not divisible by m\n",
    "\n",
    "    for i in range(1, n + 1):\n",
    "        if i % m == 0:\n",
    "            div_sum += i\n",
    "        else:\n",
    "            non_div_sum += i\n",
    "\n",
    "    return non_div_sum - div_sum"
   ]
  },
  {
   "cell_type": "markdown",
   "id": "df9fa8dc",
   "metadata": {},
   "source": [
    "### 🧠 Code Explanation\n",
    "\n",
    "- We use two accumulators:  \n",
    "  - `div_sum` for numbers divisible by `m`  \n",
    "  - `non_div_sum` for numbers not divisible by `m`  \n",
    "- We simply return the difference as required."
   ]
  },
  {
   "cell_type": "markdown",
   "id": "81e98e0d",
   "metadata": {},
   "source": [
    "### 📊 Complexity Analysis\n",
    "\n",
    "| Metric             | Value         |\n",
    "|--------------------|---------------|\n",
    "| Time Complexity    | O(n)          |\n",
    "| Space Complexity   | O(1)          |\n"
   ]
  },
  {
   "cell_type": "code",
   "execution_count": 2,
   "id": "8a16f8ce",
   "metadata": {},
   "outputs": [
    {
     "name": "stdout",
     "output_type": "stream",
     "text": [
      "19\n",
      "15\n",
      "-15\n"
     ]
    }
   ],
   "source": [
    "### ✅ Function Calls\n",
    "\n",
    "print(difference_of_sums(10, 3))  # Output: 19\n",
    "print(difference_of_sums(5, 6))   # Output: 15\n",
    "print(difference_of_sums(5, 1))   # Output: -15"
   ]
  }
 ],
 "metadata": {
  "kernelspec": {
   "display_name": "myenv",
   "language": "python",
   "name": "python3"
  },
  "language_info": {
   "codemirror_mode": {
    "name": "ipython",
    "version": 3
   },
   "file_extension": ".py",
   "mimetype": "text/x-python",
   "name": "python",
   "nbconvert_exporter": "python",
   "pygments_lexer": "ipython3",
   "version": "3.11.3"
  }
 },
 "nbformat": 4,
 "nbformat_minor": 5
}
