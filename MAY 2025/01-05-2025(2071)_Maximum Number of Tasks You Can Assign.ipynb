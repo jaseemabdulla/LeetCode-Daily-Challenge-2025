{
 "cells": [
  {
   "cell_type": "markdown",
   "id": "f4146d50",
   "metadata": {},
   "source": [
    "## 🛠️ Maximum Number of Tasks You Can Assign\n",
    "\n",
    "---\n",
    "\n",
    "### ✅ 1. Approach:\n",
    "The problem is to **assign as many tasks as possible** to workers using up to `pills` that boost a worker's strength by `strength`.\n",
    "\n",
    "### Key Strategy:\n",
    "- Use **binary search** to find the maximum number of tasks that can be assigned.\n",
    "- For each number of tasks `mid`, **check feasibility** using:\n",
    "  - **Greedy assignment** from the strongest available workers.\n",
    "  - Use a **SortedList** for efficient binary search and deletion of worker strengths."
   ]
  },
  {
   "cell_type": "code",
   "execution_count": 5,
   "id": "3c0cff42",
   "metadata": {},
   "outputs": [],
   "source": [
    "### 🔍 2. Code:\n",
    "from bisect import bisect_left\n",
    "from sortedcontainers import SortedList\n",
    "from typing import List\n",
    "\n",
    "def maxTaskAssign(tasks: List[int], workers: List[int], pills: int, strength: int) -> int:\n",
    "    n, m = len(tasks), len(workers)\n",
    "    tasks.sort()      # Sort tasks in ascending order (easiest to hardest)\n",
    "    workers.sort()    # Sort workers in ascending order (weakest to strongest)\n",
    "\n",
    "    # Helper function to check if 'mid' number of tasks can be assigned\n",
    "    def check(mid: int) -> bool:\n",
    "        p = pills\n",
    "        # Consider the strongest 'mid' workers\n",
    "        ws = SortedList(workers[m - mid:])\n",
    "        \n",
    "        # Try to assign the hardest 'mid' tasks\n",
    "        for i in range(mid - 1, -1, -1):\n",
    "            # If strongest worker can do the task, assign without pill\n",
    "            if ws[-1] >= tasks[i]:\n",
    "                ws.pop()\n",
    "            else:\n",
    "                # Need a pill if no worker can do it without help\n",
    "                if p == 0:\n",
    "                    return False\n",
    "                # Find the weakest worker who can do task with a pill\n",
    "                rep = ws.bisect_left(tasks[i] - strength)\n",
    "                if rep == len(ws):  # No eligible worker even with pill\n",
    "                    return False\n",
    "                p -= 1              # Use one pill\n",
    "                ws.pop(rep)        # Remove the assigned worker\n",
    "        return True\n",
    "\n",
    "    # Binary search to find the max number of tasks that can be assigned\n",
    "    left, right, ans = 1, min(n, m), 0\n",
    "    while left <= right:\n",
    "        mid = (left + right) // 2\n",
    "        if check(mid):           # If 'mid' tasks can be assigned\n",
    "            ans = mid            # Update answer\n",
    "            left = mid + 1       # Try for more tasks\n",
    "        else:\n",
    "            right = mid - 1      # Try fewer tasks\n",
    "    return ans"
   ]
  },
  {
   "cell_type": "markdown",
   "id": "188a4c6b",
   "metadata": {},
   "source": [
    "\n",
    "### 🧠 3. Explanation:\n",
    "- `check(mid)` simulates assigning `mid` hardest tasks to `mid` strongest workers.\n",
    "- If the worker is not strong enough:\n",
    "  - Try to use a pill on the weakest possible worker who can do the job with the pill.\n",
    "- Binary search efficiently finds the **maximum number of assignable tasks**."
   ]
  },
  {
   "cell_type": "markdown",
   "id": "07da5cac",
   "metadata": {},
   "source": [
    "### 📊 4. Complexity:\n",
    "- **Time Complexity**: `O((n + m) * log(m))` for sorting, and `O(n * log n * log m)` for binary search + checking.\n",
    "- **Space Complexity**: `O(m)` for the `SortedList`."
   ]
  },
  {
   "cell_type": "code",
   "execution_count": 6,
   "id": "5a88c412",
   "metadata": {},
   "outputs": [
    {
     "name": "stdout",
     "output_type": "stream",
     "text": [
      "3\n",
      "1\n",
      "2\n"
     ]
    }
   ],
   "source": [
    "### 🔁 5. Example Calls:\n",
    "print(maxTaskAssign([3,2,1], [0,3,3], 1, 1))        # Output: 3\n",
    "print(maxTaskAssign([5,4], [0,0,0], 1, 5))          # Output: 1\n",
    "print(maxTaskAssign([10,15,30], [0,10,10,10,10], 3, 10))  # Output: 2"
   ]
  }
 ],
 "metadata": {
  "kernelspec": {
   "display_name": "myenv",
   "language": "python",
   "name": "python3"
  },
  "language_info": {
   "codemirror_mode": {
    "name": "ipython",
    "version": 3
   },
   "file_extension": ".py",
   "mimetype": "text/x-python",
   "name": "python",
   "nbconvert_exporter": "python",
   "pygments_lexer": "ipython3",
   "version": "3.11.3"
  }
 },
 "nbformat": 4,
 "nbformat_minor": 5
}
