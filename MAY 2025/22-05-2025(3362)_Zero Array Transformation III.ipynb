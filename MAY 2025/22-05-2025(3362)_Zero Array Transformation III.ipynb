{
 "cells": [
  {
   "cell_type": "markdown",
   "id": "b2c2fa4c",
   "metadata": {},
   "source": [
    "## 🔄 Zero Array Transformation III\n",
    "\n",
    "---\n",
    "\n",
    "### ✅ Problem Statement\n",
    "\n",
    "Given an array `nums` and a list of `queries`, where each query is a range `[start, end]`, each query can decrement all `nums[i]` in the interval `[start, end]` by 1.\n",
    "\n",
    "Your task is to **remove the minimum number of queries** so that the remaining ones can reduce every element in `nums` to 0.  \n",
    "Return the **maximum number of queries that can be removed**.  \n",
    "If it's not possible, return `-1`.\n",
    "\n",
    "---\n",
    "\n",
    "### 💡 Approach\n",
    "\n",
    "- We simulate applying the queries greedily:\n",
    "  - For each index `i`, we must ensure `nums[i]` is decremented `nums[i]` times.\n",
    "  - Use a **heap** to manage active intervals efficiently.\n",
    "  - For each `nums[i]`, check if existing intervals are enough to meet the need; if not, apply new intervals.\n",
    "  - Track when removals \"expire\" via a differential array."
   ]
  },
  {
   "cell_type": "code",
   "execution_count": 1,
   "id": "0118a397",
   "metadata": {},
   "outputs": [],
   "source": [
    "### 💻 Python Code (Improved, with Comments)\n",
    "\n",
    "from collections import defaultdict\n",
    "import heapq\n",
    "\n",
    "def max_removal(nums, queries):\n",
    "    n = len(nums)\n",
    "    edges = defaultdict(list)  # Adjacency list for query ranges\n",
    "\n",
    "    # Build list of intervals starting at each index\n",
    "    for start, end in queries:\n",
    "        edges[start].append(end)\n",
    "\n",
    "    expire = [0] * (n + 1)  # Tracks when a removal expires (via difference array)\n",
    "    max_heap = []           # Max heap to store active intervals (by end index)\n",
    "    active_removals = 0     # Count of current active operations\n",
    "\n",
    "    for i in range(n):\n",
    "        # Add all intervals starting at index i\n",
    "        for end in edges[i]:\n",
    "            heapq.heappush(max_heap, -end)  # Push negated end to simulate max-heap\n",
    "\n",
    "        # Apply any removals that were set to expire at this index\n",
    "        active_removals += expire[i]\n",
    "\n",
    "        # If not enough active removals for nums[i], try activating more\n",
    "        while active_removals < nums[i]:\n",
    "            if not max_heap or -max_heap[0] < i:\n",
    "                return -1  # Cannot reduce nums[i] to 0 with available queries\n",
    "            end = -heapq.heappop(max_heap)\n",
    "            active_removals += 1\n",
    "            expire[end + 1] -= 1  # This operation will expire at end + 1\n",
    "\n",
    "    return len(max_heap)  # Remaining queries are those that can be removed"
   ]
  },
  {
   "cell_type": "markdown",
   "id": "9c7c2df6",
   "metadata": {},
   "source": [
    "### 🧠 Code Explanation\n",
    "\n",
    "- **`edges`** stores all queries grouped by their start index.\n",
    "- A **max-heap** (`max_heap`) always gives the farthest-reaching interval.\n",
    "- **`expire`** is a difference array that manages decrement operation expirations.\n",
    "- As we iterate through the array:\n",
    "  - Activate intervals starting at index `i`.\n",
    "  - If current active operations are insufficient, pop from the heap (most valuable intervals).\n",
    "  - Mark when this newly applied interval should expire."
   ]
  },
  {
   "cell_type": "markdown",
   "id": "bb0dcd04",
   "metadata": {},
   "source": [
    "### 📊 Complexity Analysis\n",
    "\n",
    "| Metric             | Value         |\n",
    "|--------------------|---------------|\n",
    "| Time Complexity    | O(n + q·log q)  |\n",
    "| Space Complexity   | O(n + q)       |\n",
    "\n",
    "Where `n` is the length of `nums` and `q` is the number of queries."
   ]
  },
  {
   "cell_type": "code",
   "execution_count": null,
   "id": "9c3c39c6",
   "metadata": {},
   "outputs": [
    {
     "name": "stdout",
     "output_type": "stream",
     "text": [
      "1\n",
      "2\n"
     ]
    },
    {
     "ename": "",
     "evalue": "",
     "output_type": "error",
     "traceback": [
      "\u001b[1;31mThe Kernel crashed while executing code in the current cell or a previous cell. \n",
      "\u001b[1;31mPlease review the code in the cell(s) to identify a possible cause of the failure. \n",
      "\u001b[1;31mClick <a href='https://aka.ms/vscodeJupyterKernelCrash'>here</a> for more info. \n",
      "\u001b[1;31mView Jupyter <a href='command:jupyter.viewOutput'>log</a> for further details."
     ]
    }
   ],
   "source": [
    "### ✅ Function Call Example\n",
    "\n",
    "nums = [2, 0, 2]\n",
    "queries = [[0, 2], [0, 2], [1, 1]]\n",
    "print(max_removal(nums, queries))  # Output: 1\n",
    "\n",
    "\n",
    "nums = [1, 1, 1, 1]\n",
    "queries = [[1, 3], [0, 2], [1, 3], [1, 2]]\n",
    "print(max_removal(nums, queries))  # Output: 2"
   ]
  }
 ],
 "metadata": {
  "kernelspec": {
   "display_name": "myenv",
   "language": "python",
   "name": "python3"
  },
  "language_info": {
   "codemirror_mode": {
    "name": "ipython",
    "version": 3
   },
   "file_extension": ".py",
   "mimetype": "text/x-python",
   "name": "python",
   "nbconvert_exporter": "python",
   "pygments_lexer": "ipython3",
   "version": "3.11.3"
  }
 },
 "nbformat": 4,
 "nbformat_minor": 5
}
