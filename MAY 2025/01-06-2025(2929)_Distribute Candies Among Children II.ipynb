{
 "cells": [
  {
   "cell_type": "code",
   "execution_count": 1,
   "id": "d5c302d9",
   "metadata": {},
   "outputs": [],
   "source": [
    "def distributeCandies(self, n: int, limit: int) -> int:\n",
    "        # Computes C(x,2) = x*(x-1)//2, or 0 if x<2\n",
    "        def C2(x: int) -> int:\n",
    "            return (x * (x - 1) // 2) if x >= 2 else 0\n",
    "\n",
    "        total = (n+2)*(n+1)//2 # Count = C(n+2, 2)\n",
    "        x1 = n - limit + 1     # Count with a > limit \n",
    "        t1 = C2(x1)\n",
    "\n",
    "        x2 = n - 2 * limit     # Count with a > limit\n",
    "        t2 = C2(x2)            # and b > limit\n",
    "\n",
    "        x3 = n - 3 * limit - 1 # Count with a > limit\n",
    "        t3 = C2(x3)            # b > limit, c > limit\n",
    "\n",
    "        # Inclusion–exclusion\n",
    "        return total - 3 * t1 + 3 * t2 - t3"
   ]
  }
 ],
 "metadata": {
  "kernelspec": {
   "display_name": "myenv",
   "language": "python",
   "name": "python3"
  },
  "language_info": {
   "codemirror_mode": {
    "name": "ipython",
    "version": 3
   },
   "file_extension": ".py",
   "mimetype": "text/x-python",
   "name": "python",
   "nbconvert_exporter": "python",
   "pygments_lexer": "ipython3",
   "version": "3.11.3"
  }
 },
 "nbformat": 4,
 "nbformat_minor": 5
}
