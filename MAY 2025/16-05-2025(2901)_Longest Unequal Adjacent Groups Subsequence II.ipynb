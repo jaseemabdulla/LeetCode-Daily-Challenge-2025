{
 "cells": [
  {
   "cell_type": "markdown",
   "id": "d2ae0ed7",
   "metadata": {},
   "source": [
    "## 🔠 Longest Unequal Adjacent Groups Subsequence II\n",
    "\n",
    "---\n",
    "\n",
    "### ✅ 1. Problem Statement\n",
    "\n",
    "Given:\n",
    "- `words`: a list of lowercase strings of equal or varying lengths.\n",
    "- `groups`: a list of integers representing group IDs.\n",
    "\n",
    "You are to find the **longest subsequence** of `words` such that:\n",
    "1. Consecutive words in the subsequence come from **different groups**.\n",
    "2. Each pair of consecutive words in the subsequence has the **same length**.\n",
    "3. The **Hamming distance** between consecutive words is exactly 1 (only one character differs)."
   ]
  },
  {
   "cell_type": "markdown",
   "id": "5dbd28d0",
   "metadata": {},
   "source": [
    "### 💡 2. Approach\n",
    "\n",
    "This is a **variation of the Longest Increasing Subsequence (LIS)** problem with custom rules:\n",
    "- Use Dynamic Programming (`dp[i]` = longest sequence ending at word[i]).\n",
    "- For every word `i`, compare it with previous words `j`:\n",
    "  - If `groups[i] != groups[j]`\n",
    "  - If `words[i]` and `words[j]` are the same length\n",
    "  - If `Hamming distance` is exactly 1\n",
    "- If valid, update `dp[i]` and store the index in `record[i]`.\n",
    "\n",
    "After the `dp` pass:\n",
    "- Trace back from the index with the longest value to build the result."
   ]
  },
  {
   "cell_type": "code",
   "execution_count": 1,
   "id": "22863244",
   "metadata": {},
   "outputs": [],
   "source": [
    "### 💻 3. Python Code (with comments)\n",
    "\n",
    "from typing import List\n",
    "from collections import Counter\n",
    "\n",
    "def getWordsInLongestSubsequence(words: List[str], groups: List[int]) -> List[str]:\n",
    "\n",
    "    # Check if two words differ by exactly one character\n",
    "    def check_hamming_distance(w1, w2):\n",
    "        cnt = 0\n",
    "        for i in range(len(w1)):\n",
    "            if w1[i] != w2[i]:\n",
    "                cnt += 1\n",
    "                if cnt > 1:\n",
    "                    return False\n",
    "        return cnt == 1\n",
    "\n",
    "    n = len(words)\n",
    "    if n == 1:\n",
    "        return words\n",
    "\n",
    "    len_dict = {}                # Map from word length to list of indices\n",
    "    dp = [1] * n                 # dp[i] = length of longest valid subsequence ending at i\n",
    "    record = [-1] * n            # record[i] = index of previous word in subsequence\n",
    "\n",
    "    # Build length index map\n",
    "    for i in range(n):\n",
    "        l = len(words[i])\n",
    "        len_dict.setdefault(l, []).append(i)\n",
    "        record[i] = i\n",
    "\n",
    "    longest_len = 0\n",
    "    longest_ending_index = -1\n",
    "\n",
    "    for i in range(1, n):\n",
    "        for j in len_dict[len(words[i])]:\n",
    "            if j == i:\n",
    "                break\n",
    "            if groups[i] == groups[j] or not check_hamming_distance(words[i], words[j]):\n",
    "                continue\n",
    "            if dp[j] + 1 > dp[i]:\n",
    "                dp[i] = dp[j] + 1\n",
    "                record[i] = j\n",
    "        if dp[i] > longest_len:\n",
    "            longest_len = dp[i]\n",
    "            longest_ending_index = i\n",
    "\n",
    "    # Reconstruct result\n",
    "    if longest_len <= 1:\n",
    "        return [words[0]]\n",
    "\n",
    "    res = [None] * longest_len\n",
    "    for k in range(longest_len - 1, -1, -1):\n",
    "        res[k] = words[longest_ending_index]\n",
    "        longest_ending_index = record[longest_ending_index]\n",
    "\n",
    "    return res"
   ]
  },
  {
   "cell_type": "markdown",
   "id": "0379b482",
   "metadata": {},
   "source": [
    "### 🔍 4. Code Explanation\n",
    "\n",
    "- **check_hamming_distance(w1, w2):** Checks if two words of the same length differ by exactly one character.\n",
    "- **dp array:** Stores the max subsequence length ending at each index.\n",
    "- **record array:** Used to reconstruct the longest path at the end.\n",
    "- **len_dict:** Optimization to only compare words of the same length."
   ]
  },
  {
   "cell_type": "code",
   "execution_count": 2,
   "id": "211c67bf",
   "metadata": {},
   "outputs": [
    {
     "name": "stdout",
     "output_type": "stream",
     "text": [
      "['bab', 'dab']\n",
      "['a', 'b', 'c', 'd']\n",
      "['dog', 'fog', 'log', 'cog']\n",
      "['hi', 'ha']\n",
      "['z']\n"
     ]
    }
   ],
   "source": [
    "### 🧪 5. Example Function Calls\n",
    "\n",
    "print(getWordsInLongestSubsequence([\"bab\", \"dab\", \"cab\"], [1, 2, 2]))  # Output: ['bab', 'cab'] or ['bab', 'dab']\n",
    "print(getWordsInLongestSubsequence([\"a\", \"b\", \"c\", \"d\"], [1, 2, 3, 4]))  # Output: ['a', 'b', 'c', 'd']\n",
    "print(getWordsInLongestSubsequence([\"dog\", \"fog\", \"log\", \"cog\"], [0, 1, 2, 3]))  # Output: ['dog', 'fog', 'log', 'cog']\n",
    "print(getWordsInLongestSubsequence([\"hi\", \"ho\", \"ha\"], [1, 1, 2]))  # Output: ['hi', 'ha']\n",
    "print(getWordsInLongestSubsequence([\"z\"], [0]))  # Output: ['z']"
   ]
  },
  {
   "cell_type": "markdown",
   "id": "df78d286",
   "metadata": {},
   "source": [
    "### 📊 6. Time and Space Complexity\n",
    "\n",
    "- **Time Complexity:** `O(n^2 * l)` where `n` is number of words and `l` is average word length.\n",
    "- **Space Complexity:** `O(n)` for `dp`, `record`, and `len_dict`."
   ]
  },
  {
   "cell_type": "markdown",
   "id": "2c2dc53e",
   "metadata": {},
   "source": [
    "### 🧠 7. Key Insight\n",
    "\n",
    "Using dynamic programming with a custom constraint (Hamming distance and group mismatch) is a powerful way to solve modified LIS problems involving subsequences.\n"
   ]
  }
 ],
 "metadata": {
  "kernelspec": {
   "display_name": "myenv",
   "language": "python",
   "name": "python3"
  },
  "language_info": {
   "codemirror_mode": {
    "name": "ipython",
    "version": 3
   },
   "file_extension": ".py",
   "mimetype": "text/x-python",
   "name": "python",
   "nbconvert_exporter": "python",
   "pygments_lexer": "ipython3",
   "version": "3.11.3"
  }
 },
 "nbformat": 4,
 "nbformat_minor": 5
}
