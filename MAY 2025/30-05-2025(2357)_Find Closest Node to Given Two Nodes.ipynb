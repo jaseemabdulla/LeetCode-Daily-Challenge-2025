{
 "cells": [
  {
   "cell_type": "markdown",
   "id": "76716627",
   "metadata": {},
   "source": [
    "## 🔍 Find Closest Node to Given Two Nodes\n",
    "\n",
    "---\n",
    "\n",
    "### ✅ Problem Statement\n",
    "\n",
    "You are given a directed graph where each node has at most one outgoing edge. The graph is represented as an array `edges`, where `edges[i]` is the node that node `i` points to, or `-1` if it doesn't point anywhere.\n",
    "\n",
    "You are also given two nodes `node1` and `node2`. Your task is to find the **closest meeting node**, i.e., a node that is reachable from both `node1` and `node2`, such that the **maximum of the distances** from `node1` and `node2` to this node is **minimized**. If multiple answers exist, return the node with the **smallest index**."
   ]
  },
  {
   "cell_type": "markdown",
   "id": "a7e456d0",
   "metadata": {},
   "source": [
    "### 💡 Approach\n",
    "\n",
    "1. Perform a **DFS or BFS-style traversal** from `node1` and `node2` to get the distances from both.\n",
    "2. Track distances using two arrays `dist1` and `dist2`.\n",
    "3. Iterate through all nodes to find a node that is reachable from both `node1` and `node2`, and **minimize the maximum** of the two distances.\n",
    "4. If there are ties (i.e., multiple such nodes), return the one with the smallest index."
   ]
  },
  {
   "cell_type": "code",
   "execution_count": 1,
   "id": "2c0b4463",
   "metadata": {},
   "outputs": [],
   "source": [
    "### 💻 Python Code with Detailed Comments\n",
    "\n",
    "def closestMeetingNode(edges, node1, node2):\n",
    "    n = len(edges)\n",
    "\n",
    "    # Helper function to compute distances from a starting node to all reachable nodes\n",
    "    def get_distances(start):\n",
    "        dist = [-1] * n  # Initialize all distances to -1 (unreachable)\n",
    "        curr = start\n",
    "        d = 0\n",
    "        while curr != -1 and dist[curr] == -1:\n",
    "            dist[curr] = d      # Set the distance for current node\n",
    "            d += 1              # Increase distance counter\n",
    "            curr = edges[curr]  # Move to the next node\n",
    "        return dist\n",
    "\n",
    "    # Get distance arrays from node1 and node2\n",
    "    dist1 = get_distances(node1)\n",
    "    dist2 = get_distances(node2)\n",
    "\n",
    "    # Initialize variables to track the best node\n",
    "    min_max = float('inf')  # To store the minimum among all max distances\n",
    "    answer = -1             # To store the resulting node index\n",
    "\n",
    "    # Loop through all nodes to find the optimal meeting node\n",
    "    for i in range(n):\n",
    "        # Check if node i is reachable from both node1 and node2\n",
    "        if dist1[i] != -1 and dist2[i] != -1:\n",
    "            current_max = max(dist1[i], dist2[i])  # Take the worse of the two distances\n",
    "            if current_max < min_max:\n",
    "                # Found a better (smaller max distance) candidate\n",
    "                min_max = current_max\n",
    "                answer = i\n",
    "            elif current_max == min_max and i < answer:\n",
    "                # If same distance, prefer the smaller index\n",
    "                answer = i\n",
    "\n",
    "    return answer"
   ]
  },
  {
   "cell_type": "markdown",
   "id": "1790a6e3",
   "metadata": {},
   "source": [
    "### 🧠 Code Explanation\n",
    "\n",
    "- `get_distances(start)` computes distances from a starting node using a linear walk (because each node has at most one edge).\n",
    "- We build two arrays `dist1` and `dist2` for distances from `node1` and `node2`.\n",
    "- For each node `i`, we check if it's reachable from both and compute the `max(dist1[i], dist2[i])`.\n",
    "- The node with the **smallest such maximum** is chosen. If a tie occurs, the node with the **lower index** is selected."
   ]
  },
  {
   "cell_type": "markdown",
   "id": "b336db46",
   "metadata": {},
   "source": [
    "### 📊 Complexity Analysis\n",
    "\n",
    "| Metric             | Value       |\n",
    "|--------------------|-------------|\n",
    "| Time Complexity    | O(n)        |\n",
    "| Space Complexity   | O(n)        |\n",
    "\n",
    "Where `n` is the number of nodes.\n"
   ]
  },
  {
   "cell_type": "code",
   "execution_count": 2,
   "id": "04aa84fc",
   "metadata": {},
   "outputs": [
    {
     "name": "stdout",
     "output_type": "stream",
     "text": [
      "2\n",
      "2\n"
     ]
    }
   ],
   "source": [
    "### ✅ Example Function Calls\n",
    "\n",
    "print(closestMeetingNode([2, 2, 3, -1], 0, 1))  # Output: 2\n",
    "print(closestMeetingNode([1, 2, -1], 0, 2))     # Output: 2"
   ]
  }
 ],
 "metadata": {
  "kernelspec": {
   "display_name": "myenv",
   "language": "python",
   "name": "python3"
  },
  "language_info": {
   "codemirror_mode": {
    "name": "ipython",
    "version": 3
   },
   "file_extension": ".py",
   "mimetype": "text/x-python",
   "name": "python",
   "nbconvert_exporter": "python",
   "pygments_lexer": "ipython3",
   "version": "3.11.3"
  }
 },
 "nbformat": 4,
 "nbformat_minor": 5
}
