{
 "cells": [
  {
   "cell_type": "markdown",
   "id": "37729692",
   "metadata": {},
   "source": [
    "## 🟰 Push Dominoes\n",
    "\n",
    "---\n",
    "\n",
    "### ✅ 1. Approach:\n",
    "Simulate the effect of pushing dominoes using **two passes**:\n",
    "- Left to right to accumulate **rightward force**\n",
    "- Right to left to accumulate **leftward force**\n",
    "\n",
    "Force is a way to represent how strongly a domino is being pushed in a direction. Larger values have stronger influence, and competing forces cancel each other."
   ]
  },
  {
   "cell_type": "code",
   "execution_count": 1,
   "id": "cfabaec1",
   "metadata": {},
   "outputs": [],
   "source": [
    "### 🔍 2. Code:\n",
    "def pushDominoes(dominoes: str) -> str:\n",
    "    n = len(dominoes)\n",
    "    forces = [0] * n  # Initialize force array\n",
    "\n",
    "    # → Pass: left to right, applying rightward force\n",
    "    force = 0\n",
    "    for i in range(n):\n",
    "        if dominoes[i] == \"R\":\n",
    "            force = n          # Max force from right\n",
    "        elif dominoes[i] == \"L\":\n",
    "            force = 0          # Force resets at left push\n",
    "        else:\n",
    "            force = max(force - 1, 0)  # Reduce force gradually\n",
    "        forces[i] += force     # Accumulate rightward force\n",
    "\n",
    "    # ← Pass: right to left, applying leftward force (negative)\n",
    "    force = 0\n",
    "    for j in range(n - 1, -1, -1):\n",
    "        if dominoes[j] == \"L\":\n",
    "            force = n          # Max force from left\n",
    "        elif dominoes[j] == \"R\":\n",
    "            force = 0\n",
    "        else:\n",
    "            force = max(force - 1, 0)\n",
    "        forces[j] -= force     # Subtract to simulate opposing force\n",
    "\n",
    "    # Decide final state based on net force\n",
    "    result = []\n",
    "    for f in forces:\n",
    "        if f > 0:\n",
    "            result.append(\"R\")  # Net rightward force\n",
    "        elif f < 0:\n",
    "            result.append(\"L\")  # Net leftward force\n",
    "        else:\n",
    "            result.append(\".\")  # Balanced or untouched\n",
    "\n",
    "    return \"\".join(result)"
   ]
  },
  {
   "cell_type": "markdown",
   "id": "d15d34aa",
   "metadata": {},
   "source": [
    "### 🧠 3. Explanation:\n",
    "- Force from `'R'` increases to `n` and decreases by `1` every step to the right.\n",
    "- Force from `'L'` behaves similarly in the opposite direction.\n",
    "- If net force > 0 → domino falls right, < 0 → left, = 0 → remains upright."
   ]
  },
  {
   "cell_type": "markdown",
   "id": "8a808089",
   "metadata": {},
   "source": [
    "### 📊 4. Complexity:\n",
    "- **Time Complexity**: `O(n)` — Two linear passes through the string.\n",
    "- **Space Complexity**: `O(n)` — For the `forces` array."
   ]
  },
  {
   "cell_type": "code",
   "execution_count": 2,
   "id": "394a2174",
   "metadata": {},
   "outputs": [
    {
     "name": "stdout",
     "output_type": "stream",
     "text": [
      "RR.L\n",
      "LL.RR.LLRRLL..\n"
     ]
    }
   ],
   "source": [
    "### 🔁 5. Example Calls:\n",
    "print(pushDominoes(\"RR.L\"))             # Output: \"RR.L\"\n",
    "print(pushDominoes(\".L.R...LR..L..\"))   # Output: \"LL.RR.LLRRLL..\""
   ]
  }
 ],
 "metadata": {
  "kernelspec": {
   "display_name": "myenv",
   "language": "python",
   "name": "python3"
  },
  "language_info": {
   "codemirror_mode": {
    "name": "ipython",
    "version": 3
   },
   "file_extension": ".py",
   "mimetype": "text/x-python",
   "name": "python",
   "nbconvert_exporter": "python",
   "pygments_lexer": "ipython3",
   "version": "3.11.3"
  }
 },
 "nbformat": 4,
 "nbformat_minor": 5
}
