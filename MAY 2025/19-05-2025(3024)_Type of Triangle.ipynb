{
 "cells": [
  {
   "cell_type": "markdown",
   "id": "b7a39763",
   "metadata": {},
   "source": [
    "## 🔺 Type of Triangle\n",
    "\n",
    "---\n",
    "\n",
    "### ✅ 1. Problem Statement\n",
    "\n",
    "Given a list `nums` of **three integers**, determine what **type of triangle** they form:\n",
    "\n",
    "- `\"equilateral\"`: All sides equal\n",
    "- `\"isosceles\"`: Exactly two sides equal\n",
    "- `\"scalene\"`: All sides different\n",
    "- `\"none\"`: Not a valid triangle (fails triangle inequality)"
   ]
  },
  {
   "cell_type": "markdown",
   "id": "3c69f9dc",
   "metadata": {},
   "source": [
    "### 💡 2. Triangle Inequality Rule\n",
    "\n",
    "To form a valid triangle:\n",
    "\n",
    "```text\n",
    "a + b > c\n",
    "a + c > b\n",
    "b + c > a\n",
    "```\n",
    "\n",
    "If not satisfied, it's not a triangle."
   ]
  },
  {
   "cell_type": "code",
   "execution_count": 5,
   "id": "8d37603e",
   "metadata": {},
   "outputs": [],
   "source": [
    "### 💻 3. Clean Python Code\n",
    "from typing import List\n",
    "\n",
    "def triangleType(nums: List[int]) -> str:\n",
    "    a, b, c = nums\n",
    "\n",
    "    # Check triangle validity\n",
    "    if a + b <= c or a + c <= b or b + c <= a:\n",
    "        return \"none\"\n",
    "\n",
    "    # Check for triangle type\n",
    "    if a == b == c:\n",
    "        return \"equilateral\"\n",
    "    elif a == b or b == c or c == a:\n",
    "        return \"isosceles\"\n",
    "    else:\n",
    "        return \"scalene\""
   ]
  },
  {
   "cell_type": "code",
   "execution_count": 6,
   "id": "055bd5d0",
   "metadata": {},
   "outputs": [
    {
     "name": "stdout",
     "output_type": "stream",
     "text": [
      "equilateral\n",
      "scalene\n",
      "isosceles\n",
      "none\n"
     ]
    }
   ],
   "source": [
    "### 🧪 4. Example Calls\n",
    "\n",
    "print(triangleType([3,3,3]))  # ➜ \"equilateral\"\n",
    "print(triangleType([3,4,5]))  # ➜ \"scalene\"\n",
    "print(triangleType([3,3,5]))  # ➜ \"isosceles\"\n",
    "print(triangleType([1,2,3]))  # ➜ \"none\""
   ]
  },
  {
   "cell_type": "markdown",
   "id": "32991fb2",
   "metadata": {},
   "source": [
    "### 📊 5. Time and Space Complexity\n",
    "\n",
    "| Metric      | Value       |\n",
    "|-------------|-------------|\n",
    "| Time        | O(1)        |\n",
    "| Space       | O(1)        |"
   ]
  },
  {
   "cell_type": "markdown",
   "id": "cde10018",
   "metadata": {},
   "source": [
    "### ⚠️ 6. Notes\n",
    "\n",
    "- Always check **triangle inequality first**, before classifying type.\n",
    "- An `isosceles` triangle must pass triangle inequality even if two sides are equal.\n"
   ]
  }
 ],
 "metadata": {
  "kernelspec": {
   "display_name": "myenv",
   "language": "python",
   "name": "python3"
  },
  "language_info": {
   "codemirror_mode": {
    "name": "ipython",
    "version": 3
   },
   "file_extension": ".py",
   "mimetype": "text/x-python",
   "name": "python",
   "nbconvert_exporter": "python",
   "pygments_lexer": "ipython3",
   "version": "3.11.3"
  }
 },
 "nbformat": 4,
 "nbformat_minor": 5
}
