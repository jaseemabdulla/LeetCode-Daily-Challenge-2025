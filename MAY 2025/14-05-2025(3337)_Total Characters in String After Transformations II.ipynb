{
 "cells": [
  {
   "cell_type": "markdown",
   "id": "748d6005",
   "metadata": {},
   "source": [
    "## 🔁 Total Characters in String After Transformations II\n",
    "\n",
    "---\n",
    "\n",
    "### ✅ 1. Problem Statement\n",
    "\n",
    "You are given:\n",
    "\n",
    "- A string `s` of lowercase letters.\n",
    "- An integer `t` representing how many transformations to apply.\n",
    "- A list `nums` of 26 integers, where `nums[i]` describes how a character `'a' + i` transforms:\n",
    "  - If `nums[i] = k`, then character `'a' + i` transforms into the next `k` characters in the alphabet, cyclically.\n",
    "  - For example, if `nums[0] = 2`, `'a'` becomes `\"bc\"`.\n",
    "\n",
    "Your task is to return the length of the string after `t` transformations."
   ]
  },
  {
   "cell_type": "markdown",
   "id": "c6e836f3",
   "metadata": {},
   "source": [
    "### 💡 2. Approach\n",
    "\n",
    "This problem is solved efficiently using **matrix exponentiation**:\n",
    "\n",
    "- Use a **26x26 transformation matrix `B`** based on `nums`, where `B[i][j] = 1` means character `i` contributes to character `j` in transformation.\n",
    "- Use **matrix multiplication** to simulate the transformation of character counts.\n",
    "- Exponentiate the transformation matrix `B` to the power `t` using fast exponentiation.\n",
    "- Multiply the initial character count vector `A` by `B^t` to get the final character frequencies.\n",
    "- Sum them up to get the total string length.\n"
   ]
  },
  {
   "cell_type": "code",
   "execution_count": 5,
   "id": "619301a4",
   "metadata": {},
   "outputs": [],
   "source": [
    "### 💻 3. Python Code (No `self`, with Comments)\n",
    "\n",
    "from collections import Counter\n",
    "from typing import List\n",
    "\n",
    "def lengthAfterTransformations(s: str, t: int, nums: List[int]) -> int:\n",
    "    m = 10**9 + 7\n",
    "    A = [[0]*26]  # 1x26 initial character count\n",
    "    B = [[0]*26 for _ in range(26)]  # 26x26 transformation matrix\n",
    "\n",
    "    # Initialize A from string\n",
    "    for c, v in Counter(s).items():\n",
    "        A[0][ord(c) - ord('a')] = v\n",
    "\n",
    "    # Build transformation matrix B\n",
    "    for i, shift in enumerate(nums):\n",
    "        for j in range(shift):\n",
    "            B[i][(i + 1 + j) % 26] = 1\n",
    "\n",
    "    # Matrix multiplication helper\n",
    "    def mul(X, Y):\n",
    "        return [[sum(a*b for a, b in zip(r, c)) % m for c in zip(*Y)] for r in X]\n",
    "\n",
    "    # Fast exponentiation of matrix\n",
    "    def power(X, n):\n",
    "        if n == 1:\n",
    "            return X\n",
    "        p = power(mul(X, X), n // 2)\n",
    "        return mul(X, p) if n % 2 else p\n",
    "\n",
    "    # Final result\n",
    "    return sum(map(sum, mul(A, power(B, t)))) % m"
   ]
  },
  {
   "cell_type": "markdown",
   "id": "b5f268af",
   "metadata": {},
   "source": [
    "### 🔍 4. Code Explanation\n",
    "\n",
    "- **Step 1:** Count frequency of each character from input string.\n",
    "- **Step 2:** Build a transformation matrix `B` from `nums` such that each row describes how a character transforms.\n",
    "- **Step 3:** Raise `B` to the `t`th power using fast matrix exponentiation.\n",
    "- **Step 4:** Multiply the initial frequency vector with `B^t` to simulate t transformations.\n",
    "- **Step 5:** Sum all values in the result matrix to get the final string length."
   ]
  },
  {
   "cell_type": "code",
   "execution_count": 6,
   "id": "2357f6b1",
   "metadata": {},
   "outputs": [
    {
     "name": "stdout",
     "output_type": "stream",
     "text": [
      "7\n",
      "8\n"
     ]
    }
   ],
   "source": [
    "### 🧪 5. Example Function Calls\n",
    "\n",
    "print(lengthAfterTransformations(\"abcyy\", 2, [1]*25 + [2]))       # Output: 7\n",
    "print(lengthAfterTransformations(\"azbk\", 1, [2]*26))              # Output: 8"
   ]
  },
  {
   "cell_type": "markdown",
   "id": "98e83fda",
   "metadata": {},
   "source": [
    "### 📊 6. Time and Space Complexity\n",
    "\n",
    "- **Time Complexity**: `O(26³ * log(t))` — due to matrix exponentiation of 26×26 matrices.\n",
    "- **Space Complexity**: `O(26²)` — for matrices A and B."
   ]
  },
  {
   "cell_type": "markdown",
   "id": "2b01a4be",
   "metadata": {},
   "source": [
    "### 🧠 7. Key Insight\n",
    "\n",
    "Matrix exponentiation turns a potentially exponential simulation into a logarithmic one, making it efficient for large `t`.\n"
   ]
  }
 ],
 "metadata": {
  "kernelspec": {
   "display_name": "myenv",
   "language": "python",
   "name": "python3"
  },
  "language_info": {
   "codemirror_mode": {
    "name": "ipython",
    "version": 3
   },
   "file_extension": ".py",
   "mimetype": "text/x-python",
   "name": "python",
   "nbconvert_exporter": "python",
   "pygments_lexer": "ipython3",
   "version": "3.11.3"
  }
 },
 "nbformat": 4,
 "nbformat_minor": 5
}
