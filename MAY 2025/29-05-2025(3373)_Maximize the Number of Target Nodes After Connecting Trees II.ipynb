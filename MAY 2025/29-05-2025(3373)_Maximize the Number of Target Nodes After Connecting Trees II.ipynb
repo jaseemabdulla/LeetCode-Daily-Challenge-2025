{
 "cells": [
  {
   "cell_type": "markdown",
   "id": "0eb60659",
   "metadata": {},
   "source": [
    "## 🌳 Maximize the Number of Target Nodes After Connecting Trees II\n",
    "\n",
    "---\n",
    "\n",
    "### ✅ Problem Statement\n",
    "\n",
    "You are given two trees represented as edge lists `edges1` and `edges2`. For each node `i` in the first tree, you can connect it to any node in the second tree.  \n",
    "The \"target\" nodes are those reachable from node 0 after adding exactly one edge from each node `i` in `edges1` to any node in `edges2`.\n",
    "\n",
    "Your task is to compute the **maximum number of target nodes reachable from node 0** in the combined graph, for every node `i` in `edges1` when the connection is made."
   ]
  },
  {
   "cell_type": "markdown",
   "id": "96147351",
   "metadata": {},
   "source": [
    "### 💡 Approach\n",
    "\n",
    "1. A tree is bipartite, so we can perform a DFS to color the graph into two sets (0 and 1).\n",
    "2. For each node in `edges1`, determine its color group size using DFS.\n",
    "3. Compute the size of the larger color group in `edges2`.\n",
    "4. For each node in the first tree, the maximum target size after connecting to the second tree is:  \n",
    "   `size of its own color group + size of larger color group in second tree`."
   ]
  },
  {
   "cell_type": "code",
   "execution_count": 3,
   "id": "c95d2f9b",
   "metadata": {},
   "outputs": [],
   "source": [
    "### 💻 Python Code (with detailed comments)\n",
    "\n",
    "def dfs(node, color, graph, component, bipartite):\n",
    "    # Count the number of nodes in each color group\n",
    "    bipartite[color] += 1\n",
    "    component[node] = color\n",
    "\n",
    "    for neighbor in graph[node]:\n",
    "        if component[neighbor] == -1:\n",
    "            dfs(neighbor, 1 - color, graph, component, bipartite)\n",
    "\n",
    "def build_graph(edges, n):\n",
    "    # Convert edge list into adjacency list\n",
    "    graph = [[] for _ in range(n)]\n",
    "    for u, v in edges:\n",
    "        graph[u].append(v)\n",
    "        graph[v].append(u)\n",
    "    return graph\n",
    "\n",
    "def max_target_nodes(edges1, edges2):\n",
    "    n1 = len(edges1) + 1\n",
    "    n2 = len(edges2) + 1\n",
    "\n",
    "    graph1 = build_graph(edges1, n1)\n",
    "    graph2 = build_graph(edges2, n2)\n",
    "\n",
    "    # Step 1: DFS on first tree to color components\n",
    "    component1 = [-1] * n1\n",
    "    bipartite1 = [0, 0]\n",
    "    dfs(0, 0, graph1, component1, bipartite1)\n",
    "\n",
    "    # For each node, get size of its color group\n",
    "    ans = [bipartite1[component1[i]] for i in range(n1)]\n",
    "\n",
    "    # Step 2: DFS on second tree\n",
    "    component2 = [-1] * n2\n",
    "    bipartite2 = [0, 0]\n",
    "    dfs(0, 0, graph2, component2, bipartite2)\n",
    "\n",
    "    max_group2 = max(bipartite2)\n",
    "\n",
    "    # Final answer: node's group size + max of second tree group\n",
    "    return [val + max_group2 for val in ans]"
   ]
  },
  {
   "cell_type": "markdown",
   "id": "fae58547",
   "metadata": {},
   "source": [
    "### 🧠 Code Explanation\n",
    "\n",
    "- The trees are bipartite, so each can be divided into two disjoint sets.\n",
    "- `dfs` colors each node and tracks how many are in each set.\n",
    "- We compute the maximum size of the connected component that can be formed by connecting any node `i` in `tree1` to any node in `tree2`.\n",
    "- For each node in the first tree, its own group size plus the largest group in the second tree gives the optimal answer."
   ]
  },
  {
   "cell_type": "markdown",
   "id": "34cb5356",
   "metadata": {},
   "source": [
    "### 📊 Complexity Analysis\n",
    "\n",
    "| Metric             | Value        |\n",
    "|--------------------|--------------|\n",
    "| Time Complexity    | O(n1 + n2)   |\n",
    "| Space Complexity   | O(n1 + n2)   |\n",
    "\n",
    "Where `n1` and `n2` are the number of nodes in the two trees."
   ]
  },
  {
   "cell_type": "code",
   "execution_count": 4,
   "id": "f54faa35",
   "metadata": {},
   "outputs": [
    {
     "name": "stdout",
     "output_type": "stream",
     "text": [
      "[8, 7, 7, 8, 8]\n",
      "[3, 6, 6, 6, 6]\n"
     ]
    }
   ],
   "source": [
    "### ✅ Function Calls\n",
    "\n",
    "print(max_target_nodes(\n",
    "    edges1=[[0,1],[0,2],[2,3],[2,4]],\n",
    "    edges2=[[0,1],[0,2],[0,3],[2,7],[1,4],[4,5],[4,6]]\n",
    "))  # Output: [8,7,7,8,8]\n",
    "\n",
    "print(max_target_nodes(\n",
    "    edges1=[[0,1],[0,2],[0,3],[0,4]],\n",
    "    edges2=[[0,1],[1,2],[2,3]]\n",
    "))  # Output: [3,6,6,6,6]"
   ]
  }
 ],
 "metadata": {
  "kernelspec": {
   "display_name": "myenv",
   "language": "python",
   "name": "python3"
  },
  "language_info": {
   "codemirror_mode": {
    "name": "ipython",
    "version": 3
   },
   "file_extension": ".py",
   "mimetype": "text/x-python",
   "name": "python",
   "nbconvert_exporter": "python",
   "pygments_lexer": "ipython3",
   "version": "3.11.3"
  }
 },
 "nbformat": 4,
 "nbformat_minor": 5
}
