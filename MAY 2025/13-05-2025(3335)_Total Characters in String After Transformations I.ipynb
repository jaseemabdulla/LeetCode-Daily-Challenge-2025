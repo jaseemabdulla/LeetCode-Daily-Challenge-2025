{
 "cells": [
  {
   "cell_type": "markdown",
   "id": "cdd68081",
   "metadata": {},
   "source": [
    "## 🔁 Total Characters in String After Transformations I\n",
    "\n",
    "---\n",
    "\n",
    "### ✅ 1. Problem Statement\n",
    "\n",
    "You are given a lowercase string `s` and an integer `t` representing the number of transformations. In each transformation:\n",
    "\n",
    "- Each character from `'a'` to `'y'` transforms to the next character in the alphabet (e.g., `'a' → 'b'`, `'b' → 'c'`, ... `'y' → 'z'`)\n",
    "- The character `'z'` transforms into `\"ab\"` (i.e., its length becomes 2)\n",
    "\n",
    "Return the **total length of the string** after performing `t` such transformations."
   ]
  },
  {
   "cell_type": "markdown",
   "id": "5dfe6f73",
   "metadata": {},
   "source": [
    "### 💡 2. Approach\n",
    "\n",
    "- Track how many of each character exists using a frequency array of size 26.\n",
    "- Simulate the transformation process `t` times:\n",
    "  - For characters `'a'` to `'y'`, shift their counts to the next character.\n",
    "  - For `'z'`, add its count to both `'a'` and `'b'` (since `'z'` becomes `\"ab\"`).\n",
    "- At the end, sum up the frequencies to get the final string length."
   ]
  },
  {
   "cell_type": "code",
   "execution_count": 3,
   "id": "4129e215",
   "metadata": {},
   "outputs": [],
   "source": [
    "### 💻 3. Python Code (with Inline Comments)\n",
    "\n",
    "from typing import List\n",
    "\n",
    "def lengthAfterTransformations(s: str, t: int) -> int:\n",
    "    count = [0] * 26  # Frequency count for characters 'a' to 'z'\n",
    "    n, mod = len(s), int(1e9 + 7)\n",
    "\n",
    "    # Initialize count with the frequency of each character in input string\n",
    "    for i in range(n):\n",
    "        count[ord(s[i]) - ord('a')] += 1\n",
    "\n",
    "    # Perform t transformations\n",
    "    for _ in range(t):\n",
    "        temp_count = [0] * 26  # Temporary array to store updated frequencies\n",
    "\n",
    "        # 'z' transforms into 'a' and 'b'\n",
    "        temp_count[0] = count[25]      # count['a'] += count['z']\n",
    "        temp_count[1] = count[25]      # count['b'] += count['z']\n",
    "\n",
    "        # Shift all characters from 'a' to 'y' to their next character\n",
    "        for index in range(25):  # index 0 to 24 corresponds to 'a' to 'y'\n",
    "            temp_count[index + 1] += count[index] % mod\n",
    "\n",
    "        count = temp_count  # Update the count array for the next iteration\n",
    "\n",
    "    # Sum the total number of characters after all transformations\n",
    "    ans = 0\n",
    "    for index in range(26):\n",
    "        ans += count[index] % mod\n",
    "\n",
    "    return ans % mod  # Return final length modulo 10^9 + 7"
   ]
  },
  {
   "cell_type": "markdown",
   "id": "e197e64d",
   "metadata": {},
   "source": [
    "### 🔍 4. Code Explanation\n",
    "\n",
    "- We use an array `count` to keep track of how many times each character appears.\n",
    "- Every transformation does the following:\n",
    "  - For each `'z'`, add 1 `'a'` and 1 `'b'` to the new string.\n",
    "  - For other characters, move them to the next character in the alphabet.\n",
    "- This avoids actually building the transformed string and keeps the solution efficient.\n",
    "- We repeat this process `t` times and sum the character frequencies at the end."
   ]
  },
  {
   "cell_type": "code",
   "execution_count": 4,
   "id": "768ca2f4",
   "metadata": {},
   "outputs": [
    {
     "name": "stdout",
     "output_type": "stream",
     "text": [
      "7\n",
      "5\n",
      "2\n",
      "1\n"
     ]
    }
   ],
   "source": [
    "### 🧪 5. Example Function Calls\n",
    "\n",
    "print(lengthAfterTransformations(\"abcyy\", 2))  # Output: 7\n",
    "print(lengthAfterTransformations(\"azbk\", 1))   # Output: 5\n",
    "print(lengthAfterTransformations(\"z\", 3))      # Output: 2\n",
    "print(lengthAfterTransformations(\"a\", 0))      # Output: 1"
   ]
  },
  {
   "cell_type": "markdown",
   "id": "31f100e3",
   "metadata": {},
   "source": [
    "### 📊 6. Time and Space Complexity\n",
    "\n",
    "- **Time Complexity**: `O(t * 26)` → Each transformation loops over 26 letters.\n",
    "- **Space Complexity**: `O(1)` → Constant space for 26 characters."
   ]
  },
  {
   "cell_type": "markdown",
   "id": "11a2e8ef",
   "metadata": {},
   "source": [
    "### 🧠 7. Key Insight\n",
    "\n",
    "The trick is avoiding actual string reconstruction by using character frequency arrays and only tracking the changes numerically.\n"
   ]
  }
 ],
 "metadata": {
  "kernelspec": {
   "display_name": "myenv",
   "language": "python",
   "name": "python3"
  },
  "language_info": {
   "codemirror_mode": {
    "name": "ipython",
    "version": 3
   },
   "file_extension": ".py",
   "mimetype": "text/x-python",
   "name": "python",
   "nbconvert_exporter": "python",
   "pygments_lexer": "ipython3",
   "version": "3.11.3"
  }
 },
 "nbformat": 4,
 "nbformat_minor": 5
}
