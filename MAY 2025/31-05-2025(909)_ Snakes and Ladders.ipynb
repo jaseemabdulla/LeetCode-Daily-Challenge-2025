{
 "cells": [
  {
   "cell_type": "markdown",
   "id": "18509646",
   "metadata": {},
   "source": [
    "## 🎲 Snakes and Ladders\n",
    "\n",
    "---\n",
    "\n",
    "### ✅ Problem Statement\n",
    "\n",
    "You are given an `n x n` board representing the game of Snakes and Ladders. The board is numbered from `1` to `n*n` in a **Boustrophedon style**:\n",
    "\n",
    "- The first row (bottom-left) goes left to right.\n",
    "- The second row goes right to left.\n",
    "- And so on.\n",
    "\n",
    "Each cell may contain:\n",
    "- `-1` (normal square)\n",
    "- A positive number (a snake or ladder that jumps to another square)\n",
    "\n",
    "Your goal is to return the **minimum number of moves** to reach the last square using the rules of rolling a die (1 to 6). Return `-1` if it's not possible.\n",
    "\n",
    "---\n",
    "\n",
    "### 💡 Approach\n",
    "\n",
    "1. **Flatten the 2D board** to a 1D array (considering the alternating row direction).\n",
    "2. Use **BFS (Breadth-First Search)** to simulate moves:\n",
    "   - From the current square, try all dice results (1–6).\n",
    "   - If there's a snake or ladder, go to the destination.\n",
    "   - Track visited squares using a `seen` set to avoid loops.\n",
    "3. If we reach the last square, return the number of steps taken."
   ]
  },
  {
   "cell_type": "code",
   "execution_count": 5,
   "id": "1adca54b",
   "metadata": {},
   "outputs": [],
   "source": [
    "### 💻 Python Code with Detailed Comments\n",
    "\n",
    "import collections\n",
    "\n",
    "def snakesAndLadders(board: list[list[int]]) -> int:\n",
    "    n = len(board)\n",
    "    \n",
    "    # Queue for BFS: starting from square 1\n",
    "    q = collections.deque([1])\n",
    "    seen = set([1])  # Track visited squares to avoid loops\n",
    "\n",
    "    # Create a 1D array representing the board layout\n",
    "    arr = [0] * (n * n + 1)\n",
    "    for i in range(n):\n",
    "        for j in range(n):\n",
    "            # Calculate 1D index based on boustrophedon rule\n",
    "            row = n - 1 - i\n",
    "            col = j if (row % 2 == 0) else (n - 1 - j)\n",
    "            idx = i * n + j + 1\n",
    "            arr[idx] = board[row][col]\n",
    "\n",
    "    step = 0  # Number of moves\n",
    "\n",
    "    # BFS traversal\n",
    "    while q:\n",
    "        for _ in range(len(q)):\n",
    "            curr = q.popleft()\n",
    "            if curr == n * n:\n",
    "                return step\n",
    "            for move in range(1, 7):  # Try all dice values\n",
    "                next_square = curr + move\n",
    "                if next_square > n * n:\n",
    "                    continue\n",
    "                # Go to destination if ladder/snake exists\n",
    "                dest = arr[next_square] if arr[next_square] != -1 else next_square\n",
    "                if dest not in seen:\n",
    "                    seen.add(dest)\n",
    "                    q.append(dest)\n",
    "        step += 1\n",
    "\n",
    "    return -1  # If we cannot reach the last square"
   ]
  },
  {
   "cell_type": "markdown",
   "id": "5de559b4",
   "metadata": {},
   "source": [
    "### 🧠 Explanation of Key Parts\n",
    "\n",
    "- **Board Mapping Logic:**\n",
    "  Converts a 2D boustrophedon board to a linear `arr[]` that directly maps cell numbers to their destination (ladder/snake).\n",
    "- **BFS Traversal:**\n",
    "  Classic BFS using a queue ensures the minimum number of dice rolls is found by level-order traversal of the move graph.\n",
    "- **Edge Handling:**\n",
    "  Avoids overshooting the final square and ignores revisiting the same cell."
   ]
  },
  {
   "cell_type": "markdown",
   "id": "1bc33796",
   "metadata": {},
   "source": [
    "### 📊 Complexity Analysis\n",
    "\n",
    "| Metric             | Value       |\n",
    "|--------------------|-------------|\n",
    "| Time Complexity    | O(n²)       |\n",
    "| Space Complexity   | O(n²)       |\n",
    "\n",
    "Where `n` is the number of rows (or columns) of the board."
   ]
  },
  {
   "cell_type": "code",
   "execution_count": 6,
   "id": "d80d1738",
   "metadata": {},
   "outputs": [
    {
     "name": "stdout",
     "output_type": "stream",
     "text": [
      "3\n",
      "1\n"
     ]
    }
   ],
   "source": [
    "### ✅ Example Function Calls\n",
    "\n",
    "board1 = [[-1,-1,-1,-1,-1,-1],\n",
    "          [-1,-1,-1,-1,-1,-1],\n",
    "          [-1,-1,-1,-1,-1,-1],\n",
    "          [-1,35,-1,-1,13,-1],\n",
    "          [-1,-1,-1,-1,-1,-1],\n",
    "          [-1,15,-1,-1,-1,-1]]\n",
    "\n",
    "print(snakesAndLadders(board1))  # Output: 4\n",
    "\n",
    "board2 = [[-1,-1],[-1,3]]\n",
    "print(snakesAndLadders(board2))  # Output: 1"
   ]
  }
 ],
 "metadata": {
  "kernelspec": {
   "display_name": "myenv",
   "language": "python",
   "name": "python3"
  },
  "language_info": {
   "codemirror_mode": {
    "name": "ipython",
    "version": 3
   },
   "file_extension": ".py",
   "mimetype": "text/x-python",
   "name": "python",
   "nbconvert_exporter": "python",
   "pygments_lexer": "ipython3",
   "version": "3.11.3"
  }
 },
 "nbformat": 4,
 "nbformat_minor": 5
}
