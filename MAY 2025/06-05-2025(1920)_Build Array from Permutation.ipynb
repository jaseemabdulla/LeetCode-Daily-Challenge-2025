{
 "cells": [
  {
   "cell_type": "markdown",
   "id": "2885f3ca",
   "metadata": {},
   "source": [
    "## 🔄 Build Array from Permutation\n",
    "\n",
    "---\n",
    "\n",
    "### ✅ 1. Approach:\n",
    "\n",
    "This is a simple array manipulation problem where:\n",
    "- You're given an array `nums` such that it's a permutation of integers from `0` to `n - 1`.\n",
    "- You must build a new array `ans` where `ans[i] = nums[nums[i]]`."
   ]
  },
  {
   "cell_type": "code",
   "execution_count": 1,
   "id": "104f244a",
   "metadata": {},
   "outputs": [],
   "source": [
    "### 💻 2. Code (with comments and imports):\n",
    "\n",
    "from typing import List\n",
    "\n",
    "def buildArray(nums: List[int]) -> List[int]:\n",
    "    # Constructing the new array using list comprehension\n",
    "    # Each element is picked as nums[nums[i]]\n",
    "    return [nums[num] for num in nums]"
   ]
  },
  {
   "cell_type": "markdown",
   "id": "f74ae886",
   "metadata": {},
   "source": [
    "### 🔍 3. Explanation:\n",
    "\n",
    "- The key idea is to use the value at `nums[i]` as an index to fetch a new value from `nums`.\n",
    "- For example, if `nums = [0,2,1]`, then `nums[1] = 2`, and `nums[2] = 1`, so `ans[1] = nums[nums[1]] = nums[2] = 1`."
   ]
  },
  {
   "cell_type": "markdown",
   "id": "c0d787bb",
   "metadata": {},
   "source": [
    "### 📊 4. Complexity:\n",
    "\n",
    "- **Time Complexity**: `O(n)` – single pass over the array.\n",
    "- **Space Complexity**: `O(n)` – output array is of size `n`."
   ]
  },
  {
   "cell_type": "code",
   "execution_count": 2,
   "id": "baa91ab6",
   "metadata": {},
   "outputs": [
    {
     "name": "stdout",
     "output_type": "stream",
     "text": [
      "[0, 1, 2, 4, 5, 3]\n",
      "[4, 5, 0, 1, 2, 3]\n"
     ]
    }
   ],
   "source": [
    "### 🧪 5. Example Calls:\n",
    "\n",
    "print(buildArray([0,2,1,5,3,4]))  # Output: [0,1,2,4,5,3]\n",
    "print(buildArray([5,0,1,2,3,4]))  # Output: [4,5,0,1,2,3]"
   ]
  }
 ],
 "metadata": {
  "kernelspec": {
   "display_name": "myenv",
   "language": "python",
   "name": "python3"
  },
  "language_info": {
   "codemirror_mode": {
    "name": "ipython",
    "version": 3
   },
   "file_extension": ".py",
   "mimetype": "text/x-python",
   "name": "python",
   "nbconvert_exporter": "python",
   "pygments_lexer": "ipython3",
   "version": "3.11.3"
  }
 },
 "nbformat": 4,
 "nbformat_minor": 5
}
