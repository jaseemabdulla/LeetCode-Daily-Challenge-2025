{
 "cells": [
  {
   "cell_type": "markdown",
   "id": "5cbf18a7",
   "metadata": {},
   "source": [
    "## 🔢 Finding 3-Digit Even Numbers\n",
    "\n",
    "---\n",
    "\n",
    "### ✅ 1. Problem Statement\n",
    "\n",
    "Given an array of digits, return all unique 3-digit even numbers that can be formed using **each digit at most once**. The numbers should:\n",
    "- Be **even** (last digit is even),\n",
    "- Be **3-digit numbers** (i.e., not start with 0),\n",
    "- Use only digits from the input array."
   ]
  },
  {
   "cell_type": "code",
   "execution_count": 1,
   "id": "9f379a8f",
   "metadata": {},
   "outputs": [],
   "source": [
    "### 💻 3. Python Code (with Detailed Inline Comments)\n",
    "\n",
    "from typing import List\n",
    "from collections import Counter\n",
    "\n",
    "def findEvenNumbers(self, digits: List[int]) -> List[int]:\n",
    "    freq = Counter(digits)  # Count occurrences of each digit in the input\n",
    "    ans = []\n",
    "\n",
    "    # Loop through all 3-digit even numbers (ends with 0, 2, 4, 6, or 8)\n",
    "    for x in range(100, 1000, 2):  # Step by 2 ensures x is even\n",
    "        x0 = x % 10          # Units place\n",
    "        x1 = (x // 10) % 10  # Tens place\n",
    "        x2 = x // 100        # Hundreds place\n",
    "\n",
    "        # Decrease the frequency of the digits in x to simulate usage\n",
    "        freq[x0] -= 1\n",
    "        freq[x1] -= 1\n",
    "        freq[x2] -= 1\n",
    "\n",
    "        # If after usage, none of the digit frequencies go below zero, it's valid\n",
    "        if freq[x0] >= 0 and freq[x1] >= 0 and freq[x2] >= 0:\n",
    "            ans.append(x)\n",
    "\n",
    "        # Restore frequencies after check\n",
    "        freq[x0] += 1\n",
    "        freq[x1] += 1\n",
    "        freq[x2] += 1\n",
    "\n",
    "    return ans"
   ]
  },
  {
   "cell_type": "markdown",
   "id": "131f8a40",
   "metadata": {},
   "source": [
    "### 🔍 4. Code Explanation\n",
    "\n",
    "- We start with a frequency counter `freq` to keep track of how many times each digit appears.\n",
    "- The loop `for x in range(100, 1000, 2)` ensures we only generate even numbers.\n",
    "- For each number `x`, we:\n",
    "  - Break it into digits `x2`, `x1`, and `x0`.\n",
    "  - Simulate \"using\" these digits by subtracting 1 from their frequencies.\n",
    "  - If all digits still have non-negative frequencies, it means we have enough digits to form `x`, so we add it to `ans`.\n",
    "  - After checking, we **restore the digit frequencies** to try the next number."
   ]
  },
  {
   "cell_type": "code",
   "execution_count": 2,
   "id": "ff5d80e0",
   "metadata": {},
   "outputs": [
    {
     "name": "stdout",
     "output_type": "stream",
     "text": [
      "[102, 120, 130, 132, 210, 230, 302, 310, 312, 320]\n",
      "[222, 228, 282, 288, 822, 828, 882]\n",
      "[]\n"
     ]
    }
   ],
   "source": [
    "### 🧪 5. Example Calls\n",
    "\n",
    "print(findEvenNumbers(None, [2,1,3,0]))  # Output: [102, 120, 130, 132, 210, 230, 302, 310, 312, 320]\n",
    "print(findEvenNumbers(None, [2,2,8,8,2]))  # Output: [222, 228, 282, 288, 822, 828, 882]\n",
    "print(findEvenNumbers(None, [3,7,5]))  # Output: []"
   ]
  },
  {
   "cell_type": "markdown",
   "id": "ab7b2fe9",
   "metadata": {},
   "source": [
    "### 📊 6. Time & Space Complexity\n",
    "\n",
    "- **Time Complexity**: `O(450)` → Constant (since we're iterating over fixed 3-digit even numbers).\n",
    "- **Space Complexity**: `O(1)` → We use a fixed-size counter and output list."
   ]
  },
  {
   "cell_type": "markdown",
   "id": "60c4504b",
   "metadata": {},
   "source": [
    "### 🧠 7. Insight\n",
    "\n",
    "By looping only over valid even 3-digit numbers and checking feasibility via digit counts, we avoid generating all permutations and get a highly efficient solution.\n"
   ]
  }
 ],
 "metadata": {
  "kernelspec": {
   "display_name": "myenv",
   "language": "python",
   "name": "python3"
  },
  "language_info": {
   "codemirror_mode": {
    "name": "ipython",
    "version": 3
   },
   "file_extension": ".py",
   "mimetype": "text/x-python",
   "name": "python",
   "nbconvert_exporter": "python",
   "pygments_lexer": "ipython3",
   "version": "3.11.3"
  }
 },
 "nbformat": 4,
 "nbformat_minor": 5
}
