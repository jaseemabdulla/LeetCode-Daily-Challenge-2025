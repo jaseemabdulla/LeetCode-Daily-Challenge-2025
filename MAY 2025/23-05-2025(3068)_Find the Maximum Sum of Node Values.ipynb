{
 "cells": [
  {
   "cell_type": "markdown",
   "id": "7e09aecc",
   "metadata": {},
   "source": [
    "## 🔢 Find the Maximum Sum of Node Values\n",
    "\n",
    "---\n",
    "\n",
    "### ✅ Problem Statement\n",
    "\n",
    "You are given an array `nums` where each element represents the value of a node. You may choose **at most one edge** and apply the XOR operation with a given integer `k` to both ends of that edge.\n",
    "\n",
    "Your goal is to **maximize the total sum** of the array `nums` after this operation.\n",
    "\n",
    "---\n",
    "\n",
    "### 💡 Optimized Approach\n",
    "\n",
    "- We examine for each node if performing the XOR operation increases its value.\n",
    "- For values where `val ^ k > val`, we pretend we will XOR it.\n",
    "- To maintain a valid edge operation (affects 2 nodes), the number of XOR-ed nodes must be **even**.\n",
    "- If the count is odd, we remove the smallest extra benefit to make the count even.\n",
    "- We ignore `edges` after computing because **only one edge is used**, and the logic only cares about how many nodes benefit from XOR."
   ]
  },
  {
   "cell_type": "code",
   "execution_count": 1,
   "id": "7d7d937f",
   "metadata": {},
   "outputs": [],
   "source": [
    "### 💻 Python Code (with Comments)\n",
    "\n",
    "def maximum_value_sum(nums, k, edges):\n",
    "    total_sum = 0           # Total sum after considering best XOR operations\n",
    "    min_extra = float('inf')# Minimum extra benefit to undo if needed\n",
    "    xor_count = 0           # Count of elements that benefit from XOR\n",
    "\n",
    "    for val in nums:\n",
    "        xor_val = val ^ k\n",
    "        if xor_val > val:\n",
    "            # XOR increases the value — prefer XOR\n",
    "            total_sum += xor_val\n",
    "            min_extra = min(min_extra, xor_val - val)\n",
    "            xor_count += 1\n",
    "        else:\n",
    "            # Keep original value\n",
    "            total_sum += val\n",
    "            min_extra = min(min_extra, val - xor_val)\n",
    "\n",
    "    # If we have an odd number of XOR benefits, remove the smallest gain to make it even\n",
    "    if xor_count % 2 == 1:\n",
    "        return total_sum - min_extra\n",
    "    return total_sum"
   ]
  },
  {
   "cell_type": "markdown",
   "id": "a1af9cc6",
   "metadata": {},
   "source": [
    "### 🧠 Code Explanation\n",
    "\n",
    "- We check for each value if applying `^k` increases it.\n",
    "- If it does, we add the XOR-ed value to the sum and track the gain.\n",
    "- To ensure the operation can be done using full edges (two nodes at a time), the number of changed nodes must be even.\n",
    "- If it's odd, we subtract the smallest difference to make the number of XOR-ed nodes even."
   ]
  },
  {
   "cell_type": "markdown",
   "id": "f55cba95",
   "metadata": {},
   "source": [
    "### 📊 Complexity Analysis\n",
    "\n",
    "| Metric             | Value       |\n",
    "|--------------------|-------------|\n",
    "| Time Complexity    | O(n)        |\n",
    "| Space Complexity   | O(1)        |\n",
    "\n",
    "Where `n` is the length of `nums`."
   ]
  },
  {
   "cell_type": "code",
   "execution_count": 2,
   "id": "7f6ec253",
   "metadata": {},
   "outputs": [
    {
     "name": "stdout",
     "output_type": "stream",
     "text": [
      "6\n",
      "9\n",
      "42\n"
     ]
    }
   ],
   "source": [
    "### ✅ Function Calls\n",
    "\n",
    "print(maximum_value_sum([1, 2, 1], 3, [[0, 1], [0, 2]]))   # Output: 6\n",
    "print(maximum_value_sum([2, 3], 7, [[0, 1]]))              # Output: 9\n",
    "print(maximum_value_sum([7, 7, 7, 7, 7, 7], 3, [[0,1],[0,2],[0,3],[0,4],[0,5]]))  # Output: 42\n"
   ]
  }
 ],
 "metadata": {
  "kernelspec": {
   "display_name": "myenv",
   "language": "python",
   "name": "python3"
  },
  "language_info": {
   "codemirror_mode": {
    "name": "ipython",
    "version": 3
   },
   "file_extension": ".py",
   "mimetype": "text/x-python",
   "name": "python",
   "nbconvert_exporter": "python",
   "pygments_lexer": "ipython3",
   "version": "3.11.3"
  }
 },
 "nbformat": 4,
 "nbformat_minor": 5
}
