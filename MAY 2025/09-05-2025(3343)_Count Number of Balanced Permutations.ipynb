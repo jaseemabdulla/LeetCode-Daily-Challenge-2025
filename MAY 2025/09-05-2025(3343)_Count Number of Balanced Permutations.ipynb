{
 "cells": [
  {
   "cell_type": "markdown",
   "id": "7c14083f",
   "metadata": {},
   "source": [
    "## ⚖️ Count Number of Balanced Permutations\n",
    "\n",
    "---\n",
    "\n",
    "### ✅ 1. Problem Statement\n",
    "\n",
    "Given a string `num` containing only digits, return the number of **balanced permutations** of its digits.\n",
    "\n",
    "A permutation is **balanced** if the sum of digits at **even indices** is equal to the sum of digits at **odd indices**.\n",
    "\n",
    "---\n",
    "\n",
    "### 💡 2. Approach\n",
    "\n",
    "This problem is a variation of the **subset-sum problem with position constraints**, and we solve it using **recursive memoization with combinatorics**:\n",
    "\n",
    "1. Convert the string `num` to a list of digits.\n",
    "2. Check if the total sum of digits is even. If not, no balanced permutation is possible.\n",
    "3. Use a recursive function to:\n",
    "   - Select how many of each digit to place in even and odd indices.\n",
    "   - Track how much of the target sum is left for even positions.\n",
    "   - Use combinatorics to count **ways to assign digits** to those positions (with `choose`).\n",
    "4. Memoize the recursive function with `@cache`."
   ]
  },
  {
   "cell_type": "code",
   "execution_count": 1,
   "id": "b6c0f43f",
   "metadata": {},
   "outputs": [],
   "source": [
    "### 💻 3. Python Code (with Detailed Inline Comments)\n",
    "\n",
    "from typing import List\n",
    "from functools import cache\n",
    "from collections import Counter\n",
    "\n",
    "def countBalancedPermutations(num: str) -> int:\n",
    "    # Convert string to list of integers\n",
    "    digits = [int(digit) for digit in num]\n",
    "\n",
    "    # Count how many times each digit appears\n",
    "    counter = Counter(digits)\n",
    "\n",
    "    total_sum = sum(digits)\n",
    "    n = len(digits)\n",
    "    mod = 10**9 + 7\n",
    "\n",
    "    # If total sum is odd, we can't divide it equally into two halves\n",
    "    if total_sum % 2 != 0:\n",
    "        return 0\n",
    "\n",
    "    target = total_sum // 2  # We want both sides to sum to this\n",
    "    even_slots = n // 2      # Number of even index positions\n",
    "    odd_slots = (n + 1) // 2 # Number of odd index positions\n",
    "\n",
    "    # Combinatorics: Compute C(n, k) % mod using Pascal's rule\n",
    "    @cache\n",
    "    def choose(n, k):\n",
    "        if k == 0 or k == n:\n",
    "            return 1\n",
    "        if k < 0 or k > n:\n",
    "            return 0\n",
    "        return (choose(n - 1, k - 1) + choose(n - 1, k)) % mod\n",
    "\n",
    "    # Recursive function to try placing digits from current digit onward\n",
    "    @cache\n",
    "    def dfs(digit, target, even_left, odd_left):\n",
    "        # If all positions filled and target sum achieved on even side\n",
    "        if target == 0 and even_left == 0 and odd_left == 0:\n",
    "            return 1\n",
    "\n",
    "        # Out of bounds or invalid state\n",
    "        if digit > 9 or target < 0 or even_left < 0 or odd_left < 0:\n",
    "            return 0\n",
    "\n",
    "        count = counter.get(digit, 0)  # Number of occurrences of current digit\n",
    "        ways = 0\n",
    "\n",
    "        # Try all possible ways to assign `pick` copies to even indices\n",
    "        for pick in range(min(count, even_left) + 1):\n",
    "            odd_pick = count - pick  # Remaining copies go to odd indices\n",
    "            if odd_pick > odd_left:\n",
    "                continue  # Skip if we don't have enough odd positions\n",
    "\n",
    "            # Recursively solve for next digit\n",
    "            partial = dfs(\n",
    "                digit + 1,\n",
    "                target - pick * digit,     # Reduce target sum accordingly\n",
    "                even_left - pick,          # Reduce even slots used\n",
    "                odd_left - odd_pick        # Reduce odd slots used\n",
    "            )\n",
    "\n",
    "            # Ways to choose positions for `pick` digits in even slots\n",
    "            ways_to_place_even = choose(even_left, pick)\n",
    "\n",
    "            # Ways to choose positions for remaining digits in odd slots\n",
    "            ways_to_place_odd = choose(odd_left, odd_pick)\n",
    "\n",
    "            # Multiply possibilities and add to total ways\n",
    "            total_ways = partial * ways_to_place_even * ways_to_place_odd\n",
    "            ways = (ways + total_ways) % mod\n",
    "\n",
    "        return ways\n",
    "\n",
    "    # Start recursion with digit 0\n",
    "    return dfs(0, target, even_slots, odd_slots)"
   ]
  },
  {
   "cell_type": "code",
   "execution_count": 2,
   "id": "dae29149",
   "metadata": {},
   "outputs": [
    {
     "name": "stdout",
     "output_type": "stream",
     "text": [
      "2\n",
      "1\n",
      "0\n"
     ]
    }
   ],
   "source": [
    "### 🧪 4. Example Calls\n",
    "\n",
    "print(countBalancedPermutations(\"123\"))     # Output: 2\n",
    "print(countBalancedPermutations(\"112\"))     # Output: 1\n",
    "print(countBalancedPermutations(\"12345\"))   # Output: 0"
   ]
  },
  {
   "cell_type": "markdown",
   "id": "052cde9c",
   "metadata": {},
   "source": [
    "### 📊 5. Complexity\n",
    "\n",
    "- **Time Complexity**:  \n",
    "  `O(10 * T * E * O)` where:\n",
    "  - 10: max number of digits (0 to 9),\n",
    "  - T = target sum (at most 9 * n / 2),\n",
    "  - E = even_slots,\n",
    "  - O = odd_slots  \n",
    "  Due to memoization, this is efficient for `n ≤ 10`.\n",
    "\n",
    "- **Space Complexity**:  \n",
    "  `O(T * E * O * 10)` for cache + recursion stack."
   ]
  },
  {
   "cell_type": "markdown",
   "id": "19460dac",
   "metadata": {},
   "source": [
    "### 🧠 6. Insight\n",
    "\n",
    "This problem cleverly combines:\n",
    "- Subset sum with restricted positions (even/odd index).\n",
    "- Counting permutations with repeated elements.\n",
    "- Efficient memoization via state compression."
   ]
  }
 ],
 "metadata": {
  "kernelspec": {
   "display_name": "myenv",
   "language": "python",
   "name": "python3"
  },
  "language_info": {
   "codemirror_mode": {
    "name": "ipython",
    "version": 3
   },
   "file_extension": ".py",
   "mimetype": "text/x-python",
   "name": "python",
   "nbconvert_exporter": "python",
   "pygments_lexer": "ipython3",
   "version": "3.11.3"
  }
 },
 "nbformat": 4,
 "nbformat_minor": 5
}
