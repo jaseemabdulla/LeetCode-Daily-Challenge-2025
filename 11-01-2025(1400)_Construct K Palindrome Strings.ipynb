{
 "cells": [
  {
   "cell_type": "code",
   "execution_count": null,
   "metadata": {},
   "outputs": [],
   "source": [
    "def canConstruct(s, k):\n",
    "        n = len(s)\n",
    "        if n < k:\n",
    "            return False\n",
    "        if n == k:\n",
    "            return True\n",
    "\n",
    "        arr = [0] * 26\n",
    "        for ch in s:\n",
    "            arr[ord(ch) - ord('a')] += 1\n",
    "\n",
    "        oddCharCnt = sum(1 for count in arr if count % 2 == 1)\n",
    "\n",
    "        return oddCharCnt <= k"
   ]
  }
 ],
 "metadata": {
  "kernelspec": {
   "display_name": "myenv",
   "language": "python",
   "name": "python3"
  },
  "language_info": {
   "name": "python",
   "version": "3.11.3"
  }
 },
 "nbformat": 4,
 "nbformat_minor": 2
}
