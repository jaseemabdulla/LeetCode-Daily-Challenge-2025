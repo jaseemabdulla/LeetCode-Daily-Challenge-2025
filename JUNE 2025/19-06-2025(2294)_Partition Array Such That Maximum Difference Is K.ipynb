{
 "cells": [
  {
   "cell_type": "code",
   "execution_count": 1,
   "id": "9114133e",
   "metadata": {},
   "outputs": [],
   "source": [
    "def partitionArray(nums, k):\n",
    "        nums.sort()\n",
    "        cur, ans, n = 0, 1, len(nums)\n",
    "        for i in range(n):\n",
    "            if k < nums[i] - nums[cur]:\n",
    "                cur = i\n",
    "                ans += 1\n",
    "        return ans"
   ]
  }
 ],
 "metadata": {
  "kernelspec": {
   "display_name": "myenv",
   "language": "python",
   "name": "python3"
  },
  "language_info": {
   "codemirror_mode": {
    "name": "ipython",
    "version": 3
   },
   "file_extension": ".py",
   "mimetype": "text/x-python",
   "name": "python",
   "nbconvert_exporter": "python",
   "pygments_lexer": "ipython3",
   "version": "3.11.3"
  }
 },
 "nbformat": 4,
 "nbformat_minor": 5
}
