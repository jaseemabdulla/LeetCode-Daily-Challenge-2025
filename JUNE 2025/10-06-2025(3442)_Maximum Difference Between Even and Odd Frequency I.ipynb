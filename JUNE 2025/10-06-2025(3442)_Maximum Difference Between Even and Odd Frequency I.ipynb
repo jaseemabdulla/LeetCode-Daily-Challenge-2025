{
 "cells": [
  {
   "cell_type": "markdown",
   "id": "c6af3deb",
   "metadata": {},
   "source": [
    "## Maximum Difference Between Even and Odd Frequency I\n",
    "\n",
    "Given a string `s`, you need to find the **maximum difference** between:\n",
    "- The **maximum frequency among characters with odd frequency**, and\n",
    "- The **minimum frequency among characters with even frequency**.\n",
    "\n",
    "If no such even or odd frequency character exists, assume defaults:  \n",
    "- `max_odd` starts as `0` (minimum odd value)\n",
    "- `min_even` starts as `100` (a large enough placeholder)\n",
    "\n",
    "---\n",
    "\n",
    "### ✅ Approach\n",
    "\n",
    "1. Count frequency of each character using `collections.Counter`.\n",
    "2. Iterate over all lowercase letters (`a` to `z`).\n",
    "3. For each character:\n",
    "   - If its frequency is **odd**, update `max_odd`.\n",
    "   - If its frequency is **even**, update `min_even`.\n",
    "4. Return `max_odd - min_even`."
   ]
  },
  {
   "cell_type": "code",
   "execution_count": 3,
   "id": "a2f01600",
   "metadata": {},
   "outputs": [],
   "source": [
    "### 💻 Code with Comments\n",
    "\n",
    "from collections import Counter\n",
    "from string import ascii_lowercase\n",
    "\n",
    "def maxDifference(s: str) -> int:\n",
    "    count = Counter(s)  # Count frequency of each character\n",
    "    max_odd, min_even = 0, 100  # Initialize extremes\n",
    "\n",
    "    for ch in ascii_lowercase:\n",
    "        if count[ch] % 2:  # Odd frequency\n",
    "            max_odd = max(max_odd, count[ch])\n",
    "        elif count[ch]:    # Even frequency (> 0)\n",
    "            min_even = min(min_even, count[ch])\n",
    "\n",
    "    return max_odd - min_even"
   ]
  },
  {
   "cell_type": "markdown",
   "id": "a9577c60",
   "metadata": {},
   "source": [
    "### 🔍 Example Explanations\n",
    "\n",
    "#### Example 1:\n",
    "**Input:** `\"aaaaabbc\"`  \n",
    "- `'a'`: 5 (odd) → `max_odd = 5`\n",
    "- `'b'`: 2 (even) → `min_even = 2`  \n",
    "→ Output: `5 - 2 = 3`\n",
    "\n",
    "#### Example 2:\n",
    "**Input:** `\"abcabcab\"`  \n",
    "- `'a'`: 3 (odd) → `max_odd = 3`\n",
    "- `'c'`: 2 (even) → `min_even = 2`  \n",
    "→ Output: `3 - 2 = 1`"
   ]
  },
  {
   "cell_type": "markdown",
   "id": "c9c2000e",
   "metadata": {},
   "source": [
    "### ⏱️ Time & Space Complexity\n",
    "\n",
    "- **Time Complexity:** `O(26)` → Looping over all lowercase letters\n",
    "- **Space Complexity:** `O(1)` → Fixed space for counts"
   ]
  },
  {
   "cell_type": "code",
   "execution_count": 4,
   "id": "70cf0675",
   "metadata": {},
   "outputs": [
    {
     "name": "stdout",
     "output_type": "stream",
     "text": [
      "3\n",
      "1\n"
     ]
    }
   ],
   "source": [
    "### 🧪 Example Calls\n",
    "\n",
    "print(maxDifference(\"aaaaabbc\"))    # Output: 3\n",
    "print(maxDifference(\"abcabcab\"))    # Output: 1"
   ]
  }
 ],
 "metadata": {
  "kernelspec": {
   "display_name": "myenv",
   "language": "python",
   "name": "python3"
  },
  "language_info": {
   "codemirror_mode": {
    "name": "ipython",
    "version": 3
   },
   "file_extension": ".py",
   "mimetype": "text/x-python",
   "name": "python",
   "nbconvert_exporter": "python",
   "pygments_lexer": "ipython3",
   "version": "3.11.3"
  }
 },
 "nbformat": 4,
 "nbformat_minor": 5
}
