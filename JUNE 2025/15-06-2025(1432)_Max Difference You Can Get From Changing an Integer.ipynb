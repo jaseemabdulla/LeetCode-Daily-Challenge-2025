{
 "cells": [
  {
   "cell_type": "markdown",
   "id": "dab0ca0d",
   "metadata": {},
   "source": [
    "### 🧠 Problem: Max Difference You Can Get From Changing an Integer\n",
    "\n",
    "---\n",
    "\n",
    "### ✅ Approach\n",
    "\n",
    "We aim to get:\n",
    "1. **Maximum value** by replacing **one digit (x)** with `'9'`.\n",
    "2. **Minimum value** by replacing **one digit (x)** with `'0'` or `'1'` depending on position.\n",
    "\n",
    "Then we return the **absolute difference** between the two new numbers."
   ]
  },
  {
   "cell_type": "code",
   "execution_count": 1,
   "id": "ce471023",
   "metadata": {},
   "outputs": [],
   "source": [
    "### 🧾 Code with Comments\n",
    "\n",
    "def maxDiff(self, num: int) -> int:\n",
    "    str_num1 = str(num)  # Convert the number to string for manipulation (maximization)\n",
    "    str_num2 = str(num)  # Another copy for minimization\n",
    "\n",
    "    # ----- Step 1: Maximize the number -----\n",
    "    # Goal: Replace one digit with '9' to get the largest possible number\n",
    "\n",
    "    x = str_num1[0]  # Start with the first digit as candidate for replacement\n",
    "    y = '9'          # Target digit to replace with for maximization\n",
    "\n",
    "    if x == '9':\n",
    "        # If first digit is already '9', find the first digit not '9' to replace\n",
    "        for i in str_num1:\n",
    "            if i != '9':\n",
    "                x = i\n",
    "                break\n",
    "\n",
    "    a = str_num1.replace(x, y)  # Replace all occurrences of x with '9'\n",
    "\n",
    "    # ----- Step 2: Minimize the number -----\n",
    "    # Goal: Replace one digit with '1' or '0' to get the smallest valid number\n",
    "\n",
    "    x = ''  # Reset x for minimization\n",
    "\n",
    "    if str_num2[0] != '1':\n",
    "        # If the first digit is not '1', replace it with '1'\n",
    "        x = str_num2[0]\n",
    "        y = '1'\n",
    "    else:\n",
    "        # Else, look for a digit (after the first) that is not '0' or '1', and replace it with '0'\n",
    "        for i in str_num2[1:]:\n",
    "            if i != '0' and i != '1':\n",
    "                x = i\n",
    "                y = '0'\n",
    "                break\n",
    "\n",
    "    # If no valid digit found, no replacement needed, else perform replacement\n",
    "    b = str_num2 if x == '' else str_num2.replace(x, y)\n",
    "\n",
    "    # Return the absolute difference\n",
    "    return abs(int(a) - int(b))"
   ]
  },
  {
   "cell_type": "markdown",
   "id": "060d47b2",
   "metadata": {},
   "source": [
    "### 🧠 Explanation\n",
    "\n",
    "- For **maximum**: Replace first non-9 digit with `'9'` to increase the number.\n",
    "- For **minimum**: Replace the first digit with `'1'` (if not already `'1'`), or any other non-0/1 digit after that with `'0'` to decrease the number.\n",
    "- Then take the **difference** of those two versions."
   ]
  },
  {
   "cell_type": "markdown",
   "id": "ea22292f",
   "metadata": {},
   "source": [
    "### 🧮 Time & Space Complexity\n",
    "\n",
    "- **Time Complexity:** O(n), where n is the number of digits in `num`\n",
    "- **Space Complexity:** O(n), for string operations\n"
   ]
  },
  {
   "cell_type": "code",
   "execution_count": 2,
   "id": "6f8944ff",
   "metadata": {},
   "outputs": [
    {
     "name": "stdout",
     "output_type": "stream",
     "text": [
      "888\n",
      "8\n",
      "820000\n"
     ]
    }
   ],
   "source": [
    "### 🔍 Example Function Calls\n",
    "\n",
    "print(maxDiff(None, 555))   # Output: 888\n",
    "print(maxDiff(None, 9))     # Output: 8\n",
    "print(maxDiff(None, 123456))# Example test: Output depends on digit replacements"
   ]
  }
 ],
 "metadata": {
  "kernelspec": {
   "display_name": "myenv",
   "language": "python",
   "name": "python3"
  },
  "language_info": {
   "codemirror_mode": {
    "name": "ipython",
    "version": 3
   },
   "file_extension": ".py",
   "mimetype": "text/x-python",
   "name": "python",
   "nbconvert_exporter": "python",
   "pygments_lexer": "ipython3",
   "version": "3.11.3"
  }
 },
 "nbformat": 4,
 "nbformat_minor": 5
}
