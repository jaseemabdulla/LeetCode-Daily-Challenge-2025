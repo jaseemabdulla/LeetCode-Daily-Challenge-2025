{
 "cells": [
  {
   "cell_type": "markdown",
   "id": "90ad57a4",
   "metadata": {},
   "source": [
    "## Problem: Lexicographically Smallest Equivalent String\n",
    "\n",
    "You're given two strings `s1` and `s2` of the same length representing character equivalences (i.e., `s1[i]` is equivalent to `s2[i]`). You can **replace any character** in a third string `baseStr` with any **equivalent character**, and the goal is to find the **lexicographically smallest** string possible.\n",
    "\n",
    "---\n",
    "\n",
    "### ✅ Approach\n",
    "\n",
    "This is essentially a **Union-Find (Disjoint Set Union)** problem where:\n",
    "- Each character represents a node.\n",
    "- Equivalent characters are merged into the same set.\n",
    "- The smallest character in a set represents the entire set (for lexicographically minimal choice)."
   ]
  },
  {
   "cell_type": "code",
   "execution_count": 5,
   "id": "c4d6b877",
   "metadata": {},
   "outputs": [],
   "source": [
    "### 💻 Code (Using DFS on Adjacency Graph, as in original)\n",
    "\n",
    "from collections import defaultdict\n",
    "\n",
    "def smallestEquivalentString(s1, s2, baseStr):\n",
    "    adj = defaultdict(list)\n",
    "\n",
    "    # Step 1: Build the undirected graph from equivalences\n",
    "    for a, b in zip(s1, s2):\n",
    "        adj[a].append(b)\n",
    "        adj[b].append(a)\n",
    "\n",
    "    # DFS to find the lexicographically smallest character in the equivalence class\n",
    "    def dfs(ch, visited):\n",
    "        visited.add(ch)\n",
    "        min_ch = ch\n",
    "        for nei in adj[ch]:\n",
    "            if nei not in visited:\n",
    "                candidate = dfs(nei, visited)\n",
    "                min_ch = min(min_ch, candidate)\n",
    "        return min_ch\n",
    "\n",
    "    result = []\n",
    "    for ch in baseStr:\n",
    "        visited = set()\n",
    "        if ch in adj:\n",
    "            result.append(dfs(ch, visited))\n",
    "        else:\n",
    "            result.append(ch)\n",
    "        \n",
    "    return ''.join(result)\n",
    "\n",
    "\n",
    "### 🧠 Alternate Optimized Union-Find Approach (Recommended for performance)\n",
    "\n",
    "def smallestEquivalentString(s1, s2, baseStr):\n",
    "    parent = list(range(26))  # 26 lowercase English letters\n",
    "\n",
    "    def find(x):\n",
    "        if parent[x] != x:\n",
    "            parent[x] = find(parent[x])\n",
    "        return parent[x]\n",
    "\n",
    "    def union(x, y):\n",
    "        px = find(x)\n",
    "        py = find(y)\n",
    "        if px != py:\n",
    "            # Always link larger char to smaller to preserve lexicographical order\n",
    "            if px < py:\n",
    "                parent[py] = px\n",
    "            else:\n",
    "                parent[px] = py\n",
    "\n",
    "    for a, b in zip(s1, s2):\n",
    "        union(ord(a) - ord('a'), ord(b) - ord('a'))\n",
    "\n",
    "    result = []\n",
    "    for ch in baseStr:\n",
    "        smallest_char_index = find(ord(ch) - ord('a'))\n",
    "        result.append(chr(smallest_char_index + ord('a')))\n",
    "\n",
    "    return ''.join(result)"
   ]
  },
  {
   "cell_type": "markdown",
   "id": "ad4914bf",
   "metadata": {},
   "source": [
    "### ⏱️ Time & Space Complexity\n",
    "\n",
    "#### DFS Approach:\n",
    "- **Time Complexity:** `O(N * (V + E))` where N = `len(baseStr)` and V, E are vertices and edges in the graph.\n",
    "- **Space Complexity:** `O(1)` since alphabet size is constant.\n",
    "\n",
    "#### Union-Find Approach:\n",
    "- **Time Complexity:** `O(α(26)) ≈ O(1)` per operation\n",
    "- **Space Complexity:** `O(1)`"
   ]
  },
  {
   "cell_type": "code",
   "execution_count": 6,
   "id": "9e27b24e",
   "metadata": {},
   "outputs": [
    {
     "name": "stdout",
     "output_type": "stream",
     "text": [
      "makkek\n",
      "hdld\n",
      "aauaaaaada\n"
     ]
    }
   ],
   "source": [
    "### 🧪 Example Calls\n",
    "\n",
    "print(smallestEquivalentString(\"parker\", \"morris\", \"parser\"))     # Output: \"makkek\"\n",
    "print(smallestEquivalentString(\"hello\", \"world\", \"hold\"))         # Output: \"hdld\"\n",
    "print(smallestEquivalentString(\"leetcode\", \"programs\", \"sourcecode\"))  # Output: \"aauaaaaada\""
   ]
  }
 ],
 "metadata": {
  "kernelspec": {
   "display_name": "myenv",
   "language": "python",
   "name": "python3"
  },
  "language_info": {
   "codemirror_mode": {
    "name": "ipython",
    "version": 3
   },
   "file_extension": ".py",
   "mimetype": "text/x-python",
   "name": "python",
   "nbconvert_exporter": "python",
   "pygments_lexer": "ipython3",
   "version": "3.11.3"
  }
 },
 "nbformat": 4,
 "nbformat_minor": 5
}
