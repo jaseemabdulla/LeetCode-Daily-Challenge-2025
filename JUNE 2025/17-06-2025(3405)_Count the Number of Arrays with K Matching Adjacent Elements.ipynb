{
 "cells": [
  {
   "cell_type": "markdown",
   "id": "6c208a3a",
   "metadata": {},
   "source": [
    "### 🧮 Problem: Count the Number of Arrays with K Matching Adjacent Elements\n",
    "\n",
    "---\n",
    "\n",
    "### ✅ Approach\n",
    "\n",
    "We are given:\n",
    "- `n`: length of the array.\n",
    "- `m`: number of possible values in the array (values range from 1 to m).\n",
    "- `k`: the number of positions `i` such that `arr[i] == arr[i + 1]`.\n",
    "\n",
    "We need to **count the number of arrays** of length `n` such that **exactly `k` adjacent pairs** are matching.\n",
    "\n",
    "---\n",
    "\n",
    "### 📘 Idea\n",
    "\n",
    "- We can select `k` positions out of the `n-1` adjacent positions where adjacent elements are the same: `C(n-1, k)`\n",
    "- For the **first element**, we can pick any of `m` values.\n",
    "- For each of the remaining `n-1-k` positions (non-matching adjacent pairs), we must choose a value **different** from the previous → so `m-1` choices.\n",
    "\n",
    "Final formula:\n",
    "```\n",
    "count = C(n-1, k) × m × (m - 1)^(n - 1 - k)"
   ]
  },
  {
   "cell_type": "code",
   "execution_count": 1,
   "id": "0dce4fa1",
   "metadata": {},
   "outputs": [],
   "source": [
    "### 🧾 Code (with imports and comments)\n",
    "\n",
    "from math import comb  # For combinations\n",
    "\n",
    "def countGoodArrays(n: int, m: int, k: int) -> int:\n",
    "    mod = 10**9 + 7\n",
    "\n",
    "    # Boundary check\n",
    "    if k > n - 1 or k < 0:\n",
    "        return 0\n",
    "\n",
    "    # Apply formula: C(n-1, k) * m * (m-1)^(n-1-k)\n",
    "    return comb(n - 1, k) * m * pow(m - 1, n - 1 - k, mod) % mod"
   ]
  },
  {
   "cell_type": "markdown",
   "id": "6a8e4503",
   "metadata": {},
   "source": [
    "### 💡 Time and Space Complexity\n",
    "\n",
    "- **Time Complexity:** O(n) (due to combination and exponentiation)\n",
    "- **Space Complexity:** O(1)"
   ]
  },
  {
   "cell_type": "code",
   "execution_count": 2,
   "id": "4a94cfcf",
   "metadata": {},
   "outputs": [
    {
     "name": "stdout",
     "output_type": "stream",
     "text": [
      "4\n",
      "6\n",
      "2\n"
     ]
    }
   ],
   "source": [
    "### 🔍 Example Function Calls\n",
    "\n",
    "print(countGoodArrays(3, 2, 1))  # Output: 4\n",
    "print(countGoodArrays(4, 2, 2))  # Output: 6\n",
    "print(countGoodArrays(5, 2, 0))  # Output: 2"
   ]
  },
  {
   "cell_type": "markdown",
   "id": "e5aa7a3c",
   "metadata": {},
   "source": [
    "### 🧠 Explanation of Examples\n",
    "\n",
    "#### Example 1:\n",
    "Input: `n = 3, m = 2, k = 1`  \n",
    "Good arrays:  \n",
    "- [1, 1, 2]  \n",
    "- [1, 2, 2]  \n",
    "- [2, 1, 1]  \n",
    "- [2, 2, 1]  \n",
    "Answer: **4**\n",
    "\n",
    "#### Example 2:\n",
    "Input: `n = 4, m = 2, k = 2`  \n",
    "Good arrays:  \n",
    "- [1, 1, 1, 2]  \n",
    "- [1, 1, 2, 2]  \n",
    "- [1, 2, 2, 2]  \n",
    "- [2, 1, 1, 1]  \n",
    "- [2, 2, 1, 1]  \n",
    "- [2, 2, 2, 1]  \n",
    "Answer: **6**\n",
    "\n",
    "#### Example 3:\n",
    "Input: `n = 5, m = 2, k = 0`  \n",
    "Only completely alternating arrays:  \n",
    "- [1, 2, 1, 2, 1]  \n",
    "- [2, 1, 2, 1, 2]  \n",
    "Answer: **2**"
   ]
  }
 ],
 "metadata": {
  "kernelspec": {
   "display_name": "myenv",
   "language": "python",
   "name": "python3"
  },
  "language_info": {
   "codemirror_mode": {
    "name": "ipython",
    "version": 3
   },
   "file_extension": ".py",
   "mimetype": "text/x-python",
   "name": "python",
   "nbconvert_exporter": "python",
   "pygments_lexer": "ipython3",
   "version": "3.11.3"
  }
 },
 "nbformat": 4,
 "nbformat_minor": 5
}
