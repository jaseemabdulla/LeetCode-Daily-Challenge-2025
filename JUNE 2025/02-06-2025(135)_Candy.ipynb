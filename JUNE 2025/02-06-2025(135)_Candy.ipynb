{
 "cells": [
  {
   "cell_type": "markdown",
   "id": "35c41b83",
   "metadata": {},
   "source": [
    "### Problem: Candy Distribution\n",
    "\n",
    "You are given an array `ratings` representing the rating of each child. You need to distribute candies to these children such that:\n",
    "1. Each child must have at least one candy.\n",
    "2. Children with a higher rating get more candies than their neighbors.\n",
    "\n",
    "Your task is to determine the minimum number of candies you need to distribute."
   ]
  },
  {
   "cell_type": "markdown",
   "id": "0c83e9be",
   "metadata": {},
   "source": [
    "### ✅ Approach\n",
    "\n",
    "We use a two-pass greedy approach:\n",
    "- **Left to Right:** Ensure each child with a higher rating than the previous gets more candies.\n",
    "- **Right to Left:** Ensure each child with a higher rating than the next still has more candies.\n",
    "\n",
    "This ensures both left and right conditions are satisfied."
   ]
  },
  {
   "cell_type": "code",
   "execution_count": 1,
   "id": "7aee0605",
   "metadata": {},
   "outputs": [],
   "source": [
    "### 💻 Code (Python)\n",
    "\n",
    "from typing import List\n",
    "\n",
    "def candy(ratings: List[int]) -> int:\n",
    "    n = len(ratings)\n",
    "    # Step 1: Give each child at least one candy\n",
    "    choco = [1] * n\n",
    "\n",
    "    # Step 2: Left to right pass\n",
    "    # If current child has higher rating than the previous one,\n",
    "    # give one more candy than the previous child\n",
    "    for i in range(1, n):\n",
    "        if ratings[i] > ratings[i - 1]:\n",
    "            choco[i] = choco[i - 1] + 1\n",
    "\n",
    "    # Step 3: Right to left pass\n",
    "    # If current child has higher rating than the next one,\n",
    "    # ensure they have more candies than the next child\n",
    "    for i in range(n - 2, -1, -1):\n",
    "        if ratings[i] > ratings[i + 1]:\n",
    "            choco[i] = max(choco[i], choco[i + 1] + 1)\n",
    "\n",
    "    # Step 4: Return the total candies distributed\n",
    "    return sum(choco)"
   ]
  },
  {
   "cell_type": "markdown",
   "id": "1502b2da",
   "metadata": {},
   "source": [
    "### 🔍 Explanation\n",
    "\n",
    "- `choco[i] = choco[i - 1] + 1`: When the current child has a higher rating than the previous one, give more candies.\n",
    "- `choco[i] = max(choco[i], choco[i + 1] + 1)`: When checking from right to left, ensure we don't reduce already assigned higher candy count.\n",
    "\n",
    "This guarantees the minimum candies satisfying all rules."
   ]
  },
  {
   "cell_type": "markdown",
   "id": "e66310a8",
   "metadata": {},
   "source": [
    "### ⏱️ Time & Space Complexity\n",
    "\n",
    "- **Time Complexity:** `O(n)` — Two passes over the ratings list.\n",
    "- **Space Complexity:** `O(n)` — To store the candy count per child.\n"
   ]
  },
  {
   "cell_type": "code",
   "execution_count": 2,
   "id": "6a1d736f",
   "metadata": {},
   "outputs": [
    {
     "name": "stdout",
     "output_type": "stream",
     "text": [
      "5\n",
      "4\n"
     ]
    }
   ],
   "source": [
    "### 🧪 Example Calls\n",
    "\n",
    "print(candy([1, 0, 2]))  # Output: 5 => [2,1,2]\n",
    "print(candy([1, 2, 2]))  # Output: 4 => [1,2,1]"
   ]
  }
 ],
 "metadata": {
  "kernelspec": {
   "display_name": "myenv",
   "language": "python",
   "name": "python3"
  },
  "language_info": {
   "codemirror_mode": {
    "name": "ipython",
    "version": 3
   },
   "file_extension": ".py",
   "mimetype": "text/x-python",
   "name": "python",
   "nbconvert_exporter": "python",
   "pygments_lexer": "ipython3",
   "version": "3.11.3"
  }
 },
 "nbformat": 4,
 "nbformat_minor": 5
}
