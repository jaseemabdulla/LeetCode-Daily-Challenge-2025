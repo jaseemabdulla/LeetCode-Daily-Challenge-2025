{
 "cells": [
  {
   "cell_type": "markdown",
   "id": "4ec95ed4",
   "metadata": {},
   "source": [
    "## Maximum Difference by Remapping a Digit\n",
    "\n",
    "You're given an integer `num`.\n",
    "\n",
    "👉 **Task**:  \n",
    "Remap **one digit to any other digit (0 to 9)** *consistently* throughout the number to get:\n",
    "- A **maximum** number by changing one digit to `9`\n",
    "- A **minimum** number by changing one digit to `0`\n",
    "\n",
    "Then return the **difference** between the max and min values.\n",
    "\n",
    "---\n",
    "\n",
    "### ✅ Approach\n",
    "\n",
    "1. Convert the number to a string.\n",
    "2. **To get the max number**:\n",
    "   - Find the first digit that is not `9` and replace all its occurrences with `9`.\n",
    "3. **To get the min number**:\n",
    "   - Find the first digit that is not `0` and replace all its occurrences with `0`.\n",
    "4. Convert both results back to integers and return the difference."
   ]
  },
  {
   "cell_type": "code",
   "execution_count": 7,
   "id": "33b63e27",
   "metadata": {},
   "outputs": [],
   "source": [
    "### 💻 Code with Comments\n",
    "\n",
    "def minMaxDifference(num: int) -> int:\n",
    "    s = str(num)  # Convert the number to a string for manipulation\n",
    "\n",
    "    # Step 1: Create the maximum version by replacing the first non-9 digit with 9\n",
    "    max_s = s\n",
    "    for ch in s:\n",
    "        if ch != '9':\n",
    "            max_s = s.replace(ch, '9')  # Replace all occurrences of that digit with '9'\n",
    "            break\n",
    "\n",
    "    # Step 2: Create the minimum version by replacing the first non-0 digit with 0\n",
    "    min_s = s\n",
    "    for ch in s:\n",
    "        if ch != '0':\n",
    "            min_s = s.replace(ch, '0')  # Replace all occurrences of that digit with '0'\n",
    "            break\n",
    "\n",
    "    # Step 3: Return the difference\n",
    "    return int(max_s) - int(min_s)"
   ]
  },
  {
   "cell_type": "markdown",
   "id": "ebaa03e6",
   "metadata": {},
   "source": [
    "### 🔍 Example Explanations\n",
    "\n",
    "#### Example 1:\n",
    "**Input:** `num = 11891`  \n",
    "- Max: Replace '1' → '9' → `99899`  \n",
    "- Min: Replace '1' → '0' → `890`  \n",
    "**Output:** `99899 - 890 = 99009`\n",
    "\n",
    "#### Example 2:\n",
    "**Input:** `num = 90`  \n",
    "- Max: Replace '0' → '9' → `99`  \n",
    "- Min: Replace '9' → '0' → `0`  \n",
    "**Output:** `99 - 0 = 99`"
   ]
  },
  {
   "cell_type": "markdown",
   "id": "3dfb7fbd",
   "metadata": {},
   "source": [
    "### ⏱️ Time & Space Complexity\n",
    "\n",
    "- **Time Complexity:** `O(n)` where `n` is the number of digits in `num`\n",
    "- **Space Complexity:** `O(n)` due to string manipulation"
   ]
  },
  {
   "cell_type": "code",
   "execution_count": 8,
   "id": "a74c28a9",
   "metadata": {},
   "outputs": [
    {
     "name": "stdout",
     "output_type": "stream",
     "text": [
      "99009\n",
      "99\n",
      "9\n"
     ]
    }
   ],
   "source": [
    "### 🧪 Example Calls\n",
    "\n",
    "print(minMaxDifference(11891))  # Output: 99009\n",
    "print(minMaxDifference(90))     # Output: 99\n",
    "print(minMaxDifference(0))      # Output: 0"
   ]
  }
 ],
 "metadata": {
  "kernelspec": {
   "display_name": "myenv",
   "language": "python",
   "name": "python3"
  },
  "language_info": {
   "codemirror_mode": {
    "name": "ipython",
    "version": 3
   },
   "file_extension": ".py",
   "mimetype": "text/x-python",
   "name": "python",
   "nbconvert_exporter": "python",
   "pygments_lexer": "ipython3",
   "version": "3.11.3"
  }
 },
 "nbformat": 4,
 "nbformat_minor": 5
}
