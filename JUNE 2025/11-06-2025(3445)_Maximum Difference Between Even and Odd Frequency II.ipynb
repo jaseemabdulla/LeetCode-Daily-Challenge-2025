{
 "cells": [
  {
   "cell_type": "markdown",
   "id": "f8439f7c",
   "metadata": {},
   "source": [
    "## Maximum Difference Between Even and Odd Frequency II\n",
    "\n",
    "You're given:\n",
    "- A string `s` consisting of digits.\n",
    "- An integer `k`, the length of a substring.\n",
    "\n",
    "👉 **Task**:  \n",
    "For **every substring of length `k`**, find the **maximum** value of:\n",
    "\n",
    "`(maximum odd frequency) - (minimum even frequency)`\n",
    "\n",
    "Return the **maximum difference** across all substrings of length `k`.\n",
    "\n",
    "If **no substring** contains both at least one odd frequency and one even frequency, return `-1`.\n",
    "\n",
    "---\n",
    "\n",
    "### ✅ Approach\n",
    "\n",
    "1. Slide a window of size `k` across the string.\n",
    "2. For each window:\n",
    "   - Count digit frequencies using `Counter`.\n",
    "   - Identify:\n",
    "     - `max_odd`: maximum frequency among digits with **odd count**.\n",
    "     - `min_even`: minimum frequency among digits with **even count** (and count > 0).\n",
    "   - If both are present, calculate `max_odd - min_even` and update the result.\n",
    "3. If no valid pair (odd + even) exists in any substring, return `-1`.\n"
   ]
  },
  {
   "cell_type": "code",
   "execution_count": 1,
   "id": "47be7871",
   "metadata": {},
   "outputs": [],
   "source": [
    "### 💻 Code with Comments\n",
    "\n",
    "from collections import Counter\n",
    "\n",
    "def maxDifferenceII(s: str, k: int) -> int:\n",
    "    max_diff = float('-inf')  # Track the max difference\n",
    "    found = False             # Check if any valid case exists\n",
    "\n",
    "    for i in range(len(s) - k + 1):\n",
    "        window = s[i:i+k]\n",
    "        freq = Counter(window)\n",
    "\n",
    "        max_odd = 0\n",
    "        min_even = float('inf')\n",
    "\n",
    "        for val in freq.values():\n",
    "            if val % 2 == 1:\n",
    "                max_odd = max(max_odd, val)\n",
    "            else:\n",
    "                min_even = min(min_even, val)\n",
    "\n",
    "        if max_odd and min_even != float('inf'):\n",
    "            found = True\n",
    "            max_diff = max(max_diff, max_odd - min_even)\n",
    "\n",
    "    return max_diff if found else -1"
   ]
  },
  {
   "cell_type": "markdown",
   "id": "4a6d482a",
   "metadata": {},
   "source": [
    "### 🔍 Example Explanations\n",
    "\n",
    "#### Example 1:\n",
    "**Input:** `s = \"12233\"`, `k = 4`  \n",
    "Substring `\"1223\"`:\n",
    "- `'1'`: 1 (odd)\n",
    "- `'2'`: 2 (even)\n",
    "- `'3'`: 1 (odd)  \n",
    "Max odd = 1, min even = 2  \n",
    "→ `1 - 2 = -1`\n",
    "\n",
    "#### Example 2:\n",
    "**Input:** `s = \"1122211\"`, `k = 5`  \n",
    "Substring `\"11222\"`:\n",
    "- `'1'`: 2 (even)\n",
    "- `'2'`: 3 (odd)  \n",
    "→ `3 - 2 = 1`"
   ]
  },
  {
   "cell_type": "markdown",
   "id": "c6612220",
   "metadata": {},
   "source": [
    "### ⏱️ Time & Space Complexity\n",
    "\n",
    "- **Time Complexity:** `O((n-k+1) * 10)` → For each of `n-k+1` substrings, we count max 10 digits.\n",
    "- **Space Complexity:** `O(1)` → Fixed-size digit counts."
   ]
  },
  {
   "cell_type": "code",
   "execution_count": 2,
   "id": "bc2f476f",
   "metadata": {},
   "outputs": [
    {
     "name": "stdout",
     "output_type": "stream",
     "text": [
      "-1\n",
      "1\n",
      "-1\n",
      "-1\n",
      "1\n"
     ]
    }
   ],
   "source": [
    "### 🧪 Example Calls\n",
    "\n",
    "print(maxDifferenceII(\"12233\", 4))     # Output: -1\n",
    "print(maxDifferenceII(\"1122211\", 5))   # Output: 1\n",
    "print(maxDifferenceII(\"110\", 3))       # Output: -1\n",
    "print(maxDifferenceII(\"1122\", 4))      # Output: -1\n",
    "print(maxDifferenceII(\"122112233\", 5)) # Output: 1"
   ]
  }
 ],
 "metadata": {
  "kernelspec": {
   "display_name": "myenv",
   "language": "python",
   "name": "python3"
  },
  "language_info": {
   "codemirror_mode": {
    "name": "ipython",
    "version": 3
   },
   "file_extension": ".py",
   "mimetype": "text/x-python",
   "name": "python",
   "nbconvert_exporter": "python",
   "pygments_lexer": "ipython3",
   "version": "3.11.3"
  }
 },
 "nbformat": 4,
 "nbformat_minor": 5
}
