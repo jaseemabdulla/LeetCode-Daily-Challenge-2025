{
 "cells": [
  {
   "cell_type": "markdown",
   "id": "0be86097",
   "metadata": {},
   "source": [
    "### Problem: Lexicographically Minimum String After Removing Stars\n",
    "\n",
    "You are given a string `s` containing lowercase letters and asterisks (`'*'`).  \n",
    "Each asterisk acts as a **\"remove operation\"**, meaning it will **remove the lexicographically largest character** seen so far (not just the last character, but the largest by alphabetical order).\n",
    "\n",
    "Return the lexicographically smallest possible string after all the stars have performed their delete operations."
   ]
  },
  {
   "cell_type": "markdown",
   "id": "54ea289d",
   "metadata": {},
   "source": [
    "### ✅ Approach\n",
    "\n",
    "We maintain:\n",
    "- A **heap** (`h`) to track which character (from 'a' to 'z') is the **smallest currently present** in the string.\n",
    "- A **list of stacks** (`stacks[26]`), each tracking the **indices** of its corresponding character in the string.\n",
    "\n",
    "When we encounter:\n",
    "- A letter:  \n",
    "  → Add it to its respective stack and push it to the heap if it's not already tracked.\n",
    "- A `'*'`:  \n",
    "  → Remove the most **lexicographically smallest** character (which is on top of the heap) using its index.\n",
    "\n",
    "After processing, we sort all remaining indices and construct the result string."
   ]
  },
  {
   "cell_type": "code",
   "execution_count": 1,
   "id": "b15458b7",
   "metadata": {},
   "outputs": [],
   "source": [
    "### 💻 Code (Python)\n",
    "\n",
    "import heapq\n",
    "\n",
    "def clearStars(s: str) -> str:\n",
    "    h = []  # min-heap to track smallest lexicographical char present\n",
    "    stacks = [[] for _ in range(26)]  # stacks[i] holds indices of char 'a'+i\n",
    "\n",
    "    for i, c in enumerate(s):\n",
    "        if c == \"*\":\n",
    "            # Remove the lexicographically smallest char with available stack\n",
    "            while h and not stacks[h[0]]:\n",
    "                heapq.heappop(h)  # clean heap\n",
    "            if h:\n",
    "                stacks[h[0]].pop()  # remove one occurrence\n",
    "                if not stacks[h[0]]:\n",
    "                    heapq.heappop(h)  # clean again if empty\n",
    "        else:\n",
    "            x = ord(c) - ord('a')\n",
    "            if not stacks[x]:\n",
    "                heapq.heappush(h, x)  # new character seen\n",
    "            stacks[x].append(i)\n",
    "\n",
    "    # Collect remaining indices and sort to reconstruct the string\n",
    "    result_indices = []\n",
    "    for stack in stacks:\n",
    "        result_indices.extend(stack)\n",
    "\n",
    "    result_indices.sort()\n",
    "    return ''.join(s[i] for i in result_indices)"
   ]
  },
  {
   "cell_type": "markdown",
   "id": "d91ba1a4",
   "metadata": {},
   "source": [
    "### 🔍 Explanation\n",
    "\n",
    "Example:  \n",
    "**Input:** `s = \"aaba*\"`  \n",
    "Steps:\n",
    "- Add: a(0), a(1), b(2), a(3) → current string = `\"aaba\"`\n",
    "- `*`: Remove smallest → remove `'a'` at index 3 → final = `\"aab\"`\n",
    "\n",
    "**Output:** `\"aab\"`"
   ]
  },
  {
   "cell_type": "markdown",
   "id": "e2e0c731",
   "metadata": {},
   "source": [
    "### ⏱️ Time & Space Complexity\n",
    "\n",
    "- **Time Complexity:** `O(N log 26)` = `O(N)`  \n",
    "  Because heap size is bounded (max 26 letters).\n",
    "- **Space Complexity:** `O(N)` for storing indices."
   ]
  },
  {
   "cell_type": "code",
   "execution_count": 2,
   "id": "c9b13539",
   "metadata": {},
   "outputs": [
    {
     "name": "stdout",
     "output_type": "stream",
     "text": [
      "aab\n",
      "abc\n",
      "c\n"
     ]
    }
   ],
   "source": [
    "### 🧪 Example Calls\n",
    "\n",
    "print(clearStars(\"aaba*\"))  # Output: \"aab\"\n",
    "print(clearStars(\"abc\"))    # Output: \"abc\"\n",
    "print(clearStars(\"cb*a*\"))  # Output: \"c\""
   ]
  }
 ],
 "metadata": {
  "kernelspec": {
   "display_name": "myenv",
   "language": "python",
   "name": "python3"
  },
  "language_info": {
   "codemirror_mode": {
    "name": "ipython",
    "version": 3
   },
   "file_extension": ".py",
   "mimetype": "text/x-python",
   "name": "python",
   "nbconvert_exporter": "python",
   "pygments_lexer": "ipython3",
   "version": "3.11.3"
  }
 },
 "nbformat": 4,
 "nbformat_minor": 5
}
