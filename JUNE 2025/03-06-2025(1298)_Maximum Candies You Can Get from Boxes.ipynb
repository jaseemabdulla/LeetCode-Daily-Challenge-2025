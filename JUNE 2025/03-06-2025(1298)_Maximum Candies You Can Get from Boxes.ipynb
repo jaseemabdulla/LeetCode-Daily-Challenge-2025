{
 "cells": [
  {
   "cell_type": "markdown",
   "id": "cbffeede",
   "metadata": {},
   "source": [
    "### Problem: Maximum Candies You Can Get from Boxes\n",
    "\n",
    "You are given several boxes. Each box may contain:\n",
    "- **Candies**\n",
    "- **Keys** to other boxes\n",
    "- **Other boxes**\n",
    "\n",
    "Boxes can be **open** (`status[i] == 1`) or **closed** (`status[i] == 0`). You may only open a box if:\n",
    "- It is already open **or**\n",
    "- You have a **key** for it.\n",
    "\n",
    "Your task is to collect the **maximum number of candies** starting from the given `initialBoxes`."
   ]
  },
  {
   "cell_type": "markdown",
   "id": "f784146d",
   "metadata": {},
   "source": [
    "### ✅ Approach\n",
    "\n",
    "We simulate the process using a **queue** (BFS-like approach):\n",
    "1. Track which boxes you have (`hasBox[]`)\n",
    "2. Track which boxes you can open (`canOpen[]`)\n",
    "3. Track which boxes you've already visited (`visited[]`)\n",
    "4. Use a queue to process boxes as you gain access to them.\n",
    "\n",
    "Each time you open a box:\n",
    "- Collect its candies.\n",
    "- Gain new keys and update `canOpen`.\n",
    "- Gain new boxes and update `hasBox`.\n",
    "- If any new boxes can now be opened and haven't been visited, add them to the queue."
   ]
  },
  {
   "cell_type": "code",
   "execution_count": 3,
   "id": "22b390e8",
   "metadata": {},
   "outputs": [],
   "source": [
    "### 💻 Code (Python)\n",
    "\n",
    "from typing import List\n",
    "\n",
    "def maxCandies(status: List[int], candies: List[int], keys: List[List[int]],\n",
    "               containedBoxes: List[List[int]], initialBoxes: List[int]) -> int:\n",
    "    n = len(status)\n",
    "    \n",
    "    canOpen = [False] * n  # If we have the key or box is already open\n",
    "    hasBox = [False] * n   # If we currently possess the box\n",
    "    visited = [False] * n  # If we already opened the box\n",
    "    queue = []             # Boxes ready to open and process\n",
    "\n",
    "    # Mark initially given boxes\n",
    "    for i in initialBoxes:\n",
    "        hasBox[i] = True\n",
    "        if status[i] == 1:\n",
    "            canOpen[i] = True\n",
    "            queue.append(i)\n",
    "\n",
    "    # Pre-mark boxes that are initially open\n",
    "    for i in range(n):\n",
    "        if status[i] == 1:\n",
    "            canOpen[i] = True\n",
    "\n",
    "    total = 0  # Total candies collected\n",
    "\n",
    "    # Process all accessible boxes\n",
    "    while queue:\n",
    "        i = queue.pop()\n",
    "        if visited[i]:\n",
    "            continue\n",
    "        visited[i] = True\n",
    "        total += candies[i]\n",
    "\n",
    "        # Process keys found in current box\n",
    "        for k in keys[i]:\n",
    "            if not canOpen[k]:\n",
    "                canOpen[k] = True\n",
    "                if hasBox[k] and not visited[k]:\n",
    "                    queue.append(k)\n",
    "\n",
    "        # Process contained boxes\n",
    "        for j in containedBoxes[i]:\n",
    "            hasBox[j] = True\n",
    "            if canOpen[j] and not visited[j]:\n",
    "                queue.append(j)\n",
    "\n",
    "    return total"
   ]
  },
  {
   "cell_type": "markdown",
   "id": "77b61a9a",
   "metadata": {},
   "source": [
    "### 🔍 Explanation\n",
    "\n",
    "- Boxes are only opened if both conditions are met:\n",
    "  1. You **have** the box\n",
    "  2. You **can open** the box\n",
    "\n",
    "- Use queue to ensure all reachable boxes are processed."
   ]
  },
  {
   "cell_type": "markdown",
   "id": "236bd562",
   "metadata": {},
   "source": [
    "### ⏱️ Time & Space Complexity\n",
    "\n",
    "- **Time Complexity:** `O(n + m)`  \n",
    "  Where `n = number of boxes`, and `m = total number of keys and contained boxes`.\n",
    "- **Space Complexity:** `O(n)` for status tracking and queue."
   ]
  },
  {
   "cell_type": "code",
   "execution_count": 4,
   "id": "eb6ce524",
   "metadata": {},
   "outputs": [
    {
     "name": "stdout",
     "output_type": "stream",
     "text": [
      "16\n",
      "6\n"
     ]
    }
   ],
   "source": [
    "### 🧪 Example Calls\n",
    "\n",
    "print(maxCandies(\n",
    "    status = [1, 0, 1, 0],\n",
    "    candies = [7, 5, 4, 100],\n",
    "    keys = [[], [], [1], []],\n",
    "    containedBoxes = [[1, 2], [3], [], []],\n",
    "    initialBoxes = [0]\n",
    "))  # Output: 16\n",
    "\n",
    "print(maxCandies(\n",
    "    status = [1, 0, 0, 0, 0, 0],\n",
    "    candies = [1, 1, 1, 1, 1, 1],\n",
    "    keys = [[1, 2, 3, 4, 5], [], [], [], [], []],\n",
    "    containedBoxes = [[1, 2, 3, 4, 5], [], [], [], [], []],\n",
    "    initialBoxes = [0]\n",
    "))  # Output: 6"
   ]
  }
 ],
 "metadata": {
  "kernelspec": {
   "display_name": "myenv",
   "language": "python",
   "name": "python3"
  },
  "language_info": {
   "codemirror_mode": {
    "name": "ipython",
    "version": 3
   },
   "file_extension": ".py",
   "mimetype": "text/x-python",
   "name": "python",
   "nbconvert_exporter": "python",
   "pygments_lexer": "ipython3",
   "version": "3.11.3"
  }
 },
 "nbformat": 4,
 "nbformat_minor": 5
}
