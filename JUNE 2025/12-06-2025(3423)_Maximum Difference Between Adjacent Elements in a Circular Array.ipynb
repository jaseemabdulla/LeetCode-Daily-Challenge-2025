{
 "cells": [
  {
   "cell_type": "markdown",
   "id": "c6f8b2f4",
   "metadata": {},
   "source": [
    "## Maximum Difference Between Adjacent Elements in a Circular Array\n",
    "\n",
    "You're given an array of integers `nums`, which is considered **circular**.\n",
    "\n",
    "👉 **Task**:  \n",
    "Return the **maximum absolute difference** between any **two adjacent elements**, including the circular pair (i.e., `nums[0]` and `nums[-1]` are also adjacent).\n",
    "\n",
    "---\n",
    "\n",
    "### ✅ Approach\n",
    "\n",
    "1. Loop through the array.\n",
    "2. For each index `i`, calculate the absolute difference between `nums[i]` and `nums[i - 1]`.\n",
    "   - This works because in Python, `nums[-1]` is the last element, so `nums[0] - nums[-1]` covers the circular case.\n",
    "3. Return the maximum of all these differences."
   ]
  },
  {
   "cell_type": "code",
   "execution_count": 5,
   "id": "d2923340",
   "metadata": {},
   "outputs": [],
   "source": [
    "### 💻 Code with Comments\n",
    "\n",
    "def maxAdjacentDistance(nums):\n",
    "    # Loop through all elements and compare each with its previous one (handles circular case)\n",
    "    return max(abs(nums[i] - nums[i - 1]) for i in range(len(nums)))"
   ]
  },
  {
   "cell_type": "markdown",
   "id": "8cad774e",
   "metadata": {},
   "source": [
    "### 🔍 Example Explanations\n",
    "\n",
    "#### Example 1:\n",
    "**Input:** `nums = [1, 2, 4]`  \n",
    "Adjacent pairs:\n",
    "- |1 - 2| = 1  \n",
    "- |2 - 4| = 2  \n",
    "- |4 - 1| = 3 ← circular pair  \n",
    "**Output:** `3`\n",
    "\n",
    "#### Example 2:\n",
    "**Input:** `nums = [-5, -10, -5]`  \n",
    "Adjacent pairs:\n",
    "- |-5 - (-10)| = 5  \n",
    "- |-10 - (-5)| = 5  \n",
    "- |-5 - (-5)| = 0  \n",
    "**Output:** `5`\n"
   ]
  },
  {
   "cell_type": "markdown",
   "id": "5d6c7e65",
   "metadata": {},
   "source": [
    "### ⏱️ Time & Space Complexity\n",
    "\n",
    "- **Time Complexity:** `O(n)` → One pass through the array\n",
    "- **Space Complexity:** `O(1)` → Constant extra space"
   ]
  },
  {
   "cell_type": "code",
   "execution_count": 6,
   "id": "de1f0986",
   "metadata": {},
   "outputs": [
    {
     "name": "stdout",
     "output_type": "stream",
     "text": [
      "3\n",
      "5\n",
      "200\n",
      "0\n"
     ]
    }
   ],
   "source": [
    "### 🧪 Example Calls\n",
    "\n",
    "print(maxAdjacentDistance([1, 2, 4]))        # Output: 3\n",
    "print(maxAdjacentDistance([-5, -10, -5]))    # Output: 5\n",
    "print(maxAdjacentDistance([100, -100]))      # Output: 200\n",
    "print(maxAdjacentDistance([0, 0, 0]))         # Output: 0"
   ]
  }
 ],
 "metadata": {
  "kernelspec": {
   "display_name": "myenv",
   "language": "python",
   "name": "python3"
  },
  "language_info": {
   "codemirror_mode": {
    "name": "ipython",
    "version": 3
   },
   "file_extension": ".py",
   "mimetype": "text/x-python",
   "name": "python",
   "nbconvert_exporter": "python",
   "pygments_lexer": "ipython3",
   "version": "3.11.3"
  }
 },
 "nbformat": 4,
 "nbformat_minor": 5
}
