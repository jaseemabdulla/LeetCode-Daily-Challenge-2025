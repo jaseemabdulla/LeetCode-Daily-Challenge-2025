{
 "cells": [
  {
   "cell_type": "markdown",
   "id": "34b41828",
   "metadata": {},
   "source": [
    "### Problem: Find the Lexicographically Largest String From the Box I\n",
    "\n",
    "You are given a string `word` and an integer `n` representing the number of friends. You must split the word into `n` parts **from left to right** (each part must be non-empty). You are allowed to **keep only one** of those parts.\n",
    "\n",
    "Return the **lexicographically largest** part you can possibly keep."
   ]
  },
  {
   "cell_type": "markdown",
   "id": "90a0eec9",
   "metadata": {},
   "source": [
    "### ✅ Approach\n",
    "\n",
    "- You need to make `n` cuts — that means your chosen substring can be at most length `len(word) - n + 1`.\n",
    "- Check all possible substrings of length `m = len(word) - n + 1`.\n",
    "- Among these substrings, return the **maximum** in lexicographic order."
   ]
  },
  {
   "cell_type": "code",
   "execution_count": 1,
   "id": "3d8c86ea",
   "metadata": {},
   "outputs": [],
   "source": [
    "### 💻 Code (Python)\n",
    "\n",
    "def answerString(word: str, n: int) -> str:\n",
    "    m = len(word) - n + 1  # Max length of the substring we can keep\n",
    "\n",
    "    # If there's only one friend, you keep the full string\n",
    "    if n == 1:\n",
    "        return word\n",
    "\n",
    "    # Check all substrings of length m and return the lexicographically largest one\n",
    "    return max(word[i:i + m] for i in range(len(word)))"
   ]
  },
  {
   "cell_type": "markdown",
   "id": "f6107ef9",
   "metadata": {},
   "source": [
    "### 🔍 Explanation\n",
    "\n",
    "- If `word = \"dbca\"` and `n = 2`, then `m = 3` ⇒ check substrings of length 3:\n",
    "  - `\"dbc\"`, `\"bca\"`\n",
    "  - `\"dbc\"` is lexicographically larger than `\"bca\"`"
   ]
  },
  {
   "cell_type": "markdown",
   "id": "10c2b38c",
   "metadata": {},
   "source": [
    "### ⏱️ Time & Space Complexity\n",
    "\n",
    "- **Time Complexity:** `O(L * m)`  \n",
    "  Where `L = len(word)` and `m = L - n + 1` (substring length).  \n",
    "  In worst case, it’s O(N²) for slicing and comparison.\n",
    "- **Space Complexity:** `O(m)` to store intermediate substrings.\n"
   ]
  },
  {
   "cell_type": "code",
   "execution_count": 2,
   "id": "af14713e",
   "metadata": {},
   "outputs": [
    {
     "name": "stdout",
     "output_type": "stream",
     "text": [
      "dbc\n",
      "g\n"
     ]
    }
   ],
   "source": [
    "### 🧪 Example Calls\n",
    "\n",
    "print(answerString(\"dbca\", 2))  # Output: \"dbc\"\n",
    "print(answerString(\"gggg\", 4))  # Output: \"g\""
   ]
  }
 ],
 "metadata": {
  "kernelspec": {
   "display_name": "myenv",
   "language": "python",
   "name": "python3"
  },
  "language_info": {
   "codemirror_mode": {
    "name": "ipython",
    "version": 3
   },
   "file_extension": ".py",
   "mimetype": "text/x-python",
   "name": "python",
   "nbconvert_exporter": "python",
   "pygments_lexer": "ipython3",
   "version": "3.11.3"
  }
 },
 "nbformat": 4,
 "nbformat_minor": 5
}
