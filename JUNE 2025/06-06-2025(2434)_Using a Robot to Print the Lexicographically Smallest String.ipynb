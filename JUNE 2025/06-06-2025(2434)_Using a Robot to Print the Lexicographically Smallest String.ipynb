{
 "cells": [
  {
   "cell_type": "markdown",
   "id": "d4f2197c",
   "metadata": {},
   "source": [
    "### Problem: Lexicographically Smallest String After Robot Operations\n",
    "\n",
    "You're given a string `s`. You have a **stack `t`** (initially empty) and a **result string `paper`** (initially empty).\n",
    "\n",
    "The robot performs the following operations:\n",
    "1. You may move the last character of `s` to the top of stack `t`.\n",
    "2. You may move the top of stack `t` to the end of `paper`.\n",
    "\n",
    "You must **simulate the robot's behavior** such that the final string `paper` is **lexicographically smallest** possible.\n",
    "\n",
    "---\n",
    "\n",
    "### ✅ Approach\n",
    "\n",
    "The idea is to:\n",
    "- Process characters in increasing lexicographical order.\n",
    "- Keep pushing characters into the stack `t` until we see the target character.\n",
    "- Pop from `t` to `paper` whenever it's smaller than or equal to the current processing character."
   ]
  },
  {
   "cell_type": "code",
   "execution_count": 4,
   "id": "f40aa48a",
   "metadata": {},
   "outputs": [],
   "source": [
    "### 💻 Code with Comments\n",
    "\n",
    "def robotWithString(s: str) -> str:\n",
    "    s = list(s[::-1])  # Reverse the input string to process like a stack\n",
    "    t = []             # Stack to hold characters temporarily\n",
    "    paper = []         # Final result\n",
    "\n",
    "    # Iterate through all characters in sorted order\n",
    "    for c in sorted(set(s)):\n",
    "        # Move characters from stack t to paper if they are <= current char\n",
    "        while t and t[-1] <= c:\n",
    "            paper.append(t.pop())  \n",
    "\n",
    "        # Continue until all occurrences of char c in s are processed\n",
    "        while c in s:\n",
    "            # Push characters from s to t until we reach c\n",
    "            while s[-1] != c:\n",
    "                t.append(s.pop()) \n",
    "\n",
    "            # Once c is reached, move it directly to paper\n",
    "            paper.append(s.pop())  \n",
    "\n",
    "    return \"\".join(paper)"
   ]
  },
  {
   "cell_type": "markdown",
   "id": "3cdf09f9",
   "metadata": {},
   "source": [
    "### ⏱️ Time & Space Complexity\n",
    "\n",
    "- **Time Complexity:** `O(N log A)`  \n",
    "  Where `N` = length of `s`, and `A` = alphabet size (max 26). Sorting `set(s)` takes `O(A log A)`, inner loops at most `O(N)`.\n",
    "- **Space Complexity:** `O(N)`"
   ]
  },
  {
   "cell_type": "code",
   "execution_count": 5,
   "id": "4c2f0566",
   "metadata": {},
   "outputs": [
    {
     "name": "stdout",
     "output_type": "stream",
     "text": [
      "azz\n",
      "abc\n",
      "addb\n"
     ]
    }
   ],
   "source": [
    "### 🧪 Example Calls\n",
    "\n",
    "print(robotWithString(\"zza\"))     # Output: \"az\"\n",
    "print(robotWithString(\"bac\"))     # Output: \"abc\"\n",
    "print(robotWithString(\"bdda\"))    # Output: \"addb\""
   ]
  }
 ],
 "metadata": {
  "kernelspec": {
   "display_name": "myenv",
   "language": "python",
   "name": "python3"
  },
  "language_info": {
   "codemirror_mode": {
    "name": "ipython",
    "version": 3
   },
   "file_extension": ".py",
   "mimetype": "text/x-python",
   "name": "python",
   "nbconvert_exporter": "python",
   "pygments_lexer": "ipython3",
   "version": "3.11.3"
  }
 },
 "nbformat": 4,
 "nbformat_minor": 5
}
