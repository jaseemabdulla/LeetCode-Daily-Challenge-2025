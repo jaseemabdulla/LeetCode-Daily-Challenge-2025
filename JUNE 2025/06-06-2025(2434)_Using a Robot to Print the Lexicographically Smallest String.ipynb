{
 "cells": [
  {
   "cell_type": "code",
   "execution_count": 1,
   "id": "e80f9bbc",
   "metadata": {},
   "outputs": [],
   "source": [
    "def robotWithString(s: str) -> str:\n",
    "        s = list(s[::-1])\n",
    "        t = []\n",
    "        paper = []\n",
    "\n",
    "        for c in sorted(set(s)):\n",
    "            while t and t[-1] <= c:\n",
    "                paper.append(t.pop())  \n",
    "\n",
    "            while c in s:\n",
    "                while s[-1] != c:\n",
    "                    t.append(s.pop()) \n",
    "\n",
    "                paper.append(s.pop())  \n",
    "\n",
    "        return \"\".join(paper)"
   ]
  }
 ],
 "metadata": {
  "kernelspec": {
   "display_name": "myenv",
   "language": "python",
   "name": "python3"
  },
  "language_info": {
   "codemirror_mode": {
    "name": "ipython",
    "version": 3
   },
   "file_extension": ".py",
   "mimetype": "text/x-python",
   "name": "python",
   "nbconvert_exporter": "python",
   "pygments_lexer": "ipython3",
   "version": "3.11.3"
  }
 },
 "nbformat": 4,
 "nbformat_minor": 5
}
