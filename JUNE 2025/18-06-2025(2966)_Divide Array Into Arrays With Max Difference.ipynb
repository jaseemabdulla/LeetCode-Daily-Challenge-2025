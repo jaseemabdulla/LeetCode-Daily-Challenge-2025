{
 "cells": [
  {
   "cell_type": "markdown",
   "id": "41e9da69",
   "metadata": {},
   "source": [
    "## Divide Array Into Arrays With Max Difference\n",
    "\n",
    "---\n",
    "\n",
    "### ✅ Approach\n",
    "\n",
    "Given a list `nums` and integer `k`, divide the array into groups of size 3 such that **the maximum difference between elements in each group is less than or equal to `k`**.\n",
    "\n",
    "---\n",
    "\n",
    "### 🧠 Key Insight\n",
    "\n",
    "- If we sort the array, the elements that are closer together will be near each other.\n",
    "- So we can safely pick every 3 consecutive numbers and check if the largest - smallest ≤ `k`."
   ]
  },
  {
   "cell_type": "code",
   "execution_count": 1,
   "id": "f3092a59",
   "metadata": {},
   "outputs": [],
   "source": [
    "### 🧾 Code (with imports)\n",
    "\n",
    "from typing import List\n",
    "\n",
    "def divideArray(nums: List[int], k: int) -> List[List[int]]:\n",
    "    nums.sort()\n",
    "    ans = []\n",
    "    for i in range(0, len(nums), 3):\n",
    "        if i + 2 >= len(nums) or nums[i + 2] - nums[i] > k:\n",
    "            return []\n",
    "        ans.append(nums[i:i+3])\n",
    "    return ans"
   ]
  },
  {
   "cell_type": "markdown",
   "id": "8fb5ce65",
   "metadata": {},
   "source": [
    "### 💡 Time and Space Complexity\n",
    "\n",
    "- **Time Complexity:** O(n log n) due to sorting\n",
    "- **Space Complexity:** O(n) for the output list"
   ]
  },
  {
   "cell_type": "code",
   "execution_count": 2,
   "id": "3fc82295",
   "metadata": {},
   "outputs": [
    {
     "name": "stdout",
     "output_type": "stream",
     "text": [
      "[[1, 1, 3], [3, 4, 5], [7, 8, 9]]\n",
      "[]\n",
      "[[2, 2, 2], [4, 5, 5], [5, 5, 7], [7, 8, 8], [9, 9, 10], [11, 12, 12]]\n"
     ]
    }
   ],
   "source": [
    "### 🔍 Example Function Calls\n",
    "\n",
    "print(divideArray([1,3,4,8,7,9,3,5,1], 2))\n",
    "# Output: [[1,1,3], [3,4,5], [7,8,9]]\n",
    "\n",
    "print(divideArray([2,4,2,2,5,2], 2))\n",
    "# Output: []\n",
    "\n",
    "print(divideArray([4,2,9,8,2,12,7,12,10,5,8,5,5,7,9,2,5,11], 14))\n",
    "# Output: [[2,2,2], [4,5,5], [5,5,7], [7,8,8], [9,9,10], [11,12,12]]"
   ]
  },
  {
   "cell_type": "markdown",
   "id": "075b24ab",
   "metadata": {},
   "source": [
    "### 🧪 Explanation of Examples\n",
    "\n",
    "#### Example 1:\n",
    "\n",
    "Input: `nums = [1,3,4,8,7,9,3,5,1], k = 2`  \n",
    "Sorted: `[1,1,3,3,4,5,7,8,9]`  \n",
    "Groups: `[1,1,3], [3,4,5], [7,8,9]` → All valid as max difference ≤ 2\n",
    "\n",
    "#### Example 2:\n",
    "\n",
    "Input: `nums = [2,4,2,2,5,2], k = 2`  \n",
    "Any group will force `2` and `5` together → 5 - 2 = 3 > k → ❌ Not possible\n",
    "\n",
    "#### Example 3:\n",
    "\n",
    "Input: `nums = [4,2,9,8,2,12,7,12,10,5,8,5,5,7,9,2,5,11], k = 14`  \n",
    "Since `k = 14` is large, all differences ≤ 14 are valid  \n",
    "Returns 6 valid groups of 3.\n"
   ]
  }
 ],
 "metadata": {
  "kernelspec": {
   "display_name": "myenv",
   "language": "python",
   "name": "python3"
  },
  "language_info": {
   "codemirror_mode": {
    "name": "ipython",
    "version": 3
   },
   "file_extension": ".py",
   "mimetype": "text/x-python",
   "name": "python",
   "nbconvert_exporter": "python",
   "pygments_lexer": "ipython3",
   "version": "3.11.3"
  }
 },
 "nbformat": 4,
 "nbformat_minor": 5
}
