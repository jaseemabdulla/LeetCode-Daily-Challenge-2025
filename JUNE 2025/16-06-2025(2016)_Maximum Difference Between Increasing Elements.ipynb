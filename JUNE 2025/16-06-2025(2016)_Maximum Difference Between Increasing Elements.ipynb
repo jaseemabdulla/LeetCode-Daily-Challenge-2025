{
 "cells": [
  {
   "cell_type": "markdown",
   "id": "d9b12bc5",
   "metadata": {},
   "source": [
    "### 🔢 Problem: Maximum Difference Between Increasing Elements\n",
    "\n",
    "---\n",
    "\n",
    "### ✅ Approach\n",
    "\n",
    "We are given an array `nums` and must find the **maximum difference** `nums[j] - nums[i]` where `i < j` **and** `nums[i] < nums[j]`.\n",
    "\n",
    "We use a greedy approach:\n",
    "- Keep track of the **minimum element seen so far** (`mini`).\n",
    "- For each element `nums[i]`, check if `nums[i] > mini`. If yes, update the result as the max of current answer and `nums[i] - mini`.\n",
    "- Return `-1` if no such pair exists.\n"
   ]
  },
  {
   "cell_type": "code",
   "execution_count": 5,
   "id": "7ad76b84",
   "metadata": {},
   "outputs": [],
   "source": [
    "### 🧾 Code with Imports and Comments\n",
    "\n",
    "from typing import List  # Required for type annotations\n",
    "\n",
    "def maximumDifference(nums: List[int]) -> int:\n",
    "    ans = -1\n",
    "    mini = nums[0]  # Store the smallest element seen so far\n",
    "\n",
    "    for i in range(1, len(nums)):\n",
    "        mini = min(mini, nums[i])  # Update the minimum so far\n",
    "        if nums[i] > mini:\n",
    "            ans = max(ans, nums[i] - mini)  # Update maximum difference\n",
    "\n",
    "    return ans"
   ]
  },
  {
   "cell_type": "markdown",
   "id": "6406b633",
   "metadata": {},
   "source": [
    "### 🧠 Explanation\n",
    "\n",
    "- Traverse from left to right.\n",
    "- Track the **minimum value seen so far**.\n",
    "- When a greater value appears, calculate the difference and update the result.\n",
    "- This ensures `i < j` and `nums[i] < nums[j]` conditions are satisfied.\n"
   ]
  },
  {
   "cell_type": "markdown",
   "id": "5a5e61cb",
   "metadata": {},
   "source": [
    "### 🧮 Time and Space Complexity\n",
    "\n",
    "- **Time Complexity:** O(n), where n = length of nums\n",
    "- **Space Complexity:** O(1), constant space"
   ]
  },
  {
   "cell_type": "code",
   "execution_count": 6,
   "id": "2eafd358",
   "metadata": {},
   "outputs": [
    {
     "name": "stdout",
     "output_type": "stream",
     "text": [
      "4\n",
      "-1\n",
      "9\n"
     ]
    }
   ],
   "source": [
    "### 🔍 Example Function Calls\n",
    "\n",
    "print(maximumDifference([7,1,5,4]))    # Output: 4\n",
    "print(maximumDifference([9,4,3,2]))    # Output: -1\n",
    "print(maximumDifference([1,5,2,10]))   # Output: 9"
   ]
  }
 ],
 "metadata": {
  "kernelspec": {
   "display_name": "myenv",
   "language": "python",
   "name": "python3"
  },
  "language_info": {
   "codemirror_mode": {
    "name": "ipython",
    "version": 3
   },
   "file_extension": ".py",
   "mimetype": "text/x-python",
   "name": "python",
   "nbconvert_exporter": "python",
   "pygments_lexer": "ipython3",
   "version": "3.11.3"
  }
 },
 "nbformat": 4,
 "nbformat_minor": 5
}
