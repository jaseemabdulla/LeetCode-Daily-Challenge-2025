{
 "cells": [
  {
   "cell_type": "markdown",
   "metadata": {},
   "source": [
    "# Intuition\n",
    "The problem involves applying a series of shifts to a string. Each shift can increment or decrement the value of characters in a range of the string. To solve this efficiently, we can use a prefix sum approach to track the cumulative effect of all shifts over the string.\n"
   ]
  },
  {
   "cell_type": "markdown",
   "metadata": {},
   "source": [
    "# Approach\n",
    "1. **Prefix Sum Array**:\n",
    "   - Use a prefix sum array `prefixSum` to efficiently accumulate the net effect of all shifts at each index.\n",
    "   - For a shift `[start, end, direction]`:\n",
    "     - Add `1` or `-1` to the `start` index based on the `direction`.\n",
    "     - Subtract the same value from `end + 1` to limit the effect to the specified range.\n",
    "\n",
    "2. **Apply Prefix Sum**:\n",
    "   - Traverse the prefix sum array to calculate the cumulative effect of all shifts up to each index.\n",
    "\n",
    "3. **Shift Characters**:\n",
    "   - Use the cumulative shift value at each index to calculate the new character. \n",
    "   - Use modular arithmetic (`% 26`) to ensure shifts wrap around the alphabet and handle negative shifts.\n",
    "\n",
    "4. **Construct the Result**:\n",
    "   - Update the characters of the string with the calculated shifts and return the result as a string."
   ]
  },
  {
   "cell_type": "markdown",
   "metadata": {},
   "source": [
    "# Complexity\n",
    "- **Time Complexity**:\n",
    "  - Building the prefix sum array: \\(O(n + m)\\), where \\(n\\) is the length of the string and \\(m\\) is the number of shifts.\n",
    "  - Applying prefix sum: \\(O(n)\\).\n",
    "  - Shifting characters: \\(O(n)\\).\n",
    "  - Total: \\(O(n + m)\\).\n",
    "\n",
    "- **Space Complexity**:\n",
    "  - The prefix sum array takes \\(O(n)\\).\n",
    "  - The result array also takes \\(O(n)\\).\n",
    "  - Total: \\(O(n)\\)."
   ]
  },
  {
   "cell_type": "code",
   "execution_count": 1,
   "metadata": {},
   "outputs": [],
   "source": [
    "def shiftingLetters(s, shifts):\n",
    "        n = len(s)\n",
    "        prefixSum = [0] * (n + 1)\n",
    "        \n",
    "        for start, end, direction in shifts:\n",
    "            value = 1 if direction == 1 else -1\n",
    "            prefixSum[start] += value\n",
    "            prefixSum[end + 1] -= value\n",
    "        \n",
    "        for i in range(1, n):\n",
    "            prefixSum[i] += prefixSum[i-1]\n",
    "            \n",
    "        result = list(s)\n",
    "        for i in range(n):\n",
    "            totalShifts = prefixSum[i]\n",
    "            totalShifts = ((totalShifts % 26) + 26) % 26\n",
    "            \n",
    "            newChar = (ord(s[i]) - ord('a') + totalShifts) % 26\n",
    "            result[i] = chr(ord('a') + newChar)\n",
    "        \n",
    "        return ''.join(result)"
   ]
  },
  {
   "cell_type": "code",
   "execution_count": 2,
   "metadata": {},
   "outputs": [
    {
     "name": "stdout",
     "output_type": "stream",
     "text": [
      "ace\n",
      "catz\n"
     ]
    }
   ],
   "source": [
    "# Test Cases\n",
    "\n",
    "# Example 1\n",
    "s = \"abc\"\n",
    "shifts = [[0, 1, 0], [1, 2, 1], [0, 2, 1]]\n",
    "print(shiftingLetters(s, shifts))  # Expected Output: \"ace\"\n",
    "\n",
    "# Example 2\n",
    "s = \"dztz\"\n",
    "shifts = [[0, 0, 0], [1, 1, 1]]\n",
    "print(shiftingLetters(s, shifts))  # Expected Output: \"catz\"\n",
    "\n"
   ]
  }
 ],
 "metadata": {
  "kernelspec": {
   "display_name": "myenv",
   "language": "python",
   "name": "python3"
  },
  "language_info": {
   "codemirror_mode": {
    "name": "ipython",
    "version": 3
   },
   "file_extension": ".py",
   "mimetype": "text/x-python",
   "name": "python",
   "nbconvert_exporter": "python",
   "pygments_lexer": "ipython3",
   "version": "3.11.3"
  }
 },
 "nbformat": 4,
 "nbformat_minor": 2
}
