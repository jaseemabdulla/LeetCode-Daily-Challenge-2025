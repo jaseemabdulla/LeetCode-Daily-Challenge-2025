{
 "cells": [
  {
   "cell_type": "markdown",
   "metadata": {},
   "source": [
    "# Intuition\n",
    "The task is to determine if a valid original array can be derived such that the given `derived` array can be constructed based on the XOR operation. The rules imply a cyclic XOR relationship between consecutive elements of the original array and `derived`.\n",
    "\n",
    "Key observations:\n",
    "1. The XOR operation between two values is `1` if the values are different, and `0` if they are the same.\n",
    "2. For the derived array to form a valid cyclic XOR relationship, the count of `1`s in `derived` must be **even**. This is because the XOR operation's parity must align at the end of the cycle to allow closure of the circular relationship.\n"
   ]
  },
  {
   "cell_type": "markdown",
   "metadata": {},
   "source": [
    "# Approach\n",
    "1. Count the number of `1`s in the `derived` array.\n",
    "2. If the count of `1`s is even, return `True` (a valid array exists).\n",
    "3. Otherwise, return `False`."
   ]
  },
  {
   "cell_type": "markdown",
   "metadata": {},
   "source": [
    "# Complexity\n",
    "- **Time Complexity**:  \n",
    "  \\(O(n)\\), where \\(n\\) is the length of `derived`, as we iterate through the array to count the `1`s.\n",
    "\n",
    "- **Space Complexity**:  \n",
    "  \\(O(1)\\), as no additional space is used."
   ]
  },
  {
   "cell_type": "code",
   "execution_count": 1,
   "metadata": {},
   "outputs": [],
   "source": [
    "def doesValidArrayExist(derived):\n",
    "        return True if derived.count(1)%2 == 0 else False"
   ]
  },
  {
   "cell_type": "code",
   "execution_count": 2,
   "metadata": {},
   "outputs": [
    {
     "name": "stdout",
     "output_type": "stream",
     "text": [
      "True\n",
      "True\n",
      "False\n"
     ]
    }
   ],
   "source": [
    "# Example 1\n",
    "derived = [1, 1, 0]\n",
    "print(doesValidArrayExist(derived))  # Expected Output: True\n",
    "\n",
    "# Example 2\n",
    "derived = [1, 1]\n",
    "print(doesValidArrayExist(derived))  # Expected Output: True\n",
    "\n",
    "# Example 3\n",
    "derived = [1, 0]\n",
    "print(doesValidArrayExist(derived))  # Expected Output: False"
   ]
  }
 ],
 "metadata": {
  "kernelspec": {
   "display_name": "myenv",
   "language": "python",
   "name": "python3"
  },
  "language_info": {
   "codemirror_mode": {
    "name": "ipython",
    "version": 3
   },
   "file_extension": ".py",
   "mimetype": "text/x-python",
   "name": "python",
   "nbconvert_exporter": "python",
   "pygments_lexer": "ipython3",
   "version": "3.11.3"
  }
 },
 "nbformat": 4,
 "nbformat_minor": 2
}
