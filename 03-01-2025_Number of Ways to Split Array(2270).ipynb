{
 "cells": [
  {
   "cell_type": "markdown",
   "metadata": {},
   "source": [
    "# Problem Description and Intuition\n",
    "The problem involves splitting the array into two non-empty parts such that the sum of the left part is greater than or equal to the sum of the right part. This can be efficiently solved by leveraging prefix sums. By iterating through the array, we can calculate the left and right sums dynamically and check the condition for a valid split."
   ]
  },
  {
   "cell_type": "markdown",
   "metadata": {},
   "source": [
    "# Approach\n",
    " 1. Calculate Total Sum: Start by calculating the total sum of the array (`rSum`), which represents \n",
    "    the sum of the right part initially.\n",
    " 2. Iterate Through the Array: Use a loop to traverse the array up to the second-to-last element \n",
    "    (since both parts must be non-empty).\n",
    "    - Update the left sum (`lSum`) by adding the current element.\n",
    "    - Decrease the right sum (`rSum`) by subtracting the current element.\n",
    "    - Check if the left sum is greater than or equal to the right sum; if true, increment the counter \n",
    "      for valid splits.\n",
    " 3. Return the Count: After the loop, the counter will have the total number of valid splits."
   ]
  },
  {
   "cell_type": "markdown",
   "metadata": {},
   "source": [
    "# Complexity Analysis\n",
    " - Time Complexity: O(n), where n is the length of the array. This is because we traverse the array once \n",
    "   and perform constant-time operations within the loop.\n",
    " - Space Complexity: O(1), as we use only a few variables to store sums and counters, with no additional \n",
    "   data structures."
   ]
  },
  {
   "cell_type": "code",
   "execution_count": 2,
   "metadata": {},
   "outputs": [],
   "source": [
    "# Implementation\n",
    "def waysToSplitArray(nums):\n",
    "        validSplit = 0\n",
    "        lSum, rSum = 0, sum(nums)\n",
    "        for i in range(len(nums) - 1):\n",
    "            lSum += nums[i]\n",
    "            rSum -= nums[i]\n",
    "            if lSum >= rSum:\n",
    "                validSplit += 1\n",
    "        return validSplit"
   ]
  },
  {
   "cell_type": "code",
   "execution_count": 3,
   "metadata": {},
   "outputs": [
    {
     "name": "stdout",
     "output_type": "stream",
     "text": [
      "Number of ways to split array: 2\n"
     ]
    }
   ],
   "source": [
    "# Example Usage\n",
    "nums = [10, 4, -8, 7]\n",
    "print(\"Number of ways to split array:\", waysToSplitArray(nums))"
   ]
  }
 ],
 "metadata": {
  "kernelspec": {
   "display_name": "myenv",
   "language": "python",
   "name": "python3"
  },
  "language_info": {
   "codemirror_mode": {
    "name": "ipython",
    "version": 3
   },
   "file_extension": ".py",
   "mimetype": "text/x-python",
   "name": "python",
   "nbconvert_exporter": "python",
   "pygments_lexer": "ipython3",
   "version": "3.11.3"
  }
 },
 "nbformat": 4,
 "nbformat_minor": 2
}
