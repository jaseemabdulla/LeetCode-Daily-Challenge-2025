{
 "cells": [
  {
   "cell_type": "markdown",
   "metadata": {},
   "source": [
    "# Minimum Time to Repair Cars\n",
    "\n",
    "## Problem Statement  \n",
    "You are given an array `ranks` where `ranks[i]` represents the rank of the `i`-th mechanic. You also have an integer `cars` representing the total number of cars that need to be repaired.\n",
    "\n",
    "Each mechanic takes `r * n^2` minutes to repair `n` cars, where `r` is the mechanic's rank.\n",
    "\n",
    "Return the **minimum time required** to repair all cars.\n",
    "\n",
    "---\n",
    "\n",
    "## Approach  \n",
    "\n",
    "### 🔹 **Binary Search on Time**  \n",
    "1. **Define the Search Space:**  \n",
    "   - The **minimum** time is `1` minute.\n",
    "   - The **maximum** time is `min(ranks) * (cars^2)`, assuming the slowest possible repair scenario.\n",
    "\n",
    "2. **Check Feasibility Using a Helper Condition:**  \n",
    "   - We use a **binary search** to find the minimum possible time `m`.\n",
    "   - For each `m`, check if it is possible to repair all `cars` using the given ranks.\n",
    "\n",
    "3. **Binary Search for the Minimum Time:**  \n",
    "   - If it is **possible** to repair all `cars` in `m` minutes, try reducing `m`.\n",
    "   - Otherwise, increase `m` to allow more time.\n",
    "   - Continue until `l` and `r` converge."
   ]
  },
  {
   "cell_type": "code",
   "execution_count": 1,
   "metadata": {},
   "outputs": [],
   "source": [
    "import math\n",
    "\n",
    "def repairCars(ranks, cars):\n",
    "    \"\"\" Returns the minimum time required to repair all cars \"\"\"\n",
    "    l, r, ans = 1, min(ranks) * (cars ** 2), min(ranks) * (cars ** 2)\n",
    "    \n",
    "    while l <= r:\n",
    "        m = (r - l) // 2 + l  # Midpoint for binary search\n",
    "        x = cars\n",
    "        for a in ranks:\n",
    "            x -= math.floor(math.sqrt(m // a))  # Cars repaired by each mechanic\n",
    "        \n",
    "        if x <= 0:  # Can repair all cars in time `m`\n",
    "            ans = min(ans, m)\n",
    "            r = m - 1  # Try to reduce time\n",
    "        else:\n",
    "            l = m + 1  # Increase time\n",
    "    \n",
    "    return ans"
   ]
  },
  {
   "cell_type": "code",
   "execution_count": 2,
   "metadata": {},
   "outputs": [
    {
     "name": "stdout",
     "output_type": "stream",
     "text": [
      "16\n",
      "16\n"
     ]
    }
   ],
   "source": [
    "# 🔹 Example 1\n",
    "ranks = [4,2,3,1]\n",
    "cars = 10\n",
    "print(repairCars(ranks, cars))  # Output: 16\n",
    "\n",
    "# 🔹 Example 2\n",
    "ranks = [5,1,8]\n",
    "cars = 6\n",
    "print(repairCars(ranks, cars))  # Output: 16"
   ]
  }
 ],
 "metadata": {
  "kernelspec": {
   "display_name": "myenv",
   "language": "python",
   "name": "python3"
  },
  "language_info": {
   "codemirror_mode": {
    "name": "ipython",
    "version": 3
   },
   "file_extension": ".py",
   "mimetype": "text/x-python",
   "name": "python",
   "nbconvert_exporter": "python",
   "pygments_lexer": "ipython3",
   "version": "3.11.3"
  }
 },
 "nbformat": 4,
 "nbformat_minor": 2
}
