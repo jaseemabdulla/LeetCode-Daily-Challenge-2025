{
 "cells": [
  {
   "cell_type": "markdown",
   "metadata": {},
   "source": [
    "# Minimum Index of a Valid Split (Python 2 Version)\n",
    "\n",
    "## Problem Statement  \n",
    "Given an array `nums`, find the minimum index `i` where we can split the array into two non-empty parts such that both parts have the **same dominant element**.\n",
    "\n",
    "A **dominant element** is the one that appears more than half the times in the subarray.\n",
    "\n",
    "---\n",
    "\n",
    "## Approach  \n",
    "1. **Find the Dominant Element**  \n",
    "   - Use `Counter` to find the most frequent element in `nums`.\n",
    "   - If no element is dominant in `nums`, return `-1`.\n",
    "\n",
    "2. **Simulate Splitting the Array**  \n",
    "   - Use two counters (`lcount` and `rcount`) to track occurrences of the dominant element on both sides.\n",
    "   - Iterate through `nums` to find the smallest index where both left and right parts satisfy the dominant condition."
   ]
  },
  {
   "cell_type": "code",
   "execution_count": 1,
   "metadata": {},
   "outputs": [],
   "source": [
    "from collections import Counter\n",
    "\n",
    "def minimum_index(nums):\n",
    "    count = Counter(nums)\n",
    "    dominant, rcount = max(count.items(), key=lambda x: x[1])  # Find the most frequent element\n",
    "    lcount = 0\n",
    "\n",
    "    # Try to split the array at each index\n",
    "    for i in range(len(nums)):\n",
    "        if nums[i] == dominant:\n",
    "            lcount += 1\n",
    "            rcount -= 1\n",
    "        \n",
    "        if lcount > (i + 1) // 2 and rcount > (len(nums) - (i + 1)) // 2:\n",
    "            return i  # Minimum valid split index\n",
    "    \n",
    "    return -1\n"
   ]
  },
  {
   "cell_type": "code",
   "execution_count": 2,
   "metadata": {},
   "outputs": [
    {
     "name": "stdout",
     "output_type": "stream",
     "text": [
      "Example 1 Output: 2\n",
      "Example 2 Output: 4\n",
      "Example 3 Output: -1\n"
     ]
    }
   ],
   "source": [
    "# Example 1\n",
    "nums1 = [1,2,2,2]\n",
    "print(\"Example 1 Output:\", minimum_index(nums1))  # Output: 2\n",
    "\n",
    "# Example 2\n",
    "nums2 = [2,1,3,1,1,1,7,1,2,1]\n",
    "print(\"Example 2 Output:\", minimum_index(nums2))  # Output: 4\n",
    "\n",
    "# Example 3\n",
    "nums3 = [3,3,3,3,7,2,2]\n",
    "print(\"Example 3 Output:\", minimum_index(nums3))  # Output: -1"
   ]
  }
 ],
 "metadata": {
  "kernelspec": {
   "display_name": "myenv",
   "language": "python",
   "name": "python3"
  },
  "language_info": {
   "codemirror_mode": {
    "name": "ipython",
    "version": 3
   },
   "file_extension": ".py",
   "mimetype": "text/x-python",
   "name": "python",
   "nbconvert_exporter": "python",
   "pygments_lexer": "ipython3",
   "version": "3.11.3"
  }
 },
 "nbformat": 4,
 "nbformat_minor": 2
}
