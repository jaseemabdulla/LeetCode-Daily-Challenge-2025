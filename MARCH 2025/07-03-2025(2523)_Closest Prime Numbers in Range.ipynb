{
 "cells": [
  {
   "cell_type": "markdown",
   "metadata": {},
   "source": [
    "# Closest Prime Numbers in Range\n",
    "\n",
    "## Problem Statement\n",
    "Given two integers **left** and **right**, your task is to find two closest prime numbers within the range **[left, right]**. If there is no such pair, return **[-1, -1]**.\n",
    "\n",
    "---\n",
    "\n",
    "## Approach\n",
    "### Steps to Solve the Problem:\n",
    "1. **Prime Checking Function**:\n",
    "   - Create a helper function `primeFind(val)` that checks if a number is prime.\n",
    "   - A number is prime if:\n",
    "     - It is greater than 1.\n",
    "     - It is divisible only by 1 and itself.\n",
    "     - No number between **2** and **sqrt(n)** should divide it.\n",
    "   \n",
    "2. **Collect Primes in Range**:\n",
    "   - Iterate through each number in the range **[left, right]**.\n",
    "   - If the number is prime, add it to a list `prime`.\n",
    "\n",
    "3. **Find Closest Primes**:\n",
    "   - If the list contains fewer than **2 primes**, return **[-1, -1]**.\n",
    "   - Otherwise, find the closest pair by comparing the difference between consecutive primes.\n",
    "\n",
    "4. **Optimization**:\n",
    "   - If any two primes are at a distance of **2** (twin primes), return them immediately."
   ]
  },
  {
   "cell_type": "code",
   "execution_count": 1,
   "metadata": {},
   "outputs": [],
   "source": [
    "import sys\n",
    "\n",
    "def closestPrimes(left, right):\n",
    "    def primeFind(val):\n",
    "        if val == 1:\n",
    "            return False\n",
    "        if val == 2:\n",
    "            return True\n",
    "        for i in range(2, int(val ** 0.5) + 1):\n",
    "            if val % i == 0:\n",
    "                return False\n",
    "        return True\n",
    "\n",
    "    res = [-1, -1]\n",
    "    prime = []\n",
    "\n",
    "    # Collect primes in the range\n",
    "    for p in range(left, right + 1):\n",
    "        if primeFind(p):\n",
    "            if len(prime) >= 1 and p <= prime[-1] + 2:\n",
    "                return [prime[-1], p]\n",
    "            prime.append(p)\n",
    "\n",
    "    # If less than 2 primes, return [-1, -1]\n",
    "    if len(prime) < 2:\n",
    "        return res\n",
    "\n",
    "    # Find closest prime pairs\n",
    "    minVal = sys.maxsize\n",
    "    for i in range(1, len(prime)):\n",
    "        if prime[i] - prime[i - 1] < minVal:\n",
    "            minVal = prime[i] - prime[i - 1]\n",
    "            res = [prime[i - 1], prime[i]]\n",
    "\n",
    "    return res"
   ]
  },
  {
   "cell_type": "code",
   "execution_count": 2,
   "metadata": {},
   "outputs": [
    {
     "name": "stdout",
     "output_type": "stream",
     "text": [
      "[11, 13]\n",
      "[-1, -1]\n"
     ]
    }
   ],
   "source": [
    "# Example 1\n",
    "print(closestPrimes(10, 19))  # Output: [11, 13]\n",
    "\n",
    "# Example 2\n",
    "print(closestPrimes(4, 6))  # Output: [-1, -1]"
   ]
  }
 ],
 "metadata": {
  "kernelspec": {
   "display_name": "myenv",
   "language": "python",
   "name": "python3"
  },
  "language_info": {
   "codemirror_mode": {
    "name": "ipython",
    "version": 3
   },
   "file_extension": ".py",
   "mimetype": "text/x-python",
   "name": "python",
   "nbconvert_exporter": "python",
   "pygments_lexer": "ipython3",
   "version": "3.11.3"
  }
 },
 "nbformat": 4,
 "nbformat_minor": 2
}
