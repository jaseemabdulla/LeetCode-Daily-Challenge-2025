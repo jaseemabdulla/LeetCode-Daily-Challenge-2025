{
 "cells": [
  {
   "cell_type": "markdown",
   "metadata": {},
   "source": [
    "# 🟢 Problem: Maximum Number of Points From Grid Queries\n",
    "\n",
    "## Problem Statement\n",
    "\n",
    "You are given a `m x n` grid of integers and a list of queries.  \n",
    "For each query, you need to find the maximum number of points you can collect by visiting cells in the grid, starting from the top-left corner `(0,0)`, under the following conditions:\n",
    "\n",
    "- You can move **up, down, left, or right**.\n",
    "- You can only move to a cell if its value is **strictly less** than the query value.\n",
    "- Count the number of such cells for each query.\n",
    "\n",
    "---\n",
    "\n",
    "## ✅ Approach\n",
    "\n",
    "- **Sort** the queries but keep track of their indices.\n",
    "- Use a **Min-Heap (Priority Queue)** to traverse the grid.\n",
    "- **Visited matrix** to avoid revisiting.\n",
    "- For each query, **expand the heap** until the top of the heap is ≥ query value.\n",
    "- Store results in the original query order."
   ]
  },
  {
   "cell_type": "code",
   "execution_count": 2,
   "metadata": {},
   "outputs": [],
   "source": [
    "import heapq\n",
    "\n",
    "def max_points(grid, queries):\n",
    "    # Step 1: Pair queries with their indices and sort\n",
    "    q = [(queries[i], i) for i in range(len(queries))]\n",
    "    q.sort()\n",
    "\n",
    "    m, n = len(grid), len(grid[0])\n",
    "    hp = [(grid[0][0], 0, 0)]  # Min-Heap with (value, x, y)\n",
    "    visited = [[0 for _ in range(n)] for _ in range(m)]\n",
    "    visited[0][0] = 1\n",
    "\n",
    "    ans = [0 for _ in range(len(queries))]\n",
    "    currans = 0\n",
    "\n",
    "    for quer, idx in q:\n",
    "        while hp and hp[0][0] < quer:\n",
    "            val, x, y = heapq.heappop(hp)\n",
    "            currans += 1\n",
    "            # Traverse in all 4 directions\n",
    "            for dx, dy in [(-1, 0), (1, 0), (0, -1), (0, 1)]:\n",
    "                i, j = x + dx, y + dy\n",
    "                if i < 0 or i >= m or j < 0 or j >= n or visited[i][j]:\n",
    "                    continue\n",
    "                heapq.heappush(hp, (grid[i][j], i, j))\n",
    "                visited[i][j] = 1\n",
    "        ans[idx] = currans\n",
    "\n",
    "    return ans"
   ]
  },
  {
   "cell_type": "code",
   "execution_count": null,
   "metadata": {},
   "outputs": [
    {
     "name": "stdout",
     "output_type": "stream",
     "text": [
      "Example 1 Output: [5, 8, 1]\n",
      "Example 2 Output: [0]\n"
     ]
    },
    {
     "ename": "",
     "evalue": "",
     "output_type": "error",
     "traceback": [
      "\u001b[1;31mThe Kernel crashed while executing code in the current cell or a previous cell. \n",
      "\u001b[1;31mPlease review the code in the cell(s) to identify a possible cause of the failure. \n",
      "\u001b[1;31mClick <a href='https://aka.ms/vscodeJupyterKernelCrash'>here</a> for more info. \n",
      "\u001b[1;31mView Jupyter <a href='command:jupyter.viewOutput'>log</a> for further details."
     ]
    }
   ],
   "source": [
    "# Example 1\n",
    "grid1 = [[1, 2, 3], [2, 5, 7], [3, 5, 1]]\n",
    "queries1 = [5, 6, 2]\n",
    "print(\"Example 1 Output:\", max_points(grid1, queries1))\n",
    "# Output: [5, 8, 1]\n",
    "\n",
    "# Example 2\n",
    "grid2 = [[5, 2, 1], [1, 1, 2]]\n",
    "queries2 = [3]\n",
    "print(\"Example 2 Output:\", max_points(grid2, queries2))\n",
    "# Output: [0]"
   ]
  },
  {
   "cell_type": "markdown",
   "metadata": {},
   "source": [
    "## ✅ Example Walkthrough\n",
    "\n",
    "### Example 1\n",
    "\n",
    "**Input:**  \n",
    "`grid = [[1,2,3],[2,5,7],[3,5,1]]`  \n",
    "`queries = [5,6,2]`\n",
    "\n",
    "**Output:**  \n",
    "`[5,8,1]`\n",
    "\n",
    "**Explanation:**\n",
    "- For query `5`: You can visit 5 cells `< 5`.\n",
    "- For query `6`: You can visit 8 cells.\n",
    "- For query `2`: Only 1 cell has value `< 2`.\n",
    "\n",
    "---\n",
    "\n",
    "### Example 2\n",
    "\n",
    "**Input:**  \n",
    "`grid = [[5,2,1],[1,1,2]]`  \n",
    "`queries = [3]`\n",
    "\n",
    "**Output:**  \n",
    "`[0]`\n",
    "\n",
    "**Explanation:**  \n",
    "No points because starting cell `5 ≥ 3`."
   ]
  },
  {
   "cell_type": "markdown",
   "metadata": {},
   "source": [
    "## 🚀 Time & Space Complexity\n",
    "\n",
    "- **Time Complexity:** O(m × n + q × log q)  \n",
    "  Where:\n",
    "  - `m, n` → Grid dimensions\n",
    "  - `q` → Number of queries\n",
    "\n",
    "- **Space Complexity:** O(m × n)"
   ]
  }
 ],
 "metadata": {
  "kernelspec": {
   "display_name": "myenv",
   "language": "python",
   "name": "python3"
  },
  "language_info": {
   "codemirror_mode": {
    "name": "ipython",
    "version": 3
   },
   "file_extension": ".py",
   "mimetype": "text/x-python",
   "name": "python",
   "nbconvert_exporter": "python",
   "pygments_lexer": "ipython3",
   "version": "3.11.3"
  }
 },
 "nbformat": 4,
 "nbformat_minor": 2
}
