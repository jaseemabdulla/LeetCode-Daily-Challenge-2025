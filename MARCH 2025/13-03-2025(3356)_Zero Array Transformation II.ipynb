{
 "cells": [
  {
   "cell_type": "markdown",
   "metadata": {},
   "source": [
    "# 📝 Zero Array Transformation II\n",
    "\n",
    "## Problem Statement\n",
    "Given an integer array `nums` and a list of `queries` where each query is in the form `[l, r, val]`, you need to apply the transformations to `nums` and check whether it can become a **Zero Array** (an array where all elements are 0) in **minimum** number of operations.\n",
    "\n",
    "---\n",
    "\n",
    "## 🔍 Approach\n",
    "\n",
    "### 1️⃣ **Understanding Queries**\n",
    "Each query `[l, r, val]` decreases all elements in the range `[l, r]` by `val`.  \n",
    "The goal is to **find the minimum number of queries (`k`)** required to make all elements **zero or negative**.\n",
    "\n",
    "### 2️⃣ **Using Prefix Sum Technique**\n",
    "Instead of directly updating `nums`, we use a **difference array**:\n",
    "- Increase `prefix[l]` by `val`\n",
    "- Decrease `prefix[r+1]` by `val` (if within bounds)\n",
    "- This helps us efficiently compute updates in **O(n + k)** instead of O(n*k).\n",
    "\n",
    "### 3️⃣ **Binary Search on k**\n",
    "We binary search on `k` (from `0` to `len(queries)`) to find the minimum number of queries required to make `nums` a **Zero Array**."
   ]
  },
  {
   "cell_type": "code",
   "execution_count": 1,
   "metadata": {},
   "outputs": [],
   "source": [
    "def isZeroArray(nums, queries, k):\n",
    "        n = len(nums)\n",
    "        prefix = [0] * (n + 1)\n",
    "\n",
    "        # Apply the first k queries using a prefix sum difference array\n",
    "        for i in range(k):\n",
    "            l, r, val = queries[i]\n",
    "            prefix[l] += val\n",
    "            if r + 1 < n:\n",
    "                prefix[r + 1] -= val\n",
    "\n",
    "        # Compute the actual transformed array\n",
    "        for i in range(1, n):\n",
    "            prefix[i] += prefix[i - 1]\n",
    "\n",
    "        # Check if all elements are zero or negative\n",
    "        return all(prefix[i] >= nums[i] for i in range(n))\n",
    "\n",
    "def minZeroArray(nums, queries):\n",
    "        low, high, n = 0, len(queries), len(queries)\n",
    "        ans = n + 1\n",
    "\n",
    "        # Binary search for minimum k\n",
    "        while low <= high:\n",
    "            mid = (low + high) // 2\n",
    "            if isZeroArray(nums, queries, mid):\n",
    "                ans = mid\n",
    "                high = mid - 1\n",
    "            else:\n",
    "                low = mid + 1\n",
    "\n",
    "        return -1 if ans > n else ans    "
   ]
  },
  {
   "cell_type": "code",
   "execution_count": 2,
   "metadata": {},
   "outputs": [
    {
     "name": "stdout",
     "output_type": "stream",
     "text": [
      "2\n",
      "-1\n"
     ]
    }
   ],
   "source": [
    "# 🔹 Example 1\n",
    "nums = [2,0,2]\n",
    "queries = [[0,2,1], [0,2,1], [1,1,3]]\n",
    "print(minZeroArray(nums, queries)) # Output: 2\n",
    "\n",
    "# 🔹 Example 2\n",
    "nums = [4,3,2,1]\n",
    "queries = [[1,3,2], [0,2,1]]\n",
    "print(minZeroArray(nums, queries)) # Output: -1"
   ]
  }
 ],
 "metadata": {
  "kernelspec": {
   "display_name": "myenv",
   "language": "python",
   "name": "python3"
  },
  "language_info": {
   "codemirror_mode": {
    "name": "ipython",
    "version": 3
   },
   "file_extension": ".py",
   "mimetype": "text/x-python",
   "name": "python",
   "nbconvert_exporter": "python",
   "pygments_lexer": "ipython3",
   "version": "3.11.3"
  }
 },
 "nbformat": 4,
 "nbformat_minor": 2
}
