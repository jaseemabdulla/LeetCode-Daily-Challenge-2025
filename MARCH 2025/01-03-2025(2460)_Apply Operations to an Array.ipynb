{
 "cells": [
  {
   "cell_type": "markdown",
   "metadata": {},
   "source": [
    "# Apply Operations to an Array\n",
    "\n",
    "## Problem Statement\n",
    "You are given an integer array `nums`. You must perform the following operations:\n",
    "\n",
    "1. If `nums[i] == nums[i + 1]` and `nums[i] != 0`, then multiply `nums[i]` by `2` and set `nums[i + 1] = 0`.\n",
    "2. After performing all operations, **shift all zeros to the end** of the array.\n",
    "\n",
    "Return the resulting array.\n",
    "\n",
    "---\n",
    "\n",
    "## Approach\n",
    "\n",
    "### Steps to Solve the Problem\n",
    "1. **Iterate Through the Array**:\n",
    "   - If `nums[i] == nums[i+1]` and `nums[i] != 0`, multiply `nums[i]` by 2 and set `nums[i+1] = 0`.\n",
    "   - Append the result to the `result` list.\n",
    "\n",
    "2. **Separate Zeroes**:\n",
    "   - If `nums[i] == 0`, add the zero to a stack to track zeros.\n",
    "\n",
    "3. **Append Remaining Zeros**:\n",
    "   - After iteration, pop all zeros from the stack and append them to the result list."
   ]
  },
  {
   "cell_type": "code",
   "execution_count": 1,
   "metadata": {},
   "outputs": [],
   "source": [
    "def applyOperations(nums):\n",
    "    result = []\n",
    "    stack = []\n",
    "    n = len(nums)\n",
    "\n",
    "    # Apply the operations\n",
    "    for i in range(n):\n",
    "        if i + 1 < n and nums[i] == nums[i + 1] and nums[i] != 0:\n",
    "            result.append(nums[i] * 2)\n",
    "            nums[i + 1] = 0\n",
    "        elif nums[i] == 0:\n",
    "            stack.append(0)\n",
    "        else:\n",
    "            result.append(nums[i])\n",
    "\n",
    "    # Move all zeros to the end\n",
    "    while stack:\n",
    "        result.append(stack.pop())\n",
    "\n",
    "    return result"
   ]
  },
  {
   "cell_type": "code",
   "execution_count": 2,
   "metadata": {},
   "outputs": [
    {
     "name": "stdout",
     "output_type": "stream",
     "text": [
      "[1, 4, 2, 0, 0, 0]\n",
      "[1, 0]\n"
     ]
    }
   ],
   "source": [
    "# Example 1\n",
    "nums1 = [1, 2, 2, 1, 1, 0]\n",
    "print(applyOperations(nums1))\n",
    "# Output: [1, 4, 2, 0, 0, 0]\n",
    "\n",
    "# Example 2\n",
    "nums2 = [0, 1]\n",
    "print(applyOperations(nums2))\n",
    "# Output: [1, 0]"
   ]
  }
 ],
 "metadata": {
  "kernelspec": {
   "display_name": "myenv",
   "language": "python",
   "name": "python3"
  },
  "language_info": {
   "codemirror_mode": {
    "name": "ipython",
    "version": 3
   },
   "file_extension": ".py",
   "mimetype": "text/x-python",
   "name": "python",
   "nbconvert_exporter": "python",
   "pygments_lexer": "ipython3",
   "version": "3.11.3"
  }
 },
 "nbformat": 4,
 "nbformat_minor": 2
}
