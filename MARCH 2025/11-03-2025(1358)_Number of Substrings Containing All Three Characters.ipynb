{
 "cells": [
  {
   "cell_type": "markdown",
   "metadata": {},
   "source": [
    "# 📝 Number of Substrings Containing All Three Characters\n",
    "\n",
    "## Problem Statement\n",
    "Given a string `s` consisting only of characters `'a'`, `'b'`, and `'c'`, return the number of substrings that contain **at least one occurrence** of **all three characters**.\n",
    "\n",
    "---\n",
    "\n",
    "## 🔍 Approach\n",
    "1. **Tracking Last Seen Positions**\n",
    "   - Maintain an array `last_pos` of size 3 to store the **last seen indices** of `'a'`, `'b'`, and `'c'`.\n",
    "   - Update `last_pos` as we iterate over `s`.\n",
    "\n",
    "2. **Using Minimum Last Seen Position**\n",
    "   - The minimum value in `last_pos` at any index `pos` gives the **earliest valid substring start**.\n",
    "   - Every substring starting at or after this position is valid.\n",
    "\n",
    "3. **Formula for Counting Substrings**\n",
    "   - If `min(last_pos) = -1`, no valid substring exists yet.\n",
    "   - Otherwise, **each substring from `min(last_pos) + 1` to `pos` is valid**."
   ]
  },
  {
   "cell_type": "code",
   "execution_count": 3,
   "metadata": {},
   "outputs": [],
   "source": [
    "def numberOfSubstrings(s: str) -> int:\n",
    "    substrs = 0\n",
    "    last_pos = [-1] * 3  # Stores last seen positions of 'a', 'b', 'c'\n",
    "\n",
    "    for pos in range(len(s)):\n",
    "        last_pos[ord(s[pos]) - ord(\"a\")] = pos  # Update index for current char\n",
    "        substrs += 1 + min(last_pos)  # Add valid substrings\n",
    "\n",
    "    return substrs"
   ]
  },
  {
   "cell_type": "code",
   "execution_count": 4,
   "metadata": {},
   "outputs": [
    {
     "name": "stdout",
     "output_type": "stream",
     "text": [
      "10\n",
      "3\n",
      "1\n"
     ]
    }
   ],
   "source": [
    "# 🔍 Example 1\n",
    "s = \"abcabc\"\n",
    "print(numberOfSubstrings(s))  # Output: 10\n",
    "# Explanation: The valid substrings are: \"abc\", \"abca\", \"abcab\", \"abcabc\", \"bca\", \"bcab\", \"bcabc\", \"cab\", \"cabc\", \"abc\" (again).\n",
    "\n",
    "# 🔍 Example 2\n",
    "s = \"aaacb\"\n",
    "print(numberOfSubstrings(s))  # Output: 3\n",
    "# Explanation: The valid substrings are: \"aaacb\", \"aacb\", and \"acb\".\n",
    "\n",
    "# 🔍 Example 3\n",
    "s = \"abc\"\n",
    "print(numberOfSubstrings(s))  # Output: 1\n",
    "# Explanation: The only valid substring is \"abc\".\n"
   ]
  }
 ],
 "metadata": {
  "kernelspec": {
   "display_name": "myenv",
   "language": "python",
   "name": "python3"
  },
  "language_info": {
   "codemirror_mode": {
    "name": "ipython",
    "version": 3
   },
   "file_extension": ".py",
   "mimetype": "text/x-python",
   "name": "python",
   "nbconvert_exporter": "python",
   "pygments_lexer": "ipython3",
   "version": "3.11.3"
  }
 },
 "nbformat": 4,
 "nbformat_minor": 2
}
