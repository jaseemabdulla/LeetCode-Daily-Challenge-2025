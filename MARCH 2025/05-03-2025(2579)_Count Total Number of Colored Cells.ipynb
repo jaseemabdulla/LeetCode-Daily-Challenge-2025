{
 "cells": [
  {
   "cell_type": "markdown",
   "metadata": {},
   "source": [
    "# Count Total Number of Colored Cells\n",
    "\n",
    "## Problem Statement\n",
    "You are given an integer `n`, where `n` represents the number of minutes passed. The task is to calculate the **total number of colored cells** after `n` minutes.\n",
    "\n",
    "At each minute:\n",
    "- In the first minute, one cell is colored.\n",
    "- After each minute, the colored region expands by forming a diamond shape.\n",
    "\n",
    "---\n",
    "\n",
    "## Approach\n",
    "The pattern of the colored cells forms a diamond-like structure where:\n",
    "- At **minute 1**, there is **1 cell**.\n",
    "- At **minute 2**, the diamond expands by **4 additional cells** → Total **5 cells**.\n",
    "- At **minute 3**, the diamond expands by **8 additional cells** → Total **13 cells**.\n",
    "- At **minute 4**, the diamond expands by **12 additional cells** → Total **25 cells**.\n",
    "\n",
    "### Observations:\n",
    "The number of cells added at each step forms an arithmetic sequence:\n",
    "- 4, 8, 12, 16, ...\n",
    "\n",
    "The formula for the total number of colored cells at minute `n` is:\n",
    "\\[\n",
    "Total\\_Cells = 2n(n-1) + 1\n",
    "\\]"
   ]
  },
  {
   "cell_type": "code",
   "execution_count": 1,
   "metadata": {},
   "outputs": [],
   "source": [
    "def coloredCells(n):\n",
    "    return 2 * n * (n - 1) + 1\n"
   ]
  },
  {
   "cell_type": "code",
   "execution_count": 2,
   "metadata": {},
   "outputs": [
    {
     "name": "stdout",
     "output_type": "stream",
     "text": [
      "1\n",
      "5\n",
      "13\n",
      "25\n"
     ]
    }
   ],
   "source": [
    "# Example 1\n",
    "n1 = 1\n",
    "print(coloredCells(n1))  # Output: 1\n",
    "\n",
    "# Example 2\n",
    "n2 = 2\n",
    "print(coloredCells(n2))  # Output: 5\n",
    "\n",
    "# Example 3\n",
    "n3 = 3\n",
    "print(coloredCells(n3))  # Output: 13\n",
    "\n",
    "# Example 4\n",
    "n4 = 4\n",
    "print(coloredCells(n4))  # Output: 25"
   ]
  }
 ],
 "metadata": {
  "kernelspec": {
   "display_name": "myenv",
   "language": "python",
   "name": "python3"
  },
  "language_info": {
   "codemirror_mode": {
    "name": "ipython",
    "version": 3
   },
   "file_extension": ".py",
   "mimetype": "text/x-python",
   "name": "python",
   "nbconvert_exporter": "python",
   "pygments_lexer": "ipython3",
   "version": "3.11.3"
  }
 },
 "nbformat": 4,
 "nbformat_minor": 2
}
