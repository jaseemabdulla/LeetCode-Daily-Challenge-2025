{
 "cells": [
  {
   "cell_type": "markdown",
   "metadata": {},
   "source": [
    "# Check if Number is a Sum of Powers of Three\n",
    "\n",
    "## Problem Statement\n",
    "Given an integer `n`, return **true** if it is possible to express `n` as the sum of distinct powers of three. Otherwise, return **false**.\n",
    "\n",
    "A number can be expressed as the sum of distinct powers of three if:\n",
    "- It can be written as \\( 3^0 + 3^1 + 3^2 + \\ldots + 3^k \\)\n",
    "- No two powers of three are used more than once.\n",
    "\n",
    "---\n",
    "\n",
    "## Approach\n",
    "### Explanation\n",
    "We can convert the number into **base 3** representation:\n",
    "- If a number can be expressed as a sum of distinct powers of three, then its base 3 representation will only have **0** and **1**.\n",
    "- If any digit in the base 3 representation is **2**, then the number cannot be expressed as the sum of distinct powers of three.\n",
    "\n",
    "### Steps:\n",
    "1. Use **divmod(n, 3)** to get the quotient and remainder.\n",
    "2. If the remainder is **2**, return **False**.\n",
    "3. Continue dividing the quotient until it becomes **0**.\n",
    "4. If no remainder is **2**, return **True**."
   ]
  },
  {
   "cell_type": "code",
   "execution_count": 1,
   "metadata": {},
   "outputs": [],
   "source": [
    "def checkPowersOfThree(n):\n",
    "    while n > 0:\n",
    "        q, r = divmod(n, 3)\n",
    "        if r == 2:\n",
    "            return False\n",
    "        n = q\n",
    "    return True"
   ]
  },
  {
   "cell_type": "code",
   "execution_count": 2,
   "metadata": {},
   "outputs": [
    {
     "name": "stdout",
     "output_type": "stream",
     "text": [
      "True\n",
      "True\n",
      "False\n"
     ]
    }
   ],
   "source": [
    "# Example 1\n",
    "n1 = 12\n",
    "print(checkPowersOfThree(n1))  # Output: True\n",
    "\n",
    "# Example 2\n",
    "n2 = 91\n",
    "print(checkPowersOfThree(n2))  # Output: True\n",
    "\n",
    "# Example 3\n",
    "n3 = 21\n",
    "print(checkPowersOfThree(n3))  # Output: False"
   ]
  }
 ],
 "metadata": {
  "kernelspec": {
   "display_name": "myenv",
   "language": "python",
   "name": "python3"
  },
  "language_info": {
   "codemirror_mode": {
    "name": "ipython",
    "version": 3
   },
   "file_extension": ".py",
   "mimetype": "text/x-python",
   "name": "python",
   "nbconvert_exporter": "python",
   "pygments_lexer": "ipython3",
   "version": "3.11.3"
  }
 },
 "nbformat": 4,
 "nbformat_minor": 2
}
