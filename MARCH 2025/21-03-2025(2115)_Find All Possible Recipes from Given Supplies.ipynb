{
 "cells": [
  {
   "cell_type": "markdown",
   "metadata": {},
   "source": [
    "# Find All Possible Recipes from Given Supplies\n",
    "\n",
    "## Problem Statement  \n",
    "You are given a list of recipes and a list of ingredients required for each recipe.  \n",
    "You are also given a list of supplies initially available.  \n",
    "Return a list of all the recipes you can prepare.  \n",
    "You may create a recipe if you have all the ingredients for it, and you can use previously created recipes as ingredients as well.\n",
    "\n",
    "---\n",
    "\n",
    "## Approach  \n",
    "1. **Graph Representation:**  \n",
    "   - Treat each recipe as a node.\n",
    "   - Ingredients act as dependencies (edges).\n",
    "\n",
    "2. **DFS for Recipe Creation:**  \n",
    "   - Use a **DFS** approach to check if a recipe can be created.  \n",
    "   - Maintain a dictionary `can_cook` to mark if an ingredient or recipe is possible to create.  \n",
    "   - If an ingredient is a supply, it can be used directly.  \n",
    "   - If it is a recipe, recursively check if it can be created.\n",
    "\n",
    "3. **Cycle Detection:**  \n",
    "   - Mark a recipe as `False` in `can_cook` temporarily during DFS to prevent cyclic dependencies."
   ]
  },
  {
   "cell_type": "code",
   "execution_count": 1,
   "metadata": {},
   "outputs": [],
   "source": [
    "def find_all_recipes(recipes, ingredients, supplies):\n",
    "    can_cook = {s: True for s in supplies}  # Supplies are immediately available\n",
    "    r_idx = {recipes[i]: i for i in range(len(recipes))}  # Recipe to index mapping\n",
    "\n",
    "    def dfs(recipe):\n",
    "        if recipe in can_cook:  # If it's already available or checked\n",
    "            return can_cook[recipe]\n",
    "        if recipe not in r_idx:  # If the recipe does not exist\n",
    "            return False\n",
    "\n",
    "        can_cook[recipe] = False  # Mark as visiting to detect cycles\n",
    "\n",
    "        for ing in ingredients[r_idx[recipe]]:\n",
    "            if not dfs(ing):  # If any ingredient cannot be made, the recipe fails\n",
    "                return False\n",
    "\n",
    "        can_cook[recipe] = True  # All ingredients are available; mark it as possible\n",
    "        return True\n",
    "\n",
    "    return [r for r in recipes if dfs(r)]"
   ]
  },
  {
   "cell_type": "code",
   "execution_count": 2,
   "metadata": {},
   "outputs": [
    {
     "name": "stdout",
     "output_type": "stream",
     "text": [
      "Example 1 Output: ['bread']\n",
      "Example 2 Output: ['bread', 'sandwich']\n",
      "Example 3 Output: ['bread', 'sandwich', 'burger']\n"
     ]
    }
   ],
   "source": [
    "# Example 1\n",
    "recipes = [\"bread\"]\n",
    "ingredients = [[\"yeast\", \"flour\"]]\n",
    "supplies = [\"yeast\", \"flour\", \"corn\"]\n",
    "print(\"Example 1 Output:\", find_all_recipes(recipes, ingredients, supplies))\n",
    "\n",
    "# Example 2\n",
    "recipes = [\"bread\", \"sandwich\"]\n",
    "ingredients = [[\"yeast\", \"flour\"], [\"bread\", \"meat\"]]\n",
    "supplies = [\"yeast\", \"flour\", \"meat\"]\n",
    "print(\"Example 2 Output:\", find_all_recipes(recipes, ingredients, supplies))\n",
    "\n",
    "# Example 3\n",
    "recipes = [\"bread\", \"sandwich\", \"burger\"]\n",
    "ingredients = [[\"yeast\", \"flour\"], [\"bread\", \"meat\"], [\"sandwich\", \"meat\", \"bread\"]]\n",
    "supplies = [\"yeast\", \"flour\", \"meat\"]\n",
    "print(\"Example 3 Output:\", find_all_recipes(recipes, ingredients, supplies))"
   ]
  }
 ],
 "metadata": {
  "kernelspec": {
   "display_name": "myenv",
   "language": "python",
   "name": "python3"
  },
  "language_info": {
   "codemirror_mode": {
    "name": "ipython",
    "version": 3
   },
   "file_extension": ".py",
   "mimetype": "text/x-python",
   "name": "python",
   "nbconvert_exporter": "python",
   "pygments_lexer": "ipython3",
   "version": "3.11.3"
  }
 },
 "nbformat": 4,
 "nbformat_minor": 2
}
