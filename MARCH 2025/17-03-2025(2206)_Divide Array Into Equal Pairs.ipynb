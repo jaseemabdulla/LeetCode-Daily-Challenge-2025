{
 "cells": [
  {
   "cell_type": "markdown",
   "metadata": {},
   "source": [
    "# Divide Array Into Equal Pairs\n",
    "\n",
    "## Problem Statement  \n",
    "You are given an integer array `nums` consisting of `2n` integers. You need to divide the array into `n` pairs such that:  \n",
    "- Each pair consists of **equal** elements.  \n",
    "\n",
    "Return **True** if it's possible to divide the array this way, otherwise return **False**.\n",
    "\n",
    "---\n",
    "\n",
    "## Approach  \n",
    "\n",
    "### 🔹 **Sorting and Pair Checking**  \n",
    "1. **Sort the array**:  \n",
    "   - Since we need equal pairs, sorting makes it easy to check adjacent elements.\n",
    "\n",
    "2. **Check Pairs**:  \n",
    "   - Iterate through the sorted array with a step of `2`.\n",
    "   - If `nums[i] != nums[i+1]`, return **False**.\n",
    "   - Otherwise, continue checking.\n",
    "\n",
    "3. **Return True** if all pairs are valid."
   ]
  },
  {
   "cell_type": "code",
   "execution_count": 1,
   "metadata": {},
   "outputs": [],
   "source": [
    "def divideArray(nums):\n",
    "    \"\"\" Returns True if the array can be divided into pairs of equal numbers \"\"\"\n",
    "    nums.sort()  # Step 1: Sort the array\n",
    "    for i in range(0, len(nums), 2):  # Step 2: Check pairs\n",
    "        if nums[i] != nums[i + 1]:\n",
    "            return False\n",
    "    return True  # Step 3: Return True if all pairs match"
   ]
  },
  {
   "cell_type": "code",
   "execution_count": 2,
   "metadata": {},
   "outputs": [
    {
     "name": "stdout",
     "output_type": "stream",
     "text": [
      "True\n",
      "False\n"
     ]
    }
   ],
   "source": [
    "# 🔹 Example 1\n",
    "nums = [3,2,3,2,2,2]\n",
    "print(divideArray(nums))  # Output: True\n",
    "\n",
    "# 🔹 Example 2\n",
    "nums = [1,2,3,4]\n",
    "print(divideArray(nums))  # Output: False"
   ]
  }
 ],
 "metadata": {
  "kernelspec": {
   "display_name": "myenv",
   "language": "python",
   "name": "python3"
  },
  "language_info": {
   "codemirror_mode": {
    "name": "ipython",
    "version": 3
   },
   "file_extension": ".py",
   "mimetype": "text/x-python",
   "name": "python",
   "nbconvert_exporter": "python",
   "pygments_lexer": "ipython3",
   "version": "3.11.3"
  }
 },
 "nbformat": 4,
 "nbformat_minor": 2
}
