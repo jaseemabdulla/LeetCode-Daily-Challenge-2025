{
 "cells": [
  {
   "cell_type": "markdown",
   "metadata": {},
   "source": [
    "# Put Marbles in Bags\n",
    "\n",
    "## Approach\n",
    "\n",
    "1. **Understanding the Problem:**  \n",
    "   - We need to distribute marbles into `k` bags while maximizing and minimizing a certain score difference.\n",
    "   - The score is based on the sum of **pairwise adjacent values** in each partition.\n",
    "\n",
    "2. **Pairwise Sum Calculation:**  \n",
    "   - Compute sums of **adjacent pairs** in `weights`.\n",
    "   - Sorting these sums helps in determining the **minimum and maximum score distributions**.\n",
    "\n",
    "3. **Computing Min and Max Splits:**  \n",
    "   - To minimize the score, take the **smallest (k-1) adjacent pairs**.\n",
    "   - To maximize the score, take the **largest (k-1) adjacent pairs**.\n",
    "   - The **final result** is their difference.\n"
   ]
  },
  {
   "cell_type": "code",
   "execution_count": 2,
   "metadata": {},
   "outputs": [],
   "source": [
    "def putMarbles(weights, k):\n",
    "    if k == 1:\n",
    "        return 0\n",
    "\n",
    "    pairs = [weights[i] + weights[i + 1] for i in range(len(weights) - 1)]\n",
    "    pairs.sort()\n",
    "\n",
    "    minSplit = sum(pairs[:k - 1])\n",
    "    maxSplit = sum(pairs[-(k - 1):])\n",
    "\n",
    "    return maxSplit - minSplit"
   ]
  },
  {
   "cell_type": "markdown",
   "metadata": {},
   "source": [
    "## Code Explanation\n",
    "\n",
    "### Handle the Edge Case (`k == 1`)\n",
    "- If `k = 1`, there's only one partition, so the difference is `0`.\n",
    "\n",
    "### Compute Pairwise Sums\n",
    "- Iterate over `weights`, storing `weights[i] + weights[i+1]` in `pairs`.\n",
    "\n",
    "### Sort the Pairs\n",
    "- Sorting allows us to easily pick the `(k-1)` smallest and largest sums.\n",
    "\n",
    "### Compute Min and Max Splits\n",
    "- `minSplit = sum(pairs[:k-1])` → Sum of smallest `(k-1)` elements.\n",
    "- `maxSplit = sum(pairs[-(k-1):])` → Sum of largest `(k-1)` elements.\n",
    "\n",
    "### Return the Difference\n",
    "- This gives the final answer."
   ]
  },
  {
   "cell_type": "code",
   "execution_count": 3,
   "metadata": {},
   "outputs": [
    {
     "name": "stdout",
     "output_type": "stream",
     "text": [
      "Example 1 Output: 4\n",
      "Example 2 Output: 0\n"
     ]
    }
   ],
   "source": [
    "# Example Function Calls\n",
    "weights1 = [1, 3, 5, 1]\n",
    "k1 = 2\n",
    "print(\"Example 1 Output:\", putMarbles(weights1, k1))  # Output: 4\n",
    "\n",
    "weights2 = [1, 3]\n",
    "k2 = 2\n",
    "print(\"Example 2 Output:\", putMarbles(weights2, k2))  # Output: 0"
   ]
  },
  {
   "cell_type": "markdown",
   "metadata": {},
   "source": [
    "## Complexity Analysis\n",
    "\n",
    "- **Time Complexity:** `O(N log N)`\n",
    "  - **Pairwise sum calculation:** `O(N)`.\n",
    "  - **Sorting the pairs:** `O(N log N)`.\n",
    "  - **Summing (k-1) elements:** `O(K)`, but since `K ≤ N`, it remains `O(N log N)` overall.\n",
    "\n",
    "- **Space Complexity:** `O(N)`.\n",
    "  - We store **pairwise sums**, requiring `O(N)` extra space."
   ]
  }
 ],
 "metadata": {
  "kernelspec": {
   "display_name": "myenv",
   "language": "python",
   "name": "python3"
  },
  "language_info": {
   "codemirror_mode": {
    "name": "ipython",
    "version": 3
   },
   "file_extension": ".py",
   "mimetype": "text/x-python",
   "name": "python",
   "nbconvert_exporter": "python",
   "pygments_lexer": "ipython3",
   "version": "3.11.3"
  }
 },
 "nbformat": 4,
 "nbformat_minor": 2
}
