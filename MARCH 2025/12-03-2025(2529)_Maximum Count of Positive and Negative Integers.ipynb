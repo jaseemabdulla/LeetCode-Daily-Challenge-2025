{
 "cells": [
  {
   "cell_type": "markdown",
   "metadata": {},
   "source": [
    "# 📝 Maximum Count of Positive and Negative Integers\n",
    "\n",
    "## Problem Statement\n",
    "Given a **sorted** integer array `nums`, return the **maximum count** between the number of **positive integers** and **negative integers**.\n",
    "\n",
    "---\n",
    "\n",
    "## 🔍 Approach\n",
    "1. **Use Binary Search for Efficiency**\n",
    "   - Since `nums` is **sorted**, we can efficiently find the count of negatives and positives using **binary search**.\n",
    "   - The `bisect` module helps find insertion positions quickly.\n",
    "\n",
    "2. **Using bisect_right() and bisect_left()**\n",
    "   - `bisect_right(nums, 0)`: Finds the index **after the last occurrence** of `0`, giving the count of **negatives**.\n",
    "   - `bisect_left(nums, 0)`: Finds the index of **the first occurrence** of `0`, helping count **non-negative numbers**.\n",
    "\n",
    "3. **Formula for Counting**\n",
    "   - `len(nums) - bisect_right(nums, 0)`: Counts **positive numbers**.\n",
    "   - `bisect_left(nums, 0)`: Counts **negative numbers**.\n",
    "   - Return the **maximum of the two**.\n",
    "\n",
    "---\n",
    "\n",
    "## 📌 Understanding the bisect Module\n",
    "The `bisect` module in Python helps with **binary search operations**:\n",
    "- `bisect_right(nums, x)`: Returns the index where `x` should be inserted to keep the list sorted (rightmost position).\n",
    "- `bisect_left(nums, x)`: Returns the index where `x` should be inserted to keep the list sorted (leftmost position).\n",
    "\n",
    "### Example:\n",
    "```python\n",
    "import bisect\n",
    "\n",
    "nums = [-3, -2, -1, 0, 0, 1, 2]\n",
    "print(bisect.bisect_right(nums, 0))  # Output: 5 (index after last 0)\n",
    "print(bisect.bisect_left(nums, 0))   # Output: 3 (index of first 0)"
   ]
  },
  {
   "cell_type": "code",
   "execution_count": 3,
   "metadata": {},
   "outputs": [],
   "source": [
    "from bisect import bisect_right, bisect_left\n",
    "\n",
    "def maximumCount(nums): \n",
    "    return max(len(nums) - bisect_right(nums, 0), bisect_left(nums, 0))"
   ]
  },
  {
   "cell_type": "code",
   "execution_count": 4,
   "metadata": {},
   "outputs": [
    {
     "name": "stdout",
     "output_type": "stream",
     "text": [
      "3\n",
      "3\n",
      "4\n"
     ]
    }
   ],
   "source": [
    "# 🔍 Example 1\n",
    "nums = [-2,-1,-1,1,2,3]\n",
    "print(maximumCount(nums))  # Output: 3\n",
    "# Explanation: 3 negative numbers and 3 positive numbers, max count is 3.\n",
    "\n",
    "# 🔍 Example 2\n",
    "nums = [-3,-2,-1,0,0,1,2]\n",
    "print(maximumCount(nums))  # Output: 3\n",
    "# Explanation: 3 negative numbers, 2 positive numbers, max count is 3.\n",
    "\n",
    "# 🔍 Example 3\n",
    "nums = [5,20,66,1314]\n",
    "print(maximumCount(nums))  # Output: 4\n",
    "# Explanation: 4 positive numbers, 0 negative numbers, max count is 4."
   ]
  }
 ],
 "metadata": {
  "kernelspec": {
   "display_name": "myenv",
   "language": "python",
   "name": "python3"
  },
  "language_info": {
   "codemirror_mode": {
    "name": "ipython",
    "version": 3
   },
   "file_extension": ".py",
   "mimetype": "text/x-python",
   "name": "python",
   "nbconvert_exporter": "python",
   "pygments_lexer": "ipython3",
   "version": "3.11.3"
  }
 },
 "nbformat": 4,
 "nbformat_minor": 2
}
