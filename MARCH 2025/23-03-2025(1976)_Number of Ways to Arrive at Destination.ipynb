{
 "cells": [
  {
   "cell_type": "markdown",
   "metadata": {},
   "source": [
    "# Number of Ways to Arrive at Destination (Python 2 Version)\n",
    "\n",
    "## Problem Statement  \n",
    "Given `n` intersections labeled from `0` to `n-1` and a list of `roads` where `roads[i] = [u, v, time]` denotes a road between intersections `u` and `v` that takes `time` minutes to traverse, find the number of ways to reach the last intersection (`n-1`) from the first intersection (`0`) in the shortest time possible.\n",
    "\n",
    "---\n",
    "\n",
    "## Approach  \n",
    "1. **Dijkstra's Algorithm:**  \n",
    "   - We use a priority queue to explore the shortest path.\n",
    "   - Maintain a `dist` array to track the minimum distance to each node.\n",
    "   - Maintain a `ways` array to count the number of shortest paths to each node.\n",
    "\n",
    "2. **Priority Queue:**  \n",
    "   - Start from node `0` with a distance of `0`.\n",
    "   - For each node, explore its neighbors and update the shortest path.\n",
    "   - If a new shorter path is found, update the distance and reset the path count.\n",
    "   - If the shortest path is the same, add the number of ways to reach the current node.\n",
    "\n",
    "3. **Modulo Operation:**  \n",
    "   - Use modulo \\(10^9 + 7\\) to handle large numbers."
   ]
  },
  {
   "cell_type": "code",
   "execution_count": 1,
   "metadata": {},
   "outputs": [],
   "source": [
    "import heapq\n",
    "from collections import defaultdict\n",
    "\n",
    "def count_paths(n, roads):\n",
    "    MODS = 10**9 + 7\n",
    "    adj_list = {i: [] for i in range(n)}\n",
    "\n",
    "    # Building adjacency list\n",
    "    for u, v, weight in roads:\n",
    "        adj_list[u].append((v, weight))\n",
    "        adj_list[v].append((u, weight))\n",
    "    \n",
    "    # Dijkstra's setup\n",
    "    pq = [(0, 0)]  # (current_weight, node)\n",
    "    dist = [float('inf')] * n\n",
    "    dist[0] = 0\n",
    "    ways = [0] * n\n",
    "    ways[0] = 1  # There is one way to reach the starting node\n",
    "\n",
    "    while pq:\n",
    "        cur_weight, node = heapq.heappop(pq)\n",
    "\n",
    "        # Skip if a longer path is encountered\n",
    "        if cur_weight > dist[node]:\n",
    "            continue\n",
    "        \n",
    "        for neighbor, weight in adj_list[node]:\n",
    "            new_weight = cur_weight + weight\n",
    "\n",
    "            if new_weight < dist[neighbor]:  # Found a shorter path\n",
    "                dist[neighbor] = new_weight\n",
    "                heapq.heappush(pq, (new_weight, neighbor))\n",
    "                ways[neighbor] = ways[node]  # Reset ways for a new shortest path\n",
    "            elif new_weight == dist[neighbor]:  # Found an alternative shortest path\n",
    "                ways[neighbor] = (ways[neighbor] + ways[node]) % MODS\n",
    "\n",
    "    return ways[n - 1]"
   ]
  },
  {
   "cell_type": "code",
   "execution_count": 2,
   "metadata": {},
   "outputs": [
    {
     "name": "stdout",
     "output_type": "stream",
     "text": [
      "Example 1 Output: 4\n",
      "Example 2 Output: 1\n"
     ]
    }
   ],
   "source": [
    "# Example 1\n",
    "n = 7\n",
    "roads = [[0, 6, 7], [0, 1, 2], [1, 2, 3], [1, 3, 3], [6, 3, 3], \n",
    "         [3, 5, 1], [6, 5, 1], [2, 5, 1], [0, 4, 5], [4, 6, 2]]\n",
    "print (\"Example 1 Output:\", count_paths(n, roads))  # Output: 4\n",
    "\n",
    "# Example 2\n",
    "n = 2\n",
    "roads = [[1, 0, 10]]\n",
    "print (\"Example 2 Output:\", count_paths(n, roads))  # Output: 1"
   ]
  }
 ],
 "metadata": {
  "kernelspec": {
   "display_name": "myenv",
   "language": "python",
   "name": "python3"
  },
  "language_info": {
   "codemirror_mode": {
    "name": "ipython",
    "version": 3
   },
   "file_extension": ".py",
   "mimetype": "text/x-python",
   "name": "python",
   "nbconvert_exporter": "python",
   "pygments_lexer": "ipython3",
   "version": "3.11.3"
  }
 },
 "nbformat": 4,
 "nbformat_minor": 2
}
