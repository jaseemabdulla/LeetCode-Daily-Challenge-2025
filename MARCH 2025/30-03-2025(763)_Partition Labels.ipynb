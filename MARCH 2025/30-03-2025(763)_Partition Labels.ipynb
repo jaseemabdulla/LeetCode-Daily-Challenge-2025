{
 "cells": [
  {
   "cell_type": "markdown",
   "metadata": {},
   "source": [
    "# Partition Labels\n",
    "\n",
    "## Approach\n",
    "\n",
    "1. **Last Occurrence Mapping:**  \n",
    "   - We first create a dictionary `Hash` that stores the **last occurrence** of each character in the string.  \n",
    "   - This helps in determining **when we can finalize a partition**.\n",
    "\n",
    "2. **Iterate Through the String:**  \n",
    "   - We maintain a variable `size` that represents the maximum index up to which the current partition can extend.\n",
    "   - If `r` reaches `size`, we can finalize the partition.\n",
    "\n",
    "3. **Update Partition Size:**  \n",
    "   - Whenever we reach an index that matches `size`, we **store the partition size** and start a **new segment**.\n",
    "\n",
    "This **greedy approach** ensures that each partition is **as large as possible** while keeping each letter in only one partition."
   ]
  },
  {
   "cell_type": "code",
   "execution_count": 1,
   "metadata": {},
   "outputs": [],
   "source": [
    "def partitionLabels(s):\n",
    "    Hash = {}\n",
    "    for i in range(len(s)):\n",
    "        Hash[s[i]] = i  # Store last occurrence of each character\n",
    "\n",
    "    res = []\n",
    "    l, r = -1, 0\n",
    "    size = Hash[s[0]]\n",
    "\n",
    "    while r <= size:\n",
    "        size = max(size, Hash[s[r]])  # Extend partition if needed\n",
    "\n",
    "        if r == size:  # When the partition is complete\n",
    "            res.append(size - l)  # Store partition size\n",
    "            if r < len(s) - 1:\n",
    "                l = r\n",
    "                r += 1\n",
    "                size = Hash[s[r]]\n",
    "                r -= 1\n",
    "        r += 1\n",
    "\n",
    "    return res"
   ]
  },
  {
   "cell_type": "code",
   "execution_count": 2,
   "metadata": {},
   "outputs": [
    {
     "name": "stdout",
     "output_type": "stream",
     "text": [
      "Example 1 Output: [9, 7, 8]\n",
      "Example 2 Output: [10]\n"
     ]
    }
   ],
   "source": [
    "# Example 1\n",
    "s1 = \"ababcbacadefegdehijhklij\"\n",
    "print (\"Example 1 Output:\", partitionLabels(s1))  # Output: [9,7,8]\n",
    "\n",
    "# Example 2\n",
    "s2 = \"eccbbbbdec\"\n",
    "print (\"Example 2 Output:\", partitionLabels(s2))  # Output: [10]"
   ]
  }
 ],
 "metadata": {
  "kernelspec": {
   "display_name": "myenv",
   "language": "python",
   "name": "python3"
  },
  "language_info": {
   "codemirror_mode": {
    "name": "ipython",
    "version": 3
   },
   "file_extension": ".py",
   "mimetype": "text/x-python",
   "name": "python",
   "nbconvert_exporter": "python",
   "pygments_lexer": "ipython3",
   "version": "3.11.3"
  }
 },
 "nbformat": 4,
 "nbformat_minor": 2
}
