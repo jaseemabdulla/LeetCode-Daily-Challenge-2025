{
 "cells": [
  {
   "cell_type": "markdown",
   "metadata": {},
   "source": [
    "# Maximum Candies Allocated to K Children\n",
    "\n",
    "## Problem Statement  \n",
    "You are given an array `candies` where `candies[i]` represents the number of candies in the `i`-th pile, and an integer `k` representing the number of children. Your goal is to **maximize** the number of candies each child can receive, ensuring that:  \n",
    "- Every child receives the **same** number of candies.  \n",
    "- The candies must be taken from the given piles, meaning we can only divide them but cannot create new ones.  \n",
    "\n",
    "Return the **maximum number of candies each child can receive** while distributing candies fairly.\n",
    "\n",
    "---\n",
    "\n",
    "## Approach  \n",
    "\n",
    "### 🔹 **Binary Search on Maximum Possible Candy Count**  \n",
    "1. **Define the Search Space:**  \n",
    "   - The **minimum** number of candies each child can get is `1`.  \n",
    "   - The **maximum** number is `sum(candies) // k` (since we can’t give more than the total divided among all children).\n",
    "\n",
    "2. **Check Feasibility Using a Helper Function:**  \n",
    "   - We use a helper function `can_allocate(c, k, candies)`, which checks whether it is possible to distribute **at least** `k` piles of candies, each containing `c` candies.\n",
    "\n",
    "3. **Binary Search for Maximum Possible Value:**  \n",
    "   - If `mid` candies per child is possible, increase `low` to search for a higher valid value.  \n",
    "   - Otherwise, decrease `high` to find a feasible solution.  \n",
    "   - Continue **until low meets high**, which gives the maximum number of candies that can be distributed fairly. "
   ]
  },
  {
   "cell_type": "code",
   "execution_count": 1,
   "metadata": {},
   "outputs": [],
   "source": [
    "def can_allocate(c, k, candies):\n",
    "    \"\"\" Helper function to check if we can allocate at least k piles of size c \"\"\"\n",
    "    for x in candies:\n",
    "        k -= x / c  # Integer division in Python 2\n",
    "        if k <= 0:\n",
    "            return True\n",
    "    return False\n",
    "\n",
    "def maximumCandies(candies, k):\n",
    "    \"\"\" Returns the maximum number of candies each child can get \"\"\"\n",
    "    total_candies = sum(candies)\n",
    "\n",
    "    # If we can't even distribute 1 candy per child, return 0\n",
    "    if total_candies < k:\n",
    "        return 0\n",
    "\n",
    "    low, high = 1, int(total_candies / k)  # Integer division\n",
    "\n",
    "    while low < high:\n",
    "        mid = (low + high + 1) / 2  # Integer division\n",
    "        if can_allocate(mid, k, candies):\n",
    "            low = mid  # Move right (increase min candies per child)\n",
    "        else:\n",
    "            high = mid - 1  # Move left (reduce candies per child)\n",
    "\n",
    "    return low"
   ]
  },
  {
   "cell_type": "code",
   "execution_count": 2,
   "metadata": {},
   "outputs": [
    {
     "name": "stdout",
     "output_type": "stream",
     "text": [
      "6.25\n",
      "0\n"
     ]
    }
   ],
   "source": [
    "# 🔹 Example 1\n",
    "candies = [5, 8, 6]\n",
    "k = 3\n",
    "print (maximumCandies(candies, k))  # Output: 5\n",
    "\n",
    "# 🔹 Example 2\n",
    "candies = [2, 5]\n",
    "k = 11\n",
    "print (maximumCandies(candies, k))  # Output: 0"
   ]
  }
 ],
 "metadata": {
  "kernelspec": {
   "display_name": "myenv",
   "language": "python",
   "name": "python3"
  },
  "language_info": {
   "codemirror_mode": {
    "name": "ipython",
    "version": 3
   },
   "file_extension": ".py",
   "mimetype": "text/x-python",
   "name": "python",
   "nbconvert_exporter": "python",
   "pygments_lexer": "ipython3",
   "version": "3.11.3"
  }
 },
 "nbformat": 4,
 "nbformat_minor": 2
}
