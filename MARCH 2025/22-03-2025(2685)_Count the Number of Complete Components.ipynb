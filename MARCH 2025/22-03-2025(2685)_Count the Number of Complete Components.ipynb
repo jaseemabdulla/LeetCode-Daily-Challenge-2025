{
 "cells": [
  {
   "cell_type": "markdown",
   "metadata": {},
   "source": [
    "# Count the Number of Complete Components\n",
    "\n",
    "## Problem Statement  \n",
    "Given an integer `n` representing the number of vertices in a graph and a list of `edges` representing the connections between them, find the number of complete components in the graph.  \n",
    "A complete component is a connected subgraph where every pair of vertices has a direct edge.\n",
    "\n",
    "---\n",
    "\n",
    "## Approach  \n",
    "1. **Union-Find (Disjoint Set Union, DSU):**  \n",
    "   - To group nodes into components.\n",
    "   - Path compression for efficient lookup.\n",
    "   - Union by rank to maintain balanced tree depth.\n",
    "\n",
    "2. **Counting Nodes and Edges:**  \n",
    "   - Track the number of nodes and edges for each component.\n",
    "   - Check if the number of edges matches the formula for a complete graph:  \n",
    "     \\[ \\text{Edges} = \\frac{\\text{Nodes} \\times (\\text{Nodes} - 1)}{2} \\]"
   ]
  },
  {
   "cell_type": "code",
   "execution_count": 1,
   "metadata": {},
   "outputs": [],
   "source": [
    "def count_complete_components(n, edges):\n",
    "    # Initialize parent and rank for Union-Find\n",
    "    parent = list(range(n))\n",
    "    rank = [1] * n\n",
    "\n",
    "    def find(x):\n",
    "        if parent[x] != x:\n",
    "            parent[x] = find(parent[x])  # Path compression\n",
    "        return parent[x]\n",
    "\n",
    "    def union(x, y):\n",
    "        root_x = find(x)\n",
    "        root_y = find(y)\n",
    "\n",
    "        if root_x != root_y:  # Merge by rank\n",
    "            if rank[root_x] > rank[root_y]:\n",
    "                parent[root_y] = root_x\n",
    "            elif rank[root_x] < rank[root_y]:\n",
    "                parent[root_x] = root_y\n",
    "            else:\n",
    "                parent[root_y] = root_x\n",
    "                rank[root_x] += 1\n",
    "\n",
    "    # Create the components\n",
    "    for u, v in edges:\n",
    "        union(u, v)\n",
    "\n",
    "    # Count nodes and edges in each component\n",
    "    comp_size = [0] * n\n",
    "    comp_edges = [0] * n\n",
    "\n",
    "    for i in range(n):\n",
    "        comp_size[find(i)] += 1  # Counting nodes in each component\n",
    "\n",
    "    for u, v in edges:\n",
    "        comp_edges[find(u)] += 1  # Counting edges in each component\n",
    "\n",
    "    # Check for complete components\n",
    "    count = 0\n",
    "    for i in range(n):\n",
    "        if find(i) == i:  # If it's a root node\n",
    "            if comp_edges[i] == comp_size[i] * (comp_size[i] - 1) // 2:\n",
    "                count += 1\n",
    "\n",
    "    return count"
   ]
  },
  {
   "cell_type": "code",
   "execution_count": 2,
   "metadata": {},
   "outputs": [
    {
     "name": "stdout",
     "output_type": "stream",
     "text": [
      "Example 1 Output: 3\n",
      "Example 2 Output: 1\n"
     ]
    }
   ],
   "source": [
    "# Example 1\n",
    "n = 6\n",
    "edges = [[0, 1], [0, 2], [1, 2], [3, 4]]\n",
    "print(\"Example 1 Output:\", count_complete_components(n, edges))\n",
    "\n",
    "# Example 2\n",
    "n = 6\n",
    "edges = [[0, 1], [0, 2], [1, 2], [3, 4], [3, 5]]\n",
    "print(\"Example 2 Output:\", count_complete_components(n, edges))"
   ]
  }
 ],
 "metadata": {
  "kernelspec": {
   "display_name": "myenv",
   "language": "python",
   "name": "python3"
  },
  "language_info": {
   "codemirror_mode": {
    "name": "ipython",
    "version": 3
   },
   "file_extension": ".py",
   "mimetype": "text/x-python",
   "name": "python",
   "nbconvert_exporter": "python",
   "pygments_lexer": "ipython3",
   "version": "3.11.3"
  }
 },
 "nbformat": 4,
 "nbformat_minor": 2
}
