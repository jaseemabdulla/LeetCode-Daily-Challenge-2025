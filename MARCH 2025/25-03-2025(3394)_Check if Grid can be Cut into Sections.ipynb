{
 "cells": [
  {
   "cell_type": "markdown",
   "metadata": {},
   "source": [
    "# Check if Grid can be Cut into Sections (Python 2 Version)\n",
    "\n",
    "## Problem Statement  \n",
    "Given a grid of size `n x n` and a list of rectangles, determine if the grid can be divided into at least three sections by making two valid cuts — either vertical or horizontal.\n",
    "\n",
    "---\n",
    "\n",
    "## Approach  \n",
    "1. **Checking for Horizontal and Vertical Cuts:**  \n",
    "   - We check if two valid cuts can be made either horizontally (y-axis) or vertically (x-axis).\n",
    "   - A valid cut divides the grid into distinct parts.\n",
    "\n",
    "2. **Sorting and Merging Intervals:**  \n",
    "   - Sort the rectangles based on the cut axis (x or y).\n",
    "   - Track the end of the last cut (`previous_end`).\n",
    "   - Count the valid cuts when there is no overlap with the previous cut.\n",
    "   - If valid cuts ≥ 3, return `True`."
   ]
  },
  {
   "cell_type": "code",
   "execution_count": 1,
   "metadata": {},
   "outputs": [],
   "source": [
    "def check_valid_cuts(n, rectangles):\n",
    "    return can_cut(rectangles, 0) or can_cut(rectangles, 1)\n",
    "\n",
    "def can_cut(rectangles, axis):\n",
    "    # Step 1: Sort rectangles based on the selected axis\n",
    "    rectangles.sort(key=lambda x: x[axis])\n",
    "    cuts, previous_end = 0, -1\n",
    "\n",
    "    # Step 2: Count the valid non-overlapping cuts\n",
    "    for rect in rectangles:\n",
    "        start, end = rect[axis], rect[axis + 2]\n",
    "\n",
    "        if start >= previous_end:  # No overlap with the last cut\n",
    "            cuts += 1\n",
    "        previous_end = max(previous_end, end)\n",
    "\n",
    "        if cuts >= 3:  # Check for at least 3 sections\n",
    "            return True\n",
    "\n",
    "    return False"
   ]
  },
  {
   "cell_type": "code",
   "execution_count": 2,
   "metadata": {},
   "outputs": [
    {
     "name": "stdout",
     "output_type": "stream",
     "text": [
      "Example 1 Output: True\n",
      "Example 2 Output: True\n",
      "Example 3 Output: False\n"
     ]
    }
   ],
   "source": [
    "# Example 1\n",
    "n = 5\n",
    "rectangles = [[1, 0, 5, 2], [0, 2, 2, 4], [3, 2, 5, 3], [0, 4, 4, 5]]\n",
    "print(\"Example 1 Output:\", check_valid_cuts(n, rectangles))  # Output: True\n",
    "\n",
    "# Example 2\n",
    "n = 4\n",
    "rectangles = [[0, 0, 1, 1], [2, 0, 3, 4], [0, 2, 2, 3], [3, 0, 4, 3]]\n",
    "print(\"Example 2 Output:\", check_valid_cuts(n, rectangles))  # Output: True\n",
    "\n",
    "# Example 3\n",
    "n = 4\n",
    "rectangles = [[0, 2, 2, 4], [1, 0, 3, 2], [2, 2, 3, 4], [3, 0, 4, 2], [3, 2, 4, 4]]\n",
    "print(\"Example 3 Output:\", check_valid_cuts(n, rectangles))  # Output: False"
   ]
  }
 ],
 "metadata": {
  "kernelspec": {
   "display_name": "myenv",
   "language": "python",
   "name": "python3"
  },
  "language_info": {
   "codemirror_mode": {
    "name": "ipython",
    "version": 3
   },
   "file_extension": ".py",
   "mimetype": "text/x-python",
   "name": "python",
   "nbconvert_exporter": "python",
   "pygments_lexer": "ipython3",
   "version": "3.11.3"
  }
 },
 "nbformat": 4,
 "nbformat_minor": 2
}
