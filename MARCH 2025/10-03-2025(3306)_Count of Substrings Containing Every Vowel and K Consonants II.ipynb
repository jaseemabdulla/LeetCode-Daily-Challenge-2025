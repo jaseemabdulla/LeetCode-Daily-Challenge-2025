{
 "cells": [
  {
   "cell_type": "markdown",
   "metadata": {},
   "source": [
    "# 📝 Count of Substrings Containing Every Vowel and K Consonants II\n",
    "\n",
    "## Problem Statement\n",
    "Given a string `word` containing lowercase English letters and an integer `k`, count the number of substrings that:\n",
    "1. **Contain every vowel** at least once (`a, e, i, o, u`).\n",
    "2. **Have exactly `k` consonants**.\n",
    "\n",
    "To efficiently compute this, we count substrings with **at least `k`** consonants and subtract those with **at least `k+1`** consonants.\n",
    "\n",
    "---\n",
    "\n",
    "## 🔍 Approach\n",
    "1. **Sliding Window + Two Pointers**\n",
    "   - Expand a **window** with `start` and `end` pointers over `word`.\n",
    "   - Track **vowel occurrences** in a dictionary and **count consonants** in the window.\n",
    "   - Whenever a window contains all vowels and at least `k` consonants, count all substrings ending at `end`.\n",
    "\n",
    "2. **Compute Exact `k` Consonants**\n",
    "   - `countOfSubstrings(word, k) = atLeastK(word, k) - atLeastK(word, k + 1)`"
   ]
  },
  {
   "cell_type": "code",
   "execution_count": 3,
   "metadata": {},
   "outputs": [],
   "source": [
    "def countOfSubstrings(word, k):\n",
    "    return atLeastK(word, k) - atLeastK(word, k + 1)\n",
    "\n",
    "def isVowel(char):\n",
    "    return char in {'a', 'e', 'i', 'o', 'u'}\n",
    "\n",
    "def atLeastK(word, k):\n",
    "    n = len(word)\n",
    "    start, end = 0, 0\n",
    "    numValidSubstrings = 0\n",
    "    vowelCount = {}\n",
    "    consonantCount = 0\n",
    "    \n",
    "    while end < n:\n",
    "        newLetter = word[end]\n",
    "        if isVowel(newLetter):\n",
    "            vowelCount[newLetter] = vowelCount.get(newLetter, 0) + 1\n",
    "        else:\n",
    "            consonantCount += 1\n",
    "            \n",
    "        while len(vowelCount) == 5 and consonantCount >= k:\n",
    "            numValidSubstrings += n - end\n",
    "            \n",
    "            startLetter = word[start]\n",
    "            if isVowel(startLetter):\n",
    "                vowelCount[startLetter] -= 1\n",
    "                if vowelCount[startLetter] == 0:\n",
    "                    del vowelCount[startLetter]\n",
    "            else:\n",
    "                consonantCount -= 1\n",
    "            \n",
    "            start += 1\n",
    "                \n",
    "        end += 1\n",
    "        \n",
    "    return numValidSubstrings"
   ]
  },
  {
   "cell_type": "code",
   "execution_count": 4,
   "metadata": {},
   "outputs": [
    {
     "name": "stdout",
     "output_type": "stream",
     "text": [
      "0\n",
      "1\n",
      "3\n"
     ]
    }
   ],
   "source": [
    "# 🔍 Example 1\n",
    "word = \"aeioqq\"\n",
    "k = 1\n",
    "print(countOfSubstrings(word, k))  # Output: 0\n",
    "# No substring contains all vowels.\n",
    "\n",
    "# 🔍 Example 2\n",
    "word = \"aeiou\"\n",
    "k = 0\n",
    "print(countOfSubstrings(word, k))  # Output: 1\n",
    "# The only substring with every vowel and zero consonants is \"aeiou\".\n",
    "\n",
    "# 🔍 Example 3\n",
    "word = \"ieaouqqieaouqq\"\n",
    "k = 1\n",
    "print(countOfSubstrings(word, k))  # Output: 3\n",
    "# Valid substrings: \"ieaouq\", \"qieaou\", \"ieaouq\"."
   ]
  }
 ],
 "metadata": {
  "kernelspec": {
   "display_name": "myenv",
   "language": "python",
   "name": "python3"
  },
  "language_info": {
   "codemirror_mode": {
    "name": "ipython",
    "version": 3
   },
   "file_extension": ".py",
   "mimetype": "text/x-python",
   "name": "python",
   "nbconvert_exporter": "python",
   "pygments_lexer": "ipython3",
   "version": "3.11.3"
  }
 },
 "nbformat": 4,
 "nbformat_minor": 2
}
