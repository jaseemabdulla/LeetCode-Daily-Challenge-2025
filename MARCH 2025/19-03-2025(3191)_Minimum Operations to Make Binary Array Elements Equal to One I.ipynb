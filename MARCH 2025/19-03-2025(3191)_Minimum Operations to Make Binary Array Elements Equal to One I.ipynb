{
 "cells": [
  {
   "cell_type": "markdown",
   "metadata": {},
   "source": [
    "# Minimum Operations to Make Binary Array Elements Equal to One I\n",
    "\n",
    "## Problem Statement  \n",
    "You are given a **binary array** `nums` consisting of only `0`s and `1`s.  \n",
    "\n",
    "In **one operation**, you can choose **three consecutive elements** and **flip** each of them:\n",
    "- `0` becomes `1`\n",
    "- `1` becomes `0`\n",
    "\n",
    "Return the **minimum** number of operations required to make **all elements** in `nums` equal to `1`.  \n",
    "If it's **impossible**, return `-1`.\n",
    "\n",
    "---\n",
    "\n",
    "## Approach  \n",
    "\n",
    "### 🔹 **Greedy Approach with Flipping**\n",
    "1. **Iterate through `nums`** from left to right.\n",
    "2. If we find `nums[i] == 0`, we **flip** the next 3 elements and **increment the operation count**.\n",
    "3. If **the last two elements** still contain `0`, return `-1` (impossible case).\n",
    "4. **Return the count of operations**."
   ]
  },
  {
   "cell_type": "code",
   "execution_count": 1,
   "metadata": {},
   "outputs": [],
   "source": [
    "def minOperations(nums):\n",
    "    \"\"\" Returns the minimum operations required to make all elements 1 \"\"\"\n",
    "    c = 0  # Count of operations\n",
    "    i = 0\n",
    "    ln = len(nums)\n",
    "\n",
    "    while i < ln - 2:\n",
    "        if nums[i] == 0:\n",
    "            c += 1  # Increment operation count\n",
    "            # Flip the next three elements\n",
    "            for j in range(i, i + 3):\n",
    "                nums[j] = 1 if nums[j] == 0 else 0\n",
    "        i += 1\n",
    "    \n",
    "    # If the last two elements contain a 0, return -1 (impossible)\n",
    "    if 0 in nums[ln - 2:]:\n",
    "        return -1\n",
    "    \n",
    "    return c"
   ]
  },
  {
   "cell_type": "code",
   "execution_count": 2,
   "metadata": {},
   "outputs": [
    {
     "name": "stdout",
     "output_type": "stream",
     "text": [
      "3\n",
      "-1\n"
     ]
    }
   ],
   "source": [
    "\n",
    "# 🔹 Example 1\n",
    "nums = [0,1,1,1,0,0]\n",
    "print(minOperations(nums))  # Output: 3\n",
    "\n",
    "# 🔹 Example 2\n",
    "nums = [0,1,1,1]\n",
    "print(minOperations(nums))  # Output: -1"
   ]
  }
 ],
 "metadata": {
  "kernelspec": {
   "display_name": "myenv",
   "language": "python",
   "name": "python3"
  },
  "language_info": {
   "codemirror_mode": {
    "name": "ipython",
    "version": 3
   },
   "file_extension": ".py",
   "mimetype": "text/x-python",
   "name": "python",
   "nbconvert_exporter": "python",
   "pygments_lexer": "ipython3",
   "version": "3.11.3"
  }
 },
 "nbformat": 4,
 "nbformat_minor": 2
}
