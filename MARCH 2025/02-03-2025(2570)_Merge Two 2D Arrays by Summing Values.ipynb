{
 "cells": [
  {
   "cell_type": "markdown",
   "metadata": {},
   "source": [
    "# Merge Two 2D Arrays by Summing Values\n",
    "\n",
    "## Problem Statement\n",
    "You are given two 2D arrays `nums1` and `nums2`, where each array represents a list of pairs:\n",
    "\n",
    "- Each pair is represented as `[id, value]`.\n",
    "- If an `id` exists in both arrays, **sum the values**.\n",
    "- If an `id` exists in only one array, keep it as it is.\n",
    "\n",
    "Return the result as a sorted array by `id`.\n",
    "\n",
    "---\n",
    "\n",
    "## Approach\n",
    "\n",
    "### Steps to Solve the Problem\n",
    "1. **Convert Lists to Dictionaries**:\n",
    "   - Convert `nums1` and `nums2` into dictionaries using `dict()`, where keys are `id` and values are `value`.\n",
    "\n",
    "2. **Use Counter from Collections**:\n",
    "   - Use `Counter` to merge both dictionaries and sum values for common keys.\n",
    "\n",
    "3. **Sort the Result**:\n",
    "   - Convert the merged dictionary into a list of pairs and sort them by `id`."
   ]
  },
  {
   "cell_type": "code",
   "execution_count": 1,
   "metadata": {},
   "outputs": [],
   "source": [
    "from collections import Counter\n",
    "\n",
    "def mergeArrays(nums1, nums2):\n",
    "    return sorted((Counter(dict(nums1)) + Counter(dict(nums2))).items())"
   ]
  },
  {
   "cell_type": "code",
   "execution_count": 2,
   "metadata": {},
   "outputs": [
    {
     "name": "stdout",
     "output_type": "stream",
     "text": [
      "[(1, 6), (2, 3), (3, 2), (4, 6)]\n",
      "[(1, 3), (2, 4), (3, 6), (4, 3), (5, 5)]\n"
     ]
    }
   ],
   "source": [
    "# Example 1\n",
    "nums1 = [[1, 2], [2, 3], [4, 5]]\n",
    "nums2 = [[1, 4], [3, 2], [4, 1]]\n",
    "print(mergeArrays(nums1, nums2))\n",
    "# Output: [[1, 6], [2, 3], [3, 2], [4, 6]]\n",
    "\n",
    "# Example 2\n",
    "nums1 = [[2, 4], [3, 6], [5, 5]]\n",
    "nums2 = [[1, 3], [4, 3]]\n",
    "print(mergeArrays(nums1, nums2))\n",
    "# Output: [[1, 3], [2, 4], [3, 6], [4, 3], [5, 5]]"
   ]
  }
 ],
 "metadata": {
  "kernelspec": {
   "display_name": "myenv",
   "language": "python",
   "name": "python3"
  },
  "language_info": {
   "codemirror_mode": {
    "name": "ipython",
    "version": 3
   },
   "file_extension": ".py",
   "mimetype": "text/x-python",
   "name": "python",
   "nbconvert_exporter": "python",
   "pygments_lexer": "ipython3",
   "version": "3.11.3"
  }
 },
 "nbformat": 4,
 "nbformat_minor": 2
}
