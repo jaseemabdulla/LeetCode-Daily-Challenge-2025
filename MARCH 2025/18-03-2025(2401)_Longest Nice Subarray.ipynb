{
 "cells": [
  {
   "cell_type": "markdown",
   "metadata": {},
   "source": [
    "# Longest Nice Subarray\n",
    "\n",
    "## Problem Statement  \n",
    "You are given an integer array `nums`. A subarray is called **nice** if:\n",
    "- The **bitwise AND** of any two **different** elements in the subarray is `0`.\n",
    "\n",
    "Return the **length of the longest nice subarray**.\n",
    "\n",
    "---\n",
    "\n",
    "## Approach  \n",
    "\n",
    "### 🔹 **Sliding Window with Bit Manipulation**\n",
    "1. **Use a bitmask (`used_bits`)** to track the bits used in the current subarray.\n",
    "2. **Expand the window** by adding `nums[window_end]`:\n",
    "   - If the **bitwise AND** of `nums[window_end]` with `used_bits` is `0`, add `nums[window_end]` to `used_bits`.\n",
    "   - Otherwise, **shrink the window** (`window_start`) until the AND condition holds.\n",
    "3. **Update `max_length`** at each step."
   ]
  },
  {
   "cell_type": "code",
   "execution_count": 1,
   "metadata": {},
   "outputs": [],
   "source": [
    "def longestNiceSubarray(nums):\n",
    "    \"\"\" Returns the length of the longest nice subarray \"\"\"\n",
    "    used_bits = 0  # Track used bits\n",
    "    window_start = 0  # Left pointer\n",
    "    max_length = 0  # Track max nice subarray length\n",
    "\n",
    "    for window_end in range(len(nums)):\n",
    "        # Shrink window if AND is non-zero (conflict in bit usage)\n",
    "        while used_bits & nums[window_end] != 0:\n",
    "            used_bits ^= nums[window_start]  # Remove leftmost element\n",
    "            window_start += 1  \n",
    "\n",
    "        # Expand window\n",
    "        used_bits |= nums[window_end]\n",
    "        max_length = max(max_length, window_end - window_start + 1)\n",
    "\n",
    "    return max_length"
   ]
  },
  {
   "cell_type": "code",
   "execution_count": null,
   "metadata": {},
   "outputs": [
    {
     "name": "stdout",
     "output_type": "stream",
     "text": [
      "3\n",
      "1\n"
     ]
    },
    {
     "ename": "",
     "evalue": "",
     "output_type": "error",
     "traceback": [
      "\u001b[1;31mThe Kernel crashed while executing code in the current cell or a previous cell. \n",
      "\u001b[1;31mPlease review the code in the cell(s) to identify a possible cause of the failure. \n",
      "\u001b[1;31mClick <a href='https://aka.ms/vscodeJupyterKernelCrash'>here</a> for more info. \n",
      "\u001b[1;31mView Jupyter <a href='command:jupyter.viewOutput'>log</a> for further details."
     ]
    }
   ],
   "source": [
    "# 🔹 Example 1\n",
    "nums = [1,3,8,48,10]\n",
    "print(longestNiceSubarray(nums))  # Output: 3\n",
    "\n",
    "# 🔹 Example 2\n",
    "nums = [3,1,5,11,13]\n",
    "print(longestNiceSubarray(nums))  # Output: 1"
   ]
  }
 ],
 "metadata": {
  "kernelspec": {
   "display_name": "myenv",
   "language": "python",
   "name": "python3"
  },
  "language_info": {
   "codemirror_mode": {
    "name": "ipython",
    "version": 3
   },
   "file_extension": ".py",
   "mimetype": "text/x-python",
   "name": "python",
   "nbconvert_exporter": "python",
   "pygments_lexer": "ipython3",
   "version": "3.11.3"
  }
 },
 "nbformat": 4,
 "nbformat_minor": 2
}
