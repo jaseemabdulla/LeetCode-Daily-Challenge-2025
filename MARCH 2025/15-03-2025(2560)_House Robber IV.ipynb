{
 "cells": [
  {
   "cell_type": "markdown",
   "metadata": {},
   "source": [
    "# House Robber IV\n",
    "\n",
    "## Problem Statement  \n",
    "You are given an integer array `nums`, where `nums[i]` represents the money stored in the `i`-th house. You also have an integer `k`, which represents the number of houses you need to rob.  \n",
    "\n",
    "To prevent alerting the police, **you cannot rob two adjacent houses**.  \n",
    "\n",
    "Return the **minimum capability** required to rob exactly `k` houses, where **capability** is the maximum money stored in any of the robbed houses.\n",
    "\n",
    "---\n",
    "\n",
    "## Approach  \n",
    "\n",
    "### 🔹 **Binary Search on Capability**  \n",
    "1. **Define the Search Space:**  \n",
    "   - The **minimum** capability is `min(nums)`, because the lowest amount a house can store is at least that value.  \n",
    "   - The **maximum** capability is `max(nums)`, since we must consider robbing the richest house.\n",
    "\n",
    "2. **Check Feasibility Using a Helper Function:**  \n",
    "   - We use a helper function `canRobAtLeastK(nums, capability, k)`, which checks whether it is possible to rob **at least `k` houses** without robbing adjacent ones, while ensuring the capability is within `mid`.\n",
    "\n",
    "3. **Binary Search for the Minimum Valid Capability:**  \n",
    "   - If it is **possible** to rob at least `k` houses with `mid` capability, try lowering `mid`.  \n",
    "   - Otherwise, increase `mid` to allow higher capability.  \n",
    "   - Continue until `left` and `right` converge, which gives the minimum capability needed.\n"
   ]
  },
  {
   "cell_type": "code",
   "execution_count": 1,
   "metadata": {},
   "outputs": [],
   "source": [
    "def canRobAtLeastK(nums, capability, k):\n",
    "    \"\"\" Helper function to check if we can rob at least k houses with given capability \"\"\"\n",
    "    count = 0\n",
    "    i = 0\n",
    "    \n",
    "    while i < len(nums):\n",
    "        if nums[i] <= capability:\n",
    "            count += 1\n",
    "            if count == k:\n",
    "                return True\n",
    "            i += 1  # Skip the next house (to avoid adjacent robbery)\n",
    "        i += 1  # Move to the next house\n",
    "        \n",
    "    return False\n",
    "\n",
    "def minCapability(nums, k):\n",
    "    \"\"\" Returns the minimum capability required to rob exactly k houses \"\"\"\n",
    "    left, right = min(nums), max(nums)\n",
    "    result = right\n",
    "    \n",
    "    while left <= right:\n",
    "        mid = (left + right) // 2\n",
    "        if canRobAtLeastK(nums, mid, k):\n",
    "            result = mid  # Store the valid capability\n",
    "            right = mid - 1  # Try to lower it\n",
    "        else:\n",
    "            left = mid + 1  # Increase capability\n",
    "    \n",
    "    return result"
   ]
  },
  {
   "cell_type": "code",
   "execution_count": 2,
   "metadata": {},
   "outputs": [
    {
     "name": "stdout",
     "output_type": "stream",
     "text": [
      "5\n",
      "2\n"
     ]
    }
   ],
   "source": [
    "\n",
    "# 🔹 Example 1\n",
    "nums = [2, 3, 5, 9]\n",
    "k = 2\n",
    "print(minCapability(nums, k))  # Output: 5\n",
    "\n",
    "# 🔹 Example 2\n",
    "nums = [2, 7, 9, 3, 1]\n",
    "k = 2\n",
    "print(minCapability(nums, k))  # Output: 2"
   ]
  }
 ],
 "metadata": {
  "kernelspec": {
   "display_name": "myenv",
   "language": "python",
   "name": "python3"
  },
  "language_info": {
   "codemirror_mode": {
    "name": "ipython",
    "version": 3
   },
   "file_extension": ".py",
   "mimetype": "text/x-python",
   "name": "python",
   "nbconvert_exporter": "python",
   "pygments_lexer": "ipython3",
   "version": "3.11.3"
  }
 },
 "nbformat": 4,
 "nbformat_minor": 2
}
