{
 "cells": [
  {
   "cell_type": "markdown",
   "metadata": {},
   "source": [
    "# Minimum Cost Walk in Weighted Graph\n",
    "\n",
    "## Problem Statement  \n",
    "You are given a weighted undirected graph represented by an integer `n` (the number of nodes) and a list of `edges`, where each edge is represented as `[u, v, w]` indicating an edge between nodes `u` and `v` with weight `w`.  \n",
    "\n",
    "You are also given a list of queries, where each query is `[u, v]` asking for the **minimum AND weight** of any path between nodes `u` and `v`.  \n",
    "\n",
    "Return a list of answers for each query. If there is **no path** between the two nodes, return `-1` for that query.\n",
    "\n",
    "---\n",
    "\n",
    "## Approach  \n",
    "\n",
    "### 🔹 **Union-Find (Disjoint Set Union - DSU)**\n",
    "1. **Union-Find Initialization:**  \n",
    "   - Create a DSU class to handle the union-find operations.\n",
    "   - Implement **path compression** for efficient root finding.\n",
    "   - Implement **union by rank** for balanced merging of sets.\n",
    "\n",
    "2. **Union Sets:**  \n",
    "   - Union all the edges to build connected components.\n",
    "   - Maintain a list `ands` to store the minimum AND of weights for each connected component.\n",
    "\n",
    "3. **Compute ANDs:**  \n",
    "   - Iterate over edges and update the AND value for each component.\n",
    "\n",
    "4. **Answer Queries:**  \n",
    "   - For each query, check if the nodes belong to the **same connected component**.\n",
    "   - If yes, return the minimum AND value of that component; otherwise, return `-1`."
   ]
  },
  {
   "cell_type": "code",
   "execution_count": 1,
   "metadata": {},
   "outputs": [],
   "source": [
    "class DSU:\n",
    "    def __init__(self, n):\n",
    "        self.par = list(range(n + 1))  # Parent array\n",
    "        self.rank = [1] * (n + 1)      # Rank array for balanced merging\n",
    "\n",
    "    def find_set(self, v):\n",
    "        \"\"\"Finds the representative of the set with path compression.\"\"\"\n",
    "        if v == self.par[v]:\n",
    "            return v\n",
    "        self.par[v] = self.find_set(self.par[v])  # Path compression\n",
    "        return self.par[v]\n",
    "\n",
    "    def union_sets(self, a, b):\n",
    "        \"\"\"Unions two sets using rank to keep the tree shallow.\"\"\"\n",
    "        a = self.find_set(a)\n",
    "        b = self.find_set(b)\n",
    "        if a != b:\n",
    "            if self.rank[a] < self.rank[b]:\n",
    "                a, b = b, a\n",
    "            self.par[b] = a\n",
    "            self.rank[a] += self.rank[b]  # Merge ranks\n",
    "\n",
    "\n",
    "class Solution:\n",
    "    def minimumCost(self, n, edges, query):\n",
    "        ds = DSU(n)  # Create DSU instance\n",
    "        ands = [-1] * (n + 1)  # ANDs for each component\n",
    "\n",
    "        # Union all edges to build connected components\n",
    "        for u, v, w in edges:\n",
    "            ds.union_sets(u, v)\n",
    "\n",
    "        # Calculate minimum AND for each component\n",
    "        for u, v, w in edges:\n",
    "            root = ds.find_set(u)\n",
    "            if ands[root] == -1:\n",
    "                ands[root] = w\n",
    "            else:\n",
    "                ands[root] &= w  # Perform bitwise AND\n",
    "\n",
    "        # Process each query\n",
    "        ans = []\n",
    "        for u, v in query:\n",
    "            if ds.find_set(u) == ds.find_set(v):  # Same component\n",
    "                ans.append(ands[ds.find_set(u)])\n",
    "            else:\n",
    "                ans.append(-1)  # No valid path\n",
    "\n",
    "        return ans"
   ]
  },
  {
   "cell_type": "code",
   "execution_count": null,
   "metadata": {},
   "outputs": [
    {
     "name": "stdout",
     "output_type": "stream",
     "text": [
      "[1, -1]\n",
      "[0]\n"
     ]
    },
    {
     "ename": "",
     "evalue": "",
     "output_type": "error",
     "traceback": [
      "\u001b[1;31mThe Kernel crashed while executing code in the current cell or a previous cell. \n",
      "\u001b[1;31mPlease review the code in the cell(s) to identify a possible cause of the failure. \n",
      "\u001b[1;31mClick <a href='https://aka.ms/vscodeJupyterKernelCrash'>here</a> for more info. \n",
      "\u001b[1;31mView Jupyter <a href='command:jupyter.viewOutput'>log</a> for further details."
     ]
    }
   ],
   "source": [
    "# 🔹 Example 1\n",
    "n = 5\n",
    "edges = [[0, 1, 7], [1, 3, 7], [1, 2, 1]]\n",
    "query = [[0, 3], [3, 4]]\n",
    "sol = Solution()\n",
    "print(sol.minimumCost(n, edges, query))  # Output: [1, -1]\n",
    "\n",
    "# 🔹 Example 2\n",
    "n = 3\n",
    "edges = [[0, 2, 7], [0, 1, 15], [1, 2, 6], [1, 2, 1]]\n",
    "query = [[1, 2]]\n",
    "print(sol.minimumCost(n, edges, query))  # Output: [0]"
   ]
  }
 ],
 "metadata": {
  "kernelspec": {
   "display_name": "myenv",
   "language": "python",
   "name": "python3"
  },
  "language_info": {
   "codemirror_mode": {
    "name": "ipython",
    "version": 3
   },
   "file_extension": ".py",
   "mimetype": "text/x-python",
   "name": "python",
   "nbconvert_exporter": "python",
   "pygments_lexer": "ipython3",
   "version": "3.11.3"
  }
 },
 "nbformat": 4,
 "nbformat_minor": 2
}
