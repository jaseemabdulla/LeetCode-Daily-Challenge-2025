{
 "cells": [
  {
   "cell_type": "markdown",
   "metadata": {},
   "source": [
    "# Minimum Recolors to Get K Consecutive Black Blocks\n",
    "\n",
    "## Problem Statement\n",
    "You are given a string **blocks** consisting of characters `'B'` (black) and `'W'` (white). You need to find the **minimum** number of recolors required to get at least **k** consecutive black (`'B'`) blocks.\n",
    "\n",
    "---\n",
    "\n",
    "## Approach\n",
    "### Sliding Window Technique\n",
    "1. **Initialize a sliding window of size `k`**:\n",
    "   - Count the number of **'W'** blocks in the first `k` elements.\n",
    "   - Store this count as the **initial recolor count**.\n",
    "\n",
    "2. **Move the window one step at a time**:\n",
    "   - Remove the leftmost element from the window.\n",
    "   - Add the next element to the window.\n",
    "   - Update the count of **'W'** blocks accordingly.\n",
    "   - Keep track of the minimum number of recolors needed.\n",
    "\n",
    "3. **Return the minimum recolor count**."
   ]
  },
  {
   "cell_type": "code",
   "execution_count": 1,
   "metadata": {},
   "outputs": [],
   "source": [
    "def minimumRecolors(blocks, k):\n",
    "    left, right = 0, 0\n",
    "    numWhites = 0\n",
    "    \n",
    "    # Count white blocks in the first k-sized window\n",
    "    while right < k:\n",
    "        if blocks[right] == 'W':\n",
    "            numWhites += 1\n",
    "        right += 1\n",
    "\n",
    "    numRecolors = numWhites  # Initialize the minimum recolor count\n",
    "\n",
    "    n = len(blocks)\n",
    "\n",
    "    # Slide the window across the string\n",
    "    while right < n:\n",
    "        # Remove leftmost character from the window\n",
    "        if blocks[left] == 'W':\n",
    "            numWhites -= 1\n",
    "        left += 1\n",
    "\n",
    "        # Add the new rightmost character to the window\n",
    "        if blocks[right] == 'W':\n",
    "            numWhites += 1\n",
    "        right += 1\n",
    "\n",
    "        # Update the minimum recolors needed\n",
    "        numRecolors = min(numRecolors, numWhites)\n",
    "\n",
    "    return numRecolors"
   ]
  },
  {
   "cell_type": "code",
   "execution_count": 2,
   "metadata": {},
   "outputs": [
    {
     "name": "stdout",
     "output_type": "stream",
     "text": [
      "3\n",
      "0\n"
     ]
    }
   ],
   "source": [
    "# Example 1\n",
    "print(minimumRecolors(\"WBBWWBBWBW\", 7))  # Output: 3\n",
    "\n",
    "# Example 2\n",
    "print(minimumRecolors(\"WBWBBBW\", 2))  # Output: 0"
   ]
  }
 ],
 "metadata": {
  "kernelspec": {
   "display_name": "myenv",
   "language": "python",
   "name": "python3"
  },
  "language_info": {
   "codemirror_mode": {
    "name": "ipython",
    "version": 3
   },
   "file_extension": ".py",
   "mimetype": "text/x-python",
   "name": "python",
   "nbconvert_exporter": "python",
   "pygments_lexer": "ipython3",
   "version": "3.11.3"
  }
 },
 "nbformat": 4,
 "nbformat_minor": 2
}
