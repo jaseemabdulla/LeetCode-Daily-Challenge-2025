{
 "cells": [
  {
   "cell_type": "markdown",
   "metadata": {},
   "source": [
    "# Partition Array According to Given Pivot\n",
    "\n",
    "## Problem Statement\n",
    "Given an integer array `nums` and an integer `pivot`, partition the array into three parts:\n",
    "1. Elements **less than** the pivot.\n",
    "2. Elements **equal to** the pivot.\n",
    "3. Elements **greater than** the pivot.\n",
    "\n",
    "The relative order of elements in each partition should be preserved.\n",
    "\n",
    "---\n",
    "\n",
    "## Approach\n",
    "### Explanation\n",
    "The goal is to partition the array into three parts while maintaining their relative order:\n",
    "1. Collect all elements **less than** the pivot.\n",
    "2. Collect all elements **equal to** the pivot.\n",
    "3. Collect all elements **greater than** the pivot.\n",
    "\n",
    "Python's **list comprehension** and **filtering functions** can efficiently achieve this in one line.\n"
   ]
  },
  {
   "cell_type": "code",
   "execution_count": 1,
   "metadata": {},
   "outputs": [],
   "source": [
    "from operator import lt, eq, gt\n",
    "\n",
    "def pivotArray(nums, pivot):\n",
    "    return [v for f in (lt, eq, gt) for v in nums if f(v, pivot)]"
   ]
  },
  {
   "cell_type": "code",
   "execution_count": 2,
   "metadata": {},
   "outputs": [
    {
     "name": "stdout",
     "output_type": "stream",
     "text": [
      "[9, 5, 3, 10, 10, 12, 14]\n",
      "[-3, 2, 4, 3]\n"
     ]
    }
   ],
   "source": [
    "# Example 1\n",
    "nums1 = [9, 12, 5, 10, 14, 3, 10]\n",
    "pivot1 = 10\n",
    "print(pivotArray(nums1, pivot1))\n",
    "# Output: [9, 5, 3, 10, 10, 12, 14]\n",
    "\n",
    "# Example 2\n",
    "nums2 = [-3, 4, 3, 2]\n",
    "pivot2 = 2\n",
    "print(pivotArray(nums2, pivot2))\n",
    "# Output: [-3, 2, 4, 3]"
   ]
  }
 ],
 "metadata": {
  "kernelspec": {
   "display_name": "myenv",
   "language": "python",
   "name": "python3"
  },
  "language_info": {
   "codemirror_mode": {
    "name": "ipython",
    "version": 3
   },
   "file_extension": ".py",
   "mimetype": "text/x-python",
   "name": "python",
   "nbconvert_exporter": "python",
   "pygments_lexer": "ipython3",
   "version": "3.11.3"
  }
 },
 "nbformat": 4,
 "nbformat_minor": 2
}
