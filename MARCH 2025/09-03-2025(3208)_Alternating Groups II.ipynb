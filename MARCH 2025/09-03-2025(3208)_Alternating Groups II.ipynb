{
 "cells": [
  {
   "cell_type": "markdown",
   "metadata": {},
   "source": [
    "# 📝 Alternating Groups II\n",
    "\n",
    "## Problem Statement\n",
    "Given a list `colors` consisting of `0`s and `1`s, and an integer `k`, we need to **count the number of alternating groups** of length **at least `k`**. The sequence is **circular**, meaning that after the last element, the sequence wraps back to the start.\n",
    "\n",
    "---\n",
    "\n",
    "## 🔍 Approach\n",
    "1. **Use a Sliding Window Approach**:\n",
    "   - We iterate through the list while keeping track of **consecutive alternating colors**.\n",
    "   - If the current color is different from the previous one, increase the count (`alt_count`).\n",
    "   - If they are the same, reset `alt_count` to 1.\n",
    "\n",
    "2. **Circular Check**:\n",
    "   - We use `chain(colors, colors[:k])` to extend the list, ensuring we check circular continuity.\n",
    "   - This allows us to consider alternating groups that wrap around the end of the list.\n",
    "\n",
    "3. **Count Valid Alternating Groups**:\n",
    "   - If `alt_count >= k`, we count it as a valid alternating group."
   ]
  },
  {
   "cell_type": "code",
   "execution_count": 1,
   "metadata": {},
   "outputs": [],
   "source": [
    "from itertools import pairwise, chain\n",
    "\n",
    "def numberOfAlternatingGroups(colors, k):\n",
    "    groups = alt_count = 0  # Count of alternating groups and consecutive alternating colors\n",
    "    for a, b in pairwise(chain(colors, colors[:k])):  # Extend colors for circular check\n",
    "        alt_count = alt_count + 1 if a != b else 1  # Increase count or reset\n",
    "        groups += 1 if alt_count >= k else 0  # If we reach k length, count as a group\n",
    "\n",
    "    return groups"
   ]
  },
  {
   "cell_type": "code",
   "execution_count": 2,
   "metadata": {},
   "outputs": [
    {
     "name": "stdout",
     "output_type": "stream",
     "text": [
      "3\n",
      "2\n",
      "0\n"
     ]
    }
   ],
   "source": [
    "# Example Test Cases\n",
    "print(numberOfAlternatingGroups([0,1,0,1,0], 3))  # Output: 3\n",
    "print(numberOfAlternatingGroups([0,1,0,0,1,0,1], 6))  # Output: 2\n",
    "print(numberOfAlternatingGroups([1,1,0,1], 4))  # Output: 0\n"
   ]
  }
 ],
 "metadata": {
  "kernelspec": {
   "display_name": "myenv",
   "language": "python",
   "name": "python3"
  },
  "language_info": {
   "codemirror_mode": {
    "name": "ipython",
    "version": 3
   },
   "file_extension": ".py",
   "mimetype": "text/x-python",
   "name": "python",
   "nbconvert_exporter": "python",
   "pygments_lexer": "ipython3",
   "version": "3.11.3"
  }
 },
 "nbformat": 4,
 "nbformat_minor": 2
}
