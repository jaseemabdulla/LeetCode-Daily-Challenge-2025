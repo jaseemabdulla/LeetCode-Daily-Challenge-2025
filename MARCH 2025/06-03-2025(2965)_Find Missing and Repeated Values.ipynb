{
 "cells": [
  {
   "cell_type": "markdown",
   "metadata": {},
   "source": [
    "# Find Missing and Repeated Values\n",
    "\n",
    "## Problem Statement\n",
    "You are given a **n x n** grid containing numbers from **1** to **n*n**. Each number appears exactly once, except for **one number** which is repeated and **one number** which is missing.\n",
    "\n",
    "The task is to **find the repeated number** and the **missing number**.\n",
    "\n",
    "---\n",
    "\n",
    "## Approach\n",
    "### Steps to Solve the Problem:\n",
    "1. Create a **frequency array** of size **n*n + 1** initialized to **0** to store the count of each number.\n",
    "2. Traverse through the grid:\n",
    "   - If a number is already present in the frequency array, add it to the result list as the **repeated number**.\n",
    "   - Otherwise, mark its presence by setting `freq[val] = 1`.\n",
    "3. After traversing the entire grid, loop through the frequency array to find the missing number (`freq[i] == 0`) and append it to the result list.\n",
    "4. Finally, return the result list containing the **repeated** and **missing** values.\n"
   ]
  },
  {
   "cell_type": "code",
   "execution_count": 2,
   "metadata": {},
   "outputs": [],
   "source": [
    "def findMissingAndRepeatedValues(grid):\n",
    "    n = len(grid)\n",
    "    ans = []\n",
    "    freq = [0] * (n * n + 1)\n",
    "\n",
    "    # Count the frequency of each number\n",
    "    for row in grid:\n",
    "        for val in row:\n",
    "            if freq[val] == 1:\n",
    "                ans.append(val)  # Repeated Number\n",
    "            else:\n",
    "                freq[val] = 1\n",
    "\n",
    "    # Find the missing number\n",
    "    for i in range(1, n * n + 1):\n",
    "        if freq[i] == 0:\n",
    "            ans.append(i)  # Missing Number\n",
    "\n",
    "    return ans\n"
   ]
  },
  {
   "cell_type": "code",
   "execution_count": 3,
   "metadata": {},
   "outputs": [
    {
     "name": "stdout",
     "output_type": "stream",
     "text": [
      "[2, 4]\n",
      "[9, 5]\n"
     ]
    }
   ],
   "source": [
    "# Example 1\n",
    "grid1 = [[1, 3], [2, 2]]\n",
    "print(findMissingAndRepeatedValues(grid1))  # Output: [2, 4]\n",
    "\n",
    "# Example 2\n",
    "grid2 = [[9, 1, 7], [8, 9, 2], [3, 4, 6]]\n",
    "print(findMissingAndRepeatedValues(grid2))  # Output: [9, 5]"
   ]
  }
 ],
 "metadata": {
  "kernelspec": {
   "display_name": "myenv",
   "language": "python",
   "name": "python3"
  },
  "language_info": {
   "codemirror_mode": {
    "name": "ipython",
    "version": 3
   },
   "file_extension": ".py",
   "mimetype": "text/x-python",
   "name": "python",
   "nbconvert_exporter": "python",
   "pygments_lexer": "ipython3",
   "version": "3.11.3"
  }
 },
 "nbformat": 4,
 "nbformat_minor": 2
}
