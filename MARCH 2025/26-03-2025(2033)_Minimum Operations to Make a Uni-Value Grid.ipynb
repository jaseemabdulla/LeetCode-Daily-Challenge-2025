{
 "cells": [
  {
   "cell_type": "markdown",
   "metadata": {},
   "source": [
    "# Minimum Operations to Make a Uni-Value Grid (Python 2 Version)\n",
    "\n",
    "## Problem Statement  \n",
    "Given a grid of integers and an integer `x`, determine the minimum number of operations required to make all elements of the grid equal. In one operation, you can add or subtract `x` from any element of the grid.\n",
    "\n",
    "---\n",
    "\n",
    "## Approach  \n",
    "1. **Check Modulo Condition:**  \n",
    "   - All elements should have the same remainder when divided by `x`. If not, it's impossible to make all elements equal, and we return `-1`.\n",
    "\n",
    "2. **Calculate Median:**  \n",
    "   - Convert the grid to a 1D array and sort it.  \n",
    "   - Find the median — minimizing the absolute difference to the median minimizes the total operations.\n",
    "\n",
    "3. **Compute Minimum Operations:**  \n",
    "   - Calculate the number of operations required to make all elements equal to the median."
   ]
  },
  {
   "cell_type": "code",
   "execution_count": 1,
   "metadata": {},
   "outputs": [],
   "source": [
    "def min_operations(grid, x):\n",
    "    rem = grid[0][0] % x\n",
    "    arr = []\n",
    "    \n",
    "    # Check if all elements have the same remainder when divided by x\n",
    "    for row in grid:\n",
    "        for num in row:\n",
    "            if num % x != rem:\n",
    "                return -1\n",
    "            arr.append(num)\n",
    "    \n",
    "    arr.sort()\n",
    "    mid = arr[len(arr) // 2]  # Median for minimum absolute differences\n",
    "    \n",
    "    # Calculate the minimum operations\n",
    "    return sum(abs(num - mid) // x for num in arr)"
   ]
  },
  {
   "cell_type": "code",
   "execution_count": 2,
   "metadata": {},
   "outputs": [
    {
     "name": "stdout",
     "output_type": "stream",
     "text": [
      "Example 1 Output: 4\n",
      "Example 2 Output: 5\n",
      "Example 3 Output: -1\n"
     ]
    }
   ],
   "source": [
    "# Example 1\n",
    "grid1 = [[2, 4], [6, 8]]\n",
    "x1 = 2\n",
    "print(\"Example 1 Output:\", min_operations(grid1, x1))  # Output: 4\n",
    "\n",
    "# Example 2\n",
    "grid2 = [[1, 5], [2, 3]]\n",
    "x2 = 1\n",
    "print(\"Example 2 Output:\", min_operations(grid2, x2))  # Output: 5\n",
    "\n",
    "# Example 3\n",
    "grid3 = [[1, 2], [3, 4]]\n",
    "x3 = 2\n",
    "print(\"Example 3 Output:\", min_operations(grid3, x3))  # Output: -1"
   ]
  }
 ],
 "metadata": {
  "kernelspec": {
   "display_name": "myenv",
   "language": "python",
   "name": "python3"
  },
  "language_info": {
   "codemirror_mode": {
    "name": "ipython",
    "version": 3
   },
   "file_extension": ".py",
   "mimetype": "text/x-python",
   "name": "python",
   "nbconvert_exporter": "python",
   "pygments_lexer": "ipython3",
   "version": "3.11.3"
  }
 },
 "nbformat": 4,
 "nbformat_minor": 2
}
