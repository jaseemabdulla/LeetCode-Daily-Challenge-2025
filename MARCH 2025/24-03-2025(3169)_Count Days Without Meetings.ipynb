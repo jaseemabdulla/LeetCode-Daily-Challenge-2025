{
 "cells": [
  {
   "cell_type": "markdown",
   "metadata": {},
   "source": [
    "# Count Days Without Meetings (Python 2 Version)\n",
    "\n",
    "## Problem Statement  \n",
    "Given the total number of working days (`days`) and a list of meeting schedules (`meetings`), find the number of days without any scheduled meetings.\n",
    "\n",
    "---\n",
    "\n",
    "## Approach  \n",
    "1. **Sorting and Merging Meetings:**  \n",
    "   - First, sort the meetings by their start and end days.\n",
    "   - Merge overlapping or consecutive meetings to get the actual busy days.\n",
    "\n",
    "2. **Counting Free Days:**  \n",
    "   - Calculate free days before the first merged meeting and after the last merged meeting.\n",
    "   - Count the gaps (free days) between merged meetings."
   ]
  },
  {
   "cell_type": "code",
   "execution_count": 1,
   "metadata": {},
   "outputs": [],
   "source": [
    "def count_days(days, meetings):\n",
    "    # Step 1: Sort meetings by start and end times\n",
    "    meetings.sort(key=lambda x: (x[0], x[1]))\n",
    "    merged = [meetings[0]]\n",
    "\n",
    "    # Step 2: Merge overlapping or consecutive meetings\n",
    "    for i in range(1, len(meetings)):\n",
    "        cs, ce = meetings[i]\n",
    "        if cs <= merged[-1][1]:  # Overlapping or consecutive meetings\n",
    "            merged[-1][1] = max(merged[-1][1], ce)\n",
    "        else:\n",
    "            merged.append([cs, ce])\n",
    "\n",
    "    # Step 3: Calculate free days\n",
    "    res = merged[0][0] - 1  # Days before the first meeting\n",
    "    if len(merged) == 1:  # If there is only one merged block\n",
    "        return days - merged[-1][1] + res\n",
    "\n",
    "    # Counting gaps between merged meetings\n",
    "    for i in range(1, len(merged)):\n",
    "        res += (merged[i][0] - merged[i - 1][1] - 1)\n",
    "\n",
    "    # Adding days after the last meeting\n",
    "    res += (days - merged[-1][1])\n",
    "\n",
    "    return res"
   ]
  },
  {
   "cell_type": "code",
   "execution_count": 2,
   "metadata": {},
   "outputs": [
    {
     "name": "stdout",
     "output_type": "stream",
     "text": [
      "Example 1 Output: 2\n",
      "Example 2 Output: 1\n",
      "Example 3 Output: 0\n"
     ]
    }
   ],
   "source": [
    "# Example 1\n",
    "days = 10\n",
    "meetings = [[5, 7], [1, 3], [9, 10]]\n",
    "print (\"Example 1 Output:\", count_days(days, meetings))  # Output: 2\n",
    "\n",
    "# Example 2\n",
    "days = 5\n",
    "meetings = [[2, 4], [1, 3]]\n",
    "print (\"Example 2 Output:\", count_days(days, meetings))  # Output: 1\n",
    "\n",
    "# Example 3\n",
    "days = 6\n",
    "meetings = [[1, 6]]\n",
    "print (\"Example 3 Output:\", count_days(days, meetings))  # Output: 0"
   ]
  }
 ],
 "metadata": {
  "kernelspec": {
   "display_name": "myenv",
   "language": "python",
   "name": "python3"
  },
  "language_info": {
   "codemirror_mode": {
    "name": "ipython",
    "version": 3
   },
   "file_extension": ".py",
   "mimetype": "text/x-python",
   "name": "python",
   "nbconvert_exporter": "python",
   "pygments_lexer": "ipython3",
   "version": "3.11.3"
  }
 },
 "nbformat": 4,
 "nbformat_minor": 2
}
