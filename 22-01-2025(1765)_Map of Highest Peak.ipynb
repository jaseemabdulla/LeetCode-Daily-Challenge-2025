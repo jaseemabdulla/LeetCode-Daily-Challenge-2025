{
 "cells": [
  {
   "cell_type": "code",
   "execution_count": 1,
   "metadata": {},
   "outputs": [],
   "source": [
    "from collections import deque\n",
    "\n",
    "def highestPeak(isWater):\n",
    "        d=((0,1),(1,0),(-1,0),(0,-1))\n",
    "        m,n=len(isWater),len(isWater[0])\n",
    "        q=deque()\n",
    "        res=[[-1]*n for _ in range(m)]\n",
    "        for i in range(m):\n",
    "            for j in range(n):\n",
    "                if(isWater[i][j]==1):\n",
    "                    res[i][j]=0\n",
    "                    q.append((i,j))\n",
    "        t=1\n",
    "        while(q):\n",
    "            for _ in range(len(q)):\n",
    "                r,c=q.popleft()\n",
    "                for dx,dy in d:\n",
    "                    nr,nc=r+dx,c+dy\n",
    "                    if(0<=nr<m and 0<=nc<n and res[nr][nc]==-1):\n",
    "                        q.append((nr,nc))\n",
    "                        res[nr][nc]=t\n",
    "            t+=1\n",
    "            \n",
    "        return res"
   ]
  }
 ],
 "metadata": {
  "kernelspec": {
   "display_name": "myenv",
   "language": "python",
   "name": "python3"
  },
  "language_info": {
   "codemirror_mode": {
    "name": "ipython",
    "version": 3
   },
   "file_extension": ".py",
   "mimetype": "text/x-python",
   "name": "python",
   "nbconvert_exporter": "python",
   "pygments_lexer": "ipython3",
   "version": "3.11.3"
  }
 },
 "nbformat": 4,
 "nbformat_minor": 2
}
