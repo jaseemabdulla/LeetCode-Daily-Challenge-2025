{
 "cells": [
  {
   "cell_type": "markdown",
   "metadata": {},
   "source": [
    "# Intuition\n",
    "The problem involves counting the number of words in a list that start with a given prefix. Python's `str.startswith()` method provides a simple and efficient way to check if a string starts with a specific prefix.\n"
   ]
  },
  {
   "cell_type": "markdown",
   "metadata": {},
   "source": [
    "# Approach\n",
    "1. Use a generator expression to iterate over all words in the list.\n",
    "2. For each word, check if it starts with the given prefix using the `startswith()` method.\n",
    "3. Use the `sum()` function to count all `True` results, which correspond to words starting with the prefix.\n",
    "4. Return the count."
   ]
  },
  {
   "cell_type": "markdown",
   "metadata": {},
   "source": [
    "# Complexity\n",
    "- **Time Complexity**:  \n",
    "  \\(O(n \\cdot m)\\), where \\(n\\) is the number of words and \\(m\\) is the length of the prefix. The `startswith()` method checks up to \\(m\\) characters for each word.\n",
    "  \n",
    "- **Space Complexity**:  \n",
    "  \\(O(1)\\), as no additional space is used apart from a few variables."
   ]
  },
  {
   "cell_type": "code",
   "execution_count": 1,
   "metadata": {},
   "outputs": [],
   "source": [
    "def prefixCount(words, pref):\n",
    "        return sum(i.startswith(pref) for i in words)"
   ]
  },
  {
   "cell_type": "code",
   "execution_count": 2,
   "metadata": {},
   "outputs": [
    {
     "name": "stdout",
     "output_type": "stream",
     "text": [
      "2\n",
      "0\n"
     ]
    }
   ],
   "source": [
    "# Test Cases\n",
    "\n",
    "# Example 1\n",
    "words = [\"pay\", \"attention\", \"practice\", \"attend\"]\n",
    "pref = \"at\"\n",
    "print(prefixCount(words, pref))  # Expected Output: 2\n",
    "\n",
    "# Example 2\n",
    "words = [\"leetcode\", \"win\", \"loops\", \"success\"]\n",
    "pref = \"code\"\n",
    "print(prefixCount(words, pref))  # Expected Output: 0"
   ]
  }
 ],
 "metadata": {
  "kernelspec": {
   "display_name": "myenv",
   "language": "python",
   "name": "python3"
  },
  "language_info": {
   "codemirror_mode": {
    "name": "ipython",
    "version": 3
   },
   "file_extension": ".py",
   "mimetype": "text/x-python",
   "name": "python",
   "nbconvert_exporter": "python",
   "pygments_lexer": "ipython3",
   "version": "3.11.3"
  }
 },
 "nbformat": 4,
 "nbformat_minor": 2
}
