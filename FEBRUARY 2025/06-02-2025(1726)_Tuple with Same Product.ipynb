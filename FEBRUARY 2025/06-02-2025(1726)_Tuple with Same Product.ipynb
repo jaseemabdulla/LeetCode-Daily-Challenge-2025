{
 "cells": [
  {
   "cell_type": "code",
   "execution_count": null,
   "metadata": {},
   "outputs": [],
   "source": [
    "def tupleSameProduct(nums):\n",
    "        freq = defaultdict(int)\n",
    "        \n",
    "        for i in range(len(nums) - 1):\n",
    "            for j in range(i + 1, len(nums)):\n",
    "                product = nums[i] * nums[j]\n",
    "                freq[product] += 1\n",
    "        \n",
    "        sum_tuples = sum((count * (count - 1)) // 2 for count in freq.values() if count > 1)\n",
    "\n",
    "        return sum_tuples * 8"
   ]
  }
 ],
 "metadata": {
  "kernelspec": {
   "display_name": "myenv",
   "language": "python",
   "name": "python3"
  },
  "language_info": {
   "name": "python",
   "version": "3.11.3"
  }
 },
 "nbformat": 4,
 "nbformat_minor": 2
}
