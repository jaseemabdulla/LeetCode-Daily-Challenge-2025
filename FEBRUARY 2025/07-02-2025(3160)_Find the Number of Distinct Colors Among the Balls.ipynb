{
 "cells": [
  {
   "cell_type": "code",
   "execution_count": 1,
   "metadata": {},
   "outputs": [],
   "source": [
    "def queryResults(limit, queries):\n",
    "        color_count, ball_color = {}, {} # freq of each color and color for each ball\n",
    "        dis_colors = [] # distinct colors after each query\n",
    "        for ball, color in queries:\n",
    "            if ball in ball_color: # check if ball already colored\n",
    "                old_color = ball_color[ball]\n",
    "                color_count[old_color] -= 1 # remove a use of color\n",
    "                if color_count[old_color] == 0: del color_count[old_color] # remove unused color\n",
    "\n",
    "            ball_color[ball] = color # set ball color\n",
    "            color_count[color] = color_count.get(color, 0) + 1 # add another use of color\n",
    "            dis_colors.append(len(color_count)) # add distinct colors after coloring\n",
    "\n",
    "        return dis_colors"
   ]
  }
 ],
 "metadata": {
  "kernelspec": {
   "display_name": "myenv",
   "language": "python",
   "name": "python3"
  },
  "language_info": {
   "codemirror_mode": {
    "name": "ipython",
    "version": 3
   },
   "file_extension": ".py",
   "mimetype": "text/x-python",
   "name": "python",
   "nbconvert_exporter": "python",
   "pygments_lexer": "ipython3",
   "version": "3.11.3"
  }
 },
 "nbformat": 4,
 "nbformat_minor": 2
}
