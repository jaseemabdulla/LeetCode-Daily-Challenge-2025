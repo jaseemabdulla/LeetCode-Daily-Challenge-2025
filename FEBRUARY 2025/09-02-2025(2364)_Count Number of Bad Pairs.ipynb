{
 "cells": [
  {
   "cell_type": "code",
   "execution_count": null,
   "metadata": {
    "vscode": {
     "languageId": "plaintext"
    }
   },
   "outputs": [],
   "source": [
    "def countBadPairs(nums):\n",
    "        ans = 0\n",
    "        count = collections.Counter() \n",
    "        for i, num in enumerate(nums):\n",
    "            ans += i - count[num - i]\n",
    "            count[num - i] += 1\n",
    "        return ans"
   ]
  }
 ],
 "metadata": {
  "language_info": {
   "name": "python"
  }
 },
 "nbformat": 4,
 "nbformat_minor": 2
}
