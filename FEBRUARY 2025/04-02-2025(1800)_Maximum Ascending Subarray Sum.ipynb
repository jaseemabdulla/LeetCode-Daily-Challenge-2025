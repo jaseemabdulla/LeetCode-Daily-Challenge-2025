{
 "cells": [
  {
   "cell_type": "markdown",
   "metadata": {},
   "source": [
    "## Intuition\n",
    "The problem requires us to find the maximum sum of a strictly increasing subarray within a given list of numbers. A subarray is considered strictly increasing if each subsequent element is greater than the previous one. We need to track such subarrays and compute their sums while keeping track of the maximum sum encountered.\n"
   ]
  },
  {
   "cell_type": "markdown",
   "metadata": {},
   "source": [
    "## Approach\n",
    "1. **Initialize Variables**: \n",
    "   - `max_sum` to store the maximum sum encountered.\n",
    "   - `cur_sum` to store the sum of the current increasing subarray.\n",
    "   - Start both `max_sum` and `cur_sum` with the first element of `nums`.\n",
    "\n",
    "2. **Iterate Through the List**:\n",
    "   - Traverse the array from the second element onward.\n",
    "   - If the current element is greater than the previous element, it continues an increasing subarray, so add it to `cur_sum`.\n",
    "   - If the current element is not greater, update `max_sum` with the maximum of `max_sum` and `cur_sum`, and reset `cur_sum` to the current element.\n",
    "\n",
    "3. **Final Comparison**:\n",
    "   - Since the loop might end with an increasing subarray, compare `max_sum` with `cur_sum` one last time before returning.\n"
   ]
  },
  {
   "cell_type": "markdown",
   "metadata": {},
   "source": [
    "## Complexity Analysis\n",
    "- **Time Complexity**: \\(O(N)\\), where \\(N\\) is the length of `nums`, since we iterate through the list once.\n",
    "- **Space Complexity**: \\(O(1)\\), as only a few integer variables are used for tracking the sum."
   ]
  },
  {
   "cell_type": "code",
   "execution_count": 1,
   "metadata": {},
   "outputs": [],
   "source": [
    "def maxAscendingSum(nums):\n",
    "    max_sum = cur_sum = nums[0]  \n",
    "    \n",
    "    for i in range(1, len(nums)):\n",
    "        if nums[i] > nums[i - 1]:\n",
    "            cur_sum += nums[i]  \n",
    "        else:\n",
    "            max_sum = max(max_sum, cur_sum)\n",
    "            cur_sum = nums[i]  \n",
    "    \n",
    "    return max(max_sum, cur_sum)  "
   ]
  },
  {
   "cell_type": "code",
   "execution_count": 2,
   "metadata": {},
   "outputs": [
    {
     "name": "stdout",
     "output_type": "stream",
     "text": [
      "65\n",
      "150\n",
      "33\n",
      "19\n",
      "5\n"
     ]
    }
   ],
   "source": [
    "# Test Cases\n",
    "nums1 = [10, 20, 30, 5, 10, 50]\n",
    "print(maxAscendingSum(nums1))  # Expected Output: 65\n",
    "\n",
    "nums2 = [10, 20, 30, 40, 50]\n",
    "print(maxAscendingSum(nums2))  # Expected Output: 150\n",
    "\n",
    "nums3 = [12, 17, 15, 13, 10, 11, 12]\n",
    "print(maxAscendingSum(nums3))  # Expected Output: 33\n",
    "\n",
    "nums4 = [3, 6, 10, 1, 2, 3]\n",
    "print(maxAscendingSum(nums4))  # Expected Output: 19\n",
    "\n",
    "nums5 = [5, 4, 3, 2, 1]\n",
    "print(maxAscendingSum(nums5))  # Expected Output: 5"
   ]
  }
 ],
 "metadata": {
  "kernelspec": {
   "display_name": "myenv",
   "language": "python",
   "name": "python3"
  },
  "language_info": {
   "codemirror_mode": {
    "name": "ipython",
    "version": 3
   },
   "file_extension": ".py",
   "mimetype": "text/x-python",
   "name": "python",
   "nbconvert_exporter": "python",
   "pygments_lexer": "ipython3",
   "version": "3.11.3"
  }
 },
 "nbformat": 4,
 "nbformat_minor": 2
}
