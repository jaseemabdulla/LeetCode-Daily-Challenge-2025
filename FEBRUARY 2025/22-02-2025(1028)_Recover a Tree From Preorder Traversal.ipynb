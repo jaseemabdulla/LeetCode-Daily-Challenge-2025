{
 "cells": [
  {
   "cell_type": "code",
   "execution_count": 1,
   "metadata": {},
   "outputs": [],
   "source": [
    "class TreeNode:\n",
    "    def __init__(self, val=0, left=None, right=None):\n",
    "        self.val = val\n",
    "        self.left = left\n",
    "        self.right = right\n",
    "def recoverFromPreorder(s):\n",
    "        vp = []\n",
    "        i = 0\n",
    "        while i < len(s):\n",
    "            depth = 0\n",
    "            while i < len(s) and s[i] == '-':\n",
    "                depth += 1\n",
    "                i += 1\n",
    "            num = 0\n",
    "            while i < len(s) and s[i] != '-':\n",
    "                num = num * 10 + int(s[i])\n",
    "                i += 1\n",
    "            vp.append((depth, num))\n",
    "\n",
    "        stack = []\n",
    "        root = None\n",
    "        \n",
    "        for depth, nodeVal in vp:\n",
    "            node = TreeNode(nodeVal)\n",
    "            \n",
    "            while stack and stack[-1][0] >= depth:\n",
    "                stack.pop()\n",
    "            \n",
    "            if stack:\n",
    "                parent = stack[-1][1]\n",
    "                if parent.left is None:\n",
    "                    parent.left = node\n",
    "                else:\n",
    "                    parent.right = node\n",
    "            else:\n",
    "                root = node\n",
    "            \n",
    "            stack.append((depth, node))\n",
    "        \n",
    "        return root"
   ]
  }
 ],
 "metadata": {
  "kernelspec": {
   "display_name": "myenv",
   "language": "python",
   "name": "python3"
  },
  "language_info": {
   "codemirror_mode": {
    "name": "ipython",
    "version": 3
   },
   "file_extension": ".py",
   "mimetype": "text/x-python",
   "name": "python",
   "nbconvert_exporter": "python",
   "pygments_lexer": "ipython3",
   "version": "3.11.3"
  }
 },
 "nbformat": 4,
 "nbformat_minor": 2
}
