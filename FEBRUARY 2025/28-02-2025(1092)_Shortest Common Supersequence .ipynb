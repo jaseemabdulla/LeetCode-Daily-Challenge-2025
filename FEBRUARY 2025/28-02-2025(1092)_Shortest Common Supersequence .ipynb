{
 "cells": [
  {
   "cell_type": "code",
   "execution_count": null,
   "metadata": {},
   "outputs": [],
   "source": [
    "def shortestCommonSupersequence(str1, str2):\n",
    "        n = len(str1)\n",
    "        m = len(str2)\n",
    "        old = [str2[i:] for i in range(m + 1)]\n",
    "\n",
    "        for i in range(n - 1, -1, -1):\n",
    "            new = [\"\"] * (m + 1)\n",
    "            new[-1] = str1[i:]\n",
    "\n",
    "            for j in range(m - 1, -1, -1):\n",
    "                if str1[i] == str2[j]:\n",
    "                    new[j] = str1[i] + old[j + 1]\n",
    "                elif len(new[j + 1]) <= len(old[j]):\n",
    "                    new[j] = str2[j] + new[j + 1]\n",
    "                else:\n",
    "                    new[j] = str1[i] + old[j]\n",
    "\n",
    "            old = new\n",
    "                \n",
    "\n",
    "        return old[0]"
   ]
  }
 ],
 "metadata": {
  "kernelspec": {
   "display_name": "myenv",
   "language": "python",
   "name": "python3"
  },
  "language_info": {
   "name": "python",
   "version": "3.11.3"
  }
 },
 "nbformat": 4,
 "nbformat_minor": 2
}
