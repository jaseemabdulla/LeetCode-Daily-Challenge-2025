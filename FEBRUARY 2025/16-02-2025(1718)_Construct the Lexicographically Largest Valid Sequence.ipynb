{
 "cells": [
  {
   "cell_type": "code",
   "execution_count": 1,
   "metadata": {},
   "outputs": [],
   "source": [
    "def constructDistancedSequence(n):\n",
    "        res = [0] * (2 * n - 1)\n",
    "        vis = [False] * (n + 1)\n",
    "\n",
    "        def solve(indx: int, count: int) -> bool:\n",
    "            # Base case: If the sequence is complete, return True\n",
    "            if count == 2 * n - 1:\n",
    "                return True\n",
    "\n",
    "            # If the current position is already filled, move to the next position\n",
    "            if res[indx]:\n",
    "                return solve(indx + 1, count)\n",
    "\n",
    "            # Try placing numbers from n down to 1\n",
    "            for i in range(n, 0, -1):\n",
    "                if not vis[i]:\n",
    "                    if i == 1:\n",
    "                        # Place the number 1 (appears only once)\n",
    "                        vis[i] = True\n",
    "                        res[indx] = i\n",
    "                        if solve(indx + 1, count + 1):\n",
    "                            return True  # Early termination\n",
    "                        vis[i] = False  # Backtrack\n",
    "                        res[indx] = 0\n",
    "                    elif indx + i < len(res) and not res[indx + i]:\n",
    "                        # Place the number i (appears twice, with distance i)\n",
    "                        vis[i] = True\n",
    "                        res[indx] = i\n",
    "                        res[indx + i] = i\n",
    "                        if solve(indx + 1, count + 2):\n",
    "                            return True  # Early termination\n",
    "                        vis[i] = False  # Backtrack\n",
    "                        res[indx] = 0\n",
    "                        res[indx + i] = 0\n",
    "            return False  # No valid placement found\n",
    "\n",
    "        solve(0, 0)\n",
    "        return res"
   ]
  }
 ],
 "metadata": {
  "kernelspec": {
   "display_name": "myenv",
   "language": "python",
   "name": "python3"
  },
  "language_info": {
   "codemirror_mode": {
    "name": "ipython",
    "version": 3
   },
   "file_extension": ".py",
   "mimetype": "text/x-python",
   "name": "python",
   "nbconvert_exporter": "python",
   "pygments_lexer": "ipython3",
   "version": "3.11.3"
  }
 },
 "nbformat": 4,
 "nbformat_minor": 2
}
