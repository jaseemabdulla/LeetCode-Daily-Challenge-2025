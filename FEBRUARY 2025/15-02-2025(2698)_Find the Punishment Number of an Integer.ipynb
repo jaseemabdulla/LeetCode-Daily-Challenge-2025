{
 "cells": [
  {
   "cell_type": "code",
   "execution_count": null,
   "metadata": {},
   "outputs": [],
   "source": [
    "def punishmentNumber(n):\n",
    "        def partition(prev_sum, digits, i):\n",
    "            if not digits and prev_sum == i:\n",
    "                return True\n",
    "            for t in range(1, len(digits) + 1):\n",
    "                if partition(prev_sum + int(digits[0:t]), digits[t:], i):\n",
    "                    return True\n",
    "            return False\n",
    "        \n",
    "        return sum(x for i in range(1, n+1) if partition(0, str(x:= i * i), i))"
   ]
  }
 ],
 "metadata": {
  "kernelspec": {
   "display_name": "myenv",
   "language": "python",
   "name": "python3"
  },
  "language_info": {
   "name": "python",
   "version": "3.11.3"
  }
 },
 "nbformat": 4,
 "nbformat_minor": 2
}
