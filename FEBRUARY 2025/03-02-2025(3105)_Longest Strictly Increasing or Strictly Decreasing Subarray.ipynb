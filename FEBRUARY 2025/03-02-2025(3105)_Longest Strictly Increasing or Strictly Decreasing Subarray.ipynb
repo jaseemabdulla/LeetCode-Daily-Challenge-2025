{
 "cells": [
  {
   "cell_type": "markdown",
   "metadata": {},
   "source": [
    "## Intuition:\n",
    "A monotonic subarray is a subarray where elements are either strictly increasing or strictly decreasing. Our goal is to find the longest such subarray in the given list.\n",
    "\n",
    "To achieve this, we maintain two counters:\n",
    "1. `inc` - Tracks the length of the current increasing subarray.\n",
    "2. `dec` - Tracks the length of the current decreasing subarray.\n",
    "\n",
    "As we iterate through the array:\n",
    "- If the current element is greater than the previous one, we increment `inc` and reset `dec` to 1.\n",
    "- If the current element is smaller than the previous one, we increment `dec` and reset `inc` to 1.\n",
    "- If the current element is equal to the previous one, we reset both counters to 1.\n",
    "- We update our answer (`ans`) at each step to store the maximum of `inc`, `dec`, and `ans`.\n"
   ]
  },
  {
   "cell_type": "markdown",
   "metadata": {},
   "source": [
    "## Approach:\n",
    "1. Initialize `ans = 1`, `inc = 1`, and `dec = 1` to track increasing, decreasing subarrays, and the result.\n",
    "2. Iterate through the array using `pairwise(nums)`:\n",
    "   - If the current element is greater than the previous one, increment `inc` and reset `dec = 1`.\n",
    "   - If the current element is smaller than the previous one, increment `dec` and reset `inc = 1`.\n",
    "   - If the current element is equal to the previous one, reset both `inc` and `dec` to 1.\n",
    "   - Update `ans` to store the maximum of `inc`, `dec`, and `ans`.\n",
    "3. Return `ans` after the loop ends."
   ]
  },
  {
   "cell_type": "markdown",
   "metadata": {},
   "source": [
    "## Complexity Analysis:\n",
    "- **Time Complexity:** \\(O(N)\\), where \\(N\\) is the length of `nums`. We iterate through the array once.\n",
    "- **Space Complexity:** \\(O(1)\\), as we use only a few integer variables and no extra data structures.\n"
   ]
  },
  {
   "cell_type": "code",
   "execution_count": 1,
   "metadata": {},
   "outputs": [],
   "source": [
    "from itertools import pairwise\n",
    "\n",
    "def longestMonotonicSubarray(nums):\n",
    "    ans, inc, dec = 1, 1, 1\n",
    "    for a, b in pairwise(nums):\n",
    "        if a > b:\n",
    "            dec += 1\n",
    "            inc = 1\n",
    "        elif a < b:\n",
    "            inc += 1\n",
    "            dec = 1\n",
    "        else:\n",
    "            dec = inc = 1\n",
    "        ans = max(inc, dec, ans)\n",
    "    return ans"
   ]
  },
  {
   "cell_type": "code",
   "execution_count": 2,
   "metadata": {},
   "outputs": [
    {
     "name": "stdout",
     "output_type": "stream",
     "text": [
      "2\n",
      "1\n",
      "3\n",
      "5\n",
      "5\n"
     ]
    }
   ],
   "source": [
    "# Test Cases\n",
    "nums1 = [1, 4, 3, 3, 2]\n",
    "print(longestMonotonicSubarray(nums1))  # Expected Output: 2\n",
    "\n",
    "nums2 = [3, 3, 3, 3]\n",
    "print(longestMonotonicSubarray(nums2))  # Expected Output: 1\n",
    "\n",
    "nums3 = [3, 2, 1]\n",
    "print(longestMonotonicSubarray(nums3))  # Expected Output: 3\n",
    "\n",
    "nums4 = [1, 2, 3, 4, 5]\n",
    "print(longestMonotonicSubarray(nums4))  # Expected Output: 5\n",
    "\n",
    "nums5 = [5, 4, 3, 2, 1]\n",
    "print(longestMonotonicSubarray(nums5))  # Expected Output: 5"
   ]
  }
 ],
 "metadata": {
  "kernelspec": {
   "display_name": "myenv",
   "language": "python",
   "name": "python3"
  },
  "language_info": {
   "codemirror_mode": {
    "name": "ipython",
    "version": 3
   },
   "file_extension": ".py",
   "mimetype": "text/x-python",
   "name": "python",
   "nbconvert_exporter": "python",
   "pygments_lexer": "ipython3",
   "version": "3.11.3"
  }
 },
 "nbformat": 4,
 "nbformat_minor": 2
}
