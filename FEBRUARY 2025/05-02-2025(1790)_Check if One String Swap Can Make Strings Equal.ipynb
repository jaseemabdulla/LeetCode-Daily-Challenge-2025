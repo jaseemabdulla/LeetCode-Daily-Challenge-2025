{
 "cells": [
  {
   "cell_type": "markdown",
   "metadata": {},
   "source": [
    "## Intuition\n",
    "The problem requires us to check if two strings can be made equal by swapping exactly one pair of characters. This means that:\n",
    "1. If the strings are already equal, no swap is needed.\n",
    "2. If they differ at exactly two positions, swapping those two characters should make the strings equal.\n",
    "3. If they differ at more than two positions, one swap is not enough.\n"
   ]
  },
  {
   "cell_type": "markdown",
   "metadata": {},
   "source": [
    "## Approach\n",
    "1. **Find Differences**: Identify the indices where `s1` and `s2` differ.\n",
    "2. **Check Conditions**:\n",
    "   - If there are no differences, return `True` (strings are already equal).\n",
    "   - If there are exactly two differences, check if swapping them results in equality.\n",
    "   - If there are more than two differences, return `False` (one swap is insufficient).\n"
   ]
  },
  {
   "cell_type": "markdown",
   "metadata": {},
   "source": [
    "## Complexity Analysis\n",
    "- **Time Complexity**: \\(O(N)\\), where \\(N\\) is the length of `s1`, as we traverse both strings once.\n",
    "- **Space Complexity**: \\(O(1)\\), since we use a small extra list for tracking differing indices."
   ]
  },
  {
   "cell_type": "code",
   "execution_count": 1,
   "metadata": {},
   "outputs": [],
   "source": [
    "def areAlmostEqual(s1, s2):\n",
    "    diff = [i for i in range(len(s1)) if s1[i] != s2[i]]\n",
    "    \n",
    "    if not diff:\n",
    "        return True\n",
    "    if len(diff) != 2:\n",
    "        return False\n",
    "    \n",
    "    return s1[diff[0]] == s2[diff[1]] and s1[diff[1]] == s2[diff[0]]"
   ]
  },
  {
   "cell_type": "code",
   "execution_count": 2,
   "metadata": {},
   "outputs": [
    {
     "name": "stdout",
     "output_type": "stream",
     "text": [
      "True\n",
      "False\n",
      "True\n"
     ]
    }
   ],
   "source": [
    "# Example 1\n",
    "s1 = \"bank\"\n",
    "s2 = \"kanb\"\n",
    "print(areAlmostEqual(s1, s2))  # Output: True\n",
    "\n",
    "# Example 2\n",
    "s1 = \"attack\"\n",
    "s2 = \"defend\"\n",
    "print(areAlmostEqual(s1, s2))  # Output: False\n",
    "\n",
    "# Example 3\n",
    "s1 = \"kelb\"\n",
    "s2 = \"kelb\"\n",
    "print(areAlmostEqual(s1, s2))  # Output: True"
   ]
  }
 ],
 "metadata": {
  "kernelspec": {
   "display_name": "myenv",
   "language": "python",
   "name": "python3"
  },
  "language_info": {
   "codemirror_mode": {
    "name": "ipython",
    "version": 3
   },
   "file_extension": ".py",
   "mimetype": "text/x-python",
   "name": "python",
   "nbconvert_exporter": "python",
   "pygments_lexer": "ipython3",
   "version": "3.11.3"
  }
 },
 "nbformat": 4,
 "nbformat_minor": 2
}
