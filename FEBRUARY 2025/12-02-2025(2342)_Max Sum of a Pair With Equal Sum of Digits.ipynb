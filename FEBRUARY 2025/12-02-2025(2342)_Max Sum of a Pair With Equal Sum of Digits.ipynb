{
 "cells": [
  {
   "cell_type": "code",
   "execution_count": 1,
   "metadata": {},
   "outputs": [],
   "source": [
    "def maximumSum(nums):\n",
    "        def digitSum(n):\n",
    "            return sum(int(a) for a in str(n))\n",
    "\n",
    "        nump = [(digitSum(num), num) for num in nums]\n",
    "        nump.sort() \n",
    "\n",
    "        maxx=-1\n",
    "        for i in range(1, len(nump)):\n",
    "            if nump[i][0] == nump[i - 1][0]:  \n",
    "                maxx = max(maxx, nump[i][1] + nump[i - 1][1])\n",
    "\n",
    "        return maxx"
   ]
  }
 ],
 "metadata": {
  "kernelspec": {
   "display_name": "myenv",
   "language": "python",
   "name": "python3"
  },
  "language_info": {
   "codemirror_mode": {
    "name": "ipython",
    "version": 3
   },
   "file_extension": ".py",
   "mimetype": "text/x-python",
   "name": "python",
   "nbconvert_exporter": "python",
   "pygments_lexer": "ipython3",
   "version": "3.11.3"
  }
 },
 "nbformat": 4,
 "nbformat_minor": 2
}
