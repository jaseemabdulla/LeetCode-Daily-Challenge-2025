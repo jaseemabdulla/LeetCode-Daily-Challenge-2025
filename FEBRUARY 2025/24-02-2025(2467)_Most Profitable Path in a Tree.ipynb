{
 "cells": [
  {
   "cell_type": "code",
   "execution_count": null,
   "metadata": {},
   "outputs": [],
   "source": [
    "from collections import defaultdict\n",
    "\n",
    "def mostProfitablePath(edges, bob, amount):\n",
    "        adj = defaultdict(list)\n",
    "        for u, v in edges:\n",
    "            adj[u].append(v)\n",
    "            adj[v].append(u)\n",
    "        \n",
    "        bobPath = {}\n",
    "        visited = set()\n",
    "        def findBobPath(node, time):\n",
    "            visited.add(node)\n",
    "            bobPath[node] = time\n",
    "            if node == 0:\n",
    "                return True\n",
    "            for nei in adj[node]:\n",
    "                if nei not in visited and findBobPath(nei, time + 1):\n",
    "                    return True\n",
    "            bobPath.pop(node)\n",
    "            return False\n",
    "        \n",
    "        findBobPath(bob, 0)\n",
    "        visited.clear()\n",
    "        maxProfit = float('-inf')\n",
    "        \n",
    "        def findAlicePath(node, time, income):\n",
    "            nonlocal maxProfit\n",
    "            visited.add(node)\n",
    "            if node not in bobPath or time < bobPath[node]:\n",
    "                income += amount[node]\n",
    "            elif time == bobPath[node]:\n",
    "                income += amount[node] // 2\n",
    "            \n",
    "            if len(adj[node]) == 1 and node != 0:\n",
    "                maxProfit = max(maxProfit, income)\n",
    "            \n",
    "            for nei in adj[node]:\n",
    "                if nei not in visited:\n",
    "                    findAlicePath(nei, time + 1, income)\n",
    "        \n",
    "        findAlicePath(0, 0, 0)\n",
    "        return maxProfit\n",
    "    "
   ]
  }
 ],
 "metadata": {
  "kernelspec": {
   "display_name": "myenv",
   "language": "python",
   "name": "python3"
  },
  "language_info": {
   "name": "python",
   "version": "3.11.3"
  }
 },
 "nbformat": 4,
 "nbformat_minor": 2
}
