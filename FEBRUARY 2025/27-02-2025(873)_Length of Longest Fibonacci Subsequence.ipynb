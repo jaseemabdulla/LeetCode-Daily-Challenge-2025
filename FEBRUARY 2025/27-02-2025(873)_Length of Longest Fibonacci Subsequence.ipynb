{
 "cells": [
  {
   "cell_type": "markdown",
   "metadata": {},
   "source": [
    "## Problem Statement\n",
    "Given an array `arr` of positive integers, return the **length** of the longest Fibonacci-like subsequence of `arr`. If no such sequence exists, return `0`.\n",
    "\n",
    "A **Fibonacci-like** sequence is defined as:\n",
    "- `X[i] + X[i+1] = X[i+2]`\n",
    "- The sequence must have at least **3 elements**.\n",
    "\n",
    "---\n",
    "\n",
    "## Approach\n",
    "### 1. Hash Map to Store Indices\n",
    "- Use a hash map `index_map` to store the index of each element in the array for quick lookup.\n",
    "  \n",
    "### 2. Two Nested Loops\n",
    "- Iterate through each pair `(arr[i], arr[j])` where `i < j`.\n",
    "- Start the sequence with `length = 2`.\n",
    "  \n",
    "### 3. While Loop to Build the Sequence\n",
    "- Check if `arr[i] + arr[j]` exists in `index_map`.\n",
    "- If yes:\n",
    "  - Increase the length by 1.\n",
    "  - Update `prev` and `prevv` to continue the sequence.\n",
    "- Continue until no further Fibonacci-like element is found.\n",
    "\n",
    "### 4. Return the Result\n",
    "- If the maximum length is greater than 2, return the length.\n",
    "- Otherwise, return `0`."
   ]
  },
  {
   "cell_type": "code",
   "execution_count": 1,
   "metadata": {},
   "outputs": [],
   "source": [
    "def lenLongestFibSubseq(arr):\n",
    "    if len(arr) <= 2:\n",
    "        return 0\n",
    "\n",
    "    # Hash map to store the index of each number\n",
    "    index_map = {num: i for i, num in enumerate(arr)}\n",
    "    maxi = 0\n",
    "\n",
    "    # Iterate through each pair (arr[i], arr[j])\n",
    "    for i in range(len(arr)):\n",
    "        for j in range(i + 1, len(arr)):\n",
    "            prev, prevv = arr[j], arr[i]\n",
    "            length = 2\n",
    "\n",
    "            # Continue to find the next element in Fibonacci-like sequence\n",
    "            while prev + prevv in index_map:\n",
    "                length += 1\n",
    "                maxi = max(maxi, length)\n",
    "                prev, prevv = prev + prevv, prev\n",
    "\n",
    "    return maxi if maxi > 2 else 0"
   ]
  },
  {
   "cell_type": "code",
   "execution_count": 2,
   "metadata": {},
   "outputs": [
    {
     "name": "stdout",
     "output_type": "stream",
     "text": [
      "5\n",
      "3\n"
     ]
    }
   ],
   "source": [
    "# Example 1\n",
    "arr1 = [1, 2, 3, 4, 5, 6, 7, 8]\n",
    "print(lenLongestFibSubseq(arr1))  \n",
    "# Output: 5\n",
    "\n",
    "# Example 2\n",
    "arr2 = [1, 3, 7, 11, 12, 14, 18]\n",
    "print(lenLongestFibSubseq(arr2))  \n",
    "# Output: 3"
   ]
  }
 ],
 "metadata": {
  "kernelspec": {
   "display_name": "myenv",
   "language": "python",
   "name": "python3"
  },
  "language_info": {
   "codemirror_mode": {
    "name": "ipython",
    "version": 3
   },
   "file_extension": ".py",
   "mimetype": "text/x-python",
   "name": "python",
   "nbconvert_exporter": "python",
   "pygments_lexer": "ipython3",
   "version": "3.11.3"
  }
 },
 "nbformat": 4,
 "nbformat_minor": 2
}
