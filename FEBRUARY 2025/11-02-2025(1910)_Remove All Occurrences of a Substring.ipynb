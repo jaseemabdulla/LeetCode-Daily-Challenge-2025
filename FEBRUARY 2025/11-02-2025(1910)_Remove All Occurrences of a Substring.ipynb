{
 "cells": [
  {
   "cell_type": "code",
   "execution_count": 1,
   "metadata": {},
   "outputs": [],
   "source": [
    "def removeOccurrences(s, part):\n",
    "        stack = \"\"\n",
    "        part_size = len(part)\n",
    "        for i in s:\n",
    "            stack += i\n",
    "            if stack[len(stack)-part_size:] == part:\n",
    "                stack = stack[:len(stack)-part_size]\n",
    "        return stack"
   ]
  }
 ],
 "metadata": {
  "kernelspec": {
   "display_name": "myenv",
   "language": "python",
   "name": "python3"
  },
  "language_info": {
   "codemirror_mode": {
    "name": "ipython",
    "version": 3
   },
   "file_extension": ".py",
   "mimetype": "text/x-python",
   "name": "python",
   "nbconvert_exporter": "python",
   "pygments_lexer": "ipython3",
   "version": "3.11.3"
  }
 },
 "nbformat": 4,
 "nbformat_minor": 2
}
