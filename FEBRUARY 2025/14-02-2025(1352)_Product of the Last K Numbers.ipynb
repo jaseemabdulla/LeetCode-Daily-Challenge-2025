{
 "cells": [
  {
   "cell_type": "code",
   "execution_count": null,
   "metadata": {},
   "outputs": [],
   "source": [
    "class ProductOfNumbers:\n",
    "\n",
    "    def __init__(self):\n",
    "        self.prefix_product = [1]\n",
    "\n",
    "    def add(self, num: int) -> None:\n",
    "        if num == 0:\n",
    "            self.prefix_product = [1]\n",
    "        else:\n",
    "            self.prefix_product.append(num * self.prefix_product[-1])\n",
    "\n",
    "    def getProduct(self, k: int) -> int:\n",
    "        size = len(self.prefix_product)\n",
    "        if size <= k:\n",
    "            return 0\n",
    "        return self.prefix_product[-1] // self.prefix_product[size - k - 1]\n",
    "        \n",
    "\n",
    "\n",
    "# Your ProductOfNumbers object will be instantiated and called as such:\n",
    "# obj = ProductOfNumbers()\n",
    "# obj.add(num)\n",
    "# param_2 = obj.getProduct(k)"
   ]
  }
 ],
 "metadata": {
  "kernelspec": {
   "display_name": "myenv",
   "language": "python",
   "name": "python3"
  },
  "language_info": {
   "name": "python",
   "version": "3.11.3"
  }
 },
 "nbformat": 4,
 "nbformat_minor": 2
}
