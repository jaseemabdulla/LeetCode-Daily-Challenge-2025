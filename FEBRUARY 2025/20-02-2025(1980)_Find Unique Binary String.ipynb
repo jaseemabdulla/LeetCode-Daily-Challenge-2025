{
 "cells": [
  {
   "cell_type": "markdown",
   "metadata": {},
   "source": [
    "## Explanation of Approach\n",
    "\n",
    "### 1. Understanding the Problem\n",
    "- We are given a list of **n** unique binary strings, each of length **n**.\n",
    "- We need to return a binary string of length **n** that is **not present** in the given list.\n",
    "\n",
    "### 2. How the Approach Works\n",
    "- We use the **Cantor's diagonalization argument** to construct a missing binary string.\n",
    "- We iterate through the list and pick the **opposite bit** from the diagonal position `(i, i)`.\n",
    "  - If `nums[i][i]` is `'1'`, we append `'0'` to the result.\n",
    "  - If `nums[i][i]` is `'0'`, we append `'1'` to the result.\n",
    "\n",
    "### 3. Why This Works\n",
    "- Since each string has **n** bits, choosing a different bit from index `i` ensures our result differs in **at least one position** from each given string.\n",
    "- This guarantees our generated string is **not present** in `nums`.\n",
    "\n",
    "### 5. Time Complexity Analysis\n",
    "- We iterate through the `nums` list **once** (`O(n)`).\n",
    "- Constructing the result string takes **O(n)**.\n",
    "- Overall, the time complexity is **O(n)**, which is optimal."
   ]
  },
  {
   "cell_type": "code",
   "execution_count": 3,
   "metadata": {},
   "outputs": [],
   "source": [
    "\n",
    "def findDifferentBinaryString(nums):\n",
    "    ans = ''\n",
    "    for i in range(len(nums)):\n",
    "        ans += '0' if nums[i][i] == '1' else '1'\n",
    "    return ans\n"
   ]
  },
  {
   "cell_type": "code",
   "execution_count": null,
   "metadata": {},
   "outputs": [
    {
     "name": "stdout",
     "output_type": "stream",
     "text": [
      "11\n",
      "10\n",
      "000\n"
     ]
    },
    {
     "ename": "",
     "evalue": "",
     "output_type": "error",
     "traceback": [
      "\u001b[1;31mThe Kernel crashed while executing code in the current cell or a previous cell. \n",
      "\u001b[1;31mPlease review the code in the cell(s) to identify a possible cause of the failure. \n",
      "\u001b[1;31mClick <a href='https://aka.ms/vscodeJupyterKernelCrash'>here</a> for more info. \n",
      "\u001b[1;31mView Jupyter <a href='command:jupyter.viewOutput'>log</a> for further details."
     ]
    }
   ],
   "source": [
    "# Test Cases\n",
    "print(findDifferentBinaryString([\"01\", \"10\"]))  # Expected Output: \"11\"\n",
    "print(findDifferentBinaryString([\"00\", \"01\"]))  # Expected Output: \"10\" or \"11\"\n",
    "print(findDifferentBinaryString([\"111\", \"011\", \"001\"]))  # Expected Output: \"101\" or another valid answer"
   ]
  }
 ],
 "metadata": {
  "kernelspec": {
   "display_name": "myenv",
   "language": "python",
   "name": "python3"
  },
  "language_info": {
   "codemirror_mode": {
    "name": "ipython",
    "version": 3
   },
   "file_extension": ".py",
   "mimetype": "text/x-python",
   "name": "python",
   "nbconvert_exporter": "python",
   "pygments_lexer": "ipython3",
   "version": "3.11.3"
  }
 },
 "nbformat": 4,
 "nbformat_minor": 2
}
