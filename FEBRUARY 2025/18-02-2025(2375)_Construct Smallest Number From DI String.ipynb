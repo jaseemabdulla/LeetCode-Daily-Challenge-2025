{
 "cells": [
  {
   "cell_type": "code",
   "execution_count": 1,
   "metadata": {},
   "outputs": [],
   "source": [
    "class Solution:\n",
    "    def smallestNumber(self, pattern: str) -> str:\n",
    "        n = len(pattern)  # Get the length of the pattern\n",
    "        st = []  # Stack to hold numbers in decreasing order\n",
    "        res = []  # List to store the result\n",
    "        \n",
    "        # Iterate through numbers from 1 to n+1\n",
    "        for i in range(1, n + 2):\n",
    "            st.append(i)  # Push the current number to the stack\n",
    "            \n",
    "            # If we reach the end of the pattern OR the current pattern character is 'I'\n",
    "            if i == n + 1 or pattern[i - 1] == 'I':\n",
    "                # Pop all elements from the stack and add them to result\n",
    "                while st:\n",
    "                    res.append(str(st.pop()))\n",
    "        \n",
    "        # Convert the list into a string and return\n",
    "        return ''.join(res)  "
   ]
  },
  {
   "cell_type": "code",
   "execution_count": 2,
   "metadata": {},
   "outputs": [
    {
     "name": "stdout",
     "output_type": "stream",
     "text": [
      "123549876\n",
      "4321\n"
     ]
    }
   ],
   "source": [
    "# Test cases\n",
    "sol = Solution()\n",
    "\n",
    "# Example 1\n",
    "pattern1 = \"IIIDIDDD\"\n",
    "print(sol.smallestNumber(pattern1))  # Expected Output: \"123549876\"\n",
    "\n",
    "# Example 2\n",
    "pattern2 = \"DDD\"\n",
    "print(sol.smallestNumber(pattern2))  # Expected Output: \"4321\""
   ]
  }
 ],
 "metadata": {
  "kernelspec": {
   "display_name": "myenv",
   "language": "python",
   "name": "python3"
  },
  "language_info": {
   "codemirror_mode": {
    "name": "ipython",
    "version": 3
   },
   "file_extension": ".py",
   "mimetype": "text/x-python",
   "name": "python",
   "nbconvert_exporter": "python",
   "pygments_lexer": "ipython3",
   "version": "3.11.3"
  }
 },
 "nbformat": 4,
 "nbformat_minor": 2
}
