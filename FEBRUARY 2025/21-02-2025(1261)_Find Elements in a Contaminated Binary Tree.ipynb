{
 "cells": [
  {
   "cell_type": "markdown",
   "metadata": {},
   "source": [
    "## Explanation of Approach\n",
    "\n",
    "### 1. Understanding the Problem\n",
    "- Given a **contaminated binary tree** where all nodes have a value of `-1`, we need to **recover** the tree.\n",
    "- The root node should be assigned `0`, and for any node with value `x`:\n",
    "  - The **left child** gets the value `2x + 1`.\n",
    "  - The **right child** gets the value `2x + 2`.\n",
    "- After recovery, we need to **support** queries to check if a given target exists in the tree.\n",
    "\n",
    "### 2. How the Approach Works\n",
    "- We use a **recursive DFS** function `_recover(node, val)` to assign proper values to the tree nodes.\n",
    "- We store all the recovered values in a **set (`self.elements`)** for **O(1)** lookup during the `find()` operation.\n"
   ]
  },
  {
   "cell_type": "code",
   "execution_count": 1,
   "metadata": {},
   "outputs": [],
   "source": [
    "class TreeNode:\n",
    "    def __init__(self, x):\n",
    "        self.val = x\n",
    "        self.left = None\n",
    "        self.right = None\n",
    "\n",
    "class FindElements:\n",
    "    def __init__(self, root):\n",
    "        self.elements = set()\n",
    "        self._recover(root, 0)\n",
    "    \n",
    "    def _recover(self, node, val):\n",
    "        if not node:\n",
    "            return\n",
    "        node.val = val\n",
    "        self.elements.add(val)\n",
    "        self._recover(node.left, val * 2 + 1)\n",
    "        self._recover(node.right, val * 2 + 2)\n",
    "\n",
    "    def find(self, target):\n",
    "        return target in self.elements"
   ]
  },
  {
   "cell_type": "code",
   "execution_count": 2,
   "metadata": {},
   "outputs": [
    {
     "name": "stdout",
     "output_type": "stream",
     "text": [
      "[None, False, True]\n",
      "[None, True, True, False]\n",
      "[None, True, False, False, True]\n"
     ]
    }
   ],
   "source": [
    "# Example 1\n",
    "root1 = TreeNode(-1)\n",
    "root1.right = TreeNode(-1)\n",
    "findElements1 = FindElements(root1)\n",
    "print([None, findElements1.find(1), findElements1.find(2)])  \n",
    "# Output: [None, False, True]\n",
    "\n",
    "# Example 2\n",
    "root2 = TreeNode(-1)\n",
    "root2.left = TreeNode(-1)\n",
    "root2.right = TreeNode(-1)\n",
    "root2.left.left = TreeNode(-1)\n",
    "root2.left.right = TreeNode(-1)\n",
    "findElements2 = FindElements(root2)\n",
    "print([None, findElements2.find(1), findElements2.find(3), findElements2.find(5)])  \n",
    "# Output: [None, True, True, False]\n",
    "\n",
    "# Example 3\n",
    "root3 = TreeNode(-1)\n",
    "root3.right = TreeNode(-1)\n",
    "root3.right.left = TreeNode(-1)\n",
    "root3.right.right = TreeNode(-1)\n",
    "findElements3 = FindElements(root3)\n",
    "print([None, findElements3.find(2), findElements3.find(3), findElements3.find(4), findElements3.find(5)])  \n",
    "# Output: [None, True, False, False, True]"
   ]
  }
 ],
 "metadata": {
  "kernelspec": {
   "display_name": "myenv",
   "language": "python",
   "name": "python3"
  },
  "language_info": {
   "codemirror_mode": {
    "name": "ipython",
    "version": 3
   },
   "file_extension": ".py",
   "mimetype": "text/x-python",
   "name": "python",
   "nbconvert_exporter": "python",
   "pygments_lexer": "ipython3",
   "version": "3.11.3"
  }
 },
 "nbformat": 4,
 "nbformat_minor": 2
}
