{
 "cells": [
  {
   "cell_type": "code",
   "execution_count": 1,
   "metadata": {},
   "outputs": [
    {
     "name": "stdout",
     "output_type": "stream",
     "text": [
      "4\n",
      "0\n",
      "16\n"
     ]
    }
   ],
   "source": [
    "def numOfSubarrays(arr):\n",
    "    res = 0\n",
    "    odd = 0\n",
    "    even = 0\n",
    "    csum = 0\n",
    "    mod = 10**9 + 7\n",
    "    \n",
    "    for num in arr:\n",
    "        csum += num\n",
    "        if csum % 2:\n",
    "            res += 1 + even\n",
    "            odd += 1\n",
    "        else:\n",
    "            res += odd\n",
    "            even += 1\n",
    "    \n",
    "    return res % mod\n",
    "\n",
    "# Example 1\n",
    "arr1 = [1, 3, 5]\n",
    "print(numOfSubarrays(arr1))  \n",
    "# Output: 4\n",
    "\n",
    "# Example 2\n",
    "arr2 = [2, 4, 6]\n",
    "print(numOfSubarrays(arr2))  \n",
    "# Output: 0\n",
    "\n",
    "# Example 3\n",
    "arr3 = [1, 2, 3, 4, 5, 6, 7]\n",
    "print(numOfSubarrays(arr3))  \n",
    "# Output: 16"
   ]
  }
 ],
 "metadata": {
  "kernelspec": {
   "display_name": "myenv",
   "language": "python",
   "name": "python3"
  },
  "language_info": {
   "codemirror_mode": {
    "name": "ipython",
    "version": 3
   },
   "file_extension": ".py",
   "mimetype": "text/x-python",
   "name": "python",
   "nbconvert_exporter": "python",
   "pygments_lexer": "ipython3",
   "version": "3.11.3"
  }
 },
 "nbformat": 4,
 "nbformat_minor": 2
}
