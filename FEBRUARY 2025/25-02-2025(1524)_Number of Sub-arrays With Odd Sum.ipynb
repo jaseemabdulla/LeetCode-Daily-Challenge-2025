{
 "cells": [
  {
   "cell_type": "code",
   "execution_count": 1,
   "metadata": {},
   "outputs": [],
   "source": [
    "def numOfSubarrays(arr):\n",
    "        res = 0\n",
    "        odd = 0\n",
    "        even = 0\n",
    "        csum = 0\n",
    "        for num in arr:\n",
    "            csum+=num\n",
    "            if csum%2:\n",
    "                res+=1+even\n",
    "                odd+=1\n",
    "            else:\n",
    "                res+=odd\n",
    "                even+=1\n",
    "        return res%(10**9+7)"
   ]
  }
 ],
 "metadata": {
  "kernelspec": {
   "display_name": "myenv",
   "language": "python",
   "name": "python3"
  },
  "language_info": {
   "codemirror_mode": {
    "name": "ipython",
    "version": 3
   },
   "file_extension": ".py",
   "mimetype": "text/x-python",
   "name": "python",
   "nbconvert_exporter": "python",
   "pygments_lexer": "ipython3",
   "version": "3.11.3"
  }
 },
 "nbformat": 4,
 "nbformat_minor": 2
}
