{
 "cells": [
  {
   "cell_type": "markdown",
   "metadata": {},
   "source": [
    "# Counting Subarrays with Odd Sum\n",
    "\n",
    "## Problem Statement\n",
    "Given an integer array `arr`, count the number of subarrays with an **odd sum**. Since the result may be large, return it **modulo \\(10^9+7\\)**.\n",
    "\n",
    "## Approach\n",
    "\n",
    "### Observations:\n",
    "1. A subarray sum is **odd** if the number of odd elements in the subarray is **odd**.\n",
    "2. We keep track of:\n",
    "   - `odd`: Number of prefix sums that are **odd**.\n",
    "   - `even`: Number of prefix sums that are **even**.\n",
    "   - `csum`: Running cumulative sum.\n",
    "\n",
    "### Algorithm:\n",
    "- Initialize `odd = 0`, `even = 0`, `csum = 0`, and `res = 0` (to store the final count).\n",
    "- Iterate over the array:\n",
    "  1. **Update cumulative sum (`csum`)** by adding the current element.\n",
    "  2. If `csum` is **odd**, the number of subarrays ending at this index with an odd sum = `1 + even` (because an even prefix sum before this index makes it odd).\n",
    "  3. If `csum` is **even**, we add `odd` to the result (because an odd prefix sum before this index makes it odd).\n",
    "  4. Update the `odd` and `even` counters accordingly.\n",
    "- Return `res % (10^9 + 7)`."
   ]
  },
  {
   "cell_type": "code",
   "execution_count": 2,
   "metadata": {},
   "outputs": [],
   "source": [
    "def numOfSubarrays(arr):\n",
    "        res = 0\n",
    "        odd = 0\n",
    "        even = 0\n",
    "        csum = 0\n",
    "        for num in arr:\n",
    "            csum+=num\n",
    "            if csum%2:\n",
    "                res+=1+even\n",
    "                odd+=1\n",
    "            else:\n",
    "                res+=odd\n",
    "                even+=1\n",
    "        return res%(10**9+7)"
   ]
  },
  {
   "cell_type": "code",
   "execution_count": 3,
   "metadata": {},
   "outputs": [
    {
     "name": "stdout",
     "output_type": "stream",
     "text": [
      "4\n",
      "0\n",
      "16\n"
     ]
    }
   ],
   "source": [
    "# Example 1\n",
    "arr1 = [1, 3, 5]\n",
    "print(numOfSubarrays(arr1))  \n",
    "# Output: 4\n",
    "\n",
    "# Example 2\n",
    "arr2 = [2, 4, 6]\n",
    "print(numOfSubarrays(arr2))  \n",
    "# Output: 0\n",
    "\n",
    "# Example 3\n",
    "arr3 = [1, 2, 3, 4, 5, 6, 7]\n",
    "print(numOfSubarrays(arr3))  \n",
    "# Output: 16"
   ]
  }
 ],
 "metadata": {
  "kernelspec": {
   "display_name": "myenv",
   "language": "python",
   "name": "python3"
  },
  "language_info": {
   "codemirror_mode": {
    "name": "ipython",
    "version": 3
   },
   "file_extension": ".py",
   "mimetype": "text/x-python",
   "name": "python",
   "nbconvert_exporter": "python",
   "pygments_lexer": "ipython3",
   "version": "3.11.3"
  }
 },
 "nbformat": 4,
 "nbformat_minor": 2
}
