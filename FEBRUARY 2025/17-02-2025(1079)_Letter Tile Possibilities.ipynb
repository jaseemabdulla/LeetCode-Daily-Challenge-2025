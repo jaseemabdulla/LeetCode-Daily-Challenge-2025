{
 "cells": [
  {
   "cell_type": "code",
   "execution_count": 1,
   "metadata": {},
   "outputs": [],
   "source": [
    "class Solution:\n",
    "    def buildString(self, freq):\n",
    "        ways = 0\n",
    "        for i in range(26):\n",
    "            if freq[i] > 0:  \n",
    "                freq[i] -= 1  \n",
    "                ways += 1 + self.buildString(freq) \n",
    "                freq[i] += 1  \n",
    "        return ways\n",
    "\n",
    "    def numTilePossibilities(self, tiles):\n",
    "        freq = [0] * 26\n",
    "        for c in tiles:\n",
    "            freq[ord(c) - ord('A')] += 1\n",
    "        return self.buildString(freq)    "
   ]
  },
  {
   "cell_type": "code",
   "execution_count": 2,
   "metadata": {},
   "outputs": [
    {
     "name": "stdout",
     "output_type": "stream",
     "text": [
      "8\n",
      "188\n",
      "1\n"
     ]
    }
   ],
   "source": [
    "# Test cases\n",
    "sol = Solution()\n",
    "\n",
    "tiles1 = \"AAB\"\n",
    "print(sol.numTilePossibilities(tiles1))  # Expected Output: 8\n",
    "\n",
    "tiles2 = \"AAABBC\"\n",
    "print(sol.numTilePossibilities(tiles2))  # Expected Output: 188\n",
    "\n",
    "tiles3 = \"V\"\n",
    "print(sol.numTilePossibilities(tiles3))  # Expected Output: 1"
   ]
  }
 ],
 "metadata": {
  "kernelspec": {
   "display_name": "myenv",
   "language": "python",
   "name": "python3"
  },
  "language_info": {
   "codemirror_mode": {
    "name": "ipython",
    "version": 3
   },
   "file_extension": ".py",
   "mimetype": "text/x-python",
   "name": "python",
   "nbconvert_exporter": "python",
   "pygments_lexer": "ipython3",
   "version": "3.11.3"
  }
 },
 "nbformat": 4,
 "nbformat_minor": 2
}
