{
 "cells": [
  {
   "cell_type": "code",
   "execution_count": null,
   "metadata": {},
   "outputs": [],
   "source": [
    "def maxAbsoluteSum(nums):\n",
    "        n = len(nums)\n",
    "        max_ending_here = nums[0]\n",
    "        min_ending_here = nums[0]\n",
    "        max_so_far = nums[0]\n",
    "        min_so_far = nums[0]\n",
    "        \n",
    "        # Kadane's algorithm to find max and min subarray sums\n",
    "        for i in range(1, n):\n",
    "            max_ending_here = max(nums[i], max_ending_here + nums[i])\n",
    "            min_ending_here = min(nums[i], min_ending_here + nums[i])\n",
    "            max_so_far = max(max_so_far, max_ending_here)\n",
    "            min_so_far = min(min_so_far, min_ending_here)\n",
    "        \n",
    "        # The maximum absolute sum is the maximum of the absolute values of max_so_far and min_so_far\n",
    "        return max(abs(max_so_far), abs(min_so_far))"
   ]
  }
 ],
 "metadata": {
  "kernelspec": {
   "display_name": "myenv",
   "language": "python",
   "name": "python3"
  },
  "language_info": {
   "name": "python",
   "version": "3.11.3"
  }
 },
 "nbformat": 4,
 "nbformat_minor": 2
}
