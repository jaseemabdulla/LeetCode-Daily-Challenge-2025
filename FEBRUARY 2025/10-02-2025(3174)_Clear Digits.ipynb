{
 "cells": [
  {
   "cell_type": "code",
   "execution_count": null,
   "metadata": {},
   "outputs": [],
   "source": [
    "def clearDigits(self, s: str) -> str:\n",
    "        stk = []\n",
    "        for c in s:\n",
    "            if c.isdigit():\n",
    "                stk.pop()\n",
    "            else:\n",
    "                stk.append(c)\n",
    "        return \"\".join(stk)"
   ]
  }
 ],
 "metadata": {
  "kernelspec": {
   "display_name": "myenv",
   "language": "python",
   "name": "python3"
  },
  "language_info": {
   "name": "python",
   "version": "3.11.3"
  }
 },
 "nbformat": 4,
 "nbformat_minor": 2
}
