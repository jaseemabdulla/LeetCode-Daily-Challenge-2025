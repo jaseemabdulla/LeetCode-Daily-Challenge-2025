{
 "cells": [
  {
   "cell_type": "markdown",
   "metadata": {},
   "source": [
    "## Explanation of Approach\n",
    "\n",
    "### 1. What is a Happy String?\n",
    "A **happy string** of length `n`:\n",
    "- Consists of the characters `{ 'a', 'b', 'c' }`\n",
    "- Has **no consecutive repeating characters** (e.g., `\"aa\"` is invalid).\n",
    "\n",
    "### 2. Understanding the Logic\n",
    "- We use an **array `res`** to store the happy string.\n",
    "- At each position `pos`, we **choose the smallest possible letter** from `{ 'a', 'b', 'c' }`, ensuring it's different from the previous letter.\n",
    "- We track the **valid k-th string range (`min_k` to `max_k`)** at each position.\n",
    "\n",
    "### 3. How `min_k` and `max_k` Work\n",
    "- At each step, we determine how many valid happy strings exist from that point onwards.\n",
    "- The total number of happy strings that can be formed from position `pos` is `2^(n-pos)`.\n",
    "- If the current **k-th string falls in that range**, we pick the letter and proceed.\n",
    "\n",
    "### 4. Example Walkthrough (`n = 3, k = 9`)\n",
    "- All happy strings of length `3`:  \n",
    "  `[\"aba\", \"abc\", \"aca\", \"acb\", \"bab\", \"bac\", \"bca\", \"bcb\", \"cab\", \"cac\", \"cba\", \"cbc\"]`\n",
    "- The **9th string is `\"cab\"`**.\n",
    "\n",
    "### 5. Time Complexity Analysis\n",
    "- Since each position requires checking **at most 3 choices**, the time complexity is **O(n)**."
   ]
  },
  {
   "cell_type": "code",
   "execution_count": 1,
   "metadata": {},
   "outputs": [],
   "source": [
    "def getHappyString(n, k):\n",
    "    # Initialize result array with placeholders ('_')\n",
    "    res = ['_' for _ in range(n + 1)]\n",
    "    \n",
    "    # The three possible letters for a happy string\n",
    "    letters = ('a', 'b', 'c')\n",
    "\n",
    "    # min_k and max_k track the valid range for k at each position\n",
    "    min_k, max_k = 0, 0\n",
    "\n",
    "    # Iterate through each position in the result\n",
    "    for pos in range(1, n + 1):\n",
    "        for l in letters:\n",
    "            if l != res[pos - 1]:  # Ensure adjacent letters are different\n",
    "                # Update the range for valid k values\n",
    "                min_k = max_k + 1\n",
    "                max_k += 2**(n - pos)  # Remaining possible happy strings\n",
    "                \n",
    "                # Check if k falls within the current range\n",
    "                if min_k <= k <= max_k:\n",
    "                    max_k = min_k - 1  # Reset max_k for the next position\n",
    "                    res[pos] = l  # Assign letter to the current position\n",
    "                    break  # Move to the next position\n",
    "\n",
    "        # If no valid character was assigned, return an empty string\n",
    "        if res[pos] == '_':\n",
    "            return ''\n",
    "\n",
    "    # Return the final happy string, ignoring the first placeholder character\n",
    "    return ''.join(res[1:])"
   ]
  },
  {
   "cell_type": "code",
   "execution_count": 2,
   "metadata": {},
   "outputs": [
    {
     "name": "stdout",
     "output_type": "stream",
     "text": [
      "c\n",
      "\n",
      "cab\n"
     ]
    }
   ],
   "source": [
    "# Test cases\n",
    "print(getHappyString(1, 3))  # Expected Output: \"c\"\n",
    "print(getHappyString(1, 4))  # Expected Output: \"\"\n",
    "print(getHappyString(3, 9))  # Expected Output: \"cab\""
   ]
  }
 ],
 "metadata": {
  "kernelspec": {
   "display_name": "myenv",
   "language": "python",
   "name": "python3"
  },
  "language_info": {
   "codemirror_mode": {
    "name": "ipython",
    "version": 3
   },
   "file_extension": ".py",
   "mimetype": "text/x-python",
   "name": "python",
   "nbconvert_exporter": "python",
   "pygments_lexer": "ipython3",
   "version": "3.11.3"
  }
 },
 "nbformat": 4,
 "nbformat_minor": 2
}
