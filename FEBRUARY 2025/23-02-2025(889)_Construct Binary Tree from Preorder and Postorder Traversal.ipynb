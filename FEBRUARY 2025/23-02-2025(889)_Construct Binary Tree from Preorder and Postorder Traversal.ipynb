{
 "cells": [
  {
   "cell_type": "code",
   "execution_count": 5,
   "metadata": {},
   "outputs": [],
   "source": [
    "class TreeNode:\n",
    "    def __init__(self, val=0, left=None, right=None):\n",
    "        self.val = val\n",
    "        self.left = left\n",
    "        self.right = right\n",
    "def constructFromPrePost(preorder, postorder):\n",
    "        postIndex = {val: i for i, val in enumerate(postorder)}\n",
    "        preIndex = {val: i for i, val in enumerate(preorder)}\n",
    "\n",
    "        node_map = {}\n",
    "\n",
    "        for i, val in enumerate(preorder):\n",
    "            node = TreeNode(val)\n",
    "            node_map[val] = node  \n",
    "            \n",
    "            post_pos = postIndex[val]\n",
    "            if post_pos + 1 < len(postorder):\n",
    "                parent_val = postorder[post_pos + 1]\n",
    "                \n",
    "                if preIndex[parent_val] < i:\n",
    "                    parent = node_map[parent_val]\n",
    "                else:\n",
    "                    parent = node_map[preorder[i - 1]]\n",
    "\n",
    "                if not parent.left:\n",
    "                    parent.left = node\n",
    "                else:\n",
    "                    parent.right = node\n",
    "\n",
    "        return node_map[preorder[0]]\n",
    "    "
   ]
  }
 ],
 "metadata": {
  "kernelspec": {
   "display_name": "myenv",
   "language": "python",
   "name": "python3"
  },
  "language_info": {
   "codemirror_mode": {
    "name": "ipython",
    "version": 3
   },
   "file_extension": ".py",
   "mimetype": "text/x-python",
   "name": "python",
   "nbconvert_exporter": "python",
   "pygments_lexer": "ipython3",
   "version": "3.11.3"
  }
 },
 "nbformat": 4,
 "nbformat_minor": 2
}
