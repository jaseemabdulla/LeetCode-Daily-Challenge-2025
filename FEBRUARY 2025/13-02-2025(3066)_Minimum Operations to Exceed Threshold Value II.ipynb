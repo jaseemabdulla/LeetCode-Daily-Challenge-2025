{
 "cells": [
  {
   "cell_type": "code",
   "execution_count": null,
   "metadata": {},
   "outputs": [],
   "source": [
    "def minOperations(nums, k):\n",
    "        ans = 0\n",
    "        arr = SortedList(nums)\n",
    "        while len(arr) > 1 and k > arr[0]:\n",
    "            ans += 1\n",
    "            arr.add((arr[0] * 2) + arr[1])\n",
    "            arr.discard(arr[1])\n",
    "            arr.discard(arr[0])\n",
    "        return ans"
   ]
  }
 ],
 "metadata": {
  "kernelspec": {
   "display_name": "myenv",
   "language": "python",
   "name": "python3"
  },
  "language_info": {
   "name": "python",
   "version": "3.11.3"
  }
 },
 "nbformat": 4,
 "nbformat_minor": 2
}
