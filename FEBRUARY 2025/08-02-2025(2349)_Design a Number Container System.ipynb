{
 "cells": [
  {
   "cell_type": "code",
   "execution_count": null,
   "metadata": {},
   "outputs": [],
   "source": [
    "def __init__(self):\n",
    "        self.index_num = {} # index: num at index\n",
    "        self.num_indices = {} # num: min heap of indices where num has been\n",
    "\n",
    "    def change(self, index: int, number: int) -> None:\n",
    "        self.index_num[index] = number # set number for index\n",
    "        \n",
    "        if number not in self.num_indices: \n",
    "            self.num_indices[number] = [] # make heap if new num\n",
    "        heapq.heappush(self.num_indices[number], index) # add index to min heap\n",
    "\n",
    "    def find(self, number: int) -> int:\n",
    "        if number not in self.num_indices: \n",
    "            return -1 # no index with number\n",
    "            \n",
    "        pos_indices = self.num_indices[number]\n",
    "        while pos_indices:\n",
    "            min_index = pos_indices[0] # check lowest index\n",
    "            \n",
    "            if self.index_num[min_index] == number: \n",
    "                return min_index # valid index, found num at index\n",
    "\n",
    "            heapq.heappop(pos_indices) # invalid index, new num at index\n",
    "        \n",
    "        return -1 # no valid index found"
   ]
  }
 ],
 "metadata": {
  "kernelspec": {
   "display_name": "myenv",
   "language": "python",
   "name": "python3"
  },
  "language_info": {
   "name": "python",
   "version": "3.11.3"
  }
 },
 "nbformat": 4,
 "nbformat_minor": 2
}
