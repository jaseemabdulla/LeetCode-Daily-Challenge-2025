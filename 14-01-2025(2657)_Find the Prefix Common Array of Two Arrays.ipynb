{
 "cells": [
  {
   "cell_type": "markdown",
   "metadata": {},
   "source": [
    "# Intuition\n",
    "To determine the number of common elements between the prefixes of arrays `A` and `B`:\n",
    "1. Use a set to keep track of all the elements seen so far from both `A` and `B`.\n",
    "2. Maintain a count of common elements as we iterate through both arrays."
   ]
  },
  {
   "cell_type": "markdown",
   "metadata": {},
   "source": [
    "# Approach\n",
    "1. Initialize an array `ans` to store the results.\n",
    "2. Use a set `seen` to store all elements encountered in both `A` and `B` up to the current index.\n",
    "3. Maintain a `count` variable to keep track of how many elements have been seen in both arrays at the current prefix.\n",
    "4. For each index `i`:\n",
    "   - If `A[i]` or `B[i]` is already in `seen`, it means the element is common. Increment the `count`.\n",
    "   - Add `A[i]` and `B[i]` to the `seen` set.\n",
    "   - Update `ans[i]` with the current `count`."
   ]
  },
  {
   "cell_type": "markdown",
   "metadata": {},
   "source": [
    "# Complexity\n",
    "- **Time Complexity**:  \n",
    "  \\(O(n)\\), where \\(n\\) is the length of `A` or `B`, as we iterate through the arrays once.\n",
    "  \n",
    "- **Space Complexity**:  \n",
    "  \\(O(n)\\) in the worst case, for the `seen` set storing all distinct elements.\n"
   ]
  },
  {
   "cell_type": "code",
   "execution_count": 1,
   "metadata": {},
   "outputs": [],
   "source": [
    "def findThePrefixCommonArray(A, B):\n",
    "        ans = [0]*len(A)\n",
    "        seen = set()\n",
    "        count= 0\n",
    "\n",
    "        for i in range(len(A)):\n",
    "            if A[i] in seen:\n",
    "                count+=1\n",
    "            seen.add(A[i])\n",
    "            if B[i] in seen:\n",
    "                count+=1\n",
    "            seen.add(B[i])\n",
    "\n",
    "            ans[i] = count\n",
    "        \n",
    "        return ans"
   ]
  },
  {
   "cell_type": "code",
   "execution_count": 2,
   "metadata": {},
   "outputs": [
    {
     "name": "stdout",
     "output_type": "stream",
     "text": [
      "[0, 2, 3, 4]\n",
      "[0, 1, 3]\n"
     ]
    }
   ],
   "source": [
    "# Example 1\n",
    "A = [1, 3, 2, 4]\n",
    "B = [3, 1, 2, 4]\n",
    "print(findThePrefixCommonArray(A, B))  # Expected Output: [0, 2, 3, 4]\n",
    "\n",
    "# Example 2\n",
    "A = [2, 3, 1]\n",
    "B = [3, 1, 2]\n",
    "print(findThePrefixCommonArray(A, B))  # Expected Output: [0, 1, 3]"
   ]
  }
 ],
 "metadata": {
  "kernelspec": {
   "display_name": "myenv",
   "language": "python",
   "name": "python3"
  },
  "language_info": {
   "codemirror_mode": {
    "name": "ipython",
    "version": 3
   },
   "file_extension": ".py",
   "mimetype": "text/x-python",
   "name": "python",
   "nbconvert_exporter": "python",
   "pygments_lexer": "ipython3",
   "version": "3.11.3"
  }
 },
 "nbformat": 4,
 "nbformat_minor": 2
}
