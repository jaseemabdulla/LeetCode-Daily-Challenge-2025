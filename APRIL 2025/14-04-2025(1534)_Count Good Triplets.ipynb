{
 "cells": [
  {
   "cell_type": "markdown",
   "id": "f84c7926",
   "metadata": {},
   "source": [
    "## 🔢 Count Good Triplets\n",
    "\n",
    "---\n",
    "\n",
    "### ✅ 1. Approach:\n",
    "We are given an array and three integer constraints `a`, `b`, and `c`.\n",
    "\n",
    "We need to count the number of **triplets (i, j, k)** such that:\n",
    "- `i < j < k`\n",
    "- `|arr[i] - arr[j]| <= a`\n",
    "- `|arr[j] - arr[k]| <= b`\n",
    "- `|arr[i] - arr[k]| <= c`\n",
    "\n",
    "We can solve this using **combinations** of 3 elements from the array and then check these conditions."
   ]
  },
  {
   "cell_type": "code",
   "execution_count": 1,
   "id": "d41d0138",
   "metadata": {},
   "outputs": [],
   "source": [
    "### 🧠 2. Code:\n",
    "from itertools import combinations\n",
    "from typing import List\n",
    "\n",
    "def countGoodTriplets(arr: List[int], a: int, b: int, c: int) -> int:\n",
    "    ans = 0\n",
    "    # Check all triplets from array\n",
    "    for num1, num2, num3 in combinations(arr, 3):\n",
    "        # Check the given conditions\n",
    "        if (abs(num1 - num2) <= a and \n",
    "            abs(num2 - num3) <= b and \n",
    "            abs(num1 - num3) <= c):\n",
    "            ans += 1\n",
    "    return ans"
   ]
  },
  {
   "cell_type": "markdown",
   "id": "f70a8a55",
   "metadata": {},
   "source": [
    "\n",
    "### 📝 3. Code Explanation:\n",
    "- We use `combinations(arr, 3)` to generate all possible triplets `(i, j, k)` with `i < j < k`.\n",
    "- For each triplet, check all three absolute difference constraints:\n",
    "  - `|arr[i] - arr[j]| <= a`\n",
    "  - `|arr[j] - arr[k]| <= b`\n",
    "  - `|arr[i] - arr[k]| <= c`\n",
    "- Increment the counter if the conditions are satisfied."
   ]
  },
  {
   "cell_type": "markdown",
   "id": "75efb094",
   "metadata": {},
   "source": [
    "### 📊 4. Complexity:\n",
    "- **Time Complexity**:  \n",
    "  O(n³) in worst case due to generating all combinations of 3 elements.\n",
    "\n",
    "- **Space Complexity**:  \n",
    "  O(1) – only uses constant space for counting."
   ]
  },
  {
   "cell_type": "code",
   "execution_count": 2,
   "id": "1f0d69c6",
   "metadata": {},
   "outputs": [
    {
     "name": "stdout",
     "output_type": "stream",
     "text": [
      "4\n",
      "0\n"
     ]
    }
   ],
   "source": [
    "### 🔁 5. Example Function Calls:\n",
    "print(countGoodTriplets([3, 0, 1, 1, 9, 7], 7, 2, 3))  # Output: 4\n",
    "print(countGoodTriplets([1, 1, 2, 2, 3], 0, 0, 1))     # Output: 0"
   ]
  },
  {
   "cell_type": "markdown",
   "id": "b2071fec",
   "metadata": {},
   "source": [
    "**Explanation**:\n",
    "- In the first case, four triplets satisfy all conditions.\n",
    "- In the second case, no triplets meet all constraints."
   ]
  }
 ],
 "metadata": {
  "kernelspec": {
   "display_name": "myenv",
   "language": "python",
   "name": "python3"
  },
  "language_info": {
   "codemirror_mode": {
    "name": "ipython",
    "version": 3
   },
   "file_extension": ".py",
   "mimetype": "text/x-python",
   "name": "python",
   "nbconvert_exporter": "python",
   "pygments_lexer": "ipython3",
   "version": "3.11.3"
  }
 },
 "nbformat": 4,
 "nbformat_minor": 5
}
