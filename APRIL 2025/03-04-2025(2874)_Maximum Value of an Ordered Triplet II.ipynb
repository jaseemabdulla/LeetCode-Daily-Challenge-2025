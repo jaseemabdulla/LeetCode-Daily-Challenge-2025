{
 "cells": [
  {
   "cell_type": "markdown",
   "metadata": {},
   "source": [
    "### Approach:\n",
    "- We need to find the maximum value of an ordered triplet `(i, j, k)` such that `i < j < k` and the value is calculated as `(nums[i] - nums[j]) * nums[k]`.\n",
    "- Instead of iterating through the array in a single pass, we use **prefix** and **suffix** arrays to precompute values efficiently.\n",
    "  - `prefix[i]`: Stores the maximum value of `nums[0]` to `nums[i]`, which helps in computing `nums[i]`.\n",
    "  - `suffix[i]`: Stores the maximum value of `nums[i]` to `nums[n-1]`, which helps in computing `nums[k]`.\n",
    "- Using these precomputed arrays, we iterate through the middle element (`nums[j]`) and compute the maximum value.\n"
   ]
  },
  {
   "cell_type": "code",
   "execution_count": 2,
   "metadata": {},
   "outputs": [],
   "source": [
    "def maximumTripletValue(nums):\n",
    "    n = len(nums)\n",
    "    \n",
    "    # Initialize prefix and suffix arrays\n",
    "    prefix = [0] * n  \n",
    "    suffix = [0] * n  \n",
    "    \n",
    "    # Compute prefix max values\n",
    "    prefix_max(prefix, nums)\n",
    "    \n",
    "    # Compute suffix max values\n",
    "    suffix_max(suffix, nums)\n",
    "    \n",
    "    ans = 0  # Variable to store the maximum triplet value\n",
    "    \n",
    "    # Iterate through possible middle elements (j)\n",
    "    for j in range(1, n - 1):\n",
    "        # Compute the maximum triplet value for current j\n",
    "        ans = max(ans, (prefix[j - 1] - nums[j]) * suffix[j + 1])\n",
    "    \n",
    "    return ans\n",
    "\n",
    "def prefix_max(prefix, nums):\n",
    "    \"\"\"Computes prefix maximum values for nums and stores in prefix array.\"\"\"\n",
    "    max_val = prefix[0] = nums[0]  # Initialize first element\n",
    "    for i in range(1, len(nums)):\n",
    "        max_val = max(max_val, nums[i])  # Update max value\n",
    "        prefix[i] = max_val  # Store in prefix array\n",
    "\n",
    "def suffix_max(suffix, nums):\n",
    "    \"\"\"Computes suffix maximum values for nums and stores in suffix array.\"\"\"\n",
    "    max_val = suffix[len(nums) - 1] = nums[-1]  # Initialize last element\n",
    "    for i in range(len(nums) - 2, -1, -1):\n",
    "        max_val = max(max_val, nums[i])  # Update max value\n",
    "        suffix[i] = max_val  # Store in suffix array"
   ]
  },
  {
   "cell_type": "code",
   "execution_count": 3,
   "metadata": {},
   "outputs": [
    {
     "name": "stdout",
     "output_type": "stream",
     "text": [
      "77\n",
      "133\n",
      "0\n"
     ]
    }
   ],
   "source": [
    "# Example Function Calls\n",
    "print (maximumTripletValue([12,6,1,2,7]))  # Output: 77\n",
    "print (maximumTripletValue([1,10,3,4,19])) # Output: 133\n",
    "print (maximumTripletValue([1,2,3]))       # Output: 0"
   ]
  },
  {
   "cell_type": "markdown",
   "metadata": {},
   "source": [
    "### Explanation:\n",
    "#### **Step 1: Precompute Prefix and Suffix Arrays**\n",
    "- **`prefix[i]`** stores the maximum value from `nums[0]` to `nums[i]`, allowing us to efficiently get `nums[i]` in triplet calculations.\n",
    "- **`suffix[i]`** stores the maximum value from `nums[i]` to `nums[n-1]`, allowing us to efficiently get `nums[k]` in triplet calculations.\n",
    "\n",
    "#### **Step 2: Iterate Through `j` (Middle Element)**\n",
    "- For each `j`, compute:\n",
    "\n",
    "  \\[\n",
    "  (prefix[j-1] - nums[j]) * suffix[j+1]\n",
    "  \\]\n",
    "\n",
    "- Update `ans` with the maximum value found.\n",
    "\n",
    "#### **Step 3: Return the maximum possible triplet value**"
   ]
  },
  {
   "cell_type": "markdown",
   "metadata": {},
   "source": [
    "### **Complexity Analysis:**\n",
    "- **Time Complexity**: `O(N)`\n",
    "  - **`prefix_max()`** takes `O(N)`.\n",
    "  - **`suffix_max()`** takes `O(N)`.\n",
    "  - The loop iterating through `j` takes `O(N)`.\n",
    "  - Total complexity: `O(N) + O(N) + O(N) = O(N)`.\n",
    "  \n",
    "- **Space Complexity**: `O(N)`\n",
    "  - The `prefix` and `suffix` arrays each take `O(N)`, so total space complexity is `O(N)`."
   ]
  }
 ],
 "metadata": {
  "kernelspec": {
   "display_name": "myenv",
   "language": "python",
   "name": "python3"
  },
  "language_info": {
   "codemirror_mode": {
    "name": "ipython",
    "version": 3
   },
   "file_extension": ".py",
   "mimetype": "text/x-python",
   "name": "python",
   "nbconvert_exporter": "python",
   "pygments_lexer": "ipython3",
   "version": "3.11.3"
  }
 },
 "nbformat": 4,
 "nbformat_minor": 2
}
