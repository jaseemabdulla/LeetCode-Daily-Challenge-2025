{
 "cells": [
  {
   "cell_type": "markdown",
   "metadata": {},
   "source": [
    "## 🧩 Partition Equal Subset Sum\n",
    "\n",
    "---\n",
    "\n",
    "### ✅ 1. Approach:\n",
    "To determine if the array can be partitioned into two subsets with equal sums:\n",
    "\n",
    "1. Compute the total sum of the array.\n",
    "2. If the sum is **odd**, it's not possible to split into two equal subsets → return `False`.\n",
    "3. If the sum is **even**, set the `target` as `total // 2`.\n",
    "4. Use a `set` to keep track of all achievable subset sums (start with `{0}`).\n",
    "5. For each number in the array:\n",
    "   - Add it to all existing subset sums to compute new sums.\n",
    "   - If any new sum equals the target, return `True`.\n",
    "6. If the loop finishes without reaching the target, return `False`."
   ]
  },
  {
   "cell_type": "markdown",
   "metadata": {},
   "source": [
    "### 🧠 2. Code:\n",
    "```python\n",
    "from typing import List\n",
    "\n",
    "def canPartition(nums: List[int]) -> bool:\n",
    "    total = sum(nums)\n",
    "    \n",
    "    if total % 2 != 0:\n",
    "        return False\n",
    "    \n",
    "    target = total // 2\n",
    "    A = set([0])\n",
    "    \n",
    "    for num in nums:\n",
    "        for current_sum in list(A):\n",
    "            new_sum = current_sum + num\n",
    "            if new_sum == target:\n",
    "                return True\n",
    "            A.add(new_sum)\n",
    "    \n",
    "    return False"
   ]
  },
  {
   "cell_type": "markdown",
   "metadata": {},
   "source": [
    "### 📝 3. Code Explanation:\n",
    "- **Line 1-2**: Calculate total sum and check if it's odd. If so, early return `False`.\n",
    "- **Line 4**: Set the target sum as half the total.\n",
    "- **Line 5**: Initialize a set `A` to keep track of all achievable subset sums.\n",
    "- **Line 7-11**: For each number, try to form new subset sums by adding it to all existing sums in `A`.\n",
    "  - If at any point `new_sum` equals the target, we found a valid partition → return `True`.\n",
    "- **Line 12**: If no partition is found after all iterations, return `False`."
   ]
  },
  {
   "cell_type": "markdown",
   "metadata": {},
   "source": [
    "### 📊 4. Complexity:\n",
    "- **Time Complexity**: `O(n * target)`  \n",
    "  - `n` is the number of elements in the list.\n",
    "  - `target = total // 2`, and we're computing all subset sums up to that.\n",
    "- **Space Complexity**: `O(target)`  \n",
    "  - We're storing possible subset sums in a set up to `target`."
   ]
  },
  {
   "cell_type": "markdown",
   "metadata": {},
   "source": [
    "### 🔁 5. Example Function Call:\n",
    "```python\n",
    "print(canPartition([1, 5, 11, 5]))  # Output: True\n",
    "print(canPartition([1, 2, 3, 5]))   # Output: False\n",
    "```\n",
    "\n",
    "**Explanation:**\n",
    "- `[1, 5, 11, 5]` → Total sum = 22, target = 11  \n",
    "  Subset sums: {0, 1, 5, 6, 11, ...} → 11 is reachable → ✅ True\n",
    "\n",
    "- `[1, 2, 3, 5]` → Total sum = 11 (odd) → ❌ False"
   ]
  }
 ],
 "metadata": {
  "language_info": {
   "name": "python"
  }
 },
 "nbformat": 4,
 "nbformat_minor": 2
}
