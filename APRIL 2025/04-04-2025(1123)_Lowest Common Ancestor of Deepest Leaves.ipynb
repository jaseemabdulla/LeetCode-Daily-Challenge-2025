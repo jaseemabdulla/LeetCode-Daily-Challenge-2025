{
 "cells": [
  {
   "cell_type": "markdown",
   "metadata": {},
   "source": [
    "### Approach:\n",
    "- We use **Depth-First Search (DFS)** to find the **Lowest Common Ancestor (LCA)** of the deepest leaves.\n",
    "- Each node's left and right subtree depths are compared:\n",
    "  - If both have the same depth, the current node is the LCA.\n",
    "  - If one subtree is deeper, the LCA must be in that subtree."
   ]
  },
  {
   "cell_type": "code",
   "execution_count": 3,
   "metadata": {},
   "outputs": [],
   "source": [
    "# Definition for a binary tree node.\n",
    "from typing import Optional\n",
    "\n",
    "class TreeNode:\n",
    "    def __init__(self, val=0, left=None, right=None):\n",
    "        self.val = val\n",
    "        self.left = left\n",
    "        self.right = right\n",
    "\n",
    "class Solution:\n",
    "    def lcaDeepestLeaves(self, root: Optional[TreeNode]) -> Optional[TreeNode]:\n",
    "        def dfs(node, depth):\n",
    "            \"\"\" Perform DFS and return (LCA of deepest leaves, max depth). \"\"\"\n",
    "            if not node:\n",
    "                return (None, depth)  # Return None for empty nodes\n",
    "\n",
    "            leftNode, leftDepth = dfs(node.left, depth + 1)\n",
    "            rightNode, rightDepth = dfs(node.right, depth + 1)\n",
    "\n",
    "            # If left and right subtrees have the same depth, current node is the LCA\n",
    "            if leftDepth == rightDepth:\n",
    "                return (node, leftDepth)\n",
    "            elif leftDepth > rightDepth:\n",
    "                return (leftNode, leftDepth)  # Deeper left subtree\n",
    "            else:\n",
    "                return (rightNode, rightDepth)  # Deeper right subtree\n",
    "\n",
    "        node, _ = dfs(root, 0)\n",
    "        return node\n",
    "\n",
    "# Helper function to build a binary tree from a level-order list representation.\n",
    "def build_tree_from_list(lst):\n",
    "    if not lst:\n",
    "        return None\n",
    "    nodes = [TreeNode(val) if val is not None else None for val in lst]\n",
    "    for i, node in enumerate(nodes):\n",
    "        if node:\n",
    "            left_idx, right_idx = 2 * i + 1, 2 * i + 2\n",
    "            if left_idx < len(nodes):\n",
    "                node.left = nodes[left_idx]\n",
    "            if right_idx < len(nodes):\n",
    "                node.right = nodes[right_idx]\n",
    "    return nodes[0]"
   ]
  },
  {
   "cell_type": "code",
   "execution_count": 4,
   "metadata": {},
   "outputs": [
    {
     "name": "stdout",
     "output_type": "stream",
     "text": [
      "2\n",
      "1\n",
      "2\n"
     ]
    }
   ],
   "source": [
    "\n",
    "# Example Function Calls\n",
    "solution = Solution()\n",
    "\n",
    "# Example 1:\n",
    "root1 = build_tree_from_list([3,5,1,6,2,0,8,None,None,7,4])\n",
    "result1 = solution.lcaDeepestLeaves(root1)\n",
    "print(result1.val)  # Output: 2\n",
    "\n",
    "# Example 2:\n",
    "root2 = build_tree_from_list([1])\n",
    "result2 = solution.lcaDeepestLeaves(root2)\n",
    "print(result2.val)  # Output: 1\n",
    "\n",
    "# Example 3:\n",
    "root3 = build_tree_from_list([0,1,3,None,2])\n",
    "result3 = solution.lcaDeepestLeaves(root3)\n",
    "print(result3.val)  # Output: 2"
   ]
  }
 ],
 "metadata": {
  "kernelspec": {
   "display_name": "myenv",
   "language": "python",
   "name": "python3"
  },
  "language_info": {
   "codemirror_mode": {
    "name": "ipython",
    "version": 3
   },
   "file_extension": ".py",
   "mimetype": "text/x-python",
   "name": "python",
   "nbconvert_exporter": "python",
   "pygments_lexer": "ipython3",
   "version": "3.11.3"
  }
 },
 "nbformat": 4,
 "nbformat_minor": 2
}
