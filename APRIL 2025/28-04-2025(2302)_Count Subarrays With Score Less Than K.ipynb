{
 "cells": [
  {
   "cell_type": "markdown",
   "id": "1705690b",
   "metadata": {},
   "source": [
    "## ✨ Count Subarrays With Score Less Than K\n",
    "\n",
    "---\n",
    "\n",
    "### ✅ 1. Approach:\n",
    "We are asked to find the number of subarrays where the **score** is:\n",
    "- `score = sum(subarray) * length(subarray)`, and\n",
    "- `score < k`.\n",
    "\n",
    "Idea:\n",
    "- Use **sliding window** (two pointers `left` and `right`).\n",
    "- Expand the `right` pointer to include new elements.\n",
    "- If the **score** becomes `>= k`, move the `left` pointer forward to shrink the window.\n",
    "- After ensuring the window is valid, the number of valid subarrays ending at `right` is `(right - left + 1)`."
   ]
  },
  {
   "cell_type": "code",
   "execution_count": 1,
   "id": "0b7e6812",
   "metadata": {},
   "outputs": [],
   "source": [
    "### 🧠 2. Code (with comments):\n",
    "from typing import List\n",
    "\n",
    "def countSubarrays(nums: List[int], k: int) -> int:\n",
    "    count = 0          # Total number of valid subarrays\n",
    "    left = 0           # Left pointer of the window\n",
    "    total = 0          # Sum of elements in the current window\n",
    "    n = len(nums)\n",
    "    \n",
    "    for right in range(n):\n",
    "        total += nums[right]\n",
    "        \n",
    "        # While the current window score is >= k, shrink it\n",
    "        while total * (right - left + 1) >= k and left <= right:\n",
    "            total -= nums[left]\n",
    "            left += 1\n",
    "        \n",
    "        # All subarrays ending at 'right' and starting anywhere between 'left' and 'right' are valid\n",
    "        count += (right - left + 1)\n",
    "    \n",
    "    return count"
   ]
  },
  {
   "cell_type": "markdown",
   "id": "d83f5839",
   "metadata": {},
   "source": [
    "\n",
    "### 📝 3. Code Explanation:\n",
    "- Add `nums[right]` to `total` at every step.\n",
    "- If `total * window_length` is **too large**, move `left` to shrink the window and subtract `nums[left]` from `total`.\n",
    "- Once the window is valid:\n",
    "  - All subarrays ending at `right` and starting from `left` to `right` are valid.\n",
    "  - So, add `(right - left + 1)` to `count`."
   ]
  },
  {
   "cell_type": "markdown",
   "id": "a8a60b43",
   "metadata": {},
   "source": [
    "### 📊 4. Complexity:\n",
    "- **Time Complexity**: `O(n)`\n",
    "  - Each element is added and removed at most once.\n",
    "- **Space Complexity**: `O(1)`\n",
    "  - Only constant extra space used."
   ]
  },
  {
   "cell_type": "code",
   "execution_count": 2,
   "id": "735cb8c5",
   "metadata": {},
   "outputs": [
    {
     "name": "stdout",
     "output_type": "stream",
     "text": [
      "6\n",
      "5\n"
     ]
    }
   ],
   "source": [
    "### 🔁 5. Example Function Call:\n",
    "print(countSubarrays([2, 1, 4, 3, 5], 10))  # Output: 6\n",
    "print(countSubarrays([1, 1, 1], 5))         # Output: 5"
   ]
  },
  {
   "cell_type": "markdown",
   "id": "9ce6c92b",
   "metadata": {},
   "source": [
    "**Explanation:**\n",
    "- `[2], [1], [4], [3], [5], [2,1]` are valid for first example.\n",
    "- In second example, all subarrays except `[1,1,1]` are valid."
   ]
  }
 ],
 "metadata": {
  "kernelspec": {
   "display_name": "myenv",
   "language": "python",
   "name": "python3"
  },
  "language_info": {
   "codemirror_mode": {
    "name": "ipython",
    "version": 3
   },
   "file_extension": ".py",
   "mimetype": "text/x-python",
   "name": "python",
   "nbconvert_exporter": "python",
   "pygments_lexer": "ipython3",
   "version": "3.11.3"
  }
 },
 "nbformat": 4,
 "nbformat_minor": 5
}
