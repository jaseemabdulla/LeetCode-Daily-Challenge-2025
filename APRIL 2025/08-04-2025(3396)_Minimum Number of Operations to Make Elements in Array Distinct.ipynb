{
 "cells": [
  {
   "cell_type": "markdown",
   "metadata": {},
   "source": [
    "## 🔁 Minimum Number of Operations to Make Elements in Array Distinct\n",
    "\n",
    "---\n",
    "\n",
    "### ✅ 1. Approach:\n",
    "The goal is to remove elements from the array in chunks of 3 (an \"operation\") from the start until the remaining array contains all **distinct** elements.\n",
    "\n",
    "1. We iterate the array in reverse to check how early a duplicate occurs.\n",
    "2. For every element, we check if it has been seen before:\n",
    "   - If yes → that means from this point onward, duplicates exist, and we calculate how many operations (of size 3) are needed to remove up to that point.\n",
    "   - If no → add it to the `seen` set.\n",
    "3. If no duplicates are found at all, we return `0`."
   ]
  },
  {
   "cell_type": "code",
   "execution_count": 2,
   "metadata": {},
   "outputs": [],
   "source": [
    "from typing import List\n",
    "\n",
    "def minimumOperations(nums: List[int]) -> int:\n",
    "    seen = set()  # To store elements seen so far (from the end of the list)\n",
    "    \n",
    "    # Traverse the array in reverse\n",
    "    for i in range(len(nums) - 1, -1, -1):\n",
    "        if nums[i] in seen:\n",
    "            # If a duplicate is found, calculate how many operations\n",
    "            # of size 3 are required to remove elements up to index i\n",
    "            return (i // 3) + 1\n",
    "        else:\n",
    "            seen.add(nums[i])  # Mark the element as seen\n",
    "\n",
    "    # If all elements are unique, no operation is needed\n",
    "    return 0"
   ]
  },
  {
   "cell_type": "markdown",
   "metadata": {},
   "source": [
    "### 📝 3. Code Explanation:\n",
    "- `seen` keeps track of elements we've already checked from the end.\n",
    "- Looping backwards helps us find the **first duplicate** from the right.\n",
    "- When a duplicate is found at index `i`, we calculate how many chunks of 3 must be removed from the **start** to eliminate that index:\n",
    "  - This is done by `(i // 3) + 1`\n",
    "- If we complete the loop without encountering any duplicates, the array is already distinct → return `0`."
   ]
  },
  {
   "cell_type": "markdown",
   "metadata": {},
   "source": [
    "### 📊 4. Complexity:\n",
    "- **Time Complexity**: `O(n)`  \n",
    "  We iterate through the array once in reverse.\n",
    "- **Space Complexity**: `O(n)`  \n",
    "  For storing the `seen` set."
   ]
  },
  {
   "cell_type": "code",
   "execution_count": null,
   "metadata": {},
   "outputs": [
    {
     "name": "stdout",
     "output_type": "stream",
     "text": [
      "2\n",
      "2\n",
      "0\n"
     ]
    },
    {
     "ename": "",
     "evalue": "",
     "output_type": "error",
     "traceback": [
      "\u001b[1;31mThe Kernel crashed while executing code in the current cell or a previous cell. \n",
      "\u001b[1;31mPlease review the code in the cell(s) to identify a possible cause of the failure. \n",
      "\u001b[1;31mClick <a href='https://aka.ms/vscodeJupyterKernelCrash'>here</a> for more info. \n",
      "\u001b[1;31mView Jupyter <a href='command:jupyter.viewOutput'>log</a> for further details."
     ]
    }
   ],
   "source": [
    "### 🔁 5. Example Function Call:\n",
    "print(minimumOperations([1, 2, 3, 4, 2, 3, 3, 5, 7]))  # Output: 2\n",
    "print(minimumOperations([4, 5, 6, 4, 4]))             # Output: 2\n",
    "print(minimumOperations([6, 7, 8, 9]))                # Output: 0"
   ]
  },
  {
   "cell_type": "markdown",
   "metadata": {},
   "source": [
    "**Explanation:**\n",
    "\n",
    "- `[1,2,3,4,2,3,3,5,7]`: Duplicate at index 4 → `(4 // 3) + 1 = 2`\n",
    "- `[4,5,6,4,4]`: Duplicate at index 3 → `(3 // 3) + 1 = 2`\n",
    "- `[6,7,8,9]`: All unique → `0`"
   ]
  }
 ],
 "metadata": {
  "kernelspec": {
   "display_name": "myenv",
   "language": "python",
   "name": "python3"
  },
  "language_info": {
   "codemirror_mode": {
    "name": "ipython",
    "version": 3
   },
   "file_extension": ".py",
   "mimetype": "text/x-python",
   "name": "python",
   "nbconvert_exporter": "python",
   "pygments_lexer": "ipython3",
   "version": "3.11.3"
  }
 },
 "nbformat": 4,
 "nbformat_minor": 2
}
