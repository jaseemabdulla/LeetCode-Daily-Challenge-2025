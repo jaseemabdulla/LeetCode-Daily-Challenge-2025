{
 "cells": [
  {
   "cell_type": "markdown",
   "id": "6493dbff",
   "metadata": {},
   "source": [
    "## 🧩 Count the Hidden Sequences\n",
    "\n",
    "---\n",
    "\n",
    "### ✅ 1. Approach:\n",
    "To count the number of possible hidden sequences from the given `differences` list that lie within a range `[lower, upper]`:\n",
    "\n",
    "1. Construct the **prefix sum array** based on differences starting from an arbitrary initial number.\n",
    "2. Instead of trying all values, track the **range of values** that the first element of the sequence can take so the resulting values are always within `[lower, upper]`.\n",
    "3. For this, calculate the **minimum and maximum prefix sum** of the cumulative differences.\n",
    "4. Let the base number of the sequence be `x`. Then:\n",
    "   - `x + min(prefix_sum)` ≥ `lower` → `x ≥ lower - min(prefix_sum)`\n",
    "   - `x + max(prefix_sum)` ≤ `upper` → `x ≤ upper - max(prefix_sum)`\n",
    "5. The number of valid values of `x` is:\n",
    "   - `upper - max(prefix_sum) - (lower - min(prefix_sum)) + 1`\n",
    "6. If this count is ≤ 0, return `0`.\n"
   ]
  },
  {
   "cell_type": "code",
   "execution_count": null,
   "id": "902e8f4f",
   "metadata": {},
   "outputs": [],
   "source": [
    "### 🧠 2. Code:\n",
    "from typing import List\n",
    "\n",
    "def numberOfArrays(differences: List[int], lower: int, upper: int) -> int:\n",
    "    min_prefix, max_prefix = 0, 0  # Track the range of prefix sums\n",
    "    current = 0  # Running sum of the sequence\n",
    "    \n",
    "    for diff in differences:\n",
    "        current += diff  # Update running sum\n",
    "        min_prefix = min(min_prefix, current)  # Update min prefix sum\n",
    "        max_prefix = max(max_prefix, current)  # Update max prefix sum\n",
    "    \n",
    "    # Calculate number of valid starting values for the sequence\n",
    "    total_options = (upper - lower) - (max_prefix - min_prefix) + 1\n",
    "    return max(0, total_options)  # Return count or 0 if no valid sequence"
   ]
  },
  {
   "cell_type": "markdown",
   "id": "86d3e11b",
   "metadata": {},
   "source": [
    "\n",
    "### 📝 3. Code Explanation:\n",
    "- **Line 1**: Imports the `List` type.\n",
    "- **Line 3-4**: Initializes variables to track the prefix sum range (`min_prefix`, `max_prefix`) and a running `current` sum.\n",
    "- **Line 6-9**: Iterate through differences and maintain running sum `current`, updating min/max prefix as needed.\n",
    "- **Line 11**: Compute how many valid starting values can produce a full sequence within bounds.\n",
    "- **Line 12**: If count is non-positive, return 0; else return the count."
   ]
  },
  {
   "cell_type": "markdown",
   "id": "077e1190",
   "metadata": {},
   "source": [
    "### 📊 4. Complexity:\n",
    "- **Time Complexity**: `O(n)`\n",
    "  - Where `n` is the number of elements in the `differences` list.\n",
    "  - We only loop once through the array.\n",
    "- **Space Complexity**: `O(1)`\n",
    "  - Constant extra space is used (no additional data structures)."
   ]
  },
  {
   "cell_type": "code",
   "execution_count": null,
   "id": "d7789516",
   "metadata": {},
   "outputs": [],
   "source": [
    "### 🔁 5. Example Function Call:\n",
    "print(numberOfArrays([1, -3, 4], 1, 6))          # Output: 2\n",
    "print(numberOfArrays([3, -4, 5, 1, -2], -4, 5))  # Output: 4\n",
    "print(numberOfArrays([4, -7, 2], 3, 6))          # Output: 0"
   ]
  },
  {
   "cell_type": "markdown",
   "id": "1e755fd5",
   "metadata": {},
   "source": [
    "**Explanation:**\n",
    "- **Example 1**: Possible sequences start from 3 or 4 → [3,4,1,5], [4,5,2,6] → ✅ Output = 2\n",
    "- **Example 2**: Starting values from -3 to 0 give valid sequences → ✅ Output = 4\n",
    "- **Example 3**: No possible sequence within bounds → ❌ Output = 0"
   ]
  }
 ],
 "metadata": {
  "kernelspec": {
   "display_name": "myenv",
   "language": "python",
   "name": "python3"
  },
  "language_info": {
   "name": "python",
   "version": "3.11.3"
  }
 },
 "nbformat": 4,
 "nbformat_minor": 5
}
