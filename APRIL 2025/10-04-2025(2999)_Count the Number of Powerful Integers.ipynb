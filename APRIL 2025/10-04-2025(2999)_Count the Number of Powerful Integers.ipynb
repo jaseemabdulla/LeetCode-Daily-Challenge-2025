{
 "cells": [
  {
   "cell_type": "markdown",
   "id": "1e38f54a",
   "metadata": {},
   "source": [
    "## 🔢 Count the Number of Powerful Integers\n",
    "\n",
    "---\n",
    "\n",
    "### ✅ 1. Approach:\n",
    "A **powerful integer** is defined as:\n",
    "- It lies in the range `[start, finish]`\n",
    "- Every digit in the number is less than or equal to `limit`\n",
    "- It ends with the string `s` (as a suffix)\n",
    "\n",
    "To solve this efficiently:\n",
    "1. Create a helper function `solve(num)` that counts how many numbers ≤ `num` satisfy the digit constraint and end with suffix `s`.\n",
    "2. Subtract the count of such numbers ≤ `start - 1` from the count of those ≤ `finish`.\n",
    "3. This avoids iterating through the entire range and ensures efficient calculation even for large numbers."
   ]
  },
  {
   "cell_type": "code",
   "execution_count": 1,
   "id": "89ff5a26",
   "metadata": {},
   "outputs": [],
   "source": [
    "### 🧠 2. Code:\n",
    "def numberOfPowerfulInt(start: int, finish: int, limit: int, s: str) -> int:\n",
    "    def solve(num_str):\n",
    "        num_len = len(num_str)\n",
    "        suffix = str(s)\n",
    "        suffix_len = len(suffix)\n",
    "\n",
    "        # If suffix is longer than the number itself\n",
    "        if suffix_len > num_len:\n",
    "            return 0\n",
    "\n",
    "        prefix_len = num_len - suffix_len\n",
    "        result = 0\n",
    "\n",
    "        for i in range(prefix_len):\n",
    "            digit = int(num_str[i])\n",
    "\n",
    "            # If current digit > limit, all combinations from here are valid\n",
    "            if digit > limit:\n",
    "                result += (limit + 1) ** (prefix_len - i)\n",
    "                return result\n",
    "            else:\n",
    "                result += digit * ((limit + 1) ** (prefix_len - i - 1))\n",
    "\n",
    "        # Check if the suffix is valid\n",
    "        if num_str[-len(suffix):] >= suffix:\n",
    "            result += 1\n",
    "\n",
    "        return result\n",
    "\n",
    "    # Count how many valid numbers up to 'finish' minus those below 'start'\n",
    "    return solve(str(finish)) - solve(str(start - 1))"
   ]
  },
  {
   "cell_type": "markdown",
   "id": "52467239",
   "metadata": {},
   "source": [
    "### 📝 3. Code Explanation:\n",
    "- `solve(num_str)` counts how many numbers from 0 to `num_str`:\n",
    "  - Have each digit ≤ `limit`\n",
    "  - End with the suffix `s`\n",
    "- We compute:\n",
    "  - `solve(finish)` → number of valid powerful integers ≤ finish\n",
    "  - `solve(start - 1)` → those below start\n",
    "  - Their difference gives us the number in the range `[start, finish]`\n",
    "- We use base-(limit+1) counting for digit constraints and handle suffix comparison separately."
   ]
  },
  {
   "cell_type": "markdown",
   "id": "bfdcdb71",
   "metadata": {},
   "source": [
    "### 📊 4. Complexity:\n",
    "- **Time Complexity**: `O(L)`  \n",
    "  Where `L` is the number of digits in `finish` (at most 10). Efficient due to digit-level computation.\n",
    "- **Space Complexity**: `O(1)`  \n",
    "  Uses only a few variables, no extra space proportional to input size."
   ]
  },
  {
   "cell_type": "code",
   "execution_count": 2,
   "id": "bd16fab6",
   "metadata": {},
   "outputs": [
    {
     "name": "stdout",
     "output_type": "stream",
     "text": [
      "2\n",
      "0\n"
     ]
    }
   ],
   "source": [
    "### 🔁 5. Example Function Call:\n",
    "print(numberOfPowerfulInt(15, 215, 6, \"10\"))      # Output: 2\n",
    "print(numberOfPowerfulInt(1000, 2000, 4, \"3000\")) # Output: 0"
   ]
  },
  {
   "cell_type": "markdown",
   "id": "01888357",
   "metadata": {},
   "source": [
    "**Explanation:**\n",
    "\n",
    "- `[15..215], limit=6, suffix='10'` → Powerful integers: `110`, `210`\n",
    "- `[1000..2000], suffix='3000'` → No number in this range ends with '3000', so result is `0`"
   ]
  }
 ],
 "metadata": {
  "kernelspec": {
   "display_name": "myenv",
   "language": "python",
   "name": "python3"
  },
  "language_info": {
   "codemirror_mode": {
    "name": "ipython",
    "version": 3
   },
   "file_extension": ".py",
   "mimetype": "text/x-python",
   "name": "python",
   "nbconvert_exporter": "python",
   "pygments_lexer": "ipython3",
   "version": "3.11.3"
  }
 },
 "nbformat": 4,
 "nbformat_minor": 5
}
