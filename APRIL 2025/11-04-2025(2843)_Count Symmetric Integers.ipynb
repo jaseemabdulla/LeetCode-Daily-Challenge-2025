{
 "cells": [
  {
   "cell_type": "markdown",
   "id": "a55c3473",
   "metadata": {},
   "source": [
    "## 🔢 Count Symmetric Integers\n",
    "\n",
    "---\n",
    "\n",
    "### ✅ 1. Approach:\n",
    "A **symmetric integer** is defined as an integer with:\n",
    "- An even number of digits.\n",
    "- The sum of the first half of its digits equals the sum of the second half.\n",
    "\n",
    "To solve this:\n",
    "1. Loop through all numbers from `low` to `high`.\n",
    "2. For each number, convert it to a string and check:\n",
    "   - If the number has even digits.\n",
    "   - If the sum of the first half equals the sum of the second half.\n",
    "3. Count how many such symmetric numbers exist."
   ]
  },
  {
   "cell_type": "code",
   "execution_count": 1,
   "id": "478e914a",
   "metadata": {},
   "outputs": [],
   "source": [
    "### 🧠 2. Code:\n",
    "def countSymmetricIntegers(low: int, high: int) -> int: \n",
    "    count = 0\n",
    "    for num in range(low, high + 1):\n",
    "        if is_symmetric(num):\n",
    "            count += 1\n",
    "    return count\n",
    "\n",
    "def is_symmetric(num: int) -> bool:\n",
    "    s = str(num)\n",
    "    length = len(s)\n",
    "\n",
    "    # Only consider numbers with even number of digits\n",
    "    if length % 2 != 0:\n",
    "        return False\n",
    "\n",
    "    half = length // 2\n",
    "    first_half_sum = sum(int(d) for d in s[:half])\n",
    "    second_half_sum = sum(int(d) for d in s[half:])\n",
    "\n",
    "    # Check if sums of both halves are equal\n",
    "    return first_half_sum == second_half_sum"
   ]
  },
  {
   "cell_type": "markdown",
   "id": "d597a1c0",
   "metadata": {},
   "source": [
    "### 📝 3. Code Explanation:\n",
    "- The function `countSymmetricIntegers()` iterates through each number in the given range.\n",
    "- It checks each number using `is_symmetric()`:\n",
    "  - If the number has an even number of digits.\n",
    "  - And if the digit sums of the first and second halves match.\n",
    "- If both conditions hold, it is counted as symmetric."
   ]
  },
  {
   "cell_type": "markdown",
   "id": "c944c6cc",
   "metadata": {},
   "source": [
    "### 📊 4. Complexity:\n",
    "- **Time Complexity**: O(n × d)  \n",
    "  Where `n = high - low + 1` and `d` is the number of digits (at most 4 or 5 in common constraints).\n",
    "- **Space Complexity**: O(1)  \n",
    "  Constant space used apart from iteration variables."
   ]
  },
  {
   "cell_type": "code",
   "execution_count": 2,
   "id": "772ac663",
   "metadata": {},
   "outputs": [
    {
     "name": "stdout",
     "output_type": "stream",
     "text": [
      "9\n",
      "4\n"
     ]
    }
   ],
   "source": [
    "### 🔁 5. Example Function Call:\n",
    "print(countSymmetricIntegers(1, 100))        # Output: 9\n",
    "print(countSymmetricIntegers(1200, 1230))    # Output: 4"
   ]
  },
  {
   "cell_type": "markdown",
   "id": "a717a0cd",
   "metadata": {},
   "source": [
    "**Explanation:**\n",
    "- Between 1 and 100 → Symmetric integers: `11, 22, 33, 44, 55, 66, 77, 88, 99`\n",
    "- Between 1200 and 1230 → Symmetric integers: `1203, 1212, 1221, 1230`"
   ]
  }
 ],
 "metadata": {
  "kernelspec": {
   "display_name": "myenv",
   "language": "python",
   "name": "python3"
  },
  "language_info": {
   "codemirror_mode": {
    "name": "ipython",
    "version": 3
   },
   "file_extension": ".py",
   "mimetype": "text/x-python",
   "name": "python",
   "nbconvert_exporter": "python",
   "pygments_lexer": "ipython3",
   "version": "3.11.3"
  }
 },
 "nbformat": 4,
 "nbformat_minor": 5
}
