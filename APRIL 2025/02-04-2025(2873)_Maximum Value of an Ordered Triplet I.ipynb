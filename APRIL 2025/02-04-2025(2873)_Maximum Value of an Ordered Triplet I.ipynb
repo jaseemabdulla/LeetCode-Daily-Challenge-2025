{
 "cells": [
  {
   "cell_type": "markdown",
   "metadata": {},
   "source": [
    "### Approach:\n",
    "- We need to find the maximum value of an ordered triplet `(i, j, k)` such that `i < j < k` and the value is calculated as `(nums[i] - nums[j]) * nums[k]`.\n",
    "- We maintain three variables:\n",
    "  - `mx`: Maximum value encountered so far (used for `nums[i]`).\n",
    "  - `diff`: Maximum `(nums[i] - nums[j])` encountered so far.\n",
    "  - `ans`: Stores the maximum triplet value.\n",
    "- We iterate through the array and update these values efficiently in a single pass."
   ]
  },
  {
   "cell_type": "code",
   "execution_count": 2,
   "metadata": {},
   "outputs": [],
   "source": [
    "from typing import List\n",
    "\n",
    "def maximumTripletValue(nums: List[int]) -> int:\n",
    "    ans, mx, diff = 0, -float('inf'), -float('inf')\n",
    "    \n",
    "    for num in nums:\n",
    "        # Update the maximum possible triplet value found so far\n",
    "        ans = max(ans, diff * num)\n",
    "        \n",
    "        # Update the maximum difference found so far (nums[i] - nums[j])\n",
    "        diff = max(diff, mx - num)\n",
    "        \n",
    "        # Update the maximum value encountered so far\n",
    "        mx = max(mx, num)\n",
    "    \n",
    "    return ans"
   ]
  },
  {
   "cell_type": "code",
   "execution_count": null,
   "metadata": {},
   "outputs": [
    {
     "name": "stdout",
     "output_type": "stream",
     "text": [
      "77\n",
      "133\n",
      "0\n"
     ]
    },
    {
     "ename": "",
     "evalue": "",
     "output_type": "error",
     "traceback": [
      "\u001b[1;31mThe Kernel crashed while executing code in the current cell or a previous cell. \n",
      "\u001b[1;31mPlease review the code in the cell(s) to identify a possible cause of the failure. \n",
      "\u001b[1;31mClick <a href='https://aka.ms/vscodeJupyterKernelCrash'>here</a> for more info. \n",
      "\u001b[1;31mView Jupyter <a href='command:jupyter.viewOutput'>log</a> for further details."
     ]
    }
   ],
   "source": [
    "# Example Function Calls\n",
    "print(maximumTripletValue([12,6,1,2,7]))  # Output: 77\n",
    "print(maximumTripletValue([1,10,3,4,19])) # Output: 133\n",
    "print(maximumTripletValue([1,2,3]))       # Output: 0"
   ]
  },
  {
   "cell_type": "markdown",
   "metadata": {},
   "source": [
    "### Explanation:\n",
    "1. We iterate through `nums` and update the required values in a single pass.\n",
    "2. At each step:\n",
    "   - We compute `ans` using `diff * num`.\n",
    "   - We update `diff` using `mx - num` to maintain the best `(nums[i] - nums[j])`.\n",
    "   - We update `mx` to ensure it holds the largest value seen so far.\n",
    "3. The final answer is stored in `ans` and returned."
   ]
  },
  {
   "cell_type": "markdown",
   "metadata": {},
   "source": [
    "### Complexity Analysis:\n",
    "- **Time Complexity**: `O(N)`, where `N` is the length of `nums`, as we traverse the list once.\n",
    "- **Space Complexity**: `O(1)`, since we use only three extra variables (`mx`, `diff`, `ans`).\n"
   ]
  }
 ],
 "metadata": {
  "kernelspec": {
   "display_name": "myenv",
   "language": "python",
   "name": "python3"
  },
  "language_info": {
   "codemirror_mode": {
    "name": "ipython",
    "version": 3
   },
   "file_extension": ".py",
   "mimetype": "text/x-python",
   "name": "python",
   "nbconvert_exporter": "python",
   "pygments_lexer": "ipython3",
   "version": "3.11.3"
  }
 },
 "nbformat": 4,
 "nbformat_minor": 2
}
