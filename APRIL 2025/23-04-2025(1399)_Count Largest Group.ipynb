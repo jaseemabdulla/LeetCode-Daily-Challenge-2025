{
 "cells": [
  {
   "cell_type": "markdown",
   "id": "a690b153",
   "metadata": {},
   "source": [
    "## 🧩 Count Largest Group\n",
    "\n",
    "---\n",
    "\n",
    "### ✅ 1. Approach:\n",
    "We are asked to group integers from `1` to `n` based on the **sum of their digits** and count how many groups have the **largest size**.\n",
    "\n",
    "Steps:\n",
    "1. Loop through all numbers from `1` to `n`.\n",
    "2. Calculate the **digit sum** for each number.\n",
    "3. Group numbers based on their digit sum.\n",
    "4. Count the size of each group.\n",
    "5. Find the **maximum group size**.\n",
    "6. Count how many groups have this maximum size"
   ]
  },
  {
   "cell_type": "code",
   "execution_count": 1,
   "id": "54d454a2",
   "metadata": {},
   "outputs": [],
   "source": [
    "### 🧠 2. Code:\n",
    "from statistics import multimode\n",
    "\n",
    "def countLargestGroup(n: int) -> int:\n",
    "    # Calculate digit sum for each number and group them\n",
    "    digit_sums = (sum(map(int, str(i))) for i in range(1, n + 1))\n",
    "\n",
    "    # multimode gives all digit sums that have the highest frequency (group size)\n",
    "    # len(multimode(...)) gives the number of such largest groups\n",
    "    return len(multimode(digit_sums))"
   ]
  },
  {
   "cell_type": "markdown",
   "id": "87bb71a1",
   "metadata": {},
   "source": [
    "### 📝 3. Code Explanation:\n",
    "- **Line 1**: Import `multimode` from `statistics` module to find the most frequent elements.\n",
    "- **Line 3**: Define the main function.\n",
    "- **Line 5**: Use a generator expression to calculate the digit sum of numbers from `1` to `n`.\n",
    "- **Line 8**: `multimode()` returns all elements (digit sums) that occur with the highest frequency.\n",
    "  - `len(multimode(...))` gives how many groups have the largest size.\n",
    "  - Example: if digit sums [1, 2, 3, 4] each have size 2 (maximum), `multimode()` returns all of them → count = 4."
   ]
  },
  {
   "cell_type": "markdown",
   "id": "ea5c4935",
   "metadata": {},
   "source": [
    "### 📊 4. Complexity:\n",
    "- **Time Complexity**: `O(n * d)`  \n",
    "  - `n` is the range of numbers.\n",
    "  - `d` is the number of digits (log₁₀(n)) for computing digit sums.\n",
    "- **Space Complexity**: `O(n)`  \n",
    "  - For storing group counts internally (though `multimode` abstracts it)."
   ]
  },
  {
   "cell_type": "code",
   "execution_count": null,
   "id": "11183286",
   "metadata": {},
   "outputs": [
    {
     "name": "stdout",
     "output_type": "stream",
     "text": [
      "4\n",
      "2\n"
     ]
    },
    {
     "ename": "",
     "evalue": "",
     "output_type": "error",
     "traceback": [
      "\u001b[1;31mThe Kernel crashed while executing code in the current cell or a previous cell. \n",
      "\u001b[1;31mPlease review the code in the cell(s) to identify a possible cause of the failure. \n",
      "\u001b[1;31mClick <a href='https://aka.ms/vscodeJupyterKernelCrash'>here</a> for more info. \n",
      "\u001b[1;31mView Jupyter <a href='command:jupyter.viewOutput'>log</a> for further details."
     ]
    }
   ],
   "source": [
    "### 🔁 5. Example Function Call:\n",
    "print(countLargestGroup(13))  # Output: 4\n",
    "print(countLargestGroup(2))   # Output: 2"
   ]
  },
  {
   "cell_type": "markdown",
   "id": "72d89d4e",
   "metadata": {},
   "source": [
    "**Explanation:**\n",
    "- For `n = 13`: Groups by digit sum are [1,10], [2,11], [3,12], [4,13], [5], ..., [9]. Four groups have 2 elements.\n",
    "- For `n = 2`: Groups are [1], [2]. Both are of size 1 → largest size is 1 → count = 2"
   ]
  }
 ],
 "metadata": {
  "kernelspec": {
   "display_name": "myenv",
   "language": "python",
   "name": "python3"
  },
  "language_info": {
   "codemirror_mode": {
    "name": "ipython",
    "version": 3
   },
   "file_extension": ".py",
   "mimetype": "text/x-python",
   "name": "python",
   "nbconvert_exporter": "python",
   "pygments_lexer": "ipython3",
   "version": "3.11.3"
  }
 },
 "nbformat": 4,
 "nbformat_minor": 5
}
