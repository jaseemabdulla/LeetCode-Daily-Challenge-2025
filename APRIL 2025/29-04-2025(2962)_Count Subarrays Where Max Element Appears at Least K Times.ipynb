{
 "cells": [
  {
   "cell_type": "markdown",
   "id": "c382e2c9",
   "metadata": {},
   "source": [
    "## ✨ Count Subarrays Where Max Element Appears at Least K Times\n",
    "\n",
    "---\n",
    "\n",
    "### ✅ 1. Approach:\n",
    "We need to count subarrays where the **maximum element in the whole array** appears **at least `k` times**.\n",
    "\n",
    "Key observations:\n",
    "- Let `mx = max(nums)`.\n",
    "- We use the **two-pointer sliding window technique**.\n",
    "- Move `right` pointer to expand the window.\n",
    "- Track how many times `mx` appears in the window.\n",
    "- Once we have `≥ k` occurrences of `mx`, then **all subarrays ending at or after `right`** (i.e., `[left..right], [left..right+1], ..., [left..n-1]`) are valid → there are `n - right` such subarrays.\n",
    "- Move `left` to find the next valid window.\n"
   ]
  },
  {
   "cell_type": "code",
   "execution_count": 1,
   "id": "eff75269",
   "metadata": {},
   "outputs": [],
   "source": [
    "### 🧠 2. Code (with comments):\n",
    "from typing import List\n",
    "\n",
    "def countSubarrays(nums: List[int], k: int) -> int:\n",
    "    mx = max(nums)     # max element in entire array\n",
    "    n = len(nums)\n",
    "    count = 0          # number of valid subarrays\n",
    "    l = 0              # left pointer\n",
    "    currcount = 0      # how many times mx appears in current window\n",
    "\n",
    "    for r in range(n):  # right pointer\n",
    "        if nums[r] == mx:\n",
    "            currcount += 1\n",
    "        \n",
    "        # shrink window from the left until mx appears less than k times\n",
    "        while currcount >= k:\n",
    "            count += n - r\n",
    "            if nums[l] == mx:\n",
    "                currcount -= 1\n",
    "            l += 1\n",
    "\n",
    "    return count"
   ]
  },
  {
   "cell_type": "markdown",
   "id": "b8a67fa5",
   "metadata": {},
   "source": [
    "### 📝 3. Code Explanation:\n",
    "- As soon as the window from `l` to `r` has `k` or more occurrences of `mx`, every extension of this window to the right will still be valid (since it will contain at least `k` times `mx`).\n",
    "- So we add `(n - r)` to the result (count of such subarrays).\n",
    "- Then we slide the window from the left to check for more valid subarrays."
   ]
  },
  {
   "cell_type": "markdown",
   "id": "b3b059d8",
   "metadata": {},
   "source": [
    "### 📊 4. Complexity:\n",
    "- **Time Complexity**: `O(n)`\n",
    "  - Each element is processed at most twice (once when `r` moves, once when `l` moves).\n",
    "- **Space Complexity**: `O(1)`\n",
    "  - Only constant variables used.\n"
   ]
  },
  {
   "cell_type": "code",
   "execution_count": 2,
   "id": "68780b11",
   "metadata": {},
   "outputs": [
    {
     "name": "stdout",
     "output_type": "stream",
     "text": [
      "6\n",
      "0\n"
     ]
    }
   ],
   "source": [
    "### 🔁 5. Example Function Call:\n",
    "print(countSubarrays([1, 3, 2, 3, 3], 2))  # Output: 6\n",
    "print(countSubarrays([1, 4, 2, 1], 3))     # Output: 0"
   ]
  },
  {
   "cell_type": "markdown",
   "id": "6f656bf1",
   "metadata": {},
   "source": [
    "\n",
    "**Explanation**:\n",
    "- In `[1, 3, 2, 3, 3]`, `mx = 3`, and valid subarrays are:  \n",
    "  `[1,3,2,3], [1,3,2,3,3], [3,2,3], [3,2,3,3], [2,3,3], [3,3]`.\n",
    "- In `[1, 4, 2, 1]`, `mx = 4` but it only occurs once, so no valid subarray."
   ]
  }
 ],
 "metadata": {
  "kernelspec": {
   "display_name": "myenv",
   "language": "python",
   "name": "python3"
  },
  "language_info": {
   "codemirror_mode": {
    "name": "ipython",
    "version": 3
   },
   "file_extension": ".py",
   "mimetype": "text/x-python",
   "name": "python",
   "nbconvert_exporter": "python",
   "pygments_lexer": "ipython3",
   "version": "3.11.3"
  }
 },
 "nbformat": 4,
 "nbformat_minor": 5
}
