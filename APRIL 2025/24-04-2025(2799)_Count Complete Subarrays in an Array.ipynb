{
 "cells": [
  {
   "cell_type": "markdown",
   "id": "9ef132e5",
   "metadata": {},
   "source": [
    "## 🧩 Count Complete Subarrays in an Array\n",
    "\n",
    "---\n",
    "\n",
    "### ✅ 1. Approach:\n",
    "We need to count the number of **complete subarrays**, which are defined as subarrays that contain **all the unique elements** from the input array.\n",
    "\n",
    "Steps:\n",
    "1. First, calculate the total number of **unique elements** in the array.\n",
    "2. For every subarray length `k` from the number of unique elements to `n`:\n",
    "   - Use a sliding window of size `k`.\n",
    "   - Keep a count of elements in the window using a dictionary.\n",
    "   - If the count of unique elements in the window matches the total unique elements in the array, it's a complete subarray.\n",
    "   - Slide the window by removing the leftmost element.\n",
    "3. Count all such valid windows."
   ]
  },
  {
   "cell_type": "code",
   "execution_count": 1,
   "id": "8c7bf7df",
   "metadata": {},
   "outputs": [],
   "source": [
    "### 🧠 2. Code:\n",
    "from collections import defaultdict\n",
    "from typing import List\n",
    "\n",
    "def countCompleteSubarrays(nums: List[int]) -> int:\n",
    "    ans, n = 0, len(nums)\n",
    "    \n",
    "    # Count total unique numbers in the array\n",
    "    unique_numbers = len(set(nums))\n",
    "\n",
    "    # Check subarrays of every possible length >= number of unique elements\n",
    "    for k in range(unique_numbers, n + 1):\n",
    "        i, j = 0, 0\n",
    "        count = defaultdict(int)\n",
    "\n",
    "        while j < n:\n",
    "            count[nums[j]] += 1  # Add right end of window\n",
    "\n",
    "            # When window size matches k\n",
    "            if j - i + 1 == k:\n",
    "                # Check if window has all unique elements\n",
    "                ans += len(count) == unique_numbers\n",
    "\n",
    "                # Shrink window from left\n",
    "                count[nums[i]] -= 1\n",
    "                if count[nums[i]] == 0:\n",
    "                    count.pop(nums[i])\n",
    "                i += 1\n",
    "            j += 1\n",
    "\n",
    "    return ans"
   ]
  },
  {
   "cell_type": "markdown",
   "id": "713c1ca9",
   "metadata": {},
   "source": [
    "### 📝 3. Code Explanation:\n",
    "- **Line 1-2**: Import required libraries.\n",
    "- **Line 4**: Initialize total subarrays count and array length.\n",
    "- **Line 6**: Compute the number of unique elements in the array.\n",
    "- **Line 8-24**: Iterate over all valid subarray lengths `k`.\n",
    "  - Use two pointers `i` and `j` to form a sliding window.\n",
    "  - Add elements to a count dictionary.\n",
    "  - If window size equals `k`, check if the current window has all unique numbers.\n",
    "  - If yes, increase the answer.\n",
    "  - Shrink the window from the left to continue."
   ]
  },
  {
   "cell_type": "markdown",
   "id": "db118782",
   "metadata": {},
   "source": [
    "### 📊 4. Complexity:\n",
    "- **Time Complexity**: `O(n^2)` in worst case  \n",
    "  - For each window size `k`, we slide over the array, and there are up to `n` possible sizes.\n",
    "- **Space Complexity**: `O(n)`  \n",
    "  - For storing the frequency of elements in a sliding window."
   ]
  },
  {
   "cell_type": "code",
   "execution_count": 2,
   "id": "c938f57f",
   "metadata": {},
   "outputs": [
    {
     "name": "stdout",
     "output_type": "stream",
     "text": [
      "4\n",
      "10\n"
     ]
    }
   ],
   "source": [
    "### 🔁 5. Example Function Call:\n",
    "print(countCompleteSubarrays([1,3,1,2,2]))  # Output: 4\n",
    "print(countCompleteSubarrays([5,5,5,5]))    # Output: 10"
   ]
  },
  {
   "cell_type": "markdown",
   "id": "03442cba",
   "metadata": {},
   "source": [
    "**Explanation:**\n",
    "- `[1,3,1,2,2]` has 3 unique elements: [1, 2, 3]. Subarrays like [1,3,1,2], [3,1,2], etc., that contain all three are counted.\n",
    "- `[5,5,5,5]` has 1 unique element, so every subarray is complete. Total subarrays = n(n+1)/2 = 4(5)/2 = 10"
   ]
  }
 ],
 "metadata": {
  "kernelspec": {
   "display_name": "myenv",
   "language": "python",
   "name": "python3"
  },
  "language_info": {
   "codemirror_mode": {
    "name": "ipython",
    "version": 3
   },
   "file_extension": ".py",
   "mimetype": "text/x-python",
   "name": "python",
   "nbconvert_exporter": "python",
   "pygments_lexer": "ipython3",
   "version": "3.11.3"
  }
 },
 "nbformat": 4,
 "nbformat_minor": 5
}
