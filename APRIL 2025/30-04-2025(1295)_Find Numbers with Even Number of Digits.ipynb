{
 "cells": [
  {
   "cell_type": "markdown",
   "id": "92cc40b4",
   "metadata": {},
   "source": [
    "## ✨ Find Numbers with Even Number of Digits\n",
    "\n",
    "---\n",
    "\n",
    "### ✅ 1. Approach:\n",
    "We are given an array of integers and need to count how many of them have an **even number of digits**.\n",
    "\n",
    "The strategy is simple:\n",
    "- Convert each number to a string.\n",
    "- Count its length (i.e., the number of digits).\n",
    "- Check if the length is even.\n"
   ]
  },
  {
   "cell_type": "code",
   "execution_count": 1,
   "id": "14e89e86",
   "metadata": {},
   "outputs": [],
   "source": [
    "### 🧠 2. Code (One-liner using list comprehension):\n",
    "from typing import List\n",
    "\n",
    "def findNumbers(nums: List[int]) -> int:\n",
    "    return sum(1 for i in nums if len(str(i)) % 2 == 0)"
   ]
  },
  {
   "cell_type": "markdown",
   "id": "d9bb2324",
   "metadata": {},
   "source": [
    "### 📝 3. Code Explanation:\n",
    "- `str(i)` converts the integer to a string.\n",
    "- `len(str(i))` gives the number of digits.\n",
    "- We check if that length is divisible by 2 (`% 2 == 0`).\n",
    "- `sum(1 for ...)` counts how many times this condition is true."
   ]
  },
  {
   "cell_type": "markdown",
   "id": "85103b6f",
   "metadata": {},
   "source": [
    "### 📊 4. Complexity:\n",
    "- **Time Complexity**: `O(n * d)`, where `n` is the number of elements in `nums`, and `d` is the average number of digits per number.\n",
    "- **Space Complexity**: `O(1)` (no extra space used except for a few variables)."
   ]
  },
  {
   "cell_type": "code",
   "execution_count": 2,
   "id": "520f26ee",
   "metadata": {},
   "outputs": [
    {
     "name": "stdout",
     "output_type": "stream",
     "text": [
      "2\n",
      "1\n"
     ]
    }
   ],
   "source": [
    "### 🔁 5. Example Function Call:\n",
    "print(findNumbers([12, 345, 2, 6, 7896]))    # Output: 2\n",
    "print(findNumbers([555, 901, 482, 1771]))   # Output: 1"
   ]
  },
  {
   "cell_type": "markdown",
   "id": "8c3d0a47",
   "metadata": {},
   "source": [
    "**Explanation**:\n",
    "- `[12, 345, 2, 6, 7896]` → even digits: 12 (2), 7896 (4) → **2 numbers**\n",
    "- `[555, 901, 482, 1771]` → even digits: 1771 (4) → **1 number**"
   ]
  }
 ],
 "metadata": {
  "kernelspec": {
   "display_name": "myenv",
   "language": "python",
   "name": "python3"
  },
  "language_info": {
   "codemirror_mode": {
    "name": "ipython",
    "version": 3
   },
   "file_extension": ".py",
   "mimetype": "text/x-python",
   "name": "python",
   "nbconvert_exporter": "python",
   "pygments_lexer": "ipython3",
   "version": "3.11.3"
  }
 },
 "nbformat": 4,
 "nbformat_minor": 5
}
