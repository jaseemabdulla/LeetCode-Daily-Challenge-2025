{
 "cells": [
  {
   "cell_type": "markdown",
   "id": "f57a4fb4",
   "metadata": {},
   "source": [
    "## 🔢 Count Good Numbers\n",
    "\n",
    "---\n",
    "\n",
    "### ✅ 1. Approach:\n",
    "A **good number** is defined such that:\n",
    "- Digits at **even indices (0-based)** must be **even** → choices: `0, 2, 4, 6, 8` → **5 choices**\n",
    "- Digits at **odd indices** must be **prime** → choices: `2, 3, 5, 7` → **4 choices**\n",
    "\n",
    "So, for a number of length `n`:\n",
    "- Number of even positions = `(n + 1) // 2`\n",
    "- Number of odd positions = `n // 2`\n",
    "\n",
    "The total number of good numbers is:\n",
    "```\n",
    "5^(even positions) * 4^(odd positions)\n",
    "```\n",
    "\n",
    "We compute this using **modular exponentiation** to handle large values efficiently."
   ]
  },
  {
   "cell_type": "code",
   "execution_count": 1,
   "id": "0c1e3fec",
   "metadata": {},
   "outputs": [],
   "source": [
    "### 🧠 2. Code:\n",
    "def countGoodNumbers(n: int) -> int:\n",
    "    m = 10**9 + 7  # Modulo\n",
    "    # 5 choices for even indices, 4 for odd indices\n",
    "    return pow(5, (n + 1) // 2, m) * pow(4, n // 2, m) % m"
   ]
  },
  {
   "cell_type": "markdown",
   "id": "973ee334",
   "metadata": {},
   "source": [
    "### 📝 3. Code Explanation:\n",
    "- `(n + 1) // 2` gives the count of even-indexed positions.\n",
    "- `n // 2` gives the count of odd-indexed positions.\n",
    "- `pow(a, b, m)` computes `(a^b) % m` efficiently.\n",
    "- Multiply the results and take modulo `10^9 + 7`."
   ]
  },
  {
   "cell_type": "markdown",
   "id": "6eb6e7a0",
   "metadata": {},
   "source": [
    "### 📊 4. Complexity:\n",
    "- **Time Complexity**:  \n",
    "  O(log n) due to fast exponentiation.\n",
    "  \n",
    "- **Space Complexity**:  \n",
    "  O(1) – only constant space is used."
   ]
  },
  {
   "cell_type": "code",
   "execution_count": 2,
   "id": "55b6a26a",
   "metadata": {},
   "outputs": [
    {
     "name": "stdout",
     "output_type": "stream",
     "text": [
      "5\n",
      "400\n",
      "564908303\n"
     ]
    }
   ],
   "source": [
    "### 🔁 5. Example Function Calls:\n",
    "print(countGoodNumbers(1))   # Output: 5\n",
    "print(countGoodNumbers(4))   # Output: 400\n",
    "print(countGoodNumbers(50))  # Output: 564908303"
   ]
  },
  {
   "cell_type": "markdown",
   "id": "6feb7065",
   "metadata": {},
   "source": [
    "\n",
    "**Explanation**:\n",
    "- For `n = 1`: Only one digit (even index), 5 options → Output: `5`\n",
    "- For `n = 4`: 2 even and 2 odd → `5^2 * 4^2 = 25 * 16 = 400`\n",
    "- For `n = 50`: Large exponentiation → Efficiently computed with modular arithmetic"
   ]
  }
 ],
 "metadata": {
  "kernelspec": {
   "display_name": "myenv",
   "language": "python",
   "name": "python3"
  },
  "language_info": {
   "codemirror_mode": {
    "name": "ipython",
    "version": 3
   },
   "file_extension": ".py",
   "mimetype": "text/x-python",
   "name": "python",
   "nbconvert_exporter": "python",
   "pygments_lexer": "ipython3",
   "version": "3.11.3"
  }
 },
 "nbformat": 4,
 "nbformat_minor": 5
}
