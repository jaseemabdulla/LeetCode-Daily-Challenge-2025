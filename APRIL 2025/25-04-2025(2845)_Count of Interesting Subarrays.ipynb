{
 "cells": [
  {
   "cell_type": "markdown",
   "id": "ea813799",
   "metadata": {},
   "source": [
    "## ✨ Count of Interesting Subarrays\n",
    "\n",
    "---\n",
    "\n",
    "### ✅ 1. Approach:\n",
    "We want to count the number of **interesting subarrays**, where:\n",
    "- A subarray is interesting if the count of elements in it that satisfy `nums[i] % modulo == k` is congruent to `k` modulo `modulo`.\n",
    "\n",
    "To do this efficiently:\n",
    "1. Use a **prefix sum** to count how many values so far satisfy `num % modulo == k`.\n",
    "2. Use a hashmap (`freq`) to record how many times each prefix modulo value has occurred.\n",
    "3. For each new prefix value, check how many previous prefixes give a total that satisfies the condition.\n",
    "4. This is done using modular arithmetic:  \n",
    "   `prefix_sum % modulo == k` → so we look for prefix differences `(prefix - k) % modulo`."
   ]
  },
  {
   "cell_type": "code",
   "execution_count": 1,
   "id": "01f77fff",
   "metadata": {},
   "outputs": [],
   "source": [
    "### 🧠 2. Code (with comments):\n",
    "from collections import defaultdict\n",
    "from typing import List\n",
    "\n",
    "def countInterestingSubarrays(nums: List[int], modulo: int, k: int) -> int:\n",
    "    count = 0                # Final answer\n",
    "    prefix = 0               # Running count of matching values\n",
    "    freq = defaultdict(int)  # Frequency of prefix % modulo\n",
    "    freq[0] = 1              # To handle subarrays starting from index 0\n",
    "\n",
    "    for num in nums:\n",
    "        # If num % modulo == k, increment the prefix count\n",
    "        if num % modulo == k:\n",
    "            prefix += 1\n",
    "\n",
    "        # Calculate the needed previous prefix to form a valid subarray\n",
    "        need = (prefix - k + modulo) % modulo\n",
    "\n",
    "        # Add the count of such prefixes seen so far\n",
    "        count += freq[need]\n",
    "\n",
    "        # Update the frequency map with current prefix % modulo\n",
    "        freq[prefix % modulo] += 1\n",
    "\n",
    "    return count"
   ]
  },
  {
   "cell_type": "markdown",
   "id": "dc8fa46f",
   "metadata": {},
   "source": [
    "### 📝 3. Code Explanation:\n",
    "- **`prefix`** keeps track of how many numbers so far meet the condition.\n",
    "- The formula `(prefix - k + modulo) % modulo` ensures we find how many previous prefixes allow the current prefix to form an interesting subarray.\n",
    "- `freq[prefix % modulo]` maps how often each prefix modulo has been seen.\n",
    "- For every number, we check how many times a valid prefix was seen before and add it to the result."
   ]
  },
  {
   "cell_type": "markdown",
   "id": "20a7301d",
   "metadata": {},
   "source": [
    "### 📊 4. Complexity:\n",
    "- **Time Complexity**: `O(n)`  \n",
    "  - We iterate once through the array and use constant-time hashmap operations.\n",
    "- **Space Complexity**: `O(modulo)`  \n",
    "  - At most `modulo` different prefix values modulo `modulo` can exist."
   ]
  },
  {
   "cell_type": "code",
   "execution_count": 2,
   "id": "772bd053",
   "metadata": {},
   "outputs": [
    {
     "name": "stdout",
     "output_type": "stream",
     "text": [
      "3\n",
      "2\n"
     ]
    }
   ],
   "source": [
    "### 🔁 5. Example Function Call:\n",
    "print(countInterestingSubarrays([3, 2, 4], 2, 1))     # Output: 3\n",
    "print(countInterestingSubarrays([3, 1, 9, 6], 3, 0))  # Output: 2"
   ]
  },
  {
   "cell_type": "markdown",
   "id": "d0f60c96",
   "metadata": {},
   "source": [
    "**Explanation:**\n",
    "- In `[3, 2, 4]`, each subarray starting from index 0 contains exactly one value `3` that satisfies `num % 2 == 1`. All such subarrays are interesting.\n",
    "- In `[3, 1, 9, 6]`, two subarrays ([3,1,9,6] and [1]) satisfy the condition `cnt % 3 == 0`, hence 2 interesting subarrays."
   ]
  }
 ],
 "metadata": {
  "kernelspec": {
   "display_name": "myenv",
   "language": "python",
   "name": "python3"
  },
  "language_info": {
   "codemirror_mode": {
    "name": "ipython",
    "version": 3
   },
   "file_extension": ".py",
   "mimetype": "text/x-python",
   "name": "python",
   "nbconvert_exporter": "python",
   "pygments_lexer": "ipython3",
   "version": "3.11.3"
  }
 },
 "nbformat": 4,
 "nbformat_minor": 5
}
