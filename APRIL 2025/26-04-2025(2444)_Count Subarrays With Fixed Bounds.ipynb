{
 "cells": [
  {
   "cell_type": "markdown",
   "id": "dd279946",
   "metadata": {},
   "source": [
    "## ✨ Count Subarrays With Fixed Bounds\n",
    "\n",
    "---\n",
    "\n",
    "### ✅ 1. Approach:\n",
    "We want to count the number of subarrays where:\n",
    "- The minimum value is exactly `minK`, and\n",
    "- The maximum value is exactly `maxK`.\n",
    "\n",
    "To achieve this efficiently:\n",
    "1. **Track positions**:\n",
    "   - `min_pos`: Latest index where `nums[i] == minK`.\n",
    "   - `max_pos`: Latest index where `nums[i] == maxK`.\n",
    "   - `bad_pos`: Latest index where `nums[i] < minK or nums[i] > maxK`.\n",
    "2. **For every index** `i`:\n",
    "   - If the subarray between `bad_pos+1` and `i` contains both `minK` and `maxK`, then all subarrays ending at `i` and starting after `bad_pos` up to `min(min_pos, max_pos)` are valid.\n"
   ]
  },
  {
   "cell_type": "code",
   "execution_count": 1,
   "id": "5e9f2d2d",
   "metadata": {},
   "outputs": [],
   "source": [
    "### 🧠 2. Code (with comments):\n",
    "from typing import List\n",
    "\n",
    "def countSubarrays(nums: List[int], minK: int, maxK: int) -> int:\n",
    "    n = len(nums)\n",
    "    count = 0               # Final answer\n",
    "    min_pos = max_pos = -1   # Latest indices where minK and maxK were found\n",
    "    bad_pos = -1             # Latest index of a bad element (out of [minK, maxK] bounds)\n",
    "    \n",
    "    for i in range(n):\n",
    "        # If current number is invalid, update bad_pos\n",
    "        if nums[i] < minK or nums[i] > maxK:\n",
    "            bad_pos = i\n",
    "        \n",
    "        # Update min_pos if current number equals minK\n",
    "        if nums[i] == minK:\n",
    "            min_pos = i\n",
    "        \n",
    "        # Update max_pos if current number equals maxK\n",
    "        if nums[i] == maxK:\n",
    "            max_pos = i\n",
    "        \n",
    "        # The number of valid subarrays ending at i\n",
    "        count += max(0, min(min_pos, max_pos) - bad_pos)\n",
    "\n",
    "    return count"
   ]
  },
  {
   "cell_type": "markdown",
   "id": "c2852f36",
   "metadata": {},
   "source": [
    "### 📝 3. Code Explanation:\n",
    "- Whenever we find a `minK` or `maxK`, we update their latest positions.\n",
    "- If we encounter a number outside `[minK, maxK]`, the current subarray becomes invalid, and we reset by updating `bad_pos`.\n",
    "- The number of new valid subarrays ending at `i` is `max(0, min(min_pos, max_pos) - bad_pos)`.\n",
    "  - We ensure both `minK` and `maxK` are present in the subarray and there is no invalid number between them.\n"
   ]
  },
  {
   "cell_type": "markdown",
   "id": "0cc1cc1b",
   "metadata": {},
   "source": [
    "### 📊 4. Complexity:\n",
    "- **Time Complexity**: `O(n)`\n",
    "  - Single pass through the array.\n",
    "- **Space Complexity**: `O(1)`\n",
    "  - Only variables for indices and counters are used."
   ]
  },
  {
   "cell_type": "code",
   "execution_count": 2,
   "id": "461f4ab2",
   "metadata": {},
   "outputs": [
    {
     "name": "stdout",
     "output_type": "stream",
     "text": [
      "2\n",
      "10\n"
     ]
    }
   ],
   "source": [
    "### 🔁 5. Example Function Call:\n",
    "print(countSubarrays([1, 3, 5, 2, 7, 5], 1, 5))  # Output: 2\n",
    "print(countSubarrays([1, 1, 1, 1], 1, 1))        # Output: 10"
   ]
  },
  {
   "cell_type": "markdown",
   "id": "78464502",
   "metadata": {},
   "source": [
    "**Explanation:**\n",
    "- In `[1,3,5,2,7,5]`, the subarrays `[1,3,5]` and `[1,3,5,2]` have both min as `1` and max as `5`.\n",
    "- In `[1,1,1,1]`, every possible subarray has both min and max as `1`, hence 10 subarrays total."
   ]
  }
 ],
 "metadata": {
  "kernelspec": {
   "display_name": "myenv",
   "language": "python",
   "name": "python3"
  },
  "language_info": {
   "codemirror_mode": {
    "name": "ipython",
    "version": 3
   },
   "file_extension": ".py",
   "mimetype": "text/x-python",
   "name": "python",
   "nbconvert_exporter": "python",
   "pygments_lexer": "ipython3",
   "version": "3.11.3"
  }
 },
 "nbformat": 4,
 "nbformat_minor": 5
}
