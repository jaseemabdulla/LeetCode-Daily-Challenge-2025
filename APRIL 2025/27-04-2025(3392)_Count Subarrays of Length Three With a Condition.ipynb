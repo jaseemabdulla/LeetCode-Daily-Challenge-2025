{
 "cells": [
  {
   "cell_type": "markdown",
   "id": "b9750118",
   "metadata": {},
   "source": [
    "## ✨ Count Subarrays of Length Three With a Condition\n",
    "\n",
    "---\n",
    "\n",
    "### ✅ 1. Approach:\n",
    "We are asked to count how many subarrays of exactly length 3 satisfy the condition:\n",
    "- `(nums[l] + nums[r]) * 2 == nums[m]`\n",
    "where `l`, `m`, `r` are the indices of the first, middle, and last elements of the subarray, respectively.\n",
    "\n",
    "The idea:\n",
    "- Use three pointers (`l`, `m`, `r`) initialized at 0, 1, and 2.\n",
    "- Slide the window across the array:\n",
    "  - Check the condition at each step.\n",
    "  - If satisfied, increment the count.\n",
    "  - Move all three pointers by one position.\n"
   ]
  },
  {
   "cell_type": "code",
   "execution_count": 1,
   "id": "1d2ba7ed",
   "metadata": {},
   "outputs": [],
   "source": [
    "### 🧠 2. Code (with comments):\n",
    "from typing import List\n",
    "\n",
    "def countSubarrays(nums: List[int]) -> int:\n",
    "    count = 0        # Initialize count of valid subarrays\n",
    "    l, m, r = 0, 1, 2  # Initialize three pointers for the subarray\n",
    "    \n",
    "    while r < len(nums):\n",
    "        # Check if the condition is satisfied\n",
    "        if (nums[l] + nums[r]) * 2 == nums[m]:\n",
    "            count += 1\n",
    "        \n",
    "        # Move the window one step forward\n",
    "        l += 1\n",
    "        m += 1\n",
    "        r += 1\n",
    "    \n",
    "    return count"
   ]
  },
  {
   "cell_type": "markdown",
   "id": "7f9c9e5b",
   "metadata": {},
   "source": [
    "### 📝 3. Code Explanation:\n",
    "- Start with three pointers at positions 0, 1, 2.\n",
    "- For every group of three elements:\n",
    "  - If `(first element + third element) * 2` equals the middle element, it's a valid subarray.\n",
    "  - Increment `count` whenever the condition holds.\n",
    "- Slide the window by incrementing all three pointers at once."
   ]
  },
  {
   "cell_type": "markdown",
   "id": "ff2b191c",
   "metadata": {},
   "source": [
    "### 📊 4. Complexity:\n",
    "- **Time Complexity**: `O(n)`\n",
    "  - We check each triplet exactly once.\n",
    "- **Space Complexity**: `O(1)`\n",
    "  - Only a few variables are used."
   ]
  },
  {
   "cell_type": "code",
   "execution_count": 2,
   "id": "54aa9cf9",
   "metadata": {},
   "outputs": [
    {
     "name": "stdout",
     "output_type": "stream",
     "text": [
      "1\n",
      "0\n"
     ]
    }
   ],
   "source": [
    "### 🔁 5. Example Function Call:\n",
    "print(countSubarrays([1, 2, 1, 4, 1]))  # Output: 1\n",
    "print(countSubarrays([1, 1, 1]))         # Output: 0"
   ]
  },
  {
   "cell_type": "markdown",
   "id": "75bc86df",
   "metadata": {},
   "source": [
    "**Explanation:**\n",
    "- In `[1,2,1,4,1]`, the only valid triplet is `[1,4,1]`.\n",
    "- In `[1,1,1]`, the condition is not satisfied for `[1,1,1]`, so the answer is `0`."
   ]
  }
 ],
 "metadata": {
  "kernelspec": {
   "display_name": "myenv",
   "language": "python",
   "name": "python3"
  },
  "language_info": {
   "codemirror_mode": {
    "name": "ipython",
    "version": 3
   },
   "file_extension": ".py",
   "mimetype": "text/x-python",
   "name": "python",
   "nbconvert_exporter": "python",
   "pygments_lexer": "ipython3",
   "version": "3.11.3"
  }
 },
 "nbformat": 4,
 "nbformat_minor": 5
}
