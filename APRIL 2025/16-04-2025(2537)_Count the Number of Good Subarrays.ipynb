{
 "cells": [
  {
   "cell_type": "markdown",
   "id": "53b91d6c",
   "metadata": {},
   "source": [
    "## 🔢 Count the Number of Good Subarrays\n",
    "\n",
    "---\n",
    "\n",
    "### ✅ 1. Approach:\n",
    "We are to count the number of **subarrays** that have **at least `k` pairs** of equal elements.\n",
    "\n",
    "A **pair** means two equal elements in the subarray.  \n",
    "This problem is best approached using the **sliding window** technique to efficiently count subarrays that satisfy the condition."
   ]
  },
  {
   "cell_type": "code",
   "execution_count": 1,
   "id": "86d85b09",
   "metadata": {},
   "outputs": [],
   "source": [
    "### 🧠 2. Code with Comments:\n",
    "from typing import List\n",
    "\n",
    "def countGood(nums: List[int], k: int) -> int:\n",
    "    n = len(nums)\n",
    "    count = {}             # Dictionary to count frequency of numbers in the current window\n",
    "    pairs = 0              # Number of equal pairs in the window\n",
    "    result = 0             # Final result count\n",
    "    left = 0               # Left pointer of sliding window\n",
    "\n",
    "    for right, num in enumerate(nums):\n",
    "        # Add current number's contribution to total pairs\n",
    "        pairs += count.get(num, 0)\n",
    "        \n",
    "        # Update frequency\n",
    "        count[num] = count.get(num, 0) + 1\n",
    "\n",
    "        # While the current window has enough pairs\n",
    "        while pairs >= k and left <= right:\n",
    "            # Every subarray from (right to end) is a good subarray\n",
    "            result += (n - right)\n",
    "\n",
    "            # Shrink the window from left and reduce the pair count\n",
    "            pairs -= (count[nums[left]] - 1)\n",
    "            count[nums[left]] -= 1\n",
    "            left += 1\n",
    "\n",
    "    return result"
   ]
  },
  {
   "cell_type": "markdown",
   "id": "c33c6099",
   "metadata": {},
   "source": [
    "### 📊 3. Complexity:\n",
    "\n",
    "- **Time Complexity**:  \n",
    "  O(n), where n is the length of `nums`, since both pointers move from left to right once.\n",
    "\n",
    "- **Space Complexity**:  \n",
    "  O(n), for maintaining the frequency map."
   ]
  },
  {
   "cell_type": "markdown",
   "id": "ec984771",
   "metadata": {},
   "source": [
    "### 💡 4. Explanation:\n",
    "- When the number of pairs in a window becomes at least `k`, every extension of that window to the right also has at least `k` pairs.\n",
    "- So we add `n - right` to the result.\n",
    "- Then we try to shrink the window from the left to check for more such windows."
   ]
  },
  {
   "cell_type": "code",
   "execution_count": 2,
   "id": "84b4239f",
   "metadata": {},
   "outputs": [
    {
     "name": "stdout",
     "output_type": "stream",
     "text": [
      "1\n",
      "4\n"
     ]
    }
   ],
   "source": [
    "### 🔁 5. Example Function Calls:\n",
    "print(countGood([1,1,1,1,1], 10))           # Output: 1\n",
    "print(countGood([3,1,4,3,2,2,4], 2))        # Output: 4"
   ]
  },
  {
   "cell_type": "markdown",
   "id": "5aea921b",
   "metadata": {},
   "source": [
    "### ✨ Example Breakdown:\n",
    "#### Example 1:\n",
    "`nums = [1,1,1,1,1]`, `k = 10`  \n",
    "There are exactly 10 pairs in the full array:  \n",
    "- Choose 2 out of 5 elements: 5C2 = 10  \n",
    "So only 1 subarray (the whole array) satisfies the condition.\n",
    "\n",
    "#### Example 2:\n",
    "`nums = [3,1,4,3,2,2,4]`, `k = 2`  \n",
    "Subarrays that contain **at least** 2 pairs are:\n",
    "- `[3,1,4,3,2,2]` → pairs: (3,3), (2,2)\n",
    "- `[3,1,4,3,2,2,4]` → adds another (4,4)\n",
    "- `[1,4,3,2,2,4]` → contains (2,2), (4,4)\n",
    "- `[4,3,2,2,4]` → contains (2,2), (4,4)\n",
    "\n",
    "Total = 4"
   ]
  }
 ],
 "metadata": {
  "kernelspec": {
   "display_name": "myenv",
   "language": "python",
   "name": "python3"
  },
  "language_info": {
   "codemirror_mode": {
    "name": "ipython",
    "version": 3
   },
   "file_extension": ".py",
   "mimetype": "text/x-python",
   "name": "python",
   "nbconvert_exporter": "python",
   "pygments_lexer": "ipython3",
   "version": "3.11.3"
  }
 },
 "nbformat": 4,
 "nbformat_minor": 5
}
