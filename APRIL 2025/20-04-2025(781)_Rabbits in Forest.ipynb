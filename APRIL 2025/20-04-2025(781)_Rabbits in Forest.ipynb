{
 "cells": [
  {
   "cell_type": "markdown",
   "id": "bdd5bd90",
   "metadata": {},
   "source": [
    "## 🐰 Rabbits in Forest\n",
    "\n",
    "---\n",
    "\n",
    "### ✅ 1. Approach:\n",
    "\n",
    "Each rabbit's answer `x` means:\n",
    "- \"There are **x other rabbits** with the same color as me.\"\n",
    "- So there are `x + 1` rabbits **in total** of that color.\n",
    "\n",
    "To avoid double-counting:\n",
    "- Group the rabbits with the same answer `x` into groups of size `x + 1`.\n",
    "- If we have more rabbits with answer `x` than `x + 1`, we need **multiple such groups**.\n",
    "\n",
    "Hence:\n",
    "- Use a frequency counter.\n",
    "- For each `answer = x` with `freq = f`, we need `ceil(f / (x+1))` groups.\n",
    "- Total rabbits = sum of `(number of groups) × (group size)` for all unique answers."
   ]
  },
  {
   "cell_type": "code",
   "execution_count": 5,
   "id": "85a8601c",
   "metadata": {},
   "outputs": [],
   "source": [
    "### 🧠 2. Code with Comments:\n",
    "\n",
    "from collections import Counter\n",
    "import math\n",
    "from typing import List\n",
    "\n",
    "def numRabbits(answers: List[int]) -> int:\n",
    "    count = Counter(answers)\n",
    "    total = 0\n",
    "\n",
    "    for answer, freq in count.items():\n",
    "        group_size = answer + 1\n",
    "        num_groups = math.ceil(freq / group_size)\n",
    "        total += num_groups * group_size\n",
    "\n",
    "    return total"
   ]
  },
  {
   "cell_type": "markdown",
   "id": "d8e206e8",
   "metadata": {},
   "source": [
    "### 📊 3. Complexity:\n",
    "\n",
    "- **Time Complexity**: `O(n)` – One pass to count and one pass to calculate.\n",
    "- **Space Complexity**: `O(n)` – For the counter dictionary."
   ]
  },
  {
   "cell_type": "code",
   "execution_count": 6,
   "id": "b3811b7f",
   "metadata": {},
   "outputs": [
    {
     "name": "stdout",
     "output_type": "stream",
     "text": [
      "5\n",
      "11\n"
     ]
    }
   ],
   "source": [
    "### 🧪 5. Example Function Calls:\n",
    "\n",
    "print(numRabbits([1, 1, 2]))     # Output: 5\n",
    "print(numRabbits([10, 10, 10]))  # Output: 11"
   ]
  },
  {
   "cell_type": "markdown",
   "id": "a363621b",
   "metadata": {},
   "source": [
    "### 💡 4. Explanation:\n",
    "\n",
    "#### Example 1:\n",
    "```python\n",
    "answers = [1, 1, 2]\n",
    "```\n",
    "\n",
    "- Two rabbits said `1`: → group size = 2 → only 1 group needed.\n",
    "- One rabbit said `2`: → group size = 3 → 1 group of 3 needed.\n",
    "\n",
    "**Total = 2 (for 1s) + 3 (for 2) = 5**\n",
    "\n",
    "#### Example 2:\n",
    "```python\n",
    "answers = [10, 10, 10]\n",
    "```\n",
    "\n",
    "- All said `10` → group size = 11.\n",
    "- 3 rabbits can fit into 1 group of 11.\n",
    "\n",
    "**Total = 11**"
   ]
  }
 ],
 "metadata": {
  "kernelspec": {
   "display_name": "myenv",
   "language": "python",
   "name": "python3"
  },
  "language_info": {
   "codemirror_mode": {
    "name": "ipython",
    "version": 3
   },
   "file_extension": ".py",
   "mimetype": "text/x-python",
   "name": "python",
   "nbconvert_exporter": "python",
   "pygments_lexer": "ipython3",
   "version": "3.11.3"
  }
 },
 "nbformat": 4,
 "nbformat_minor": 5
}
