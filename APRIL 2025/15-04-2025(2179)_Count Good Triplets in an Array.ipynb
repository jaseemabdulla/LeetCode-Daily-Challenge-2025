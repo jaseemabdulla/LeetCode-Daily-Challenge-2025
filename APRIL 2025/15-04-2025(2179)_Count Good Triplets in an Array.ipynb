{
 "cells": [
  {
   "cell_type": "markdown",
   "id": "0c8cfc01",
   "metadata": {},
   "source": [
    "## 🔢 Count Good Triplets in an Array\n",
    "\n",
    "---\n",
    "\n",
    "### ✅ 1. Approach:\n",
    "We are given two permutations of the same integers: `nums1` and `nums2`.\n",
    "\n",
    "We are to count the number of triplets `(x, y, z)` such that:\n",
    "- The order of `x < y < z` is maintained in **both** `nums1` and `nums2`.\n",
    "\n",
    "**Strategy**:\n",
    "1. Map each element in `nums2` to its index for fast lookup.\n",
    "2. Transform `nums1` into a list of indices according to their position in `nums2`.\n",
    "3. For each index in the transformed list:\n",
    "   - Count how many elements to the left are **less than** the current.\n",
    "   - Count how many elements to the right are **greater than** the current.\n",
    "4. The total number of good triplets is the sum of products of `left * right` at each index."
   ]
  },
  {
   "cell_type": "code",
   "execution_count": 2,
   "id": "19a8de30",
   "metadata": {},
   "outputs": [
    {
     "ename": "ModuleNotFoundError",
     "evalue": "No module named 'sortedcontainers'",
     "output_type": "error",
     "traceback": [
      "\u001b[1;31m---------------------------------------------------------------------------\u001b[0m",
      "\u001b[1;31mModuleNotFoundError\u001b[0m                       Traceback (most recent call last)",
      "Cell \u001b[1;32mIn[2], line 3\u001b[0m\n\u001b[0;32m      1\u001b[0m \u001b[38;5;66;03m### 🧠 2. Code:\u001b[39;00m\n\u001b[0;32m      2\u001b[0m \u001b[38;5;28;01mfrom\u001b[39;00m \u001b[38;5;21;01mbisect\u001b[39;00m \u001b[38;5;28;01mimport\u001b[39;00m bisect_left, bisect_right\n\u001b[1;32m----> 3\u001b[0m \u001b[38;5;28;01mfrom\u001b[39;00m \u001b[38;5;21;01msortedcontainers\u001b[39;00m \u001b[38;5;28;01mimport\u001b[39;00m SortedList\n\u001b[0;32m      4\u001b[0m \u001b[38;5;28;01mfrom\u001b[39;00m \u001b[38;5;21;01mtyping\u001b[39;00m \u001b[38;5;28;01mimport\u001b[39;00m List\n\u001b[0;32m      6\u001b[0m \u001b[38;5;28;01mdef\u001b[39;00m \u001b[38;5;21mgoodTriplets\u001b[39m(nums1: List[\u001b[38;5;28mint\u001b[39m], nums2: List[\u001b[38;5;28mint\u001b[39m]) \u001b[38;5;241m-\u001b[39m\u001b[38;5;241m>\u001b[39m \u001b[38;5;28mint\u001b[39m:\n\u001b[0;32m      7\u001b[0m     \u001b[38;5;66;03m# Step 1: Build map from nums2 value to its index\u001b[39;00m\n",
      "\u001b[1;31mModuleNotFoundError\u001b[0m: No module named 'sortedcontainers'"
     ]
    }
   ],
   "source": [
    "### 🧠 2. Code:\n",
    "from bisect import bisect_left, bisect_right\n",
    "from sortedcontainers import SortedList\n",
    "from typing import List\n",
    "\n",
    "def goodTriplets(nums1: List[int], nums2: List[int]) -> int:\n",
    "    # Step 1: Build map from nums2 value to its index\n",
    "    index_map = {num: i for i, num in enumerate(nums2)}\n",
    "    \n",
    "    # Step 2: Replace each element in nums1 with its index from nums2\n",
    "    indices = [index_map[num] for num in nums1]\n",
    "\n",
    "    # Step 3: Count how many elements on the left are less than current\n",
    "    left_counts = []\n",
    "    left_sorted = SortedList()\n",
    "    for idx in indices:\n",
    "        left_counts.append(left_sorted.bisect_left(idx))\n",
    "        left_sorted.add(idx)\n",
    "\n",
    "    # Step 4: Count how many elements on the right are greater than current\n",
    "    right_counts = []\n",
    "    right_sorted = SortedList()\n",
    "    for idx in reversed(indices):\n",
    "        right_counts.append(len(right_sorted) - right_sorted.bisect_right(idx))\n",
    "        right_sorted.add(idx)\n",
    "    right_counts.reverse()\n",
    "\n",
    "    # Step 5: Multiply counts for each index\n",
    "    return sum(left * right for left, right in zip(left_counts, right_counts))"
   ]
  },
  {
   "cell_type": "markdown",
   "id": "2f925fa9",
   "metadata": {},
   "source": [
    "### 📝 3. Code Explanation:\n",
    "- `index_map`: Helps convert `nums1` to positions from `nums2`.\n",
    "- `left_counts[i]`: How many indices before `i` are smaller.\n",
    "- `right_counts[i]`: How many indices after `i` are larger.\n",
    "- We use `SortedList` for efficient insertion and binary search operations.\n",
    "- Multiply the counts of potential \"left\" and \"right\" elements around each center to get total good triplets."
   ]
  },
  {
   "cell_type": "markdown",
   "id": "054fe078",
   "metadata": {},
   "source": [
    "### 📊 4. Complexity:\n",
    "- **Time Complexity**:  \n",
    "  O(n log n), due to the use of `SortedList` for both left and right counts.\n",
    "  \n",
    "- **Space Complexity**:  \n",
    "  O(n), for storing mappings, transformed indices, and count lists."
   ]
  },
  {
   "cell_type": "code",
   "execution_count": null,
   "id": "1c0b0481",
   "metadata": {},
   "outputs": [],
   "source": [
    "### 🔁 5. Example Function Calls:\n",
    "print(goodTriplets([2, 0, 1, 3], [0, 1, 2, 3]))      # Output: 1\n",
    "print(goodTriplets([4, 0, 1, 3, 2], [4, 1, 0, 2, 3])) # Output: 4"
   ]
  },
  {
   "cell_type": "markdown",
   "id": "0a157d66",
   "metadata": {},
   "source": [
    "**Explanation**:\n",
    "- Only one valid triplet in the first example matches order in both arrays.\n",
    "- Four valid triplets in the second case."
   ]
  }
 ],
 "metadata": {
  "kernelspec": {
   "display_name": "myenv",
   "language": "python",
   "name": "python3"
  },
  "language_info": {
   "codemirror_mode": {
    "name": "ipython",
    "version": 3
   },
   "file_extension": ".py",
   "mimetype": "text/x-python",
   "name": "python",
   "nbconvert_exporter": "python",
   "pygments_lexer": "ipython3",
   "version": "3.11.3"
  }
 },
 "nbformat": 4,
 "nbformat_minor": 5
}
