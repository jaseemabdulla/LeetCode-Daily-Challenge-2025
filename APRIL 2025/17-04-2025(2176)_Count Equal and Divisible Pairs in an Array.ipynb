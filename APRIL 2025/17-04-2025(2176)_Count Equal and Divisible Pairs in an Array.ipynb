{
 "cells": [
  {
   "cell_type": "markdown",
   "id": "4c5fe921",
   "metadata": {},
   "source": [
    "## 🔢 Count Equal and Divisible Pairs in an Array\n",
    "\n",
    "---\n",
    "\n",
    "### ✅ 1. Approach:\n",
    "We need to count the number of index pairs `(i, j)` such that:\n",
    "- `nums[i] == nums[j]`\n",
    "- `i < j`\n",
    "- `(i * j) % k == 0`\n",
    "\n",
    "To solve this:\n",
    "- Group indices of equal elements.\n",
    "- For each group, check all index pairs.\n",
    "- If the product of indices is divisible by `k`, count it."
   ]
  },
  {
   "cell_type": "code",
   "execution_count": 1,
   "id": "8df1e875",
   "metadata": {},
   "outputs": [],
   "source": [
    "### 🧠 2. Code with Comments:\n",
    "from typing import List\n",
    "from collections import defaultdict\n",
    "from itertools import combinations\n",
    "\n",
    "def countPairs(nums: List[int], k: int) -> int:\n",
    "    values = defaultdict(list)  # Dictionary: num -> list of indices having that num\n",
    "\n",
    "    # Step 1: Group indices for each number\n",
    "    for i, num in enumerate(nums):\n",
    "        values[num].append(i)\n",
    "\n",
    "    count = 0\n",
    "    # Step 2: For each group of same numbers, check all valid (i, j) pairs\n",
    "    for indices in values.values():\n",
    "        for a, b in combinations(indices, 2):\n",
    "            if (a * b) % k == 0:\n",
    "                count += 1\n",
    "\n",
    "    return count"
   ]
  },
  {
   "cell_type": "markdown",
   "id": "2f15b12f",
   "metadata": {},
   "source": [
    "### 📊 3. Complexity:\n",
    "\n",
    "- **Time Complexity**:  \n",
    "  O(n²) in the worst case (when all numbers are the same), but generally faster due to grouping.\n",
    "\n",
    "- **Space Complexity**:  \n",
    "  O(n), for storing the indices in the dictionary."
   ]
  },
  {
   "cell_type": "markdown",
   "id": "6f107d08",
   "metadata": {},
   "source": [
    "### 💡 4. Explanation:\n",
    "- We group all indices for each value in the array.\n",
    "- Then, for each group, generate all index pairs and check if their product is divisible by `k`."
   ]
  },
  {
   "cell_type": "code",
   "execution_count": 2,
   "id": "4fcfa028",
   "metadata": {},
   "outputs": [
    {
     "name": "stdout",
     "output_type": "stream",
     "text": [
      "4\n",
      "0\n"
     ]
    }
   ],
   "source": [
    "### 🔁 5. Example Function Calls:\n",
    "print(countPairs([3,1,2,2,2,1,3], 2))  # Output: 4\n",
    "print(countPairs([1,2,3,4], 1))        # Output: 0"
   ]
  },
  {
   "cell_type": "markdown",
   "id": "d2afba87",
   "metadata": {},
   "source": [
    "### ✨ Example Breakdown:\n",
    "\n",
    "#### Example 1:\n",
    "- nums = [3,1,2,2,2,1,3], k = 2\n",
    "- Pairs:\n",
    "  - (0,6) → 3 == 3 and 0*6 = 0 % 2 == 0 ✅\n",
    "  - (2,3), (2,4), (3,4) → 2 == 2 and all index products % 2 == 0 ✅\n",
    "\n",
    "✅ Total = 4\n",
    "\n",
    "#### Example 2:\n",
    "- nums = [1,2,3,4], k = 1\n",
    "- No repeated values → No valid (i, j) pairs → 0"
   ]
  }
 ],
 "metadata": {
  "kernelspec": {
   "display_name": "myenv",
   "language": "python",
   "name": "python3"
  },
  "language_info": {
   "codemirror_mode": {
    "name": "ipython",
    "version": 3
   },
   "file_extension": ".py",
   "mimetype": "text/x-python",
   "name": "python",
   "nbconvert_exporter": "python",
   "pygments_lexer": "ipython3",
   "version": "3.11.3"
  }
 },
 "nbformat": 4,
 "nbformat_minor": 5
}
