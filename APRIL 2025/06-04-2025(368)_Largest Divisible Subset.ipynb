{
 "cells": [
  {
   "cell_type": "markdown",
   "metadata": {},
   "source": [
    "### 🧮 Problem: Largest Divisible Subset\n",
    "\n",
    "---\n",
    "\n",
    "### ✅ Approach:\n",
    "\n",
    "- **Sort the array** to ensure every number is larger than the previous.\n",
    "- Use **Dynamic Programming**:\n",
    "  - `groupSize[i]`: length of the largest divisible subset ending at index `i`.\n",
    "  - `prevElement[i]`: the index of the previous element in the subset.\n",
    "- For each pair `(j, i)` where `j < i`, if `nums[i] % nums[j] == 0`, update `groupSize[i]` and track the previous element.\n",
    "- After processing all elements, reconstruct the subset using the `prevElement` array."
   ]
  },
  {
   "cell_type": "code",
   "execution_count": 3,
   "metadata": {},
   "outputs": [],
   "source": [
    "from typing import List\n",
    "\n",
    "def largestDivisibleSubset(nums: List[int]) -> List[int]:\n",
    "    nums.sort()  # Sort the numbers\n",
    "    n = len(nums)\n",
    "    \n",
    "    groupSize = [1] * n         # Length of subset ending at each index\n",
    "    prevElement = [-1] * n      # To reconstruct the subset\n",
    "    maxIndex = 0                # Index where the largest subset ends\n",
    "\n",
    "    for i in range(n):\n",
    "        for j in range(i):\n",
    "            if nums[i] % nums[j] == 0:\n",
    "                if groupSize[i] < 1 + groupSize[j]:\n",
    "                    groupSize[i] = 1 + groupSize[j]\n",
    "                    prevElement[i] = j\n",
    "        if groupSize[i] > groupSize[maxIndex]:\n",
    "            maxIndex = i\n",
    "\n",
    "    # Reconstruct the result subset\n",
    "    result = []\n",
    "    while maxIndex != -1:\n",
    "        result.insert(0, nums[maxIndex])\n",
    "        maxIndex = prevElement[maxIndex]\n",
    "\n",
    "    return result"
   ]
  },
  {
   "cell_type": "code",
   "execution_count": 4,
   "metadata": {},
   "outputs": [
    {
     "name": "stdout",
     "output_type": "stream",
     "text": [
      "[1, 2]\n",
      "[1, 2, 4, 8]\n"
     ]
    }
   ],
   "source": [
    "# Example Calls\n",
    "print(largestDivisibleSubset([1, 2, 3]))      # Output: [1, 2] or [1, 3]\n",
    "print(largestDivisibleSubset([1, 2, 4, 8]))   # Output: [1, 2, 4, 8]"
   ]
  }
 ],
 "metadata": {
  "kernelspec": {
   "display_name": "myenv",
   "language": "python",
   "name": "python3"
  },
  "language_info": {
   "codemirror_mode": {
    "name": "ipython",
    "version": 3
   },
   "file_extension": ".py",
   "mimetype": "text/x-python",
   "name": "python",
   "nbconvert_exporter": "python",
   "pygments_lexer": "ipython3",
   "version": "3.11.3"
  }
 },
 "nbformat": 4,
 "nbformat_minor": 2
}
