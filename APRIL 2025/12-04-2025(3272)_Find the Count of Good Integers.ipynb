{
 "cells": [
  {
   "cell_type": "markdown",
   "id": "5ee2e673",
   "metadata": {},
   "source": [
    "## 🔢 Find the Count of Good Integers\n",
    "\n",
    "---\n",
    "\n",
    "### ✅ 1. Approach:\n",
    "We define a **good integer** as:\n",
    "- A **palindrome** of `n` digits that is divisible by `k`.\n",
    "- **Distinct based on digit composition** (i.e., rearrangements like 121 and 211 are considered the same).\n",
    "- All **valid permutations** of such numbers must be counted, excluding those with **leading zero**.\n",
    "\n",
    "To solve this:\n",
    "1. Generate all `n`-digit palindromic numbers.\n",
    "2. Filter those divisible by `k`.\n",
    "3. Group by unique digit composition to avoid double counting.\n",
    "4. For each digit group:\n",
    "   - Count all permutations using factorial math.\n",
    "   - Subtract those that would start with a leading zero."
   ]
  },
  {
   "cell_type": "code",
   "execution_count": 1,
   "id": "1eaff2f9",
   "metadata": {},
   "outputs": [],
   "source": [
    "### 🧠 2. Code:\n",
    "from collections import Counter\n",
    "from math import factorial\n",
    "\n",
    "def countGoodIntegers(n: int, k: int) -> int:\n",
    "    # 1. Generate all possible n-digit palindromes\n",
    "    palindromes = []\n",
    "    half = (n + 1) // 2\n",
    "    start = 10 ** (half - 1)\n",
    "    end = 10 ** half\n",
    "    for half_part in range(start, end):\n",
    "        half_str = str(half_part)\n",
    "        # Construct full palindrome\n",
    "        if n % 2:\n",
    "            full_str = half_str + half_str[-2::-1]  # Odd-length\n",
    "        else:\n",
    "            full_str = half_str + half_str[::-1]    # Even-length\n",
    "        palindromes.append(int(full_str))\n",
    "\n",
    "    # 2. Filter palindromes divisible by k\n",
    "    divisible = [str(num) for num in palindromes if num % k == 0]\n",
    "\n",
    "    # 3. Group by digit composition (to avoid duplicates)\n",
    "    unique_nums = set()\n",
    "    for num_str in divisible:\n",
    "        s = \"\".join(sorted(num_str))\n",
    "        unique_nums.add(s)\n",
    "\n",
    "    answer = 0\n",
    "    for num_str in list(unique_nums):\n",
    "        counter = Counter(num_str)\n",
    "\n",
    "        # 4. Total permutations = factorial of total digits / product of factorials of digit counts\n",
    "        total = factorial(len(num_str))\n",
    "        for val in counter.values():\n",
    "            total //= factorial(val)\n",
    "        answer += total\n",
    "\n",
    "        # 5. Subtract permutations that have leading zero\n",
    "        if \"0\" in counter:\n",
    "            counter[\"0\"] -= 1\n",
    "            total_with_leading_zero = factorial(len(num_str) - 1)\n",
    "            for val in counter.values():\n",
    "                total_with_leading_zero //= factorial(val)\n",
    "            answer -= total_with_leading_zero\n",
    "\n",
    "    return answer"
   ]
  },
  {
   "cell_type": "markdown",
   "id": "b5950d38",
   "metadata": {},
   "source": [
    "\n",
    "### 📝 3. Code Explanation:\n",
    "- **Palindrome Generation**: Constructed by mirroring half of the number.\n",
    "- **Divisibility Check**: Only keep palindromes divisible by `k`.\n",
    "- **Unique Digit Signature**: Sorted digits are used to identify duplicates.\n",
    "- **Counting Permutations**: Standard permutation logic using factorials, adjusting for repeated digits.\n",
    "- **Handling Leading Zeros**: Subtract permutations that would start with '0'."
   ]
  },
  {
   "cell_type": "markdown",
   "id": "dce7c6ad",
   "metadata": {},
   "source": [
    "\n",
    "### 📊 4. Complexity:\n",
    "- **Time Complexity**:  \n",
    "  O(10^(n//2) + m × d)  \n",
    "  where m = number of valid palindromes, d = number of digits (`n`).  \n",
    "  The most expensive part is generating half of the palindromes.\n",
    "  \n",
    "- **Space Complexity**:  \n",
    "  O(m) for storing palindromes and digit groups."
   ]
  },
  {
   "cell_type": "code",
   "execution_count": 2,
   "id": "e7eb6950",
   "metadata": {},
   "outputs": [
    {
     "name": "stdout",
     "output_type": "stream",
     "text": [
      "27\n",
      "2\n",
      "2468\n"
     ]
    }
   ],
   "source": [
    "### 🔁 5. Example Function Calls:\n",
    "print(countGoodIntegers(3, 5))   # Output: 27\n",
    "print(countGoodIntegers(1, 4))   # Output: 2\n",
    "print(countGoodIntegers(5, 6))   # Output: 2468"
   ]
  },
  {
   "cell_type": "markdown",
   "id": "8dec416c",
   "metadata": {},
   "source": [
    "**Explanation**:\n",
    "- For `(3, 5)`: Palindromes like `525`, `515`, and their permutations are counted.\n",
    "- For `(1, 4)`: Only `4` and `8` are palindromes divisible by 4.\n",
    "- For `(5, 6)`: Thousands of permutations possible, totaling `2468`."
   ]
  }
 ],
 "metadata": {
  "kernelspec": {
   "display_name": "myenv",
   "language": "python",
   "name": "python3"
  },
  "language_info": {
   "codemirror_mode": {
    "name": "ipython",
    "version": 3
   },
   "file_extension": ".py",
   "mimetype": "text/x-python",
   "name": "python",
   "nbconvert_exporter": "python",
   "pygments_lexer": "ipython3",
   "version": "3.11.3"
  }
 },
 "nbformat": 4,
 "nbformat_minor": 5
}
