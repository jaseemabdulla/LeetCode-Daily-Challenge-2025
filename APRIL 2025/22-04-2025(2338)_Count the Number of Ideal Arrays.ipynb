{
 "cells": [
  {
   "cell_type": "markdown",
   "id": "59709749",
   "metadata": {},
   "source": [
    "## 🧩 Count the Number of Ideal Arrays\n",
    "\n",
    "---\n",
    "\n",
    "### ✅ 1. Approach:\n",
    "To count how many **ideal arrays** of length `n` can be formed where:\n",
    "- Each element is ≤ `maxValue`\n",
    "- Each next element is divisible by the previous one\n",
    "\n",
    "We use these ideas:\n",
    "\n",
    "1. For each number `i` from `1` to `maxValue`, find its prime factorization.\n",
    "2. Each ideal array is a non-decreasing sequence where each element is divisible by the previous one.\n",
    "3. For each number `i`, its total number of ideal arrays of length `n` can be calculated using **combinatorics**:\n",
    "   - If `i = p1^e1 * p2^e2 * ...`, then the number of such sequences is:\n",
    "     - `C(n-1 + e1, e1) * C(n-1 + e2, e2) * ...`  \n",
    "     where `C(a, b)` is the binomial coefficient (nCr).\n",
    "4. Use a sieve to precompute the smallest prime factor for fast factorization.\n",
    "5. For each `i` in `1..maxValue`, compute how many ways to extend it to a sequence of length `n` using the above formula.\n",
    "6. Sum all such counts and return the total modulo `10^9 + 7`."
   ]
  },
  {
   "cell_type": "code",
   "execution_count": 1,
   "id": "f1e1cace",
   "metadata": {},
   "outputs": [],
   "source": [
    "### 🧠 2. Code:\n",
    "import math\n",
    "from collections import defaultdict\n",
    "\n",
    "def idealArrays(n: int, maxValue: int) -> int:\n",
    "    MOD = 10**9 + 7\n",
    "\n",
    "    # Precompute smallest prime factor for each number up to maxValue\n",
    "    sieve = list(range(maxValue + 1))\n",
    "    for i in range(2, int(maxValue**0.5) + 1):\n",
    "        if sieve[i] == i:  # i is prime\n",
    "            for j in range(i * i, maxValue + 1, i):\n",
    "                if sieve[j] == j:\n",
    "                    sieve[j] = i\n",
    "\n",
    "    # Function to get prime factor exponent map\n",
    "    def factors(x):\n",
    "        res = defaultdict(int)\n",
    "        while x > 1:\n",
    "            smallest_prime = sieve[x]\n",
    "            res[smallest_prime] += 1\n",
    "            x //= smallest_prime\n",
    "        return res\n",
    "\n",
    "    result = 0\n",
    "    for i in range(1, maxValue + 1):\n",
    "        ways = 1\n",
    "        # Multiply combinations for each exponent\n",
    "        for exp in factors(i).values():\n",
    "            ways = (ways * math.comb(n - 1 + exp, exp)) % MOD\n",
    "        result = (result + ways) % MOD\n",
    "\n",
    "    return result"
   ]
  },
  {
   "cell_type": "markdown",
   "id": "6ad24d3a",
   "metadata": {},
   "source": [
    "\n",
    "### 📝 3. Code Explanation:\n",
    "- **Line 1-2**: Import required modules.\n",
    "- **Line 4**: Define modulus for large number output.\n",
    "- **Line 6-11**: Construct a sieve array where each index stores its smallest prime factor.\n",
    "- **Line 13-19**: The `factors` function returns a dictionary with prime factor counts for a number using the sieve.\n",
    "- **Line 21-27**: For each number from 1 to `maxValue`:\n",
    "  - Calculate number of ways to distribute its prime exponents into `n` positions using combinations.\n",
    "  - Multiply combinations across all prime factors.\n",
    "  - Accumulate the result modulo `10^9 + 7`."
   ]
  },
  {
   "cell_type": "markdown",
   "id": "28ddfbf4",
   "metadata": {},
   "source": [
    "### 📊 4. Complexity:\n",
    "- **Time Complexity**: `O(maxValue * log(maxValue) + maxValue * log(n))`\n",
    "  - Sieve runs in `O(maxValue log log maxValue)`\n",
    "  - Factorization is `O(log maxValue)` per number\n",
    "  - For each factor exponent, computing combinations is `O(log n)`\n",
    "- **Space Complexity**: `O(maxValue)`\n",
    "  - Used for sieve and temporary factor storage"
   ]
  },
  {
   "cell_type": "code",
   "execution_count": 2,
   "id": "4d6cd3ee",
   "metadata": {},
   "outputs": [
    {
     "name": "stdout",
     "output_type": "stream",
     "text": [
      "10\n",
      "11\n"
     ]
    }
   ],
   "source": [
    "### 🔁 5. Example Function Call:\n",
    "print(idealArrays(2, 5))  # Output: 10\n",
    "print(idealArrays(5, 3))  # Output: 11"
   ]
  },
  {
   "cell_type": "markdown",
   "id": "3f7e5e91",
   "metadata": {},
   "source": [
    "**Explanation:**\n",
    "- For `n = 2, maxValue = 5`: Valid sequences like [1,1], [1,2], ..., [5,5] → total = 10\n",
    "- For `n = 5, maxValue = 3`: More combinations with multiples → total = 11"
   ]
  }
 ],
 "metadata": {
  "kernelspec": {
   "display_name": "myenv",
   "language": "python",
   "name": "python3"
  },
  "language_info": {
   "codemirror_mode": {
    "name": "ipython",
    "version": 3
   },
   "file_extension": ".py",
   "mimetype": "text/x-python",
   "name": "python",
   "nbconvert_exporter": "python",
   "pygments_lexer": "ipython3",
   "version": "3.11.3"
  }
 },
 "nbformat": 4,
 "nbformat_minor": 5
}
