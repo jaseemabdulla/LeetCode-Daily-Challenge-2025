{
 "cells": [
  {
   "cell_type": "markdown",
   "metadata": {},
   "source": [
    "### Problem: Sum of All Subset XOR Totals\n",
    "\n",
    "---\n",
    "\n",
    "### ✅ Approach:\n",
    "\n",
    "- The XOR of a subset can be computed using bitwise operations.\n",
    "- A **key insight** is that each bit in the result of `reduce(or_, nums)` appears in **half** of all subsets.\n",
    "- So, the sum of XORs of all subsets is:\n",
    "  \\[\n",
    "  (\\text{OR of all elements}) \\times 2^{(n - 1)}\n",
    "  \\]\n",
    "  where `n` is the number of elements in the input array `nums`."
   ]
  },
  {
   "cell_type": "code",
   "execution_count": 1,
   "metadata": {},
   "outputs": [],
   "source": [
    "from typing import List\n",
    "from functools import reduce\n",
    "from operator import or_\n",
    "\n",
    "def subsetXORSum(nums: List[int]) -> int:\n",
    "    # Step 1: Get bitwise OR of all numbers\n",
    "    or_all = reduce(or_, nums)\n",
    "    \n",
    "    # Step 2: Multiply it by 2^(n-1), where n is length of nums\n",
    "    return or_all << (len(nums) - 1)"
   ]
  },
  {
   "cell_type": "code",
   "execution_count": 2,
   "metadata": {},
   "outputs": [
    {
     "name": "stdout",
     "output_type": "stream",
     "text": [
      "6\n",
      "28\n",
      "480\n"
     ]
    }
   ],
   "source": [
    "# Example Calls\n",
    "print(subsetXORSum([1, 3]))         # Output: 6\n",
    "print(subsetXORSum([5, 1, 6]))      # Output: 28\n",
    "print(subsetXORSum([3, 4, 5, 6, 7, 8]))  # Output: 480"
   ]
  }
 ],
 "metadata": {
  "kernelspec": {
   "display_name": "myenv",
   "language": "python",
   "name": "python3"
  },
  "language_info": {
   "codemirror_mode": {
    "name": "ipython",
    "version": 3
   },
   "file_extension": ".py",
   "mimetype": "text/x-python",
   "name": "python",
   "nbconvert_exporter": "python",
   "pygments_lexer": "ipython3",
   "version": "3.11.3"
  }
 },
 "nbformat": 4,
 "nbformat_minor": 2
}
