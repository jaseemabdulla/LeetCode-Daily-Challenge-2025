{
 "cells": [
  {
   "cell_type": "markdown",
   "id": "33575dbd",
   "metadata": {},
   "source": [
    "## ⚖️ Count the Number of Fair Pairs\n",
    "\n",
    "---\n",
    "\n",
    "### ✅ 1. Approach:\n",
    "\n",
    "We need to count **(i, j)** pairs (with `i < j`) such that:\n",
    "\n",
    "```\n",
    "lower <= nums[i] + nums[j] <= upper\n",
    "```\n",
    "\n",
    "To solve efficiently:\n",
    "1. **Sort the array**.\n",
    "2. Create a helper function `find(mx)` to count the number of pairs where `nums[i] + nums[j] <= mx` using **two pointers**.\n",
    "3. The result is:\n",
    "```\n",
    "count of pairs with sum ≤ upper - count of pairs with sum < lower"
   ]
  },
  {
   "cell_type": "code",
   "execution_count": 3,
   "id": "78feba86",
   "metadata": {},
   "outputs": [],
   "source": [
    "### 🧠 2. Code with Comments:\n",
    "from typing import List\n",
    "\n",
    "def countFairPairs(self, nums: List[int], lower: int, upper: int) -> int:\n",
    "    nums.sort()\n",
    "\n",
    "    def find(mx):\n",
    "        left, right = 0, len(nums) - 1\n",
    "        res = 0\n",
    "\n",
    "        while left < right:\n",
    "            if nums[left] + nums[right] <= mx:\n",
    "                res += right - left  # All pairs (left, left+1 to right) are valid\n",
    "                left += 1\n",
    "            else:\n",
    "                right -= 1\n",
    "        return res\n",
    "\n",
    "    return find(upper) - find(lower - 1)"
   ]
  },
  {
   "cell_type": "markdown",
   "id": "ea4de8c0",
   "metadata": {},
   "source": [
    "### 📊 3. Complexity:\n",
    "\n",
    "- **Time Complexity**: `O(n log n)` – Sorting dominates.\n",
    "- **Space Complexity**: `O(1)` – Only pointers used, no extra space."
   ]
  },
  {
   "cell_type": "markdown",
   "id": "82ef6a03",
   "metadata": {},
   "source": [
    "\n",
    "### 💡 4. Explanation:\n",
    "\n",
    "For example, if `nums = [0, 1, 7, 4, 4, 5]`, after sorting:\n",
    "\n",
    "```\n",
    "[0, 1, 4, 4, 5, 7]\n",
    "```\n",
    "\n",
    "- For `upper = 6`, count all pairs with sum ≤ 6.\n",
    "- For `lower - 1 = 2`, count all pairs with sum ≤ 2.\n",
    "- Their difference gives the number of pairs in the valid range."
   ]
  },
  {
   "cell_type": "code",
   "execution_count": 4,
   "id": "a3b1c645",
   "metadata": {},
   "outputs": [
    {
     "ename": "TypeError",
     "evalue": "countFairPairs() missing 1 required positional argument: 'upper'",
     "output_type": "error",
     "traceback": [
      "\u001b[1;31m---------------------------------------------------------------------------\u001b[0m",
      "\u001b[1;31mTypeError\u001b[0m                                 Traceback (most recent call last)",
      "Cell \u001b[1;32mIn[4], line 3\u001b[0m\n\u001b[0;32m      1\u001b[0m \u001b[38;5;66;03m### 🧪 5. Example Function Calls:\u001b[39;00m\n\u001b[1;32m----> 3\u001b[0m \u001b[38;5;28mprint\u001b[39m(\u001b[43mcountFairPairs\u001b[49m\u001b[43m(\u001b[49m\u001b[43m[\u001b[49m\u001b[38;5;241;43m0\u001b[39;49m\u001b[43m,\u001b[49m\u001b[43m \u001b[49m\u001b[38;5;241;43m1\u001b[39;49m\u001b[43m,\u001b[49m\u001b[43m \u001b[49m\u001b[38;5;241;43m7\u001b[39;49m\u001b[43m,\u001b[49m\u001b[43m \u001b[49m\u001b[38;5;241;43m4\u001b[39;49m\u001b[43m,\u001b[49m\u001b[43m \u001b[49m\u001b[38;5;241;43m4\u001b[39;49m\u001b[43m,\u001b[49m\u001b[43m \u001b[49m\u001b[38;5;241;43m5\u001b[39;49m\u001b[43m]\u001b[49m\u001b[43m,\u001b[49m\u001b[43m \u001b[49m\u001b[38;5;241;43m3\u001b[39;49m\u001b[43m,\u001b[49m\u001b[43m \u001b[49m\u001b[38;5;241;43m6\u001b[39;49m\u001b[43m)\u001b[49m)  \u001b[38;5;66;03m# Output: 6\u001b[39;00m\n\u001b[0;32m      4\u001b[0m \u001b[38;5;28mprint\u001b[39m(countFairPairs([\u001b[38;5;241m1\u001b[39m, \u001b[38;5;241m7\u001b[39m, \u001b[38;5;241m9\u001b[39m, \u001b[38;5;241m2\u001b[39m, \u001b[38;5;241m5\u001b[39m], \u001b[38;5;241m11\u001b[39m, \u001b[38;5;241m11\u001b[39m))   \u001b[38;5;66;03m# Output: 1\u001b[39;00m\n",
      "\u001b[1;31mTypeError\u001b[0m: countFairPairs() missing 1 required positional argument: 'upper'"
     ]
    }
   ],
   "source": [
    "### 🧪 5. Example Function Calls:\n",
    "\n",
    "print(countFairPairs([0, 1, 7, 4, 4, 5], 3, 6))  # Output: 6\n",
    "print(countFairPairs([1, 7, 9, 2, 5], 11, 11))   # Output: 1"
   ]
  }
 ],
 "metadata": {
  "kernelspec": {
   "display_name": "myenv",
   "language": "python",
   "name": "python3"
  },
  "language_info": {
   "codemirror_mode": {
    "name": "ipython",
    "version": 3
   },
   "file_extension": ".py",
   "mimetype": "text/x-python",
   "name": "python",
   "nbconvert_exporter": "python",
   "pygments_lexer": "ipython3",
   "version": "3.11.3"
  }
 },
 "nbformat": 4,
 "nbformat_minor": 5
}
