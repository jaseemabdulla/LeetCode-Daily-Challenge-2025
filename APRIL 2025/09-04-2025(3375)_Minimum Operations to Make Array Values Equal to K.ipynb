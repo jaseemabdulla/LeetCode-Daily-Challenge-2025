{
 "cells": [
  {
   "cell_type": "markdown",
   "metadata": {},
   "source": [
    "## 🔁 Minimum Operations to Make Array Values Equal to K\n",
    "\n",
    "---\n",
    "\n",
    "### ✅ 1. Approach:\n",
    "The goal is to determine the minimum number of operations required to convert all elements in the array `nums` to the value `k`, using valid integers (those strictly greater than `k`).\n",
    "\n",
    "1. If the array already contains all elements equal to `k`, return `0`.\n",
    "2. Traverse the array and collect all **unique elements** that are **greater than `k`** in a set.\n",
    "3. If the set is not empty **and** the smallest element in `nums` is ≥ `k`, return the count of distinct elements in the set (number of operations).\n",
    "4. Otherwise, return `-1` as it's impossible to make all elements equal to `k`."
   ]
  },
  {
   "cell_type": "code",
   "execution_count": 2,
   "metadata": {},
   "outputs": [],
   "source": [
    "### 🧠 2. Code:\n",
    "from typing import List\n",
    "\n",
    "def minOperations(nums: List[int], k: int) -> int:\n",
    "    # If all elements are already equal to k\n",
    "    if nums == [k] * len(nums):\n",
    "        return 0\n",
    "\n",
    "    s = set()  # To store distinct elements greater than k\n",
    "\n",
    "    # Traverse the array\n",
    "    for i in nums:\n",
    "        if i > k and i not in s:\n",
    "            s.add(i)\n",
    "\n",
    "    # If there are valid elements and all elements are >= k\n",
    "    if len(s) != 0 and min(nums) >= k:\n",
    "        return len(s)\n",
    "\n",
    "    # Otherwise, it's not possible\n",
    "    return -1\n"
   ]
  },
  {
   "cell_type": "markdown",
   "metadata": {},
   "source": [
    "### 📝 3. Code Explanation:\n",
    "- We start by checking if all elements are already equal to `k`. If yes, no operations needed → return `0`.\n",
    "- Then, we collect all **distinct** elements from `nums` that are greater than `k`.\n",
    "- If such elements exist **and** all values are already ≥ `k` (ensuring no element needs to be increased from below `k`), the minimum number of operations is equal to the number of these distinct values.\n",
    "- If any value is below `k`, it's impossible to reach `k` → return `-1`."
   ]
  },
  {
   "cell_type": "markdown",
   "metadata": {},
   "source": [
    "### 📊 4. Complexity:\n",
    "- **Time Complexity**: `O(n)`  \n",
    "  We traverse the list once to build the set and calculate the minimum.\n",
    "- **Space Complexity**: `O(n)`  \n",
    "  In the worst case, all elements could be unique and > `k`, so the set may grow to size `n`."
   ]
  },
  {
   "cell_type": "code",
   "execution_count": 3,
   "metadata": {},
   "outputs": [
    {
     "name": "stdout",
     "output_type": "stream",
     "text": [
      "2\n",
      "-1\n",
      "4\n"
     ]
    }
   ],
   "source": [
    "### 🔁 5. Example Function Call:\n",
    "print(minOperations([5, 2, 5, 4, 5], 2))  # Output: 2\n",
    "print(minOperations([2, 1, 2], 2))        # Output: -1\n",
    "print(minOperations([9, 7, 5, 3], 1))     # Output: 4"
   ]
  },
  {
   "cell_type": "markdown",
   "metadata": {},
   "source": [
    "**Explanation:**\n",
    "\n",
    "- `[5,2,5,4,5], k=2`: Valid values are 4 and 2 → 2 operations.\n",
    "- `[2,1,2], k=2`: Element 1 is less than `k`, can't increase → -1.\n",
    "- `[9,7,5,3], k=1`: All elements > `k`, so we need 4 operations."
   ]
  }
 ],
 "metadata": {
  "kernelspec": {
   "display_name": "myenv",
   "language": "python",
   "name": "python3"
  },
  "language_info": {
   "codemirror_mode": {
    "name": "ipython",
    "version": 3
   },
   "file_extension": ".py",
   "mimetype": "text/x-python",
   "name": "python",
   "nbconvert_exporter": "python",
   "pygments_lexer": "ipython3",
   "version": "3.11.3"
  }
 },
 "nbformat": 4,
 "nbformat_minor": 2
}
