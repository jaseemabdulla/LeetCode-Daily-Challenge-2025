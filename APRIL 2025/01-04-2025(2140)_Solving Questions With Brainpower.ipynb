{
 "cells": [
  {
   "cell_type": "markdown",
   "metadata": {},
   "source": [
    "## Approach\n",
    "\n",
    "1. **Define a DP Array**  \n",
    "   - Create a `dp` array of size `N+1`, where `dp[i]` stores the maximum points that can be collected starting from index `i`.\n",
    "\n",
    "2. **Iterate from Right to Left**  \n",
    "   - Traverse from the last question to the first.\n",
    "   - If a question at index `i` is solved, earn `questions[i][0]` points and skip `questions[i][1]` questions.\n",
    "   - If solving this question does not exceed bounds, take its points and add `dp[i + questions[i][1] + 1]`.\n",
    "\n",
    "3. **Choose the Maximum**  \n",
    "   - We either take the current question or skip it.\n",
    "   - `dp[i] = max(dp[i+1], questions[i][0] + dp[i + questions[i][1] + 1])`.\n",
    "\n",
    "4. **Return the Answer**  \n",
    "   - The result is stored in `dp[0]`, which gives the maximum possible points from the start.\n"
   ]
  },
  {
   "cell_type": "code",
   "execution_count": 1,
   "metadata": {},
   "outputs": [],
   "source": [
    "def mostPoints(questions):\n",
    "    N = len(questions)\n",
    "    dp = [0] * (N + 1)\n",
    "    \n",
    "    for i in range(N-1, -1, -1):\n",
    "        if i + questions[i][1] + 1 < N:\n",
    "            dp[i] = max(dp[i+1], questions[i][0] + dp[i + questions[i][1] + 1])\n",
    "        else:\n",
    "            dp[i] = max(dp[i+1], questions[i][0])\n",
    "    \n",
    "    return dp[0]"
   ]
  },
  {
   "cell_type": "code",
   "execution_count": 2,
   "metadata": {},
   "outputs": [
    {
     "name": "stdout",
     "output_type": "stream",
     "text": [
      "5\n",
      "7\n"
     ]
    }
   ],
   "source": [
    "print(mostPoints([[3,2],[4,3],[4,4],[2,5]]))  # Output: 5\n",
    "print(mostPoints([[1,1],[2,2],[3,3],[4,4],[5,5]]))  # Output: 7"
   ]
  }
 ],
 "metadata": {
  "kernelspec": {
   "display_name": "myenv",
   "language": "python",
   "name": "python3"
  },
  "language_info": {
   "codemirror_mode": {
    "name": "ipython",
    "version": 3
   },
   "file_extension": ".py",
   "mimetype": "text/x-python",
   "name": "python",
   "nbconvert_exporter": "python",
   "pygments_lexer": "ipython3",
   "version": "3.11.3"
  }
 },
 "nbformat": 4,
 "nbformat_minor": 2
}
