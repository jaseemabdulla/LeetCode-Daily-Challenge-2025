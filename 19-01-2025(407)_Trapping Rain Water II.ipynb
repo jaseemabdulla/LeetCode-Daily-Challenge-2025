{
 "cells": [
  {
   "cell_type": "markdown",
   "metadata": {},
   "source": [
    "# Intuition\n",
    "The problem requires calculating the amount of water trapped after raining on a 3D surface. Each cell has a height, and water can be trapped if there are taller cells surrounding it. The approach uses a **priority queue (min-heap)** to simulate water flow and ensure the lowest height is processed first.\n"
   ]
  },
  {
   "cell_type": "markdown",
   "metadata": {},
   "source": [
    "# Approach\n",
    "1. **Initialize**:\n",
    "   - Use a priority queue (min-heap) to process boundary cells first.\n",
    "   - Maintain a `visited` matrix to avoid reprocessing cells.\n",
    "   - Add all boundary cells to the heap and mark them as visited.\n",
    "\n",
    "2. **Simulate Water Flow**:\n",
    "   - Process the heap:\n",
    "     - Pop the cell with the smallest height.\n",
    "     - For its 4 neighbors, calculate the water that can be trapped (`max(0, current_height - neighbor_height)`).\n",
    "     - Push the neighbor into the heap with an updated height of `max(current_height, neighbor_height)` and mark it as visited.\n",
    "\n",
    "3. **Return Result**:\n",
    "   - Accumulate trapped water during the process and return the total."
   ]
  },
  {
   "cell_type": "markdown",
   "metadata": {},
   "source": [
    "# Complexity\n",
    "- **Time Complexity**:  \n",
    "  \\(O(m \\cdot n \\cdot \\log(m \\cdot n))\\), where \\(m\\) and \\(n\\) are the dimensions of the grid. Each cell is processed once, and heap operations take \\(O(\\log(m \\cdot n))\\).\n",
    "\n",
    "- **Space Complexity**:  \n",
    "  \\(O(m \\cdot n)\\), for the `visited` matrix and heap."
   ]
  },
  {
   "cell_type": "code",
   "execution_count": 5,
   "metadata": {},
   "outputs": [],
   "source": [
    "from heapq import heappush, heappop\n",
    "\n",
    "def trapRainWater(heightMap):\n",
    "        if not heightMap or not heightMap[0]:\n",
    "            return 0\n",
    "        \n",
    "        m, n = len(heightMap), len(heightMap[0])\n",
    "        visited = [[False] * n for _ in range(m)]\n",
    "        heap = []\n",
    "        \n",
    "        \n",
    "        for i in range(m):\n",
    "            for j in [0, n - 1]:\n",
    "                heappush(heap, (heightMap[i][j], i, j))\n",
    "                visited[i][j] = True\n",
    "        \n",
    "        for j in range(n):\n",
    "            for i in [0, m - 1]:\n",
    "                heappush(heap, (heightMap[i][j], i, j))\n",
    "                visited[i][j] = True\n",
    "        \n",
    "        directions = [(0, 1), (1, 0), (0, -1), (-1, 0)]\n",
    "        trapped_water = 0\n",
    "        while heap:\n",
    "            height, x, y = heappop(heap)\n",
    "            for dx, dy in directions:\n",
    "                nx, ny = x + dx, y + dy\n",
    "                if 0 <= nx < m and 0 <= ny < n and not visited[nx][ny]:\n",
    "                    trapped_water += max(0, height - heightMap[nx][ny])\n",
    "                    heappush(heap, (max(height, heightMap[nx][ny]), nx, ny))\n",
    "                    visited[nx][ny] = True\n",
    "        \n",
    "        return trapped_water"
   ]
  },
  {
   "cell_type": "code",
   "execution_count": 6,
   "metadata": {},
   "outputs": [
    {
     "name": "stdout",
     "output_type": "stream",
     "text": [
      "4\n",
      "10\n"
     ]
    }
   ],
   "source": [
    "# Example 1\n",
    "heightMap = [\n",
    "    [1,4,3,1,3,2],\n",
    "    [3,2,1,3,2,4],\n",
    "    [2,3,3,2,3,1]\n",
    "]\n",
    "print(trapRainWater(heightMap))  # Expected Output: 4\n",
    "\n",
    "# Example 2\n",
    "heightMap = [\n",
    "    [3,3,3,3,3],\n",
    "    [3,2,2,2,3],\n",
    "    [3,2,1,2,3],\n",
    "    [3,2,2,2,3],\n",
    "    [3,3,3,3,3]\n",
    "]\n",
    "print(trapRainWater(heightMap))  # Expected Output: 10"
   ]
  }
 ],
 "metadata": {
  "kernelspec": {
   "display_name": "myenv",
   "language": "python",
   "name": "python3"
  },
  "language_info": {
   "codemirror_mode": {
    "name": "ipython",
    "version": 3
   },
   "file_extension": ".py",
   "mimetype": "text/x-python",
   "name": "python",
   "nbconvert_exporter": "python",
   "pygments_lexer": "ipython3",
   "version": "3.11.3"
  }
 },
 "nbformat": 4,
 "nbformat_minor": 2
}
