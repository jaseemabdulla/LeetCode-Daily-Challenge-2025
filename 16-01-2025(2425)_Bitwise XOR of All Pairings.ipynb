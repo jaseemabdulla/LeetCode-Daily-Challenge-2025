{
 "cells": [
  {
   "cell_type": "markdown",
   "metadata": {},
   "source": [
    "# Intuition\n",
    "The task involves calculating the XOR of all numbers in an array `nums3`, which is formed by taking the XOR of each element in `nums1` with every element in `nums2`. Instead of generating the array explicitly, we leverage mathematical properties of XOR and the size of the input arrays to efficiently compute the result.\n",
    "\n",
    "Key observations:\n",
    "1. Each number in `nums2` contributes to the final XOR result \\( n \\) times, where \\( n \\) is the length of `nums1`.\n",
    "2. Similarly, each number in `nums1` contributes \\( m \\) times, where \\( m \\) is the length of `nums2`.\n",
    "3. A number XORed an even number of times cancels out, while a number XORed an odd number of times contributes to the result.\n"
   ]
  },
  {
   "cell_type": "markdown",
   "metadata": {},
   "source": [
    "# Approach\n",
    "1. If the length of `nums1` is odd, all elements of `nums2` will contribute to the final XOR result since each number in `nums2` will appear an odd number of times.\n",
    "2. Similarly, if the length of `nums2` is odd, all elements of `nums1` will contribute to the final XOR result.\n",
    "3. Compute the XOR of all relevant numbers based on the above conditions."
   ]
  },
  {
   "cell_type": "markdown",
   "metadata": {},
   "source": [
    "# Complexity\n",
    "- **Time Complexity**:  \n",
    "  \\(O(n + m)\\), where \\(n\\) is the length of `nums1` and \\(m\\) is the length of `nums2`.\n",
    "\n",
    "- **Space Complexity**:  \n",
    "  \\(O(1)\\), as no additional space is used."
   ]
  },
  {
   "cell_type": "code",
   "execution_count": 1,
   "metadata": {},
   "outputs": [],
   "source": [
    "def xorAllNums(nums1, nums2):\n",
    "        n, m = len(nums1), len(nums2)\n",
    "        counter = 0\n",
    "        if n % 2 == 1:\n",
    "            for num in nums2:\n",
    "                counter ^= num\n",
    "        if m % 2 == 1:\n",
    "            for num in nums1:\n",
    "                counter ^= num\n",
    "        return counter"
   ]
  },
  {
   "cell_type": "code",
   "execution_count": 2,
   "metadata": {},
   "outputs": [
    {
     "name": "stdout",
     "output_type": "stream",
     "text": [
      "13\n",
      "0\n"
     ]
    }
   ],
   "source": [
    "# Example 1\n",
    "nums1 = [2, 1, 3]\n",
    "nums2 = [10, 2, 5, 0]\n",
    "print(xorAllNums(nums1, nums2))  # Expected Output: 13\n",
    "\n",
    "# Example 2\n",
    "nums1 = [1, 2]\n",
    "nums2 = [3, 4]\n",
    "print(xorAllNums(nums1, nums2))  # Expected Output: 0"
   ]
  }
 ],
 "metadata": {
  "kernelspec": {
   "display_name": "myenv",
   "language": "python",
   "name": "python3"
  },
  "language_info": {
   "codemirror_mode": {
    "name": "ipython",
    "version": 3
   },
   "file_extension": ".py",
   "mimetype": "text/x-python",
   "name": "python",
   "nbconvert_exporter": "python",
   "pygments_lexer": "ipython3",
   "version": "3.11.3"
  }
 },
 "nbformat": 4,
 "nbformat_minor": 2
}
