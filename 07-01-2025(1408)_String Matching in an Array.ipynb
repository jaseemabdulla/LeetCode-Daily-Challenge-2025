{
 "cells": [
  {
   "cell_type": "markdown",
   "metadata": {},
   "source": [
    "# Intuition\n",
    "The task requires identifying strings from the input list that are substrings of other strings in the same list. Using Python's `in` operator, we can efficiently check substring relationships.\n"
   ]
  },
  {
   "cell_type": "markdown",
   "metadata": {},
   "source": [
    "# Approach\n",
    "1. Iterate over all pairs of strings in the input list using a nested loop.\n",
    "2. For each pair `(i, j)`, where `i != j`, check if `words[i]` is a substring of `words[j]`.\n",
    "3. If `words[i]` is a substring of `words[j]`, add `words[i]` to the result list and break the inner loop to avoid duplicates.\n",
    "4. Return the result list containing all substrings."
   ]
  },
  {
   "cell_type": "markdown",
   "metadata": {},
   "source": [
    "# Complexity\n",
    "- **Time Complexity**:  \n",
    "  \\(O(n^2 * k)\\), where \\(n\\) is the number of words in the list, and \\(k\\) is the average length of the strings. The nested loop runs \\(O(n^2)\\), and substring checking takes \\(O(k)\\).\n",
    "\n",
    "- **Space Complexity**:  \n",
    "  \\(O(m)\\), where \\(m\\) is number of matching substrings found.\n"
   ]
  },
  {
   "cell_type": "code",
   "execution_count": 5,
   "metadata": {},
   "outputs": [],
   "source": [
    "def stringMatching(words):\n",
    "        length = len(words)\n",
    "        ans = []\n",
    "        for i in range(length):\n",
    "            for j in range(length):\n",
    "                if i!=j and words[i] in words[j]:\n",
    "                    ans.append(words[i])\n",
    "                    break\n",
    "        return ans    "
   ]
  },
  {
   "cell_type": "code",
   "execution_count": 6,
   "metadata": {},
   "outputs": [
    {
     "name": "stdout",
     "output_type": "stream",
     "text": [
      "['as', 'hero']\n",
      "['et', 'code']\n",
      "[]\n"
     ]
    }
   ],
   "source": [
    "# Example 1\n",
    "words = [\"mass\", \"as\", \"hero\", \"superhero\"]\n",
    "print(stringMatching(words))  # Expected Output: [\"as\", \"hero\"]\n",
    "\n",
    "# Example 2\n",
    "words = [\"leetcode\", \"et\", \"code\"]\n",
    "print(stringMatching(words))  # Expected Output: [\"et\", \"code\"]\n",
    "\n",
    "# Example 3\n",
    "words = [\"blue\", \"green\", \"bu\"]\n",
    "print(stringMatching(words))  # Expected Output: []"
   ]
  }
 ],
 "metadata": {
  "kernelspec": {
   "display_name": "myenv",
   "language": "python",
   "name": "python3"
  },
  "language_info": {
   "codemirror_mode": {
    "name": "ipython",
    "version": 3
   },
   "file_extension": ".py",
   "mimetype": "text/x-python",
   "name": "python",
   "nbconvert_exporter": "python",
   "pygments_lexer": "ipython3",
   "version": "3.11.3"
  }
 },
 "nbformat": 4,
 "nbformat_minor": 2
}
