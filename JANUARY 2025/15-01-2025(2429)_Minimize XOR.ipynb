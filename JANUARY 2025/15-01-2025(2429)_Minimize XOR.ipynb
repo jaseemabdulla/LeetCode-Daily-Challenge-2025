{
 "cells": [
  {
   "cell_type": "markdown",
   "metadata": {},
   "source": [
    "# Intuition\n",
    "To minimize the XOR value between `num1` and the result, we want the binary representation of the result to match the most significant bits of `num1` as much as possible, while also having the same number of set bits as `num2`.\n"
   ]
  },
  {
   "cell_type": "markdown",
   "metadata": {},
   "source": [
    "# Approach\n",
    "1. **Calculate the number of set bits in `num2`**:\n",
    "   Use the helper function `findSetBits` which uses the property `n & (n - 1)` to count the set bits efficiently.\n",
    "\n",
    "2. **Prioritize matching the set bits of `num1`**:\n",
    "   Iterate through the bits of `num1` from the most significant bit to the least significant bit. For every set bit in `num1`, set the corresponding bit in the result if there are remaining set bits to place.\n",
    "\n",
    "3. **Fill unset bits to meet the requirement**:\n",
    "   After exhausting the bits of `num1`, fill the least significant unset bits in the result to ensure the total number of set bits matches `num2`.\n",
    "\n",
    "4. **Return the result**:\n",
    "   This process ensures that the result has the minimal XOR with `num1` while meeting the requirement for the number of set bits.\n"
   ]
  },
  {
   "cell_type": "markdown",
   "metadata": {},
   "source": [
    "# Complexity\n",
    "- **Time Complexity**:  \n",
    "  \\(O(32)\\), as we iterate through the 32 bits of the integers.\n",
    "\n",
    "- **Space Complexity**:  \n",
    "  \\(O(1)\\), as no additional data structures are used."
   ]
  },
  {
   "cell_type": "code",
   "execution_count": 5,
   "metadata": {},
   "outputs": [],
   "source": [
    "def findSetBits(num2):\n",
    "        counter = 0\n",
    "        while num2 != 0:\n",
    "            num2 = num2 & (num2 - 1)\n",
    "            counter += 1\n",
    "        return counter\n",
    "    \n",
    "def minimizeXor(num1, num2):\n",
    "        numSetBits = findSetBits(num2)\n",
    "        result = 0\n",
    "        \n",
    "        for i in range(31, -1, -1):\n",
    "            if (num1 & (1 << i)) != 0 and numSetBits > 0:\n",
    "                result |= (1 << i)\n",
    "                numSetBits -= 1\n",
    "        \n",
    "        index = 0\n",
    "        while numSetBits > 0:\n",
    "            if (result & (1 << index)) == 0:\n",
    "                result |= (1 << index)\n",
    "                numSetBits -= 1\n",
    "            index += 1\n",
    "        \n",
    "        return result"
   ]
  },
  {
   "cell_type": "code",
   "execution_count": 6,
   "metadata": {},
   "outputs": [
    {
     "name": "stdout",
     "output_type": "stream",
     "text": [
      "3\n",
      "3\n"
     ]
    }
   ],
   "source": [
    "# Example 1\n",
    "num1 = 3\n",
    "num2 = 5\n",
    "print(minimizeXor(num1, num2))  # Expected Output: 3\n",
    "\n",
    "# Example 2\n",
    "num1 = 1\n",
    "num2 = 12\n",
    "print(minimizeXor(num1, num2))  # Expected Output: 3"
   ]
  }
 ],
 "metadata": {
  "kernelspec": {
   "display_name": "myenv",
   "language": "python",
   "name": "python3"
  },
  "language_info": {
   "codemirror_mode": {
    "name": "ipython",
    "version": 3
   },
   "file_extension": ".py",
   "mimetype": "text/x-python",
   "name": "python",
   "nbconvert_exporter": "python",
   "pygments_lexer": "ipython3",
   "version": "3.11.3"
  }
 },
 "nbformat": 4,
 "nbformat_minor": 2
}
