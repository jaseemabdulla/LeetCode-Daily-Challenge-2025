{
 "cells": [
  {
   "cell_type": "markdown",
   "metadata": {},
   "source": [
    "# Intuition\n",
    "The problem is to find words in `words1` that are universal with respect to `words2`. A word is universal if it contains all the letters in every word of `words2` with at least the required frequencies. This can be solved by:\n",
    "1. Calculating the maximum frequency of each letter across all words in `words2`.\n",
    "2. Checking each word in `words1` to see if it satisfies these frequency requirements."
   ]
  },
  {
   "cell_type": "markdown",
   "metadata": {},
   "source": [
    "# Approach\n",
    "1. **Build Maximum Frequency Array for `words2`**:\n",
    "   - Create an array `maxf` of size 26 (for each letter of the alphabet).\n",
    "   - For each word in `words2`, calculate the frequency of each letter.\n",
    "   - Update `maxf` to store the maximum frequency of each letter across all words in `words2`.\n",
    "2. **Check Words in `words1`**:\n",
    "   - For each word in `words1`, calculate the frequency of each letter.\n",
    "   - Compare the letter frequencies with `maxf`. If the word meets or exceeds the frequency requirements for all letters in `maxf`, it is universal and added to the result list.\n",
    "3. Return the list of universal words."
   ]
  },
  {
   "cell_type": "markdown",
   "metadata": {},
   "source": [
    "\n",
    "# Complexity\n",
    "- **Time Complexity**:  \n",
    "  \\(O(m + n \\cdot k)\\), where \\(m\\) is the total number of characters in `words2`, \\(n\\) is the number of words in `words1`, and \\(k\\) is the average length of a word in `words1`.\n",
    "  - Constructing `maxf` requires \\(O(m)\\).\n",
    "  - Checking all words in `words1` against `maxf` requires \\(O(n \\cdot k)\\).\n",
    "\n",
    "- **Space Complexity**:  \n",
    "  \\(O(26) = O(1)\\), as we use fixed-size arrays for frequency counts."
   ]
  },
  {
   "cell_type": "code",
   "execution_count": 1,
   "metadata": {},
   "outputs": [],
   "source": [
    "def wordSubsets(words1, words2):\n",
    "        maxf=[0]*26\n",
    "        tem=[0]*26\n",
    "        for word in words2:\n",
    "            for w in word:\n",
    "                tem[ord(w)-ord('a')]+=1\n",
    "            for i in range(26):\n",
    "                maxf[i]=max(maxf[i],tem[i])\n",
    "            tem=[0]*26\n",
    "        res=[]\n",
    "        for word in words1:\n",
    "            for w in word:\n",
    "                tem[ord(w)-ord('a')]+=1\n",
    "            flag=True\n",
    "            for i in range(26):\n",
    "                if maxf[i]>tem[i]:\n",
    "                    flag=False\n",
    "                    break\n",
    "            if flag:\n",
    "                res.append(word)\n",
    "            tem=[0]*26\n",
    "        return res"
   ]
  },
  {
   "cell_type": "code",
   "execution_count": 2,
   "metadata": {},
   "outputs": [
    {
     "name": "stdout",
     "output_type": "stream",
     "text": [
      "['facebook', 'google', 'leetcode']\n",
      "['apple', 'google', 'leetcode']\n"
     ]
    }
   ],
   "source": [
    "# Example 1\n",
    "words1 = [\"amazon\", \"apple\", \"facebook\", \"google\", \"leetcode\"]\n",
    "words2 = [\"e\", \"o\"]\n",
    "print(wordSubsets(words1, words2))  # Expected Output: [\"facebook\", \"google\", \"leetcode\"]\n",
    "\n",
    "# Example 2\n",
    "words1 = [\"amazon\", \"apple\", \"facebook\", \"google\", \"leetcode\"]\n",
    "words2 = [\"l\", \"e\"]\n",
    "print(wordSubsets(words1, words2))  # Expected Output: [\"apple\", \"google\", \"leetcode\"]"
   ]
  }
 ],
 "metadata": {
  "kernelspec": {
   "display_name": "myenv",
   "language": "python",
   "name": "python3"
  },
  "language_info": {
   "codemirror_mode": {
    "name": "ipython",
    "version": 3
   },
   "file_extension": ".py",
   "mimetype": "text/x-python",
   "name": "python",
   "nbconvert_exporter": "python",
   "pygments_lexer": "ipython3",
   "version": "3.11.3"
  }
 },
 "nbformat": 4,
 "nbformat_minor": 2
}
