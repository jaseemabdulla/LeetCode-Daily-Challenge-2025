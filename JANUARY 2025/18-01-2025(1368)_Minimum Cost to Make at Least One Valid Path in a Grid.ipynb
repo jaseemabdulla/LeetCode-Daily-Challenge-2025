{
 "cells": [
  {
   "cell_type": "markdown",
   "metadata": {},
   "source": [
    "# Intuition\n",
    "The problem involves finding the minimum cost to traverse a grid from the top-left corner to the bottom-right corner, where each cell has a predefined direction. The cost is `0` if you follow the given direction and `1` if you deviate from it. \n",
    "\n",
    "This is essentially a shortest-path problem where:\n",
    "1. A zero-cost move (following the direction) is prioritized using a double-ended queue (`deque`).\n",
    "2. Deviations from the given direction incur an extra cost and are processed later.\n"
   ]
  },
  {
   "cell_type": "markdown",
   "metadata": {},
   "source": [
    "# Approach\n",
    "1. **Initialization**: Use a 2D list `dist` to store the minimum cost to reach each cell, initialized to infinity (`inf`). A `deque` is used to prioritize zero-cost moves.\n",
    "2. **BFS with deque**: Start from `(0, 0)`:\n",
    "   - Use `deque.popleft()` to get the current cell and explore all four possible directions.\n",
    "   - Calculate the new cost for the adjacent cell:\n",
    "     - If following the cell's predefined direction, the cost is `0`.\n",
    "     - Otherwise, add `1` to the cost.\n",
    "   - Update the `dist` for the neighboring cell if the new cost is lower and add it to the `deque`:\n",
    "     - Use `appendleft()` for zero-cost moves.\n",
    "     - Use `append()` for moves with an extra cost.\n",
    "3. **Output**: Return `dist[m-1][n-1]`, which stores the minimum cost to reach the bottom-right cell.\n"
   ]
  },
  {
   "cell_type": "markdown",
   "metadata": {},
   "source": [
    "# Complexity\n",
    "- **Time Complexity**:  \n",
    "  \\(O(m \\cdot n)\\), where \\(m\\) and \\(n\\) are the grid dimensions. Each cell is processed at most twice (once for a zero-cost move and once for a cost of `1`).\n",
    "  \n",
    "- **Space Complexity**:  \n",
    "  \\(O(m \\cdot n)\\), for the `dist` matrix and the `deque`."
   ]
  },
  {
   "cell_type": "code",
   "execution_count": 3,
   "metadata": {},
   "outputs": [],
   "source": [
    "def minCost(grid):\n",
    "        from collections import deque\n",
    "        m, n = len(grid), len(grid[0])\n",
    "        dist = [[float('inf')] * n for _ in range(m)]\n",
    "        dq = deque([(0, 0)])\n",
    "        dist[0][0] = 0\n",
    "        dx, dy = [0, 0, 1, -1], [1, -1, 0, 0]\n",
    "        \n",
    "        while dq:\n",
    "            x, y = dq.popleft()\n",
    "            curDir = grid[x][y] - 1\n",
    "            for dir in range(4):\n",
    "                nx, ny = x + dx[dir], y + dy[dir]\n",
    "                if 0 <= nx < m and 0 <= ny < n:\n",
    "                    cost = dist[x][y] + (0 if dir == curDir else 1)\n",
    "                    if cost < dist[nx][ny]:\n",
    "                        dist[nx][ny] = cost\n",
    "                        if dir == curDir:\n",
    "                            dq.appendleft((nx, ny))\n",
    "                        else:\n",
    "                            dq.append((nx, ny))\n",
    "        \n",
    "        return dist[m - 1][n - 1]"
   ]
  },
  {
   "cell_type": "code",
   "execution_count": 4,
   "metadata": {},
   "outputs": [
    {
     "name": "stdout",
     "output_type": "stream",
     "text": [
      "0\n",
      "1\n",
      "3\n"
     ]
    },
    {
     "ename": "",
     "evalue": "",
     "output_type": "error",
     "traceback": [
      "\u001b[1;31mThe Kernel crashed while executing code in the current cell or a previous cell. \n",
      "\u001b[1;31mPlease review the code in the cell(s) to identify a possible cause of the failure. \n",
      "\u001b[1;31mClick <a href='https://aka.ms/vscodeJupyterKernelCrash'>here</a> for more info. \n",
      "\u001b[1;31mView Jupyter <a href='command:jupyter.viewOutput'>log</a> for further details."
     ]
    }
   ],
   "source": [
    "# Example 1\n",
    "grid = [[1,1,3],[3,2,2],[1,1,4]]\n",
    "print(minCost(grid))  # Expected Output: 0\n",
    "\n",
    "# Example 2\n",
    "grid = [[1,2],[4,3]]\n",
    "print(minCost(grid))  # Expected Output: 1\n",
    "\n",
    "# Example 3\n",
    "grid = [[2,2,2],[2,2,2]]\n",
    "print(minCost(grid))  # Expected Output: 3"
   ]
  }
 ],
 "metadata": {
  "kernelspec": {
   "display_name": "myenv",
   "language": "python",
   "name": "python3"
  },
  "language_info": {
   "codemirror_mode": {
    "name": "ipython",
    "version": 3
   },
   "file_extension": ".py",
   "mimetype": "text/x-python",
   "name": "python",
   "nbconvert_exporter": "python",
   "pygments_lexer": "ipython3",
   "version": "3.11.3"
  }
 },
 "nbformat": 4,
 "nbformat_minor": 2
}
