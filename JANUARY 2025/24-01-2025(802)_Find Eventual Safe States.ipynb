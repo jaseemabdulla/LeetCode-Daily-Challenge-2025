{
 "cells": [
  {
   "cell_type": "markdown",
   "metadata": {},
   "source": [
    "# Problem Explanation\n",
    "We aim to find all \"eventual safe nodes\" in a directed graph. A node is safe if:\n",
    "1. It is a terminal node (i.e., no outgoing edges).\n",
    "2. Every path starting from that node eventually leads to a terminal node.\n",
    "\n",
    "This can be achieved using a Depth-First Search (DFS) approach and marking nodes based on whether they are part of a cycle.\n"
   ]
  },
  {
   "cell_type": "markdown",
   "metadata": {},
   "source": [
    "# Approach\n",
    "### **DFS with Cycle Detection**\n",
    "1. **Visited States**:\n",
    "   - `0`: Node is unvisited.\n",
    "   - `1`: Node is being visited (part of the current DFS path).\n",
    "   - `2`: Node is fully processed (safe).\n",
    "\n",
    "2. **Cycle Detection**:\n",
    "   - If a node is visited during the DFS (`visited[index] == 1`), it means we found a cycle.\n",
    "   - Mark nodes leading to a cycle as unsafe.\n",
    "\n",
    "3. **DFS Traversal**:\n",
    "   - For each node, check if it's part of a cycle.\n",
    "   - If it's not part of a cycle, mark it as safe.\n",
    "\n",
    "4. **Result**:\n",
    "   - Collect all nodes that are marked as safe."
   ]
  },
  {
   "cell_type": "markdown",
   "metadata": {},
   "source": [
    "# Complexity\n",
    "- **Time Complexity**:  \n",
    "  \\(O(V + E)\\), where \\(V\\) is the number of nodes and \\(E\\) is the number of edges. Each node and edge is visited at most once.\n",
    "  \n",
    "- **Space Complexity**:  \n",
    "  \\(O(V)\\) for the `visited` array and recursive call stack."
   ]
  },
  {
   "cell_type": "code",
   "execution_count": 1,
   "metadata": {},
   "outputs": [],
   "source": [
    "def eventualSafeNodes(graph):\n",
    "        visited = [0] * len(graph)\n",
    "        def findCycle(index):\n",
    "            if visited[index] == 2:\n",
    "                return False\n",
    "            if visited[index] == 1:\n",
    "                return True\n",
    "\n",
    "            visited[index] = 1\n",
    "            for neighbor in graph[index]:\n",
    "                if findCycle(neighbor):\n",
    "                    return True\n",
    "            visited[index] = 2\n",
    "            return False\n",
    "  \n",
    "        ans = []\n",
    "        for i in range(len(graph)):\n",
    "            if not findCycle(i):\n",
    "                ans.append(i)\n",
    "        return ans"
   ]
  },
  {
   "cell_type": "code",
   "execution_count": 2,
   "metadata": {},
   "outputs": [
    {
     "name": "stdout",
     "output_type": "stream",
     "text": [
      "[2, 4, 5, 6]\n",
      "[4]\n"
     ]
    }
   ],
   "source": [
    "# Example 1\n",
    "graph = [[1,2],[2,3],[5],[0],[5],[],[]]\n",
    "print(eventualSafeNodes(graph))  # Expected Output: [2, 4, 5, 6]\n",
    "\n",
    "# Example 2\n",
    "graph = [[1,2,3,4],[1,2],[3,4],[0,4],[]]\n",
    "print(eventualSafeNodes(graph))  # Expected Output: [4]"
   ]
  }
 ],
 "metadata": {
  "kernelspec": {
   "display_name": "myenv",
   "language": "python",
   "name": "python3"
  },
  "language_info": {
   "codemirror_mode": {
    "name": "ipython",
    "version": 3
   },
   "file_extension": ".py",
   "mimetype": "text/x-python",
   "name": "python",
   "nbconvert_exporter": "python",
   "pygments_lexer": "ipython3",
   "version": "3.11.3"
  }
 },
 "nbformat": 4,
 "nbformat_minor": 2
}
