{
 "cells": [
  {
   "cell_type": "markdown",
   "metadata": {},
   "source": [
    "# Intuition\n",
    "To count the number of unique palindromic subsequences of length 3 in a string, we observe that a valid palindrome must:\n",
    "1. Have the same character at both ends.\n",
    "2. Have any character in the middle between those two ends.\n",
    "\n",
    "Thus, for each unique character in the string, we find its first and last occurrence. The characters between these two occurrences form the potential middle characters for the palindromes."
   ]
  },
  {
   "cell_type": "markdown",
   "metadata": {},
   "source": [
    "# Approach\n",
    "1. Identify all unique characters in the string using a set.\n",
    "2. For each unique character:\n",
    "   - Find its first and last occurrence in the string.\n",
    "   - Extract the characters between these two occurrences.\n",
    "   - Use a set to ensure the middle characters are unique.\n",
    "3. Count the unique middle characters for each character and add them to the result.\n",
    "4. Return the final count."
   ]
  },
  {
   "cell_type": "markdown",
   "metadata": {},
   "source": [
    "# Complexity\n",
    "- **Time complexity**:\n",
    "  - Finding the first and last occurrence of each unique character takes (O(n)), and we do this for at most 26 unique characters (alphabet). Thus, the overall complexity is (O(n)).\n",
    "\n",
    "- **Space complexity**:\n",
    "  - We use a set to store unique characters and another set to store unique middle characters, leading to (O(26) = O(1)) space for the character sets."
   ]
  },
  {
   "cell_type": "code",
   "execution_count": 3,
   "metadata": {},
   "outputs": [],
   "source": [
    "def countPalindromicSubsequence(s):\n",
    "        l = set(s)\n",
    "        count = 0\n",
    "        for i in l:\n",
    "            left, right = s.index(i),s.rindex(i)\n",
    "            b=set()\n",
    "            if left!=right : b=set(s[left+1:right])\n",
    "            count+=len(b)\n",
    "        return count "
   ]
  },
  {
   "cell_type": "code",
   "execution_count": 4,
   "metadata": {},
   "outputs": [
    {
     "name": "stdout",
     "output_type": "stream",
     "text": [
      "3\n",
      "0\n",
      "4\n"
     ]
    }
   ],
   "source": [
    "# Test Case 1\n",
    "s = \"aabca\"\n",
    "print(countPalindromicSubsequence(s))  # Expected Output: 3\n",
    "# Explanation: The unique palindromic subsequences are \"aba\", \"aca\", and \"aaa\".\n",
    "\n",
    "# Test Case 2\n",
    "s = \"adc\"\n",
    "print(countPalindromicSubsequence(s))  # Expected Output: 0\n",
    "# Explanation: No palindromic subsequences of length 3 exist.\n",
    "\n",
    "# Test Case 3\n",
    "s = \"bbcbaba\"\n",
    "print(countPalindromicSubsequence(s))  # Expected Output: 4\n",
    "# Explanation: The unique palindromic subsequences are \"bbb\", \"bcb\", \"bab\", and \"aba\"."
   ]
  }
 ],
 "metadata": {
  "kernelspec": {
   "display_name": "myenv",
   "language": "python",
   "name": "python3"
  },
  "language_info": {
   "codemirror_mode": {
    "name": "ipython",
    "version": 3
   },
   "file_extension": ".py",
   "mimetype": "text/x-python",
   "name": "python",
   "nbconvert_exporter": "python",
   "pygments_lexer": "ipython3",
   "version": "3.11.3"
  }
 },
 "nbformat": 4,
 "nbformat_minor": 2
}
