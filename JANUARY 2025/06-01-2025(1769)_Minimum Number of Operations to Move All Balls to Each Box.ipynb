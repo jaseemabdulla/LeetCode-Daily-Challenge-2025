{
 "cells": [
  {
   "cell_type": "markdown",
   "metadata": {},
   "source": [
    "# Intuition\n",
    "The goal is to calculate the minimum number of operations required to move all balls in a binary string `boxes` to each position. For a position `i`, we calculate the sum of the absolute distances between `i` and the positions of all the balls ('1').\n",
    "\n",
    "Instead of recalculating the distances for every position, we can optimize this using a prefix-sum-like approach.\n"
   ]
  },
  {
   "cell_type": "markdown",
   "metadata": {},
   "source": [
    "# Approach\n",
    "1. **Initial Setup**:\n",
    "   - Identify all indices where there are balls ('1') and store them in a list `P`.\n",
    "   - Compute the initial operations required to move all balls to the first position.\n",
    "\n",
    "2. **Dynamic Calculation**:\n",
    "   - Use two variables `L` (number of balls to the left of the current index) and `R` (number of balls to the right of the current index).\n",
    "   - As we move from left to right, update the count of balls on the left and right based on the current index.\n",
    "   - Update the operation count dynamically for each position using the difference in left and right contributions.\n"
   ]
  },
  {
   "cell_type": "markdown",
   "metadata": {},
   "source": [
    "# Complexity\n",
    "- **Time Complexity**:\n",
    "  - Finding all indices of '1': \\(O(n)\\), where \\(n\\) is the length of the string.\n",
    "  - Computing the operations for each position: \\(O(n)\\).\n",
    "  - Total: \\(O(n)\\).\n",
    "\n",
    "- **Space Complexity**:\n",
    "  - Storing positions of balls in `P`: \\(O(k)\\), where \\(k\\) is the number of balls.\n",
    "  - Result array `ans`: \\(O(n)\\).\n",
    "  - Total: \\(O(n)\\)."
   ]
  },
  {
   "cell_type": "code",
   "execution_count": 1,
   "metadata": {},
   "outputs": [],
   "source": [
    "def minOperations(boxes):\n",
    "        n=len(boxes)\n",
    "        ans=[0]*n\n",
    "        P=[]\n",
    "\n",
    "        for i, x in enumerate(boxes):\n",
    "            if x=='1':\n",
    "                P.append(i)\n",
    "                ans[0]+=i\n",
    "\n",
    "        pz=len(P)\n",
    "        L, R=0, pz\n",
    "        j=0\n",
    "        for i in range(1, n):\n",
    "            if j<pz and i>P[j]:\n",
    "                L+=1\n",
    "                R-=1\n",
    "                j+=1\n",
    "            ans[i]=ans[i-1]+L-R\n",
    "        return ans"
   ]
  },
  {
   "cell_type": "code",
   "execution_count": 2,
   "metadata": {},
   "outputs": [
    {
     "name": "stdout",
     "output_type": "stream",
     "text": [
      "[1, 1, 3]\n",
      "[11, 8, 5, 4, 3, 4]\n"
     ]
    }
   ],
   "source": [
    "# Example 1\n",
    "boxes = \"110\"\n",
    "print(minOperations(boxes))  # Expected Output: [1, 1, 3]\n",
    "# Explanation:\n",
    "# 1) First box: Move one ball from the second box to the first box in 1 operation.\n",
    "# 2) Second box: Move one ball from the first box to the second box in 1 operation.\n",
    "# 3) Third box: Move one ball from the first box to the third box (2 operations), and one ball from the second box to the third box (1 operation). Total = 3.\n",
    "\n",
    "# Example 2\n",
    "boxes = \"001011\"\n",
    "print(minOperations(boxes))  # Expected Output: [11, 8, 5, 4, 3, 4]\n",
    "# Explanation:\n",
    "# Position 0: |0-2| + |0-3| + |0-5| = 11.\n",
    "# Position 1: |1-2| + |1-3| + |1-5| = 8.\n",
    "# Position 2: |2-2| + |2-3| + |2-5| = 5.\n",
    "# Position 3: |3-2| + |3-3| + |3-5| = 4.\n",
    "# Position 4: |4-2| + |4-3| + |4-5| = 3.\n",
    "# Position 5: |5-2| + |5-3| + |5-5| = 4.\n"
   ]
  }
 ],
 "metadata": {
  "kernelspec": {
   "display_name": "myenv",
   "language": "python",
   "name": "python3"
  },
  "language_info": {
   "codemirror_mode": {
    "name": "ipython",
    "version": 3
   },
   "file_extension": ".py",
   "mimetype": "text/x-python",
   "name": "python",
   "nbconvert_exporter": "python",
   "pygments_lexer": "ipython3",
   "version": "3.11.3"
  }
 },
 "nbformat": 4,
 "nbformat_minor": 2
}
