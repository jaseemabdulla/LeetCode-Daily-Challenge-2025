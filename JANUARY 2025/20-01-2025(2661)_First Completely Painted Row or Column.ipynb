{
 "cells": [
  {
   "cell_type": "markdown",
   "metadata": {},
   "source": [
    "# Problem Explanation\n",
    "The task is to find the first index in an array `arr` where completing a row or column in a given matrix `mat` occurs. The matrix elements are unique, and `arr` specifies the order in which elements are \"selected.\" The goal is to determine when the first row or column becomes completely \"selected.\"\n"
   ]
  },
  {
   "cell_type": "markdown",
   "metadata": {},
   "source": [
    "# Approach\n",
    "1. **Precompute Matrix Indices**:\n",
    "   - Create a mapping (`dict_mat`) of each matrix value to its `(row, column)` index for quick lookup.\n",
    "   - Use the dimensions `m` and `n` of the matrix to initialize counters for rows (`cnt_row`) and columns (`cnt_col`).\n",
    "\n",
    "2. **Simulate the Process**:\n",
    "   - Iterate through `arr`, using the mapping `dict_mat` to locate the corresponding `(row, column)` for each number.\n",
    "   - Increment the counters for the respective row and column.\n",
    "   - If any row or column counter reaches the matrix's dimension, return the current index as the first complete index.\n",
    "\n",
    "3. **Handle Edge Cases**:\n",
    "   - If no row or column is completed, return `-1`."
   ]
  },
  {
   "cell_type": "markdown",
   "metadata": {},
   "source": [
    "# Complexity\n",
    "- **Time Complexity**:  \n",
    "  \\(O(m \\cdot n + k)\\), where \\(m \\cdot n\\) is for precomputing the mapping, and \\(k\\) is the length of `arr`.\n",
    "\n",
    "- **Space Complexity**:  \n",
    "  \\(O(m \\cdot n)\\), for storing the mapping and row/column counters."
   ]
  },
  {
   "cell_type": "code",
   "execution_count": 3,
   "metadata": {},
   "outputs": [],
   "source": [
    "from itertools import product\n",
    "\n",
    "def firstCompleteIndex(arr, mat):\n",
    "        m, n = len(mat), len(mat[0])\n",
    "        cnt_row, cnt_col = [0] * m, [0] * n\n",
    "        dict_mat = [0] * (m*n+1)\n",
    "        for i, j in product(range(m), range(n)):\n",
    "            dict_mat[mat[i][j]] = (i, j)\n",
    "        for ind, num in enumerate(arr):\n",
    "            i, j = dict_mat[num]\n",
    "            cnt_row[i] += 1\n",
    "            cnt_col[j] += 1\n",
    "            if cnt_row[i] == n or cnt_col[j] == m:\n",
    "                return ind\n",
    "        return -1"
   ]
  },
  {
   "cell_type": "code",
   "execution_count": 4,
   "metadata": {},
   "outputs": [
    {
     "name": "stdout",
     "output_type": "stream",
     "text": [
      "1\n",
      "1\n",
      "3\n"
     ]
    }
   ],
   "source": [
    "# Example 1\n",
    "arr = [1, 3, 4, 2]\n",
    "mat = [\n",
    "    [1, 2],\n",
    "    [3, 4]\n",
    "]\n",
    "print(firstCompleteIndex(arr, mat))  # Expected Output: 2\n",
    "\n",
    "# Example 2\n",
    "arr = [2, 1, 3, 4]\n",
    "mat = [\n",
    "    [1, 2],\n",
    "    [3, 4]\n",
    "]\n",
    "print(firstCompleteIndex(arr, mat))  # Expected Output: 3\n",
    "\n",
    "# Example 3: Larger Matrix\n",
    "arr = [5, 6, 1, 2, 3, 4]\n",
    "mat = [\n",
    "    [1, 2, 3],\n",
    "    [4, 5, 6]\n",
    "]\n",
    "print(firstCompleteIndex(arr, mat))  # Expected Output: 4"
   ]
  }
 ],
 "metadata": {
  "kernelspec": {
   "display_name": "myenv",
   "language": "python",
   "name": "python3"
  },
  "language_info": {
   "codemirror_mode": {
    "name": "ipython",
    "version": 3
   },
   "file_extension": ".py",
   "mimetype": "text/x-python",
   "name": "python",
   "nbconvert_exporter": "python",
   "pygments_lexer": "ipython3",
   "version": "3.11.3"
  }
 },
 "nbformat": 4,
 "nbformat_minor": 2
}
