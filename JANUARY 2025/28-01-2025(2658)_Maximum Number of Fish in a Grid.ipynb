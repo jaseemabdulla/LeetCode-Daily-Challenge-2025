{
 "cells": [
  {
   "cell_type": "code",
   "execution_count": 1,
   "metadata": {},
   "outputs": [],
   "source": [
    "def bfs(i, j, grid):\n",
    "    directions = [(-1, 0), (1, 0), (0, -1), (0, 1)]\n",
    "    n, m = len(grid), len(grid[0])\n",
    "    queue = [(i, j)]\n",
    "    fish = grid[i][j]\n",
    "    grid[i][j] = 0\n",
    "\n",
    "    while queue:\n",
    "        x, y = queue.pop(0)\n",
    "        for dx, dy in directions:\n",
    "            a, b = x + dx, y + dy\n",
    "            if 0 <= a < n and 0 <= b < m and grid[a][b] > 0:\n",
    "                queue.append((a, b))\n",
    "                fish += grid[a][b]\n",
    "                grid[a][b] = 0\n",
    "    return fish\n",
    "\n",
    "\n",
    "def findMaxFish(grid):\n",
    "    n, m = len(grid), len(grid[0])\n",
    "    mxFish = 0\n",
    "    for i in range(n):\n",
    "        for j in range(m):\n",
    "            if grid[i][j] > 0:\n",
    "                mxFish = max(mxFish, bfs(i, j, grid))\n",
    "    return mxFish"
   ]
  }
 ],
 "metadata": {
  "kernelspec": {
   "display_name": "myenv",
   "language": "python",
   "name": "python3"
  },
  "language_info": {
   "codemirror_mode": {
    "name": "ipython",
    "version": 3
   },
   "file_extension": ".py",
   "mimetype": "text/x-python",
   "name": "python",
   "nbconvert_exporter": "python",
   "pygments_lexer": "ipython3",
   "version": "3.11.3"
  }
 },
 "nbformat": 4,
 "nbformat_minor": 2
}
