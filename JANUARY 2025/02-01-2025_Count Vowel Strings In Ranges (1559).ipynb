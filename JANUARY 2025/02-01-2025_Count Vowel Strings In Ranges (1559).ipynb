{
 "cells": [
  {
   "cell_type": "markdown",
   "metadata": {},
   "source": [
    "# Intuition\n",
    "The task is to count the number of words that start and end with vowels within given query ranges in a list of words. A naive approach would involve checking each word for every query, which could be inefficient. To optimize, we can preprocess the list of words using a prefix sum array, where each index stores the cumulative count of valid words up to that position. This way, each query can be answered in constant time by subtracting two values from the prefix sum array.\n",
    "\n",
    "# Approach\n",
    "### Step 1: Initialize Variables\n",
    "- Create a set of vowels (`aeiouAEIOU`).\n",
    "- Initialize a prefix sum array, starting with 0.\n",
    "  \n",
    "### Step 2: Build the Prefix Sum Array\n",
    "- Traverse through the list of words.\n",
    "- For each word, check if the first and last character are vowels. If so, increment the prefix sum by 1 at the current index. Otherwise, carry forward the previous value.\n",
    "\n",
    "### Step 3: Process Queries\n",
    "- For each query, which provides a range `[start, end]`, calculate the number of valid words within that range using the formula:\n",
    "  - `prefix_sum[end + 1] - prefix_sum[start]`.\n",
    "\n",
    "### Step 4: Return Results\n",
    "- Return the results as a list where each entry corresponds to the count of vowel words within the query range.\n",
    "\n",
    "# Complexity\n",
    "### Time Complexity:\n",
    "- **Building the prefix sum array:** (O(n)), where (n) is the number of words.\n",
    "- **Processing all queries:** (O(q)), where (q) is the number of queries.\n",
    "- **Overall:** (O(n + q)).\n",
    "\n",
    "### Space Complexity:\n",
    "- **Prefix sum array:** (O(n)), to store the cumulative counts.\n",
    "- **Overall:** (O(n))."
   ]
  },
  {
   "cell_type": "code",
   "execution_count": 3,
   "metadata": {},
   "outputs": [],
   "source": [
    "# Code Implementation\n",
    "def vowelStrings(words, queries):\n",
    "    \"\"\"\n",
    "    This function takes a list of words and queries, \n",
    "    and returns the results for the number of words starting\n",
    "    and ending with vowels in each query range.\n",
    "    \"\"\"\n",
    "    # Initialize prefix sum array\n",
    "    prefix_sum = [0]\n",
    "    vowel_set = set('aeiouAEIOU')\n",
    "\n",
    "    # Build the prefix sum array\n",
    "    prefix_sum.extend(prefix_sum[-1] + 1 if word[0] in vowel_set and word[-1] in vowel_set else prefix_sum[-1] for word in words)\n",
    "\n",
    "    # Process queries and calculate results\n",
    "    return [prefix_sum[end + 1] - prefix_sum[start] for start, end in queries]\n"
   ]
  },
  {
   "cell_type": "code",
   "execution_count": 4,
   "metadata": {},
   "outputs": [
    {
     "name": "stdout",
     "output_type": "stream",
     "text": [
      "[2, 3, 0]\n",
      "[3, 2, 1]\n"
     ]
    }
   ],
   "source": [
    "# Test Case Implementation\n",
    "words1 = [\"aba\", \"bcb\", \"ece\", \"aa\", \"e\"]\n",
    "queries1 = [[0, 2], [1, 4], [1, 1]]\n",
    "output1 = vowelStrings(words1, queries1)\n",
    "print(output1)  # Expected Output: [2, 3, 0]\n",
    "\n",
    "words2 = [\"a\", \"e\", \"i\"]\n",
    "queries2 = [[0, 2], [0, 1], [2, 2]]\n",
    "output2 = vowelStrings(words2, queries2)\n",
    "print(output2)  # Expected Output: [3, 2, 1]"
   ]
  }
 ],
 "metadata": {
  "kernelspec": {
   "display_name": "myenv",
   "language": "python",
   "name": "python3"
  },
  "language_info": {
   "codemirror_mode": {
    "name": "ipython",
    "version": 3
   },
   "file_extension": ".py",
   "mimetype": "text/x-python",
   "name": "python",
   "nbconvert_exporter": "python",
   "pygments_lexer": "ipython3",
   "version": "3.11.3"
  }
 },
 "nbformat": 4,
 "nbformat_minor": 2
}
