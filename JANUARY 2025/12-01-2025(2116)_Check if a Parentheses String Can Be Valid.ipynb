{
 "cells": [
  {
   "cell_type": "markdown",
   "metadata": {},
   "source": [
    "# Intuition\n",
    "The problem asks if a string `s` can be made a valid parenthesis string by changing some characters. A valid parenthesis string means:\n",
    "1. The number of opening and closing parentheses are balanced.\n",
    "2. At no point in the string do the closing parentheses outnumber the opening ones.\n",
    "\n",
    "We use the `locked` string to determine whether a character in `s` is fixed or can be changed.\n"
   ]
  },
  {
   "cell_type": "markdown",
   "metadata": {},
   "source": [
    "# Approach\n",
    "1. **Initial Checks**:\n",
    "   - If the length of `s` is odd, return `False` as it cannot be valid.\n",
    "   \n",
    "2. **Forward Pass**:\n",
    "   - Traverse `s` from left to right, keeping track of a `balance` variable.\n",
    "   - For each character:\n",
    "     - If it is unlocked or is `'('`, increment `balance`.\n",
    "     - If it is locked as `')'`, decrement `balance`.\n",
    "     - If `balance` becomes negative, return `False` (too many closing parentheses).\n",
    "\n",
    "3. **Backward Pass**:\n",
    "   - Traverse `s` from right to left, using the same logic but treating `')'` as positive and `'('` as negative.\n",
    "   - If `balance` becomes negative, return `False` (too many opening parentheses).\n",
    "\n",
    "4. **Final Validation**:\n",
    "   - If both passes succeed, return `True`."
   ]
  },
  {
   "cell_type": "markdown",
   "metadata": {},
   "source": [
    "# Complexity\n",
    "- **Time Complexity**:  \n",
    "  \\(O(n)\\), where \\(n\\) is the length of the string `s`, as we traverse it twice.\n",
    "\n",
    "- **Space Complexity**:  \n",
    "  \\(O(1)\\), since no additional space is used apart from variables."
   ]
  },
  {
   "cell_type": "code",
   "execution_count": 1,
   "metadata": {},
   "outputs": [],
   "source": [
    "def canBeValid(s, locked):\n",
    "        if len(s) % 2 != 0: \n",
    "            return False\n",
    "        balance = 0\n",
    "        for char, lock in zip(s, locked):\n",
    "            if lock == '0' or char == '(':\n",
    "                balance += 1\n",
    "            elif char == ')':\n",
    "                balance -= 1\n",
    "            if balance < 0:\n",
    "                return False\n",
    "        balance = 0\n",
    "        \n",
    "        for char, lock in zip(reversed(s), reversed(locked)):\n",
    "            if lock == '0' or char == ')':\n",
    "                balance += 1\n",
    "            elif char == '(':\n",
    "                balance -= 1\n",
    "            if balance < 0:\n",
    "                return False\n",
    "        return True"
   ]
  },
  {
   "cell_type": "code",
   "execution_count": 2,
   "metadata": {},
   "outputs": [
    {
     "name": "stdout",
     "output_type": "stream",
     "text": [
      "True\n",
      "True\n",
      "False\n"
     ]
    }
   ],
   "source": [
    "# Example 1\n",
    "s = \"))()))\"\n",
    "locked = \"010100\"\n",
    "print(canBeValid(s, locked))  # Expected Output: True\n",
    "\n",
    "# Example 2\n",
    "s = \"()()\"\n",
    "locked = \"0000\"\n",
    "print(canBeValid(s, locked))  # Expected Output: True\n",
    "\n",
    "# Example 3\n",
    "s = \")\"\n",
    "locked = \"0\"\n",
    "print(canBeValid(s, locked))  # Expected Output: False"
   ]
  }
 ],
 "metadata": {
  "kernelspec": {
   "display_name": "myenv",
   "language": "python",
   "name": "python3"
  },
  "language_info": {
   "codemirror_mode": {
    "name": "ipython",
    "version": 3
   },
   "file_extension": ".py",
   "mimetype": "text/x-python",
   "name": "python",
   "nbconvert_exporter": "python",
   "pygments_lexer": "ipython3",
   "version": "3.11.3"
  }
 },
 "nbformat": 4,
 "nbformat_minor": 2
}
