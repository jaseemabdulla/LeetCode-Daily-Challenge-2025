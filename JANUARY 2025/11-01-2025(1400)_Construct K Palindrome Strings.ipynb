{
 "cells": [
  {
   "cell_type": "markdown",
   "metadata": {},
   "source": [
    "# Intuition\n",
    "To determine if `s` can be split into exactly `k` palindrome strings:\n",
    "1. A palindrome can have at most one character with an odd frequency (for the middle of the palindrome). Therefore, the number of characters with odd frequencies must not exceed `k`.\n",
    "2. If `k > len(s)`, it's impossible to form `k` palindromes since there aren't enough characters.\n",
    "3. If `k == len(s)`, each character can form its own palindrome."
   ]
  },
  {
   "cell_type": "markdown",
   "metadata": {},
   "source": [
    "# Approach\n",
    "1. **Check Base Cases**:\n",
    "   - If `k > len(s)`, return `False`.\n",
    "   - If `k == len(s)`, return `True`.\n",
    "\n",
    "2. **Count Odd Frequencies**:\n",
    "   - Use a frequency array to count the occurrences of each character in `s`.\n",
    "   - Calculate how many characters have an odd frequency.\n",
    "\n",
    "3. **Validate**:\n",
    "   - If the number of characters with odd frequencies is less than or equal to `k`, return `True`.\n",
    "   - Otherwise, return `False`."
   ]
  },
  {
   "cell_type": "markdown",
   "metadata": {},
   "source": [
    "# Complexity\n",
    "- **Time Complexity**:  \n",
    "  \\(O(n)\\), where \\(n\\) is the length of `s`, as we count character frequencies in a single pass and iterate over the frequency array.\n",
    "\n",
    "- **Space Complexity**:  \n",
    "  \\(O(1)\\), since the frequency array has a fixed size of 26."
   ]
  },
  {
   "cell_type": "code",
   "execution_count": 1,
   "metadata": {},
   "outputs": [],
   "source": [
    "def canConstruct(s, k):\n",
    "        n = len(s)\n",
    "        if n < k:\n",
    "            return False\n",
    "        if n == k:\n",
    "            return True\n",
    "\n",
    "        arr = [0] * 26\n",
    "        for ch in s:\n",
    "            arr[ord(ch) - ord('a')] += 1\n",
    "\n",
    "        oddCharCnt = sum(1 for count in arr if count % 2 == 1)\n",
    "\n",
    "        return oddCharCnt <= k"
   ]
  },
  {
   "cell_type": "code",
   "execution_count": 2,
   "metadata": {},
   "outputs": [
    {
     "name": "stdout",
     "output_type": "stream",
     "text": [
      "True\n",
      "False\n",
      "True\n"
     ]
    }
   ],
   "source": [
    "# Example 1\n",
    "s = \"annabelle\"\n",
    "k = 2\n",
    "print(canConstruct(s, k))  # Expected Output: True\n",
    "\n",
    "# Example 2\n",
    "s = \"leetcode\"\n",
    "k = 3\n",
    "print(canConstruct(s, k))  # Expected Output: False\n",
    "\n",
    "# Example 3\n",
    "s = \"true\"\n",
    "k = 4\n",
    "print(canConstruct(s, k))  # Expected Output: True\n"
   ]
  }
 ],
 "metadata": {
  "kernelspec": {
   "display_name": "myenv",
   "language": "python",
   "name": "python3"
  },
  "language_info": {
   "codemirror_mode": {
    "name": "ipython",
    "version": 3
   },
   "file_extension": ".py",
   "mimetype": "text/x-python",
   "name": "python",
   "nbconvert_exporter": "python",
   "pygments_lexer": "ipython3",
   "version": "3.11.3"
  }
 },
 "nbformat": 4,
 "nbformat_minor": 2
}
