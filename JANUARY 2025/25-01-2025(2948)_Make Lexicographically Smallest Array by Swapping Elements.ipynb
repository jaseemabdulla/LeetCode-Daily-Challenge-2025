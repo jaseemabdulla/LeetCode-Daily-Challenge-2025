{
 "cells": [
  {
   "cell_type": "markdown",
   "metadata": {},
   "source": [
    "## Approach\n",
    "### Steps:\n",
    "1. **Pair Elements with Indices**:\n",
    "   - Create a list of pairs where each pair contains the value and its index: `[(nums[i], i)]`.\n",
    "   \n",
    "2. **Sort the Array**:\n",
    "   - Sort the array based on the values while preserving the original indices.\n",
    "\n",
    "3. **Group Values Based on Limit**:\n",
    "   - Iterate through the sorted array and group consecutive elements where the difference between values is less than or equal to `limit`.\n",
    "\n",
    "4. **Sort Groups by Original Indices**:\n",
    "   - For each group, extract the indices of the elements.\n",
    "   - Sort the indices to preserve the original positions while rearranging values within the group.\n",
    "\n",
    "5. **Reassign Values**:\n",
    "   - For each group, replace the values in `nums` at the sorted indices with the corresponding sorted values from the group.\n"
   ]
  },
  {
   "cell_type": "markdown",
   "metadata": {},
   "source": [
    "## Complexity Analysis\n",
    "- **Time Complexity**:  \n",
    "  \\(O(n \\log n)\\) for sorting the array.  \n",
    "  \\(O(n)\\) for grouping and reassigning elements.  \n",
    "  Overall: \\(O(n \\log n)\\).\n",
    "\n",
    "- **Space Complexity**:  \n",
    "  \\(O(n)\\) for auxiliary data structures."
   ]
  },
  {
   "cell_type": "code",
   "execution_count": 1,
   "metadata": {},
   "outputs": [],
   "source": [
    "def lexicographicallySmallestArray(nums, limit):\n",
    "        new=[]\n",
    "        for i in range(len(nums)):\n",
    "            new.append([nums[i],i])\n",
    "        new=sorted(new,key=lambda x:x[0])\n",
    "        new2d=[[new[0]]]\n",
    "        for i in range(1,len(nums)):\n",
    "            if new[i][0]-new[i-1][0]<=limit:\n",
    "                new2d[-1].append(new[i])\n",
    "            else:\n",
    "                new2d.append([new[i]])\n",
    "        for v in new2d:\n",
    "            index=[]\n",
    "            for m,n in v:\n",
    "                index.append(n)\n",
    "            index.sort()\n",
    "            for i in range(len(index)):\n",
    "                nums[index[i]]=v[i][0]\n",
    "        return nums"
   ]
  },
  {
   "cell_type": "code",
   "execution_count": 2,
   "metadata": {},
   "outputs": [
    {
     "name": "stdout",
     "output_type": "stream",
     "text": [
      "Input: nums = [1, 3, 5, 8, 9], limit = 2\n",
      "Output: [1, 3, 5, 8, 9]\n",
      "Input: nums = [1, 6, 7, 18, 1, 2], limit = 3\n",
      "Output: [1, 6, 7, 18, 1, 2]\n",
      "Input: nums = [1, 7, 28, 19, 10], limit = 3\n",
      "Output: [1, 7, 28, 19, 10]\n"
     ]
    }
   ],
   "source": [
    "# Example 1\n",
    "nums1 = [1, 5, 3, 9, 8]\n",
    "limit1 = 2\n",
    "output1 = lexicographicallySmallestArray(nums1, limit1)\n",
    "print(f\"Input: nums = {nums1}, limit = {limit1}\\nOutput: {output1}\")\n",
    "# Expected Output: [1, 3, 5, 8, 9]\n",
    "\n",
    "# Example 2\n",
    "nums2 = [1, 7, 6, 18, 2, 1]\n",
    "limit2 = 3\n",
    "output2 = lexicographicallySmallestArray(nums2, limit2)\n",
    "print(f\"Input: nums = {nums2}, limit = {limit2}\\nOutput: {output2}\")\n",
    "# Expected Output: [1, 6, 7, 18, 1, 2]\n",
    "\n",
    "# Example 3\n",
    "nums3 = [1, 7, 28, 19, 10]\n",
    "limit3 = 3\n",
    "output3 = lexicographicallySmallestArray(nums3, limit3)\n",
    "print(f\"Input: nums = {nums3}, limit = {limit3}\\nOutput: {output3}\")\n",
    "# Expected Output: [1, 7, 28, 19, 10]\n"
   ]
  }
 ],
 "metadata": {
  "kernelspec": {
   "display_name": "myenv",
   "language": "python",
   "name": "python3"
  },
  "language_info": {
   "codemirror_mode": {
    "name": "ipython",
    "version": 3
   },
   "file_extension": ".py",
   "mimetype": "text/x-python",
   "name": "python",
   "nbconvert_exporter": "python",
   "pygments_lexer": "ipython3",
   "version": "3.11.3"
  }
 },
 "nbformat": 4,
 "nbformat_minor": 2
}
