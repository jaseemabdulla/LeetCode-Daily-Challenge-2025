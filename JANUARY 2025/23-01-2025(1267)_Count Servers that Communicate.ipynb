{
 "cells": [
  {
   "cell_type": "markdown",
   "metadata": {},
   "source": [
    "# Problem Explanation\n",
    "The task is to determine how many servers in a grid can communicate with at least one other server. Servers can communicate if they are in the same row or column.\n"
   ]
  },
  {
   "cell_type": "markdown",
   "metadata": {},
   "source": [
    "# Approach\n",
    "1. **Count Servers in Rows and Columns**:\n",
    "   - Traverse the grid to count the number of servers (`1`s) in each row and column. Use `row_count` and `col_count` arrays to store these counts.\n",
    "\n",
    "2. **Check Communication**:\n",
    "   - Traverse the grid again, and for each cell containing a server (`1`), check if its row or column has more than one server. If true, this server can communicate, and we increment the count.\n",
    "\n",
    "3. **Edge Cases**:\n",
    "   - If the grid contains no servers, return `0`.\n",
    "   - Handle grids with a single row or column."
   ]
  },
  {
   "cell_type": "markdown",
   "metadata": {},
   "source": [
    "# Complexity\n",
    "- **Time Complexity**:  \n",
    "  \\(O(m \\cdot n)\\), where \\(m\\) and \\(n\\) are the grid's dimensions. The grid is traversed twice.\n",
    "\n",
    "- **Space Complexity**:  \n",
    "  \\(O(m + n)\\), for storing the counts of rows and columns."
   ]
  },
  {
   "cell_type": "code",
   "execution_count": 1,
   "metadata": {},
   "outputs": [],
   "source": [
    "def countServers(grid):\n",
    "        m = len(grid)\n",
    "        n = len(grid[0])\n",
    "        row_count = [0]*m\n",
    "        col_count = [0]*n\n",
    "        \n",
    "        for i in range(m):\n",
    "            for j in range(n):\n",
    "               if grid[i][j] == 1:\n",
    "                row_count[i] +=1\n",
    "                col_count[j] +=1\n",
    "        \n",
    "        count = 0\n",
    "        for i in range(m):\n",
    "            for j in range(n):\n",
    "                if grid[i][j] == 1 and (row_count[i] > 1 or col_count[j]>1):\n",
    "                    count+=1\n",
    "        \n",
    "        return count"
   ]
  },
  {
   "cell_type": "code",
   "execution_count": 2,
   "metadata": {},
   "outputs": [
    {
     "name": "stdout",
     "output_type": "stream",
     "text": [
      "0\n",
      "3\n",
      "4\n"
     ]
    }
   ],
   "source": [
    "# Example 1\n",
    "grid = [\n",
    "    [1, 0],\n",
    "    [0, 1]\n",
    "]\n",
    "print(countServers(grid))  # Expected Output: 0\n",
    "\n",
    "# Example 2\n",
    "grid = [\n",
    "    [1, 0],\n",
    "    [1, 1]\n",
    "]\n",
    "print(countServers(grid))  # Expected Output: 3\n",
    "\n",
    "# Example 3: All servers communicate\n",
    "grid = [\n",
    "    [1, 1],\n",
    "    [1, 1]\n",
    "]\n",
    "print(countServers(grid))  # Expected Output: 4"
   ]
  }
 ],
 "metadata": {
  "kernelspec": {
   "display_name": "myenv",
   "language": "python",
   "name": "python3"
  },
  "language_info": {
   "codemirror_mode": {
    "name": "ipython",
    "version": 3
   },
   "file_extension": ".py",
   "mimetype": "text/x-python",
   "name": "python",
   "nbconvert_exporter": "python",
   "pygments_lexer": "ipython3",
   "version": "3.11.3"
  }
 },
 "nbformat": 4,
 "nbformat_minor": 2
}
