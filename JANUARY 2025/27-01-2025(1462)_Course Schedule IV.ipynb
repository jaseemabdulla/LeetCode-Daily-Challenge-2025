{
 "cells": [
  {
   "cell_type": "code",
   "execution_count": 1,
   "metadata": {},
   "outputs": [],
   "source": [
    "from collections import defaultdict\n",
    "\n",
    "def checkIfPrerequisite(numCourses, prerequisites, queries):\n",
    "        prereq_map = defaultdict(list)\n",
    "\n",
    "        for prereq in prerequisites:\n",
    "            prereq_map[prereq[1]].append(prereq[0])\n",
    "\n",
    "        res = []\n",
    "        memo = {}\n",
    "        def dfs(course, prereq):\n",
    "            if (course, prereq) in memo:\n",
    "                return memo[(course, prereq)]\n",
    "            \n",
    "            course_prereqs = prereq_map[course]\n",
    "            for p in course_prereqs:\n",
    "                if p == prereq or dfs(p, prereq):\n",
    "                    memo[(course, prereq)] = True\n",
    "                    return True\n",
    "            \n",
    "            memo[(course, prereq)] = False\n",
    "            return False\n",
    "                \n",
    "        return [dfs(query[1], query[0]) for query in queries]"
   ]
  }
 ],
 "metadata": {
  "kernelspec": {
   "display_name": "myenv",
   "language": "python",
   "name": "python3"
  },
  "language_info": {
   "codemirror_mode": {
    "name": "ipython",
    "version": 3
   },
   "file_extension": ".py",
   "mimetype": "text/x-python",
   "name": "python",
   "nbconvert_exporter": "python",
   "pygments_lexer": "ipython3",
   "version": "3.11.3"
  }
 },
 "nbformat": 4,
 "nbformat_minor": 2
}
