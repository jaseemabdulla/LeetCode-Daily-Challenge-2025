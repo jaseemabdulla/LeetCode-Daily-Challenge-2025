{
 "cells": [
  {
   "cell_type": "markdown",
   "metadata": {},
   "source": [
    "# Intuition\n",
    "The problem involves finding pairs of indices `(i, j)` where `words[i]` is both a prefix and suffix of `words[j]`. This can be achieved by iterating over all pairs of words and checking prefix and suffix conditions.\n"
   ]
  },
  {
   "cell_type": "markdown",
   "metadata": {},
   "source": [
    "# Approach\n",
    "1. Iterate over all pairs `(i, j)` such that \\( i < j \\).\n",
    "2. Check if the word `words[i]` is both:\n",
    "   - A prefix of `words[j]`.\n",
    "   - A suffix of `words[j]`.\n",
    "3. To perform this check:\n",
    "   - Extract the prefix of `words[j]` with the length of `words[i]`.\n",
    "   - Extract the suffix of `words[j]` with the length of `words[i]`.\n",
    "   - Compare both with `words[i]`.\n",
    "4. Count all valid pairs where both conditions are satisfied.\n",
    "5. Return the count."
   ]
  },
  {
   "cell_type": "markdown",
   "metadata": {},
   "source": [
    "# Complexity\n",
    "- **Time Complexity**:  \n",
    "  \\(O(n^2 \\cdot m)\\), where \\(n\\) is the number of words and \\(m\\) is the average length of words.  \n",
    "  The nested loop runs \\(O(n^2)\\), and extracting prefixes and suffixes takes \\(O(m)\\).\n",
    "\n",
    "- **Space Complexity**:  \n",
    "  \\(O(1)\\), as no extra space is used beyond a few variables."
   ]
  },
  {
   "cell_type": "code",
   "execution_count": 1,
   "metadata": {},
   "outputs": [],
   "source": [
    "def countPrefixSuffixPairs(words):\n",
    "        n = len(words)\n",
    "        ans = 0\n",
    "        for i in range(n):\n",
    "            s1 =  words[i]\n",
    "            for j in range(i+1, n):\n",
    "                s2 = words[j]\n",
    "                if len(s2) < len(s1):\n",
    "                    continue\n",
    "                prefix = s2[:len(s1)]\n",
    "                suffix = s2[-len(s1):]\n",
    "                if prefix == s1 and suffix == s1:\n",
    "                    ans += 1\n",
    "        return ans     "
   ]
  },
  {
   "cell_type": "code",
   "execution_count": 2,
   "metadata": {},
   "outputs": [
    {
     "name": "stdout",
     "output_type": "stream",
     "text": [
      "4\n",
      "2\n",
      "0\n"
     ]
    }
   ],
   "source": [
    "# Test Cases\n",
    "\n",
    "# Example 1\n",
    "words = [\"a\", \"aba\", \"ababa\", \"aa\"]\n",
    "print(countPrefixSuffixPairs(words))  # Expected Output: 4\n",
    "\n",
    "# Example 2\n",
    "words = [\"pa\", \"papa\", \"ma\", \"mama\"]\n",
    "print(countPrefixSuffixPairs(words))  # Expected Output: 2\n",
    "\n",
    "# Example 3\n",
    "words = [\"abab\", \"ab\"]\n",
    "print(countPrefixSuffixPairs(words))  # Expected Output: 0"
   ]
  }
 ],
 "metadata": {
  "kernelspec": {
   "display_name": "myenv",
   "language": "python",
   "name": "python3"
  },
  "language_info": {
   "codemirror_mode": {
    "name": "ipython",
    "version": 3
   },
   "file_extension": ".py",
   "mimetype": "text/x-python",
   "name": "python",
   "nbconvert_exporter": "python",
   "pygments_lexer": "ipython3",
   "version": "3.11.3"
  }
 },
 "nbformat": 4,
 "nbformat_minor": 2
}
