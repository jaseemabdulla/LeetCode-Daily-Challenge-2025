{
 "cells": [
  {
   "cell_type": "code",
   "execution_count": null,
   "metadata": {},
   "outputs": [],
   "source": [
    "def gridGame(grid):\n",
    "        m = len(grid[0])\n",
    "        pref1 = [0] * m\n",
    "        pref2 = [0] * m\n",
    "\n",
    "        pref1[0] = grid[0][0]\n",
    "        pref2[0] = grid[1][0]\n",
    "\n",
    "        for i in range(1, m):\n",
    "            pref1[i] = pref1[i - 1] + grid[0][i]\n",
    "            pref2[i] = pref2[i - 1] + grid[1][i]\n",
    "\n",
    "        result = float('inf')\n",
    "        for i in range(m):\n",
    "            top = 0 if i == m - 1 else pref1[m - 1] - pref1[i]\n",
    "            bottom = 0 if i == 0 else pref2[i - 1]\n",
    "            result = min(result, max(top, bottom))\n",
    "\n",
    "        return result"
   ]
  }
 ],
 "metadata": {
  "kernelspec": {
   "display_name": "myenv",
   "language": "python",
   "name": "python3"
  },
  "language_info": {
   "name": "python",
   "version": "3.11.3"
  }
 },
 "nbformat": 4,
 "nbformat_minor": 2
}
