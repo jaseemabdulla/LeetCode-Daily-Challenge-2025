{
 "cells": [
  {
   "cell_type": "markdown",
   "metadata": {},
   "source": [
    "# LeetCode 1422: Maximum Score After Splitting a String\n",
    "\n",
    "## Problem Statement\n",
    "You are given a string `s` consisting of '0' and '1'. \n",
    "You need to split it into two non-empty parts such that:\n",
    "- The left part has the maximum number of '0's.\n",
    "- The right part has the maximum number of '1's.\n",
    "\n",
    "Your goal is to maximize the sum of the number of '0's in the left part and the number of '1's in the right part.\n",
    "\n",
    "### Example:\n",
    "Input: `\"011101\"`\n",
    "Output: `4`\n"
   ]
  },
  {
   "cell_type": "markdown",
   "metadata": {},
   "source": [
    "## Approach\n",
    "Start by initializing counters for zeros in the left part (`left_zeros`), ones in the right part (`right_ones`), and the maximum score (`max_score`).\n",
    "\n",
    "1. Count the total number of ones (`right_ones`) in the string initially.\n",
    "2. Traverse the string and for each character:\n",
    "   - Increment `left_zeros` if the character is '0'.\n",
    "   - Decrement `right_ones` if the character is '1'.\n",
    "   - Calculate the score (sum of `left_zeros` and `right_ones`).\n",
    "   - Update the maximum score (`max_score`).\n",
    "3. Return the maximum score after the loop.\n"
   ]
  },
  {
   "cell_type": "code",
   "execution_count": 2,
   "metadata": {},
   "outputs": [],
   "source": [
    "class Solution:\n",
    "    def maxScore(self, s: str) -> int:\n",
    "        left_zeros, right_ones, max_score = 0, s.count('1'), 0\n",
    "        for i in range(len(s)-1):\n",
    "            left_zeros += s[i] == '0'\n",
    "            right_ones -= s[i] == '1'\n",
    "            max_score = max(max_score, left_zeros + right_ones)\n",
    "        return max_score\n"
   ]
  },
  {
   "cell_type": "markdown",
   "metadata": {},
   "source": [
    "## Test Case\n",
    "\n",
    "Test the solution with the following input:\n",
    "```python\n",
    "s = \"011101\"\n",
    "solution = Solution()\n",
    "print(solution.maxScore(s))  # Expected output: 5\n"
   ]
  },
  {
   "cell_type": "code",
   "execution_count": 3,
   "metadata": {},
   "outputs": [
    {
     "data": {
      "text/plain": [
       "5"
      ]
     },
     "execution_count": 3,
     "metadata": {},
     "output_type": "execute_result"
    }
   ],
   "source": [
    "s = \"011101\"\n",
    "solution = Solution()\n",
    "solution.maxScore(s)  # Expected output: 5\n"
   ]
  }
 ],
 "metadata": {
  "kernelspec": {
   "display_name": "myenv",
   "language": "python",
   "name": "python3"
  },
  "language_info": {
   "codemirror_mode": {
    "name": "ipython",
    "version": 3
   },
   "file_extension": ".py",
   "mimetype": "text/x-python",
   "name": "python",
   "nbconvert_exporter": "python",
   "pygments_lexer": "ipython3",
   "version": "3.11.3"
  }
 },
 "nbformat": 4,
 "nbformat_minor": 2
}
