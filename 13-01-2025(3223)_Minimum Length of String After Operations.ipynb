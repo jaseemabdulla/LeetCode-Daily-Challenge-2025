{
 "cells": [
  {
   "cell_type": "markdown",
   "metadata": {},
   "source": [
    "# Intuition\n",
    "The problem is about finding the minimum length of a string after performing specific operations. The operations involve removing characters symmetrically around a central character. A simpler way to approach this is to calculate the minimum contribution of each character's frequency in the final result.\n"
   ]
  },
  {
   "cell_type": "markdown",
   "metadata": {},
   "source": [
    "# Approach\n",
    "1. **Count the Frequency of Characters**:\n",
    "   - Use Python's `collections.Counter` to count the frequency of each character in the string `s`.\n",
    "2. **Calculate the Minimum Contribution**:\n",
    "   - For each character's frequency:\n",
    "     - If it is odd, contribute 1.\n",
    "     - If it is even, contribute 2.\n",
    "3. **Sum the Contributions**:\n",
    "   - Add the contributions to get the minimum length of the string.\n"
   ]
  },
  {
   "cell_type": "markdown",
   "metadata": {},
   "source": [
    "# Complexity\n",
    "- **Time Complexity**:  \n",
    "  \\(O(n)\\), where \\(n\\) is the length of the string. Counting the characters and iterating over the frequencies is linear.\n",
    "  \n",
    "- **Space Complexity**:  \n",
    "  \\(O(1)\\), since the size of the frequency dictionary is limited to 26 for lowercase English letters.\n"
   ]
  },
  {
   "cell_type": "code",
   "execution_count": 5,
   "metadata": {},
   "outputs": [],
   "source": [
    "from collections import Counter\n",
    "\n",
    "def minimumLength(s):\n",
    "        return sum(1 if x % 2 else 2 for x in Counter(s).values())"
   ]
  },
  {
   "cell_type": "code",
   "execution_count": 6,
   "metadata": {},
   "outputs": [
    {
     "name": "stdout",
     "output_type": "stream",
     "text": [
      "5\n",
      "2\n"
     ]
    }
   ],
   "source": [
    "# Test Cases\n",
    "\n",
    "# Example 1\n",
    "s = \"abaacbcbb\"\n",
    "print(minimumLength(s))  # Expected Output: 5\n",
    "\n",
    "# Example 2\n",
    "s = \"aa\"\n",
    "print(minimumLength(s))  # Expected Output: 2"
   ]
  }
 ],
 "metadata": {
  "kernelspec": {
   "display_name": "myenv",
   "language": "python",
   "name": "python3"
  },
  "language_info": {
   "codemirror_mode": {
    "name": "ipython",
    "version": 3
   },
   "file_extension": ".py",
   "mimetype": "text/x-python",
   "name": "python",
   "nbconvert_exporter": "python",
   "pygments_lexer": "ipython3",
   "version": "3.11.3"
  }
 },
 "nbformat": 4,
 "nbformat_minor": 2
}
