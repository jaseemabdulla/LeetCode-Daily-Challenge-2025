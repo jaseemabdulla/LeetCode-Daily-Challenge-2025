{
 "cells": [
  {
   "cell_type": "code",
   "execution_count": 1,
   "metadata": {},
   "outputs": [],
   "source": [
    "def magnificentSets(n, edges):\n",
    "\n",
    "        def is_bipartite(node, c):\n",
    "            color[node] = c\n",
    "            components.append(node)\n",
    "            for neighbor in graph[node]:\n",
    "                if (not color[neighbor] and not is_bipartite(neighbor, -1*c)\n",
    "                    or color[neighbor] == c):\n",
    "                    return False\n",
    "            return True\n",
    "\n",
    "        def find_depth(root):\n",
    "            visited = [0] * n\n",
    "            que, visited[root], depth = deque([root]), 1, 0\n",
    "            while que:\n",
    "                for _ in range(len(que)):\n",
    "                    for neighbor in graph[que.popleft()]:\n",
    "                        if not visited[neighbor]:\n",
    "                            que.append(neighbor)\n",
    "                            visited[neighbor] = 1\n",
    "                depth += 1\n",
    "            return depth\n",
    "\n",
    "\n",
    "        graph = [[] for _ in range(n)]\n",
    "        for u, v in edges:\n",
    "            graph[v-1].append(u-1)\n",
    "            graph[u-1].append(v-1)\n",
    "\n",
    "        ans, color = 0, [0] * n\n",
    "        for node in range(n):\n",
    "            if not color[node]:\n",
    "                components = []\n",
    "                if not is_bipartite(node, 1):\n",
    "                    return -1\n",
    "                ans += max(find_depth(node) for node in components)\n",
    "        return ans"
   ]
  }
 ],
 "metadata": {
  "kernelspec": {
   "display_name": "myenv",
   "language": "python",
   "name": "python3"
  },
  "language_info": {
   "codemirror_mode": {
    "name": "ipython",
    "version": 3
   },
   "file_extension": ".py",
   "mimetype": "text/x-python",
   "name": "python",
   "nbconvert_exporter": "python",
   "pygments_lexer": "ipython3",
   "version": "3.11.3"
  }
 },
 "nbformat": 4,
 "nbformat_minor": 2
}
